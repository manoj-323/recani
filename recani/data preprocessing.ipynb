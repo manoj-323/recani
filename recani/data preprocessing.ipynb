{
 "cells": [
  {
   "cell_type": "code",
   "execution_count": 1,
   "metadata": {},
   "outputs": [],
   "source": [
    "import pandas as pd\n",
    "import numpy as np\n",
    "import matplotlib.pyplot as plt\n",
    "from IPython.display import display"
   ]
  },
  {
   "cell_type": "code",
   "execution_count": 2,
   "metadata": {},
   "outputs": [],
   "source": [
    "pd.set_option('display.max_colwidth', None)\n",
    "display.max_characters = None"
   ]
  },
  {
   "cell_type": "code",
   "execution_count": 37,
   "metadata": {},
   "outputs": [],
   "source": [
    "df = pd.read_json(r\"C:\\Users\\22213\\OneDrive\\Desktop\\recani\\sorted_data.json\")"
   ]
  },
  {
   "cell_type": "code",
   "execution_count": 4,
   "metadata": {},
   "outputs": [],
   "source": [
    "pd.set_option('display.max_columns', None)\n",
    "pd.reset_option('display.max_colwidth')"
   ]
  },
  {
   "cell_type": "code",
   "execution_count": 5,
   "metadata": {},
   "outputs": [
    {
     "data": {
      "text/plain": [
       "name_english        437\n",
       "name                  0\n",
       "score                 0\n",
       "ranked                0\n",
       "popularity            0\n",
       "members               0\n",
       "synopsis              0\n",
       "synonyms              0\n",
       "type_of               0\n",
       "total_episodes        0\n",
       "premiered          1066\n",
       "studios               0\n",
       "genres                0\n",
       "demographic        1163\n",
       "duration_per_ep       0\n",
       "rating                0\n",
       "scored_by             0\n",
       "favorites             0\n",
       "aired                 0\n",
       "source                0\n",
       "watching              0\n",
       "completed             0\n",
       "on_hold               0\n",
       "dropped               0\n",
       "plan_to_watch         0\n",
       "total                 0\n",
       "scored_10_by          0\n",
       "scored_9_by           0\n",
       "scored_8_by           0\n",
       "scored_7_by           0\n",
       "scored_6_by           0\n",
       "scored_5_by           0\n",
       "scored_4_by           0\n",
       "scored_3_by           0\n",
       "scored_2_by           2\n",
       "scored_1_by           6\n",
       "dtype: int64"
      ]
     },
     "execution_count": 5,
     "metadata": {},
     "output_type": "execute_result"
    }
   ],
   "source": [
    "df.isnull().sum()"
   ]
  },
  {
   "cell_type": "markdown",
   "metadata": {},
   "source": [
    "# name_english, name:-"
   ]
  },
  {
   "cell_type": "code",
   "execution_count": 25,
   "metadata": {},
   "outputs": [
    {
     "data": {
      "text/plain": [
       "437"
      ]
     },
     "execution_count": 25,
     "metadata": {},
     "output_type": "execute_result"
    }
   ],
   "source": [
    "df['name_english'].isnull().sum()"
   ]
  },
  {
   "cell_type": "code",
   "execution_count": 32,
   "metadata": {},
   "outputs": [
    {
     "data": {
      "text/plain": [
       "437"
      ]
     },
     "execution_count": 32,
     "metadata": {},
     "output_type": "execute_result"
    }
   ],
   "source": [
    "df['name_english'].isna().sum()"
   ]
  },
  {
   "cell_type": "code",
   "execution_count": 31,
   "metadata": {},
   "outputs": [
    {
     "data": {
      "text/plain": [
       "2040                                                 None\n",
       "1977                                                 None\n",
       "1426                                        Utawarerumono\n",
       "1233                                                 None\n",
       "1947           Fist of the North Star: Legend of Kenshiro\n",
       "2107    Hakuoki: Demon of the Fleeting Blossom - Dawn ...\n",
       "745                                                  None\n",
       "37      Kaguya-sama: Love is War - The First Kiss That...\n",
       "2167                                The Morose Mononokean\n",
       "1367                                             Poyopoyo\n",
       "Name: name_english, dtype: object"
      ]
     },
     "execution_count": 31,
     "metadata": {},
     "output_type": "execute_result"
    }
   ],
   "source": [
    "df['name_english'].sample(10)"
   ]
  },
  {
   "cell_type": "code",
   "execution_count": 33,
   "metadata": {},
   "outputs": [
    {
     "data": {
      "text/plain": [
       "NoneType"
      ]
     },
     "execution_count": 33,
     "metadata": {},
     "output_type": "execute_result"
    }
   ],
   "source": [
    "type(df['name_english'][462])"
   ]
  },
  {
   "cell_type": "code",
   "execution_count": 38,
   "metadata": {},
   "outputs": [],
   "source": [
    "df['name_english'] = df['name_english'].fillna(df['name'])"
   ]
  },
  {
   "cell_type": "code",
   "execution_count": 34,
   "metadata": {},
   "outputs": [
    {
     "data": {
      "text/plain": [
       "0"
      ]
     },
     "execution_count": 34,
     "metadata": {},
     "output_type": "execute_result"
    }
   ],
   "source": [
    "df['name_english'].isnull().sum()"
   ]
  },
  {
   "cell_type": "markdown",
   "metadata": {},
   "source": [
    "# score:-"
   ]
  },
  {
   "cell_type": "code",
   "execution_count": 35,
   "metadata": {},
   "outputs": [
    {
     "name": "stdout",
     "output_type": "stream",
     "text": [
      "<class 'pandas.core.series.Series'>\n",
      "RangeIndex: 2249 entries, 0 to 2248\n",
      "Series name: score\n",
      "Non-Null Count  Dtype  \n",
      "--------------  -----  \n",
      "2249 non-null   float64\n",
      "dtypes: float64(1)\n",
      "memory usage: 17.7 KB\n"
     ]
    }
   ],
   "source": [
    "df['score'].info()"
   ]
  },
  {
   "cell_type": "code",
   "execution_count": 36,
   "metadata": {},
   "outputs": [
    {
     "data": {
      "text/plain": [
       "0"
      ]
     },
     "execution_count": 36,
     "metadata": {},
     "output_type": "execute_result"
    }
   ],
   "source": [
    "df['score'].isnull().sum()"
   ]
  },
  {
   "cell_type": "code",
   "execution_count": 61,
   "metadata": {},
   "outputs": [
    {
     "data": {
      "text/plain": [
       "array([9.39, 9.09, 9.07, 9.06, 9.05, 9.04, 9.03, 9.02, 9.01, 8.98, 8.94,\n",
       "       8.93, 8.92, 8.91, 8.9 , 8.88, 8.87, 8.84, 8.82, 8.81, 8.79, 8.78,\n",
       "       8.77, 8.76, 8.75, 8.74, 8.73, 8.72, 8.71, 8.7 , 8.69, 8.68, 8.67,\n",
       "       8.66, 8.65, 8.64, 8.63, 8.62, 8.61, 8.6 , 8.59, 8.58, 8.57, 8.56,\n",
       "       8.55, 8.54, 8.53, 8.52, 8.51, 8.5 , 8.49, 8.48, 8.47, 8.46, 8.45,\n",
       "       8.44, 8.43, 8.42, 8.41, 8.4 , 8.39, 8.38, 8.37, 8.36, 8.35, 8.34,\n",
       "       8.33, 8.32, 8.31, 8.3 , 8.29, 8.28, 8.27, 8.26, 8.25, 8.24, 8.23,\n",
       "       8.22, 8.21, 8.2 , 8.19, 8.18, 8.17, 8.16, 8.15, 8.14, 8.13, 8.12,\n",
       "       8.11, 8.1 , 8.09, 8.08, 8.07, 8.06, 8.05, 8.04, 8.03, 8.02, 8.01,\n",
       "       8.  , 7.99, 7.98, 7.97, 7.96, 7.95, 7.94, 7.93, 7.92, 7.91, 7.9 ,\n",
       "       7.89, 7.88, 7.87, 7.86, 7.85, 7.84, 7.83, 7.82, 7.81, 7.8 , 7.79,\n",
       "       7.78, 7.77, 7.76, 7.75, 7.74, 7.73, 7.72, 7.71, 7.7 , 7.69, 7.68,\n",
       "       7.67, 7.66, 7.65, 7.64, 7.63, 7.62, 7.61, 7.6 , 7.59, 7.58, 7.57,\n",
       "       7.56, 7.55, 7.54, 7.53, 7.52, 7.51, 7.5 , 7.49, 7.48, 7.47, 7.46,\n",
       "       7.45, 7.44, 7.43, 7.42, 7.41, 7.4 , 7.39])"
      ]
     },
     "execution_count": 61,
     "metadata": {},
     "output_type": "execute_result"
    }
   ],
   "source": [
    "df['score'].unique()"
   ]
  },
  {
   "cell_type": "markdown",
   "metadata": {},
   "source": [
    "# ranked:-"
   ]
  },
  {
   "cell_type": "code",
   "execution_count": 37,
   "metadata": {},
   "outputs": [
    {
     "name": "stdout",
     "output_type": "stream",
     "text": [
      "<class 'pandas.core.series.Series'>\n",
      "RangeIndex: 2249 entries, 0 to 2248\n",
      "Series name: ranked\n",
      "Non-Null Count  Dtype\n",
      "--------------  -----\n",
      "2249 non-null   int64\n",
      "dtypes: int64(1)\n",
      "memory usage: 17.7 KB\n"
     ]
    }
   ],
   "source": [
    "df['ranked'].info()"
   ]
  },
  {
   "cell_type": "markdown",
   "metadata": {},
   "source": [
    "# popularity:-"
   ]
  },
  {
   "cell_type": "code",
   "execution_count": 38,
   "metadata": {},
   "outputs": [
    {
     "name": "stdout",
     "output_type": "stream",
     "text": [
      "<class 'pandas.core.series.Series'>\n",
      "RangeIndex: 2249 entries, 0 to 2248\n",
      "Series name: popularity\n",
      "Non-Null Count  Dtype\n",
      "--------------  -----\n",
      "2249 non-null   int64\n",
      "dtypes: int64(1)\n",
      "memory usage: 17.7 KB\n"
     ]
    }
   ],
   "source": [
    "df['popularity'].info()"
   ]
  },
  {
   "cell_type": "markdown",
   "metadata": {},
   "source": [
    "# members:-"
   ]
  },
  {
   "cell_type": "code",
   "execution_count": 40,
   "metadata": {},
   "outputs": [
    {
     "name": "stdout",
     "output_type": "stream",
     "text": [
      "<class 'pandas.core.series.Series'>\n",
      "RangeIndex: 2249 entries, 0 to 2248\n",
      "Series name: members\n",
      "Non-Null Count  Dtype\n",
      "--------------  -----\n",
      "2249 non-null   int64\n",
      "dtypes: int64(1)\n",
      "memory usage: 17.7 KB\n"
     ]
    }
   ],
   "source": [
    "df['members'].info()"
   ]
  },
  {
   "cell_type": "markdown",
   "metadata": {},
   "source": [
    "# synopsis:-"
   ]
  },
  {
   "cell_type": "code",
   "execution_count": 10,
   "metadata": {},
   "outputs": [],
   "source": [
    "def synopsis_preprocessing(s):\n",
    "    s = str(s)\n",
    "    s = s.split(' ')\n",
    "    s = ' '.join(s)\n",
    "    s = s.split('.')[0:-1]\n",
    "    s = ' '.join(s)\n",
    "    \n",
    "    return s + '.'"
   ]
  },
  {
   "cell_type": "code",
   "execution_count": 11,
   "metadata": {},
   "outputs": [],
   "source": [
    "df['synopsis'] = df['synopsis'].apply(synopsis_preprocessing)"
   ]
  },
  {
   "cell_type": "markdown",
   "metadata": {},
   "source": [
    "# synonmys:-"
   ]
  },
  {
   "cell_type": "code",
   "execution_count": 41,
   "metadata": {},
   "outputs": [
    {
     "name": "stdout",
     "output_type": "stream",
     "text": [
      "<class 'pandas.core.series.Series'>\n",
      "RangeIndex: 2249 entries, 0 to 2248\n",
      "Series name: synonyms\n",
      "Non-Null Count  Dtype \n",
      "--------------  ----- \n",
      "2249 non-null   object\n",
      "dtypes: object(1)\n",
      "memory usage: 17.7+ KB\n"
     ]
    }
   ],
   "source": [
    "df['synonyms'].info()"
   ]
  },
  {
   "cell_type": "code",
   "execution_count": 46,
   "metadata": {},
   "outputs": [
    {
     "data": {
      "text/plain": [
       "2"
      ]
     },
     "execution_count": 46,
     "metadata": {},
     "output_type": "execute_result"
    }
   ],
   "source": [
    "(df['synonyms'] == '').sum()"
   ]
  },
  {
   "cell_type": "code",
   "execution_count": 48,
   "metadata": {},
   "outputs": [
    {
     "data": {
      "text/html": [
       "<div>\n",
       "<style scoped>\n",
       "    .dataframe tbody tr th:only-of-type {\n",
       "        vertical-align: middle;\n",
       "    }\n",
       "\n",
       "    .dataframe tbody tr th {\n",
       "        vertical-align: top;\n",
       "    }\n",
       "\n",
       "    .dataframe thead th {\n",
       "        text-align: right;\n",
       "    }\n",
       "</style>\n",
       "<table border=\"1\" class=\"dataframe\">\n",
       "  <thead>\n",
       "    <tr style=\"text-align: right;\">\n",
       "      <th></th>\n",
       "      <th>name_english</th>\n",
       "      <th>name</th>\n",
       "      <th>score</th>\n",
       "      <th>ranked</th>\n",
       "      <th>popularity</th>\n",
       "      <th>members</th>\n",
       "      <th>synopsis</th>\n",
       "      <th>synonyms</th>\n",
       "      <th>type_of</th>\n",
       "      <th>total_episodes</th>\n",
       "      <th>premiered</th>\n",
       "      <th>studios</th>\n",
       "      <th>genres</th>\n",
       "      <th>demographic</th>\n",
       "      <th>duration_per_ep</th>\n",
       "      <th>rating</th>\n",
       "      <th>scored_by</th>\n",
       "      <th>favorites</th>\n",
       "      <th>aired</th>\n",
       "      <th>source</th>\n",
       "      <th>watching</th>\n",
       "      <th>completed</th>\n",
       "      <th>on_hold</th>\n",
       "      <th>dropped</th>\n",
       "      <th>plan_to_watch</th>\n",
       "      <th>total</th>\n",
       "      <th>scored_10_by</th>\n",
       "      <th>scored_9_by</th>\n",
       "      <th>scored_8_by</th>\n",
       "      <th>scored_7_by</th>\n",
       "      <th>scored_6_by</th>\n",
       "      <th>scored_5_by</th>\n",
       "      <th>scored_4_by</th>\n",
       "      <th>scored_3_by</th>\n",
       "      <th>scored_2_by</th>\n",
       "      <th>scored_1_by</th>\n",
       "    </tr>\n",
       "  </thead>\n",
       "  <tbody>\n",
       "    <tr>\n",
       "      <th>352</th>\n",
       "      <td>Great Pretender</td>\n",
       "      <td>Great Pretender</td>\n",
       "      <td>8.21</td>\n",
       "      <td>353</td>\n",
       "      <td>312</td>\n",
       "      <td>659783</td>\n",
       "      <td>A series of unfortunate events has led Makoto ...</td>\n",
       "      <td></td>\n",
       "      <td>TV</td>\n",
       "      <td>23</td>\n",
       "      <td>Summer 2020</td>\n",
       "      <td>Wit Studio</td>\n",
       "      <td>[Action, Adventure, Mystery]</td>\n",
       "      <td>None</td>\n",
       "      <td>23 min. per ep.</td>\n",
       "      <td>R - 17+ (violence &amp; profanity)</td>\n",
       "      <td>319392</td>\n",
       "      <td>9939</td>\n",
       "      <td>Jul 9, 2020 to Dec 17, 2020</td>\n",
       "      <td>Original</td>\n",
       "      <td>66,157</td>\n",
       "      <td>350,540</td>\n",
       "      <td>34,053</td>\n",
       "      <td>23,626</td>\n",
       "      <td>185,407</td>\n",
       "      <td>659,783</td>\n",
       "      <td>42467</td>\n",
       "      <td>89432</td>\n",
       "      <td>107708</td>\n",
       "      <td>52891</td>\n",
       "      <td>16381</td>\n",
       "      <td>6139</td>\n",
       "      <td>2415</td>\n",
       "      <td>902</td>\n",
       "      <td>386.0</td>\n",
       "      <td>671.0</td>\n",
       "    </tr>\n",
       "    <tr>\n",
       "      <th>548</th>\n",
       "      <td>Ninja Kamui</td>\n",
       "      <td>Ninja Kamui</td>\n",
       "      <td>8.06</td>\n",
       "      <td>549</td>\n",
       "      <td>1900</td>\n",
       "      <td>112971</td>\n",
       "      <td>Joe Higan is a Nukenin – a former ninja who es...</td>\n",
       "      <td></td>\n",
       "      <td>TV</td>\n",
       "      <td>12</td>\n",
       "      <td>Winter 2024</td>\n",
       "      <td>E&amp;H Production</td>\n",
       "      <td>[Action, Fantasy, Sci-Fi]</td>\n",
       "      <td>None</td>\n",
       "      <td>23 min. per ep.</td>\n",
       "      <td>R - 17+ (violence &amp; profanity)</td>\n",
       "      <td>21911</td>\n",
       "      <td>810</td>\n",
       "      <td>Feb 11, 2024 to ?</td>\n",
       "      <td>Original</td>\n",
       "      <td>70,280</td>\n",
       "      <td>25</td>\n",
       "      <td>2,127</td>\n",
       "      <td>2,441</td>\n",
       "      <td>38,098</td>\n",
       "      <td>112,971</td>\n",
       "      <td>3993</td>\n",
       "      <td>5209</td>\n",
       "      <td>6440</td>\n",
       "      <td>3555</td>\n",
       "      <td>1387</td>\n",
       "      <td>677</td>\n",
       "      <td>318</td>\n",
       "      <td>151</td>\n",
       "      <td>61.0</td>\n",
       "      <td>108.0</td>\n",
       "    </tr>\n",
       "  </tbody>\n",
       "</table>\n",
       "</div>"
      ],
      "text/plain": [
       "        name_english             name  score  ranked  popularity  members  \\\n",
       "352  Great Pretender  Great Pretender   8.21     353         312   659783   \n",
       "548      Ninja Kamui      Ninja Kamui   8.06     549        1900   112971   \n",
       "\n",
       "                                              synopsis synonyms type_of  \\\n",
       "352  A series of unfortunate events has led Makoto ...               TV   \n",
       "548  Joe Higan is a Nukenin – a former ninja who es...               TV   \n",
       "\n",
       "    total_episodes    premiered         studios                        genres  \\\n",
       "352             23  Summer 2020      Wit Studio  [Action, Adventure, Mystery]   \n",
       "548             12  Winter 2024  E&H Production     [Action, Fantasy, Sci-Fi]   \n",
       "\n",
       "    demographic  duration_per_ep                          rating  scored_by  \\\n",
       "352        None  23 min. per ep.  R - 17+ (violence & profanity)     319392   \n",
       "548        None  23 min. per ep.  R - 17+ (violence & profanity)      21911   \n",
       "\n",
       "     favorites                        aired    source watching completed  \\\n",
       "352       9939  Jul 9, 2020 to Dec 17, 2020  Original   66,157   350,540   \n",
       "548        810            Feb 11, 2024 to ?  Original   70,280        25   \n",
       "\n",
       "    on_hold dropped plan_to_watch    total  scored_10_by  scored_9_by  \\\n",
       "352  34,053  23,626       185,407  659,783         42467        89432   \n",
       "548   2,127   2,441        38,098  112,971          3993         5209   \n",
       "\n",
       "     scored_8_by  scored_7_by  scored_6_by  scored_5_by  scored_4_by  \\\n",
       "352       107708        52891        16381         6139         2415   \n",
       "548         6440         3555         1387          677          318   \n",
       "\n",
       "     scored_3_by  scored_2_by  scored_1_by  \n",
       "352          902        386.0        671.0  \n",
       "548          151         61.0        108.0  "
      ]
     },
     "execution_count": 48,
     "metadata": {},
     "output_type": "execute_result"
    }
   ],
   "source": [
    "df[df['synonyms'] == '']"
   ]
  },
  {
   "cell_type": "code",
   "execution_count": 53,
   "metadata": {},
   "outputs": [],
   "source": [
    "df['synonyms'] = df['synonyms'] if '' else df['name']"
   ]
  },
  {
   "cell_type": "code",
   "execution_count": 54,
   "metadata": {},
   "outputs": [
    {
     "data": {
      "text/html": [
       "<div>\n",
       "<style scoped>\n",
       "    .dataframe tbody tr th:only-of-type {\n",
       "        vertical-align: middle;\n",
       "    }\n",
       "\n",
       "    .dataframe tbody tr th {\n",
       "        vertical-align: top;\n",
       "    }\n",
       "\n",
       "    .dataframe thead th {\n",
       "        text-align: right;\n",
       "    }\n",
       "</style>\n",
       "<table border=\"1\" class=\"dataframe\">\n",
       "  <thead>\n",
       "    <tr style=\"text-align: right;\">\n",
       "      <th></th>\n",
       "      <th>name_english</th>\n",
       "      <th>name</th>\n",
       "      <th>score</th>\n",
       "      <th>ranked</th>\n",
       "      <th>popularity</th>\n",
       "      <th>members</th>\n",
       "      <th>synopsis</th>\n",
       "      <th>synonyms</th>\n",
       "      <th>type_of</th>\n",
       "      <th>total_episodes</th>\n",
       "      <th>premiered</th>\n",
       "      <th>studios</th>\n",
       "      <th>genres</th>\n",
       "      <th>demographic</th>\n",
       "      <th>duration_per_ep</th>\n",
       "      <th>rating</th>\n",
       "      <th>scored_by</th>\n",
       "      <th>favorites</th>\n",
       "      <th>aired</th>\n",
       "      <th>source</th>\n",
       "      <th>watching</th>\n",
       "      <th>completed</th>\n",
       "      <th>on_hold</th>\n",
       "      <th>dropped</th>\n",
       "      <th>plan_to_watch</th>\n",
       "      <th>total</th>\n",
       "      <th>scored_10_by</th>\n",
       "      <th>scored_9_by</th>\n",
       "      <th>scored_8_by</th>\n",
       "      <th>scored_7_by</th>\n",
       "      <th>scored_6_by</th>\n",
       "      <th>scored_5_by</th>\n",
       "      <th>scored_4_by</th>\n",
       "      <th>scored_3_by</th>\n",
       "      <th>scored_2_by</th>\n",
       "      <th>scored_1_by</th>\n",
       "    </tr>\n",
       "  </thead>\n",
       "  <tbody>\n",
       "  </tbody>\n",
       "</table>\n",
       "</div>"
      ],
      "text/plain": [
       "Empty DataFrame\n",
       "Columns: [name_english, name, score, ranked, popularity, members, synopsis, synonyms, type_of, total_episodes, premiered, studios, genres, demographic, duration_per_ep, rating, scored_by, favorites, aired, source, watching, completed, on_hold, dropped, plan_to_watch, total, scored_10_by, scored_9_by, scored_8_by, scored_7_by, scored_6_by, scored_5_by, scored_4_by, scored_3_by, scored_2_by, scored_1_by]\n",
       "Index: []"
      ]
     },
     "execution_count": 54,
     "metadata": {},
     "output_type": "execute_result"
    }
   ],
   "source": [
    "df[df['synonyms'] == '']"
   ]
  },
  {
   "cell_type": "markdown",
   "metadata": {},
   "source": [
    "# type_of:-"
   ]
  },
  {
   "cell_type": "code",
   "execution_count": 62,
   "metadata": {},
   "outputs": [
    {
     "name": "stdout",
     "output_type": "stream",
     "text": [
      "<class 'pandas.core.series.Series'>\n",
      "RangeIndex: 2249 entries, 0 to 2248\n",
      "Series name: type_of\n",
      "Non-Null Count  Dtype \n",
      "--------------  ----- \n",
      "2249 non-null   object\n",
      "dtypes: object(1)\n",
      "memory usage: 17.7+ KB\n"
     ]
    }
   ],
   "source": [
    "df['type_of'].info()"
   ]
  },
  {
   "cell_type": "code",
   "execution_count": 63,
   "metadata": {},
   "outputs": [
    {
     "data": {
      "text/plain": [
       "array(['TV', 'Movie', 'OVA', 'TV Special', 'ONA', 'Special'], dtype=object)"
      ]
     },
     "execution_count": 63,
     "metadata": {},
     "output_type": "execute_result"
    }
   ],
   "source": [
    "df['type_of'].unique()"
   ]
  },
  {
   "cell_type": "code",
   "execution_count": 12,
   "metadata": {},
   "outputs": [
    {
     "data": {
      "text/plain": [
       "type_of\n",
       "TV            1183\n",
       "Movie          502\n",
       "OVA            216\n",
       "ONA            165\n",
       "Special        130\n",
       "TV Special      53\n",
       "Name: count, dtype: int64"
      ]
     },
     "execution_count": 12,
     "metadata": {},
     "output_type": "execute_result"
    }
   ],
   "source": [
    "df['type_of'].value_counts()"
   ]
  },
  {
   "cell_type": "code",
   "execution_count": 13,
   "metadata": {},
   "outputs": [
    {
     "data": {
      "text/plain": [
       "str"
      ]
     },
     "execution_count": 13,
     "metadata": {},
     "output_type": "execute_result"
    }
   ],
   "source": [
    "type(df['type_of'][1])"
   ]
  },
  {
   "cell_type": "markdown",
   "metadata": {},
   "source": [
    "# total_episodes:-"
   ]
  },
  {
   "cell_type": "code",
   "execution_count": 66,
   "metadata": {},
   "outputs": [
    {
     "name": "stdout",
     "output_type": "stream",
     "text": [
      "<class 'pandas.core.series.Series'>\n",
      "RangeIndex: 2249 entries, 0 to 2248\n",
      "Series name: total_episodes\n",
      "Non-Null Count  Dtype \n",
      "--------------  ----- \n",
      "2249 non-null   object\n",
      "dtypes: object(1)\n",
      "memory usage: 17.7+ KB\n"
     ]
    }
   ],
   "source": [
    "df['total_episodes'].info()"
   ]
  },
  {
   "cell_type": "code",
   "execution_count": 55,
   "metadata": {},
   "outputs": [
    {
     "data": {
      "text/plain": [
       "1112    97\n",
       "1164     1\n",
       "2132    24\n",
       "1286     2\n",
       "157     24\n",
       "Name: total_episodes, dtype: object"
      ]
     },
     "execution_count": 55,
     "metadata": {},
     "output_type": "execute_result"
    }
   ],
   "source": [
    "df['total_episodes'].sample(5)"
   ]
  },
  {
   "cell_type": "code",
   "execution_count": 56,
   "metadata": {},
   "outputs": [
    {
     "data": {
      "text/plain": [
       "'64'"
      ]
     },
     "execution_count": 56,
     "metadata": {},
     "output_type": "execute_result"
    }
   ],
   "source": [
    "df['total_episodes'][1]"
   ]
  },
  {
   "cell_type": "code",
   "execution_count": 57,
   "metadata": {},
   "outputs": [
    {
     "data": {
      "text/plain": [
       "array(['28', '64', '24', '51', '10', '1', '148', '13', '110', '12', '201',\n",
       "       '22', '25', '2', '14', '74', '7', '23', '26', '16', '75', '11',\n",
       "       '47', 'Unknown', '4', '43', '27', '37', '39', '101', '8', '99',\n",
       "       '112', '6', '120', '62', '15', '50', '20', '17', '40', '33', '79',\n",
       "       '94', '3', '500', '52', '78', '77', '96', '70', '291', '38', '170',\n",
       "       '237', '203', '104', '63', '102', '21', '45', '5', '103', '49',\n",
       "       '220', '153', '9', '109', '34', '366', '18', '54', '69', '145',\n",
       "       '36', '167', '178', '60', '1787', '35', '113', '373', '76', '155',\n",
       "       '161', '114', '46', '97', '19', '30', '195', '100', '127', '42',\n",
       "       '358', '61', '31', '142', '48', '182', '73', '87', '53', '115',\n",
       "       '175', '136', '150', '86', '140', '124', '29', '147', '224', '44',\n",
       "       '154', '131', '58', '137'], dtype=object)"
      ]
     },
     "execution_count": 57,
     "metadata": {},
     "output_type": "execute_result"
    }
   ],
   "source": [
    "df['total_episodes'].unique()"
   ]
  },
  {
   "cell_type": "code",
   "execution_count": 58,
   "metadata": {},
   "outputs": [
    {
     "data": {
      "text/plain": [
       "'Unknown'"
      ]
     },
     "execution_count": 58,
     "metadata": {},
     "output_type": "execute_result"
    }
   ],
   "source": [
    "df['total_episodes'][393]"
   ]
  },
  {
   "cell_type": "code",
   "execution_count": 59,
   "metadata": {},
   "outputs": [],
   "source": [
    "df['total_episodes'] = df['total_episodes'].apply(lambda x: int(x) if x != 'Unknown' else np.nan)"
   ]
  },
  {
   "cell_type": "code",
   "execution_count": 60,
   "metadata": {},
   "outputs": [
    {
     "data": {
      "text/plain": [
       "nan"
      ]
     },
     "execution_count": 60,
     "metadata": {},
     "output_type": "execute_result"
    }
   ],
   "source": [
    "df['total_episodes'][393]"
   ]
  },
  {
   "cell_type": "markdown",
   "metadata": {},
   "source": [
    "# premiered:-"
   ]
  },
  {
   "cell_type": "code",
   "execution_count": 76,
   "metadata": {},
   "outputs": [
    {
     "name": "stdout",
     "output_type": "stream",
     "text": [
      "<class 'pandas.core.series.Series'>\n",
      "RangeIndex: 2249 entries, 0 to 2248\n",
      "Series name: premiered\n",
      "Non-Null Count  Dtype \n",
      "--------------  ----- \n",
      "1183 non-null   object\n",
      "dtypes: object(1)\n",
      "memory usage: 17.7+ KB\n"
     ]
    }
   ],
   "source": [
    "df['premiered'].info()"
   ]
  },
  {
   "cell_type": "code",
   "execution_count": 77,
   "metadata": {},
   "outputs": [
    {
     "data": {
      "text/plain": [
       "array(['Fall 2023', 'Spring 2009', 'Spring 2011', 'Spring 2015',\n",
       "       'Spring 2019', None, 'Fall 2011', 'Fall 2022', 'Fall 2012',\n",
       "       'Spring 2022', 'Spring 2021', 'Winter 2017', 'Spring 2006',\n",
       "       'Fall 2008', 'Fall 2017', 'Winter 2024', 'Spring 2008',\n",
       "       'Summer 2018', 'Spring 2004', 'Summer 2023', 'Spring 2020',\n",
       "       'Winter 2023', 'Winter 2018', 'Winter 2019', 'Winter 2021',\n",
       "       'Fall 2016', 'Fall 2000', 'Winter 2022', 'Summer 2013',\n",
       "       'Spring 1998', 'Summer 2019', 'Fall 2014', 'Fall 1980',\n",
       "       'Fall 1999', 'Fall 2021', 'Fall 2006', 'Summer 1999',\n",
       "       'Spring 2014', 'Spring 2023', 'Winter 2009', 'Fall 2005',\n",
       "       'Summer 2017', 'Summer 2022', 'Winter 2012', 'Spring 2007',\n",
       "       'Fall 2015', 'Spring 2017', 'Fall 2020', 'Fall 2013', 'Fall 1997',\n",
       "       'Fall 2018', 'Summer 2011', 'Winter 2016', 'Spring 2010',\n",
       "       'Fall 1993', 'Spring 2012', 'Spring 2013', 'Spring 2018',\n",
       "       'Winter 2004', 'Spring 2016', 'Spring 2024', 'Summer 2016',\n",
       "       'Winter 2008', 'Fall 2019', 'Fall 1992', 'Winter 2015',\n",
       "       'Fall 2002', 'Summer 2007', 'Winter 2013', 'Winter 2011',\n",
       "       'Summer 2014', 'Winter 2020', 'Summer 2020', 'Fall 1995',\n",
       "       'Summer 2009', 'Summer 2021', 'Fall 1979', 'Winter 1995',\n",
       "       'Winter 2010', 'Summer 2008', 'Summer 2006', 'Spring 1970',\n",
       "       'Winter 1996', 'Fall 2004', 'Spring 2003', 'Winter 2014',\n",
       "       'Fall 2007', 'Winter 2007', 'Fall 2003', 'Spring 1990',\n",
       "       'Spring 1997', 'Spring 1986', 'Fall 2009', 'Winter 2006',\n",
       "       'Fall 2010', 'Summer 2015', 'Spring 1989', 'Summer 2002',\n",
       "       'Spring 1978', 'Summer 1998', 'Spring 1988', 'Fall 2001',\n",
       "       'Spring 1996', 'Spring 2005', 'Spring 2002', 'Summer 2003',\n",
       "       'Spring 1985', 'Winter 1986', 'Fall 1984', 'Fall 1978',\n",
       "       'Summer 2005', 'Spring 1987', 'Spring 1994', 'Summer 2012',\n",
       "       'Fall 1996', 'Fall 1982', 'Winter 1993', 'Fall 1977',\n",
       "       'Summer 1991', 'Winter 1998', 'Winter 1997', 'Spring 1979',\n",
       "       'Winter 2002', 'Fall 1983', 'Spring 2001', 'Summer 1996',\n",
       "       'Fall 1989', 'Winter 2003', 'Winter 1979', 'Spring 1992',\n",
       "       'Summer 2001', 'Spring 1999', 'Fall 1986', 'Spring 1982',\n",
       "       'Spring 1991', 'Fall 1981', 'Spring 1995', 'Spring 1993',\n",
       "       'Summer 2010', 'Spring 1983', 'Winter 1990', 'Spring 2000',\n",
       "       'Winter 1985', 'Fall 1971', 'Summer 2004', 'Winter 1999',\n",
       "       'Fall 1998', 'Winter 1991', 'Fall 1974', 'Fall 1994', 'Fall 1990',\n",
       "       'Winter 1978', 'Fall 1975', 'Fall 1976', 'Fall 1991',\n",
       "       'Winter 1994', 'Winter 2000', 'Winter 2001', 'Fall 1985',\n",
       "       'Summer 1980', 'Summer 1984', 'Fall 1968', 'Fall 1987',\n",
       "       'Summer 1977', 'Winter 1992', 'Winter 1976', 'Winter 1988',\n",
       "       'Winter 2005', 'Winter 1974'], dtype=object)"
      ]
     },
     "execution_count": 77,
     "metadata": {},
     "output_type": "execute_result"
    }
   ],
   "source": [
    "df['premiered'].unique()"
   ]
  },
  {
   "cell_type": "code",
   "execution_count": 70,
   "metadata": {},
   "outputs": [
    {
     "data": {
      "text/plain": [
       "1066"
      ]
     },
     "execution_count": 70,
     "metadata": {},
     "output_type": "execute_result"
    }
   ],
   "source": [
    "df['premiered'].isnull().sum()"
   ]
  },
  {
   "cell_type": "code",
   "execution_count": 23,
   "metadata": {},
   "outputs": [
    {
     "data": {
      "text/html": [
       "<div>\n",
       "<style scoped>\n",
       "    .dataframe tbody tr th:only-of-type {\n",
       "        vertical-align: middle;\n",
       "    }\n",
       "\n",
       "    .dataframe tbody tr th {\n",
       "        vertical-align: top;\n",
       "    }\n",
       "\n",
       "    .dataframe thead th {\n",
       "        text-align: right;\n",
       "    }\n",
       "</style>\n",
       "<table border=\"1\" class=\"dataframe\">\n",
       "  <thead>\n",
       "    <tr style=\"text-align: right;\">\n",
       "      <th></th>\n",
       "      <th>name_english</th>\n",
       "      <th>name</th>\n",
       "      <th>score</th>\n",
       "      <th>ranked</th>\n",
       "      <th>popularity</th>\n",
       "      <th>members</th>\n",
       "      <th>synopsis</th>\n",
       "      <th>synonyms</th>\n",
       "      <th>type_of</th>\n",
       "      <th>total_episodes</th>\n",
       "      <th>premiered</th>\n",
       "      <th>studios</th>\n",
       "      <th>genres</th>\n",
       "      <th>demographic</th>\n",
       "      <th>duration_per_ep</th>\n",
       "      <th>rating</th>\n",
       "      <th>scored_by</th>\n",
       "      <th>favorites</th>\n",
       "      <th>aired</th>\n",
       "      <th>source</th>\n",
       "      <th>watching</th>\n",
       "      <th>completed</th>\n",
       "      <th>on_hold</th>\n",
       "      <th>dropped</th>\n",
       "      <th>plan_to_watch</th>\n",
       "      <th>total</th>\n",
       "      <th>scored_10_by</th>\n",
       "      <th>scored_9_by</th>\n",
       "      <th>scored_8_by</th>\n",
       "      <th>scored_7_by</th>\n",
       "      <th>scored_6_by</th>\n",
       "      <th>scored_5_by</th>\n",
       "      <th>scored_4_by</th>\n",
       "      <th>scored_3_by</th>\n",
       "      <th>scored_2_by</th>\n",
       "      <th>scored_1_by</th>\n",
       "    </tr>\n",
       "  </thead>\n",
       "  <tbody>\n",
       "    <tr>\n",
       "      <th>5</th>\n",
       "      <td>Gintama: The Very Final</td>\n",
       "      <td>Gintama: The Final</td>\n",
       "      <td>9.04</td>\n",
       "      <td>6</td>\n",
       "      <td>1537</td>\n",
       "      <td>148923</td>\n",
       "      <td>Two years have passed following the Tendoshuu'...</td>\n",
       "      <td>銀魂 THE FINAL</td>\n",
       "      <td>Movie</td>\n",
       "      <td>1</td>\n",
       "      <td>None</td>\n",
       "      <td>Bandai Namco Pictures</td>\n",
       "      <td>[Action, Comedy, Drama, Sci-Fi]</td>\n",
       "      <td>Shounen</td>\n",
       "      <td>1 hr. 44 min.</td>\n",
       "      <td>PG-13 - Teens 13 or older</td>\n",
       "      <td>71362</td>\n",
       "      <td>4273</td>\n",
       "      <td>Jan 8, 2021</td>\n",
       "      <td>Manga</td>\n",
       "      <td>6,797</td>\n",
       "      <td>81,366</td>\n",
       "      <td>1,581</td>\n",
       "      <td>1,415</td>\n",
       "      <td>57,764</td>\n",
       "      <td>148,923</td>\n",
       "      <td>40991</td>\n",
       "      <td>14060</td>\n",
       "      <td>7357</td>\n",
       "      <td>3169</td>\n",
       "      <td>1104</td>\n",
       "      <td>556</td>\n",
       "      <td>244</td>\n",
       "      <td>188</td>\n",
       "      <td>320.0</td>\n",
       "      <td>3373.0</td>\n",
       "    </tr>\n",
       "  </tbody>\n",
       "</table>\n",
       "</div>"
      ],
      "text/plain": [
       "              name_english                name  score  ranked  popularity  \\\n",
       "5  Gintama: The Very Final  Gintama: The Final   9.04       6        1537   \n",
       "\n",
       "   members                                           synopsis      synonyms  \\\n",
       "5   148923  Two years have passed following the Tendoshuu'...  銀魂 THE FINAL   \n",
       "\n",
       "  type_of total_episodes premiered                studios  \\\n",
       "5   Movie              1      None  Bandai Namco Pictures   \n",
       "\n",
       "                            genres demographic duration_per_ep  \\\n",
       "5  [Action, Comedy, Drama, Sci-Fi]     Shounen   1 hr. 44 min.   \n",
       "\n",
       "                      rating  scored_by  favorites        aired source  \\\n",
       "5  PG-13 - Teens 13 or older      71362       4273  Jan 8, 2021  Manga   \n",
       "\n",
       "  watching completed on_hold dropped plan_to_watch    total  scored_10_by  \\\n",
       "5    6,797    81,366   1,581   1,415        57,764  148,923         40991   \n",
       "\n",
       "   scored_9_by  scored_8_by  scored_7_by  scored_6_by  scored_5_by  \\\n",
       "5        14060         7357         3169         1104          556   \n",
       "\n",
       "   scored_4_by  scored_3_by  scored_2_by  scored_1_by  \n",
       "5          244          188        320.0       3373.0  "
      ]
     },
     "execution_count": 23,
     "metadata": {},
     "output_type": "execute_result"
    }
   ],
   "source": [
    "df[df['premiered'].isnull()].head(1)"
   ]
  },
  {
   "cell_type": "code",
   "execution_count": 24,
   "metadata": {},
   "outputs": [
    {
     "data": {
      "text/plain": [
       "NoneType"
      ]
     },
     "execution_count": 24,
     "metadata": {},
     "output_type": "execute_result"
    }
   ],
   "source": [
    "type(df['premiered'][5])"
   ]
  },
  {
   "cell_type": "code",
   "execution_count": null,
   "metadata": {},
   "outputs": [],
   "source": []
  },
  {
   "cell_type": "code",
   "execution_count": 40,
   "metadata": {},
   "outputs": [],
   "source": [
    "df['premiered'] = df['premiered'].fillna('dont know')"
   ]
  },
  {
   "cell_type": "code",
   "execution_count": 72,
   "metadata": {},
   "outputs": [
    {
     "data": {
      "text/plain": [
       "0"
      ]
     },
     "execution_count": 72,
     "metadata": {},
     "output_type": "execute_result"
    }
   ],
   "source": [
    "df['premiered'].isnull().sum()"
   ]
  },
  {
   "cell_type": "markdown",
   "metadata": {},
   "source": [
    "# studios:-"
   ]
  },
  {
   "cell_type": "code",
   "execution_count": null,
   "metadata": {},
   "outputs": [],
   "source": []
  },
  {
   "cell_type": "markdown",
   "metadata": {},
   "source": [
    "# genres:-"
   ]
  },
  {
   "cell_type": "code",
   "execution_count": 67,
   "metadata": {},
   "outputs": [
    {
     "data": {
      "text/plain": [
       "0                   [Adventure, Drama, Fantasy]\n",
       "1           [Action, Adventure, Drama, Fantasy]\n",
       "2                     [Drama, Sci-Fi, Suspense]\n",
       "3                      [Action, Comedy, Sci-Fi]\n",
       "4                     [Action, Drama, Suspense]\n",
       "                         ...                   \n",
       "2244                                         []\n",
       "2245    [Action, Horror, Mystery, Supernatural]\n",
       "2246                           [Action, Sci-Fi]\n",
       "2247                                         []\n",
       "2248                           [Action, Sci-Fi]\n",
       "Name: genres, Length: 2249, dtype: object"
      ]
     },
     "execution_count": 67,
     "metadata": {},
     "output_type": "execute_result"
    }
   ],
   "source": [
    "df['genres']"
   ]
  },
  {
   "cell_type": "code",
   "execution_count": 77,
   "metadata": {},
   "outputs": [],
   "source": [
    "df['genres'] = df['genres'].apply(lambda x: np.nan if len(x) == 0 else x)"
   ]
  },
  {
   "cell_type": "code",
   "execution_count": 80,
   "metadata": {},
   "outputs": [
    {
     "data": {
      "text/plain": [
       "533"
      ]
     },
     "execution_count": 80,
     "metadata": {},
     "output_type": "execute_result"
    }
   ],
   "source": [
    "df['genres'].isnull().sum()"
   ]
  },
  {
   "cell_type": "code",
   "execution_count": 93,
   "metadata": {},
   "outputs": [
    {
     "data": {
      "text/plain": [
       "1163"
      ]
     },
     "execution_count": 93,
     "metadata": {},
     "output_type": "execute_result"
    }
   ],
   "source": [
    "df['demographic'].isnull().sum()"
   ]
  },
  {
   "cell_type": "markdown",
   "metadata": {},
   "source": [
    "# demografic:-"
   ]
  },
  {
   "cell_type": "code",
   "execution_count": 91,
   "metadata": {},
   "outputs": [
    {
     "data": {
      "text/plain": [
       "252"
      ]
     },
     "execution_count": 91,
     "metadata": {},
     "output_type": "execute_result"
    }
   ],
   "source": [
    "both_isnull = df['genres'].isna() & df['demographic'].isna()\n",
    "both_isnull.sum()"
   ]
  },
  {
   "cell_type": "markdown",
   "metadata": {},
   "source": [
    "# duration_per_ep:-"
   ]
  },
  {
   "cell_type": "code",
   "execution_count": null,
   "metadata": {},
   "outputs": [],
   "source": []
  },
  {
   "cell_type": "markdown",
   "metadata": {},
   "source": [
    "# rating:-"
   ]
  },
  {
   "cell_type": "code",
   "execution_count": null,
   "metadata": {},
   "outputs": [],
   "source": []
  },
  {
   "cell_type": "markdown",
   "metadata": {},
   "source": [
    "# scored_by:-"
   ]
  },
  {
   "cell_type": "code",
   "execution_count": null,
   "metadata": {},
   "outputs": [],
   "source": []
  },
  {
   "cell_type": "markdown",
   "metadata": {},
   "source": [
    "# favorites:-"
   ]
  },
  {
   "cell_type": "markdown",
   "metadata": {},
   "source": []
  },
  {
   "cell_type": "markdown",
   "metadata": {},
   "source": [
    "# aired:-"
   ]
  },
  {
   "cell_type": "markdown",
   "metadata": {},
   "source": []
  },
  {
   "cell_type": "markdown",
   "metadata": {},
   "source": [
    "# source:-"
   ]
  },
  {
   "cell_type": "markdown",
   "metadata": {},
   "source": []
  },
  {
   "cell_type": "markdown",
   "metadata": {},
   "source": [
    "# watching:-"
   ]
  },
  {
   "cell_type": "markdown",
   "metadata": {},
   "source": []
  },
  {
   "cell_type": "markdown",
   "metadata": {},
   "source": [
    "# completed:-"
   ]
  },
  {
   "cell_type": "markdown",
   "metadata": {},
   "source": []
  },
  {
   "cell_type": "markdown",
   "metadata": {},
   "source": [
    "# on_hold:-"
   ]
  },
  {
   "cell_type": "markdown",
   "metadata": {},
   "source": []
  },
  {
   "cell_type": "markdown",
   "metadata": {},
   "source": [
    "# dropped:-"
   ]
  },
  {
   "cell_type": "markdown",
   "metadata": {},
   "source": []
  },
  {
   "cell_type": "markdown",
   "metadata": {},
   "source": [
    "# plan_to_watch:-"
   ]
  },
  {
   "cell_type": "markdown",
   "metadata": {},
   "source": []
  },
  {
   "cell_type": "markdown",
   "metadata": {},
   "source": [
    "# total:-"
   ]
  },
  {
   "cell_type": "markdown",
   "metadata": {},
   "source": []
  },
  {
   "cell_type": "markdown",
   "metadata": {},
   "source": [
    "# scored_10_by - scored_1_by:-"
   ]
  },
  {
   "cell_type": "markdown",
   "metadata": {},
   "source": []
  }
 ],
 "metadata": {
  "kernelspec": {
   "display_name": "base",
   "language": "python",
   "name": "python3"
  },
  "language_info": {
   "codemirror_mode": {
    "name": "ipython",
    "version": 3
   },
   "file_extension": ".py",
   "mimetype": "text/x-python",
   "name": "python",
   "nbconvert_exporter": "python",
   "pygments_lexer": "ipython3",
   "version": "3.11.5"
  }
 },
 "nbformat": 4,
 "nbformat_minor": 2
}
