{
 "cells": [
  {
   "cell_type": "code",
   "execution_count": 37,
   "metadata": {},
   "outputs": [],
   "source": [
    "import pandas as pd\n",
    "import numpy as np\n",
    "import matplotlib.pyplot as plt\n",
    "from IPython.display import display"
   ]
  },
  {
   "cell_type": "code",
   "execution_count": 38,
   "metadata": {},
   "outputs": [],
   "source": [
    "pd.set_option('display.max_columns', None)\n",
    "display.max_characters = None"
   ]
  },
  {
   "cell_type": "code",
   "execution_count": 39,
   "metadata": {},
   "outputs": [],
   "source": [
    "df = pd.read_json(r\"C:\\Users\\22213\\OneDrive\\Desktop\\recani\\sorted_data.json\")"
   ]
  },
  {
   "cell_type": "code",
   "execution_count": 40,
   "metadata": {},
   "outputs": [
    {
     "data": {
      "text/plain": [
       "name_english        437\n",
       "name                  0\n",
       "score                 0\n",
       "ranked                0\n",
       "popularity            0\n",
       "members               0\n",
       "synopsis              0\n",
       "synonyms              0\n",
       "type_of               0\n",
       "total_episodes        0\n",
       "premiered          1066\n",
       "studios               0\n",
       "genres                0\n",
       "demographic        1163\n",
       "duration_per_ep       0\n",
       "rating                0\n",
       "scored_by             0\n",
       "favorites             0\n",
       "aired                 0\n",
       "source                0\n",
       "watching              0\n",
       "completed             0\n",
       "on_hold               0\n",
       "dropped               0\n",
       "plan_to_watch         0\n",
       "total                 0\n",
       "scored_10_by          0\n",
       "scored_9_by           0\n",
       "scored_8_by           0\n",
       "scored_7_by           0\n",
       "scored_6_by           0\n",
       "scored_5_by           0\n",
       "scored_4_by           0\n",
       "scored_3_by           0\n",
       "scored_2_by           2\n",
       "scored_1_by           6\n",
       "dtype: int64"
      ]
     },
     "execution_count": 40,
     "metadata": {},
     "output_type": "execute_result"
    }
   ],
   "source": [
    "df.isnull().sum()"
   ]
  },
  {
   "cell_type": "markdown",
   "metadata": {},
   "source": [
    "# name_english, name:-"
   ]
  },
  {
   "cell_type": "code",
   "execution_count": 41,
   "metadata": {},
   "outputs": [
    {
     "data": {
      "text/plain": [
       "437"
      ]
     },
     "execution_count": 41,
     "metadata": {},
     "output_type": "execute_result"
    }
   ],
   "source": [
    "df['name_english'].isnull().sum()"
   ]
  },
  {
   "cell_type": "code",
   "execution_count": 42,
   "metadata": {},
   "outputs": [
    {
     "data": {
      "text/plain": [
       "437"
      ]
     },
     "execution_count": 42,
     "metadata": {},
     "output_type": "execute_result"
    }
   ],
   "source": [
    "df['name_english'].isna().sum()"
   ]
  },
  {
   "cell_type": "code",
   "execution_count": 43,
   "metadata": {},
   "outputs": [
    {
     "data": {
      "text/plain": [
       "708                           The File of Young Kindaichi\n",
       "1433                                          Gunbuster 2\n",
       "1765    Final Fantasy VII: Advent Children - Venice Fi...\n",
       "211                                      To Your Eternity\n",
       "1368                                      Yotsuiro Biyori\n",
       "95                     Kizumonogatari Part 2: Hot-Blooded\n",
       "1162                           Gushing over Magical Girls\n",
       "144                                           Banana Fish\n",
       "1160             Beyond the Boundary: I'll Be Here - Past\n",
       "917                                                  None\n",
       "Name: name_english, dtype: object"
      ]
     },
     "execution_count": 43,
     "metadata": {},
     "output_type": "execute_result"
    }
   ],
   "source": [
    "df['name_english'].sample(10)"
   ]
  },
  {
   "cell_type": "code",
   "execution_count": 44,
   "metadata": {},
   "outputs": [
    {
     "data": {
      "text/plain": [
       "NoneType"
      ]
     },
     "execution_count": 44,
     "metadata": {},
     "output_type": "execute_result"
    }
   ],
   "source": [
    "type(df['name_english'][462])"
   ]
  },
  {
   "cell_type": "code",
   "execution_count": 45,
   "metadata": {},
   "outputs": [],
   "source": [
    "df['name_english'] = df['name_english'].fillna(df['name'])"
   ]
  },
  {
   "cell_type": "code",
   "execution_count": 46,
   "metadata": {},
   "outputs": [
    {
     "data": {
      "text/plain": [
       "0"
      ]
     },
     "execution_count": 46,
     "metadata": {},
     "output_type": "execute_result"
    }
   ],
   "source": [
    "df['name_english'].isnull().sum()"
   ]
  },
  {
   "cell_type": "markdown",
   "metadata": {},
   "source": [
    "# score:-"
   ]
  },
  {
   "cell_type": "code",
   "execution_count": 47,
   "metadata": {},
   "outputs": [
    {
     "name": "stdout",
     "output_type": "stream",
     "text": [
      "<class 'pandas.core.series.Series'>\n",
      "RangeIndex: 2249 entries, 0 to 2248\n",
      "Series name: score\n",
      "Non-Null Count  Dtype  \n",
      "--------------  -----  \n",
      "2249 non-null   float64\n",
      "dtypes: float64(1)\n",
      "memory usage: 17.7 KB\n"
     ]
    }
   ],
   "source": [
    "df['score'].info()"
   ]
  },
  {
   "cell_type": "code",
   "execution_count": 48,
   "metadata": {},
   "outputs": [
    {
     "data": {
      "text/plain": [
       "0"
      ]
     },
     "execution_count": 48,
     "metadata": {},
     "output_type": "execute_result"
    }
   ],
   "source": [
    "df['score'].isnull().sum()"
   ]
  },
  {
   "cell_type": "code",
   "execution_count": 49,
   "metadata": {},
   "outputs": [
    {
     "data": {
      "text/plain": [
       "array([9.39, 9.09, 9.07, 9.06, 9.05, 9.04, 9.03, 9.02, 9.01, 8.98, 8.94,\n",
       "       8.93, 8.92, 8.91, 8.9 , 8.88, 8.87, 8.84, 8.82, 8.81, 8.79, 8.78,\n",
       "       8.77, 8.76, 8.75, 8.74, 8.73, 8.72, 8.71, 8.7 , 8.69, 8.68, 8.67,\n",
       "       8.66, 8.65, 8.64, 8.63, 8.62, 8.61, 8.6 , 8.59, 8.58, 8.57, 8.56,\n",
       "       8.55, 8.54, 8.53, 8.52, 8.51, 8.5 , 8.49, 8.48, 8.47, 8.46, 8.45,\n",
       "       8.44, 8.43, 8.42, 8.41, 8.4 , 8.39, 8.38, 8.37, 8.36, 8.35, 8.34,\n",
       "       8.33, 8.32, 8.31, 8.3 , 8.29, 8.28, 8.27, 8.26, 8.25, 8.24, 8.23,\n",
       "       8.22, 8.21, 8.2 , 8.19, 8.18, 8.17, 8.16, 8.15, 8.14, 8.13, 8.12,\n",
       "       8.11, 8.1 , 8.09, 8.08, 8.07, 8.06, 8.05, 8.04, 8.03, 8.02, 8.01,\n",
       "       8.  , 7.99, 7.98, 7.97, 7.96, 7.95, 7.94, 7.93, 7.92, 7.91, 7.9 ,\n",
       "       7.89, 7.88, 7.87, 7.86, 7.85, 7.84, 7.83, 7.82, 7.81, 7.8 , 7.79,\n",
       "       7.78, 7.77, 7.76, 7.75, 7.74, 7.73, 7.72, 7.71, 7.7 , 7.69, 7.68,\n",
       "       7.67, 7.66, 7.65, 7.64, 7.63, 7.62, 7.61, 7.6 , 7.59, 7.58, 7.57,\n",
       "       7.56, 7.55, 7.54, 7.53, 7.52, 7.51, 7.5 , 7.49, 7.48, 7.47, 7.46,\n",
       "       7.45, 7.44, 7.43, 7.42, 7.41, 7.4 , 7.39])"
      ]
     },
     "execution_count": 49,
     "metadata": {},
     "output_type": "execute_result"
    }
   ],
   "source": [
    "df['score'].unique()"
   ]
  },
  {
   "cell_type": "markdown",
   "metadata": {},
   "source": [
    "# ranked:-"
   ]
  },
  {
   "cell_type": "code",
   "execution_count": 50,
   "metadata": {},
   "outputs": [
    {
     "name": "stdout",
     "output_type": "stream",
     "text": [
      "<class 'pandas.core.series.Series'>\n",
      "RangeIndex: 2249 entries, 0 to 2248\n",
      "Series name: ranked\n",
      "Non-Null Count  Dtype\n",
      "--------------  -----\n",
      "2249 non-null   int64\n",
      "dtypes: int64(1)\n",
      "memory usage: 17.7 KB\n"
     ]
    }
   ],
   "source": [
    "df['ranked'].info()"
   ]
  },
  {
   "cell_type": "markdown",
   "metadata": {},
   "source": [
    "# popularity:-"
   ]
  },
  {
   "cell_type": "code",
   "execution_count": 51,
   "metadata": {},
   "outputs": [
    {
     "name": "stdout",
     "output_type": "stream",
     "text": [
      "<class 'pandas.core.series.Series'>\n",
      "RangeIndex: 2249 entries, 0 to 2248\n",
      "Series name: popularity\n",
      "Non-Null Count  Dtype\n",
      "--------------  -----\n",
      "2249 non-null   int64\n",
      "dtypes: int64(1)\n",
      "memory usage: 17.7 KB\n"
     ]
    }
   ],
   "source": [
    "df['popularity'].info()"
   ]
  },
  {
   "cell_type": "markdown",
   "metadata": {},
   "source": [
    "# members:-"
   ]
  },
  {
   "cell_type": "code",
   "execution_count": 52,
   "metadata": {},
   "outputs": [
    {
     "name": "stdout",
     "output_type": "stream",
     "text": [
      "<class 'pandas.core.series.Series'>\n",
      "RangeIndex: 2249 entries, 0 to 2248\n",
      "Series name: members\n",
      "Non-Null Count  Dtype\n",
      "--------------  -----\n",
      "2249 non-null   int64\n",
      "dtypes: int64(1)\n",
      "memory usage: 17.7 KB\n"
     ]
    }
   ],
   "source": [
    "df['members'].info()"
   ]
  },
  {
   "cell_type": "markdown",
   "metadata": {},
   "source": [
    "# synopsis:-"
   ]
  },
  {
   "cell_type": "code",
   "execution_count": 53,
   "metadata": {},
   "outputs": [],
   "source": [
    "def synopsis_preprocessing(s):\n",
    "    s = str(s)\n",
    "    s = s.split(' ')\n",
    "    s = ' '.join(s)\n",
    "    s = s.split('.')[0:-1]\n",
    "    s = ' '.join(s)\n",
    "    \n",
    "    return s + '.'"
   ]
  },
  {
   "cell_type": "code",
   "execution_count": 54,
   "metadata": {},
   "outputs": [],
   "source": [
    "df['synopsis'] = df['synopsis'].apply(synopsis_preprocessing)"
   ]
  },
  {
   "cell_type": "markdown",
   "metadata": {},
   "source": [
    "# synonmys:-"
   ]
  },
  {
   "cell_type": "code",
   "execution_count": 55,
   "metadata": {},
   "outputs": [
    {
     "name": "stdout",
     "output_type": "stream",
     "text": [
      "<class 'pandas.core.series.Series'>\n",
      "RangeIndex: 2249 entries, 0 to 2248\n",
      "Series name: synonyms\n",
      "Non-Null Count  Dtype \n",
      "--------------  ----- \n",
      "2249 non-null   object\n",
      "dtypes: object(1)\n",
      "memory usage: 17.7+ KB\n"
     ]
    }
   ],
   "source": [
    "df['synonyms'].info()"
   ]
  },
  {
   "cell_type": "code",
   "execution_count": 56,
   "metadata": {},
   "outputs": [
    {
     "data": {
      "text/plain": [
       "2"
      ]
     },
     "execution_count": 56,
     "metadata": {},
     "output_type": "execute_result"
    }
   ],
   "source": [
    "(df['synonyms'] == '').sum()"
   ]
  },
  {
   "cell_type": "code",
   "execution_count": 57,
   "metadata": {},
   "outputs": [
    {
     "data": {
      "text/html": [
       "<div>\n",
       "<style scoped>\n",
       "    .dataframe tbody tr th:only-of-type {\n",
       "        vertical-align: middle;\n",
       "    }\n",
       "\n",
       "    .dataframe tbody tr th {\n",
       "        vertical-align: top;\n",
       "    }\n",
       "\n",
       "    .dataframe thead th {\n",
       "        text-align: right;\n",
       "    }\n",
       "</style>\n",
       "<table border=\"1\" class=\"dataframe\">\n",
       "  <thead>\n",
       "    <tr style=\"text-align: right;\">\n",
       "      <th></th>\n",
       "      <th>name_english</th>\n",
       "      <th>name</th>\n",
       "      <th>score</th>\n",
       "      <th>ranked</th>\n",
       "      <th>popularity</th>\n",
       "      <th>members</th>\n",
       "      <th>synopsis</th>\n",
       "      <th>synonyms</th>\n",
       "      <th>type_of</th>\n",
       "      <th>total_episodes</th>\n",
       "      <th>premiered</th>\n",
       "      <th>studios</th>\n",
       "      <th>genres</th>\n",
       "      <th>demographic</th>\n",
       "      <th>duration_per_ep</th>\n",
       "      <th>rating</th>\n",
       "      <th>scored_by</th>\n",
       "      <th>favorites</th>\n",
       "      <th>aired</th>\n",
       "      <th>source</th>\n",
       "      <th>watching</th>\n",
       "      <th>completed</th>\n",
       "      <th>on_hold</th>\n",
       "      <th>dropped</th>\n",
       "      <th>plan_to_watch</th>\n",
       "      <th>total</th>\n",
       "      <th>scored_10_by</th>\n",
       "      <th>scored_9_by</th>\n",
       "      <th>scored_8_by</th>\n",
       "      <th>scored_7_by</th>\n",
       "      <th>scored_6_by</th>\n",
       "      <th>scored_5_by</th>\n",
       "      <th>scored_4_by</th>\n",
       "      <th>scored_3_by</th>\n",
       "      <th>scored_2_by</th>\n",
       "      <th>scored_1_by</th>\n",
       "    </tr>\n",
       "  </thead>\n",
       "  <tbody>\n",
       "    <tr>\n",
       "      <th>352</th>\n",
       "      <td>Great Pretender</td>\n",
       "      <td>Great Pretender</td>\n",
       "      <td>8.21</td>\n",
       "      <td>353</td>\n",
       "      <td>312</td>\n",
       "      <td>659783</td>\n",
       "      <td>A series of unfortunate events has led Makoto ...</td>\n",
       "      <td></td>\n",
       "      <td>TV</td>\n",
       "      <td>23</td>\n",
       "      <td>Summer 2020</td>\n",
       "      <td>Wit Studio</td>\n",
       "      <td>[Action, Adventure, Mystery]</td>\n",
       "      <td>None</td>\n",
       "      <td>23 min. per ep.</td>\n",
       "      <td>R - 17+ (violence &amp; profanity)</td>\n",
       "      <td>319392</td>\n",
       "      <td>9939</td>\n",
       "      <td>Jul 9, 2020 to Dec 17, 2020</td>\n",
       "      <td>Original</td>\n",
       "      <td>66,157</td>\n",
       "      <td>350,540</td>\n",
       "      <td>34,053</td>\n",
       "      <td>23,626</td>\n",
       "      <td>185,407</td>\n",
       "      <td>659,783</td>\n",
       "      <td>42467</td>\n",
       "      <td>89432</td>\n",
       "      <td>107708</td>\n",
       "      <td>52891</td>\n",
       "      <td>16381</td>\n",
       "      <td>6139</td>\n",
       "      <td>2415</td>\n",
       "      <td>902</td>\n",
       "      <td>386.0</td>\n",
       "      <td>671.0</td>\n",
       "    </tr>\n",
       "    <tr>\n",
       "      <th>548</th>\n",
       "      <td>Ninja Kamui</td>\n",
       "      <td>Ninja Kamui</td>\n",
       "      <td>8.06</td>\n",
       "      <td>549</td>\n",
       "      <td>1900</td>\n",
       "      <td>112971</td>\n",
       "      <td>Joe Higan is a Nukenin – a former ninja who es...</td>\n",
       "      <td></td>\n",
       "      <td>TV</td>\n",
       "      <td>12</td>\n",
       "      <td>Winter 2024</td>\n",
       "      <td>E&amp;H Production</td>\n",
       "      <td>[Action, Fantasy, Sci-Fi]</td>\n",
       "      <td>None</td>\n",
       "      <td>23 min. per ep.</td>\n",
       "      <td>R - 17+ (violence &amp; profanity)</td>\n",
       "      <td>21911</td>\n",
       "      <td>810</td>\n",
       "      <td>Feb 11, 2024 to ?</td>\n",
       "      <td>Original</td>\n",
       "      <td>70,280</td>\n",
       "      <td>25</td>\n",
       "      <td>2,127</td>\n",
       "      <td>2,441</td>\n",
       "      <td>38,098</td>\n",
       "      <td>112,971</td>\n",
       "      <td>3993</td>\n",
       "      <td>5209</td>\n",
       "      <td>6440</td>\n",
       "      <td>3555</td>\n",
       "      <td>1387</td>\n",
       "      <td>677</td>\n",
       "      <td>318</td>\n",
       "      <td>151</td>\n",
       "      <td>61.0</td>\n",
       "      <td>108.0</td>\n",
       "    </tr>\n",
       "  </tbody>\n",
       "</table>\n",
       "</div>"
      ],
      "text/plain": [
       "        name_english             name  score  ranked  popularity  members  \\\n",
       "352  Great Pretender  Great Pretender   8.21     353         312   659783   \n",
       "548      Ninja Kamui      Ninja Kamui   8.06     549        1900   112971   \n",
       "\n",
       "                                              synopsis synonyms type_of  \\\n",
       "352  A series of unfortunate events has led Makoto ...               TV   \n",
       "548  Joe Higan is a Nukenin – a former ninja who es...               TV   \n",
       "\n",
       "    total_episodes    premiered         studios                        genres  \\\n",
       "352             23  Summer 2020      Wit Studio  [Action, Adventure, Mystery]   \n",
       "548             12  Winter 2024  E&H Production     [Action, Fantasy, Sci-Fi]   \n",
       "\n",
       "    demographic  duration_per_ep                          rating  scored_by  \\\n",
       "352        None  23 min. per ep.  R - 17+ (violence & profanity)     319392   \n",
       "548        None  23 min. per ep.  R - 17+ (violence & profanity)      21911   \n",
       "\n",
       "     favorites                        aired    source watching completed  \\\n",
       "352       9939  Jul 9, 2020 to Dec 17, 2020  Original   66,157   350,540   \n",
       "548        810            Feb 11, 2024 to ?  Original   70,280        25   \n",
       "\n",
       "    on_hold dropped plan_to_watch    total  scored_10_by  scored_9_by  \\\n",
       "352  34,053  23,626       185,407  659,783         42467        89432   \n",
       "548   2,127   2,441        38,098  112,971          3993         5209   \n",
       "\n",
       "     scored_8_by  scored_7_by  scored_6_by  scored_5_by  scored_4_by  \\\n",
       "352       107708        52891        16381         6139         2415   \n",
       "548         6440         3555         1387          677          318   \n",
       "\n",
       "     scored_3_by  scored_2_by  scored_1_by  \n",
       "352          902        386.0        671.0  \n",
       "548          151         61.0        108.0  "
      ]
     },
     "execution_count": 57,
     "metadata": {},
     "output_type": "execute_result"
    }
   ],
   "source": [
    "df[df['synonyms'] == '']"
   ]
  },
  {
   "cell_type": "code",
   "execution_count": 58,
   "metadata": {},
   "outputs": [],
   "source": [
    "df['synonyms'] = df['synonyms'].replace('', np.nan)\n",
    "df['synonyms'] = df['synonyms'].fillna(df['name'])"
   ]
  },
  {
   "cell_type": "code",
   "execution_count": 59,
   "metadata": {},
   "outputs": [
    {
     "data": {
      "text/html": [
       "<div>\n",
       "<style scoped>\n",
       "    .dataframe tbody tr th:only-of-type {\n",
       "        vertical-align: middle;\n",
       "    }\n",
       "\n",
       "    .dataframe tbody tr th {\n",
       "        vertical-align: top;\n",
       "    }\n",
       "\n",
       "    .dataframe thead th {\n",
       "        text-align: right;\n",
       "    }\n",
       "</style>\n",
       "<table border=\"1\" class=\"dataframe\">\n",
       "  <thead>\n",
       "    <tr style=\"text-align: right;\">\n",
       "      <th></th>\n",
       "      <th>name_english</th>\n",
       "      <th>name</th>\n",
       "      <th>score</th>\n",
       "      <th>ranked</th>\n",
       "      <th>popularity</th>\n",
       "      <th>members</th>\n",
       "      <th>synopsis</th>\n",
       "      <th>synonyms</th>\n",
       "      <th>type_of</th>\n",
       "      <th>total_episodes</th>\n",
       "      <th>premiered</th>\n",
       "      <th>studios</th>\n",
       "      <th>genres</th>\n",
       "      <th>demographic</th>\n",
       "      <th>duration_per_ep</th>\n",
       "      <th>rating</th>\n",
       "      <th>scored_by</th>\n",
       "      <th>favorites</th>\n",
       "      <th>aired</th>\n",
       "      <th>source</th>\n",
       "      <th>watching</th>\n",
       "      <th>completed</th>\n",
       "      <th>on_hold</th>\n",
       "      <th>dropped</th>\n",
       "      <th>plan_to_watch</th>\n",
       "      <th>total</th>\n",
       "      <th>scored_10_by</th>\n",
       "      <th>scored_9_by</th>\n",
       "      <th>scored_8_by</th>\n",
       "      <th>scored_7_by</th>\n",
       "      <th>scored_6_by</th>\n",
       "      <th>scored_5_by</th>\n",
       "      <th>scored_4_by</th>\n",
       "      <th>scored_3_by</th>\n",
       "      <th>scored_2_by</th>\n",
       "      <th>scored_1_by</th>\n",
       "    </tr>\n",
       "  </thead>\n",
       "  <tbody>\n",
       "  </tbody>\n",
       "</table>\n",
       "</div>"
      ],
      "text/plain": [
       "Empty DataFrame\n",
       "Columns: [name_english, name, score, ranked, popularity, members, synopsis, synonyms, type_of, total_episodes, premiered, studios, genres, demographic, duration_per_ep, rating, scored_by, favorites, aired, source, watching, completed, on_hold, dropped, plan_to_watch, total, scored_10_by, scored_9_by, scored_8_by, scored_7_by, scored_6_by, scored_5_by, scored_4_by, scored_3_by, scored_2_by, scored_1_by]\n",
       "Index: []"
      ]
     },
     "execution_count": 59,
     "metadata": {},
     "output_type": "execute_result"
    }
   ],
   "source": [
    "df[df['synonyms'] == '']"
   ]
  },
  {
   "cell_type": "markdown",
   "metadata": {},
   "source": [
    "# type_of:-"
   ]
  },
  {
   "cell_type": "code",
   "execution_count": 60,
   "metadata": {},
   "outputs": [
    {
     "name": "stdout",
     "output_type": "stream",
     "text": [
      "<class 'pandas.core.series.Series'>\n",
      "RangeIndex: 2249 entries, 0 to 2248\n",
      "Series name: type_of\n",
      "Non-Null Count  Dtype \n",
      "--------------  ----- \n",
      "2249 non-null   object\n",
      "dtypes: object(1)\n",
      "memory usage: 17.7+ KB\n"
     ]
    }
   ],
   "source": [
    "df['type_of'].info()"
   ]
  },
  {
   "cell_type": "code",
   "execution_count": 61,
   "metadata": {},
   "outputs": [
    {
     "data": {
      "text/plain": [
       "array(['TV', 'Movie', 'OVA', 'TV Special', 'ONA', 'Special'], dtype=object)"
      ]
     },
     "execution_count": 61,
     "metadata": {},
     "output_type": "execute_result"
    }
   ],
   "source": [
    "df['type_of'].unique()"
   ]
  },
  {
   "cell_type": "code",
   "execution_count": 62,
   "metadata": {},
   "outputs": [
    {
     "data": {
      "text/plain": [
       "type_of\n",
       "TV            1183\n",
       "Movie          502\n",
       "OVA            216\n",
       "ONA            165\n",
       "Special        130\n",
       "TV Special      53\n",
       "Name: count, dtype: int64"
      ]
     },
     "execution_count": 62,
     "metadata": {},
     "output_type": "execute_result"
    }
   ],
   "source": [
    "df['type_of'].value_counts()"
   ]
  },
  {
   "cell_type": "code",
   "execution_count": 63,
   "metadata": {},
   "outputs": [
    {
     "data": {
      "text/plain": [
       "str"
      ]
     },
     "execution_count": 63,
     "metadata": {},
     "output_type": "execute_result"
    }
   ],
   "source": [
    "type(df['type_of'][1])"
   ]
  },
  {
   "cell_type": "markdown",
   "metadata": {},
   "source": [
    "# total_episodes:-"
   ]
  },
  {
   "cell_type": "code",
   "execution_count": 64,
   "metadata": {},
   "outputs": [
    {
     "name": "stdout",
     "output_type": "stream",
     "text": [
      "<class 'pandas.core.series.Series'>\n",
      "RangeIndex: 2249 entries, 0 to 2248\n",
      "Series name: total_episodes\n",
      "Non-Null Count  Dtype \n",
      "--------------  ----- \n",
      "2249 non-null   object\n",
      "dtypes: object(1)\n",
      "memory usage: 17.7+ KB\n"
     ]
    }
   ],
   "source": [
    "df['total_episodes'].info()"
   ]
  },
  {
   "cell_type": "code",
   "execution_count": 65,
   "metadata": {},
   "outputs": [
    {
     "data": {
      "text/plain": [
       "1227     2\n",
       "1450     1\n",
       "2226    21\n",
       "468      3\n",
       "1332     9\n",
       "Name: total_episodes, dtype: object"
      ]
     },
     "execution_count": 65,
     "metadata": {},
     "output_type": "execute_result"
    }
   ],
   "source": [
    "df['total_episodes'].sample(5)"
   ]
  },
  {
   "cell_type": "code",
   "execution_count": 66,
   "metadata": {},
   "outputs": [
    {
     "data": {
      "text/plain": [
       "'64'"
      ]
     },
     "execution_count": 66,
     "metadata": {},
     "output_type": "execute_result"
    }
   ],
   "source": [
    "df['total_episodes'][1]"
   ]
  },
  {
   "cell_type": "code",
   "execution_count": 67,
   "metadata": {},
   "outputs": [
    {
     "data": {
      "text/plain": [
       "array(['28', '64', '24', '51', '10', '1', '148', '13', '110', '12', '201',\n",
       "       '22', '25', '2', '14', '74', '7', '23', '26', '16', '75', '11',\n",
       "       '47', 'Unknown', '4', '43', '27', '37', '39', '101', '8', '99',\n",
       "       '112', '6', '120', '62', '15', '50', '20', '17', '40', '33', '79',\n",
       "       '94', '3', '500', '52', '78', '77', '96', '70', '291', '38', '170',\n",
       "       '237', '203', '104', '63', '102', '21', '45', '5', '103', '49',\n",
       "       '220', '153', '9', '109', '34', '366', '18', '54', '69', '145',\n",
       "       '36', '167', '178', '60', '1787', '35', '113', '373', '76', '155',\n",
       "       '161', '114', '46', '97', '19', '30', '195', '100', '127', '42',\n",
       "       '358', '61', '31', '142', '48', '182', '73', '87', '53', '115',\n",
       "       '175', '136', '150', '86', '140', '124', '29', '147', '224', '44',\n",
       "       '154', '131', '58', '137'], dtype=object)"
      ]
     },
     "execution_count": 67,
     "metadata": {},
     "output_type": "execute_result"
    }
   ],
   "source": [
    "df['total_episodes'].unique()"
   ]
  },
  {
   "cell_type": "code",
   "execution_count": 68,
   "metadata": {},
   "outputs": [
    {
     "data": {
      "text/plain": [
       "'Unknown'"
      ]
     },
     "execution_count": 68,
     "metadata": {},
     "output_type": "execute_result"
    }
   ],
   "source": [
    "df['total_episodes'][393]"
   ]
  },
  {
   "cell_type": "code",
   "execution_count": 69,
   "metadata": {},
   "outputs": [],
   "source": [
    "df['total_episodes'] = df['total_episodes'].apply(lambda x: int(x) if x != 'Unknown' else np.nan)"
   ]
  },
  {
   "cell_type": "code",
   "execution_count": 70,
   "metadata": {},
   "outputs": [
    {
     "data": {
      "text/plain": [
       "nan"
      ]
     },
     "execution_count": 70,
     "metadata": {},
     "output_type": "execute_result"
    }
   ],
   "source": [
    "df['total_episodes'][393]"
   ]
  },
  {
   "cell_type": "markdown",
   "metadata": {},
   "source": [
    "# premiered:-"
   ]
  },
  {
   "cell_type": "code",
   "execution_count": 71,
   "metadata": {},
   "outputs": [
    {
     "name": "stdout",
     "output_type": "stream",
     "text": [
      "<class 'pandas.core.series.Series'>\n",
      "RangeIndex: 2249 entries, 0 to 2248\n",
      "Series name: premiered\n",
      "Non-Null Count  Dtype \n",
      "--------------  ----- \n",
      "1183 non-null   object\n",
      "dtypes: object(1)\n",
      "memory usage: 17.7+ KB\n"
     ]
    }
   ],
   "source": [
    "df['premiered'].info()"
   ]
  },
  {
   "cell_type": "code",
   "execution_count": 72,
   "metadata": {},
   "outputs": [
    {
     "data": {
      "text/plain": [
       "array(['Fall 2023', 'Spring 2009', 'Spring 2011', 'Spring 2015',\n",
       "       'Spring 2019', None, 'Fall 2011', 'Fall 2022', 'Fall 2012',\n",
       "       'Spring 2022', 'Spring 2021', 'Winter 2017', 'Spring 2006',\n",
       "       'Fall 2008', 'Fall 2017', 'Winter 2024', 'Spring 2008',\n",
       "       'Summer 2018', 'Spring 2004', 'Summer 2023', 'Spring 2020',\n",
       "       'Winter 2023', 'Winter 2018', 'Winter 2019', 'Winter 2021',\n",
       "       'Fall 2016', 'Fall 2000', 'Winter 2022', 'Summer 2013',\n",
       "       'Spring 1998', 'Summer 2019', 'Fall 2014', 'Fall 1980',\n",
       "       'Fall 1999', 'Fall 2021', 'Fall 2006', 'Summer 1999',\n",
       "       'Spring 2014', 'Spring 2023', 'Winter 2009', 'Fall 2005',\n",
       "       'Summer 2017', 'Summer 2022', 'Winter 2012', 'Spring 2007',\n",
       "       'Fall 2015', 'Spring 2017', 'Fall 2020', 'Fall 2013', 'Fall 1997',\n",
       "       'Fall 2018', 'Summer 2011', 'Winter 2016', 'Spring 2010',\n",
       "       'Fall 1993', 'Spring 2012', 'Spring 2013', 'Spring 2018',\n",
       "       'Winter 2004', 'Spring 2016', 'Spring 2024', 'Summer 2016',\n",
       "       'Winter 2008', 'Fall 2019', 'Fall 1992', 'Winter 2015',\n",
       "       'Fall 2002', 'Summer 2007', 'Winter 2013', 'Winter 2011',\n",
       "       'Summer 2014', 'Winter 2020', 'Summer 2020', 'Fall 1995',\n",
       "       'Summer 2009', 'Summer 2021', 'Fall 1979', 'Winter 1995',\n",
       "       'Winter 2010', 'Summer 2008', 'Summer 2006', 'Spring 1970',\n",
       "       'Winter 1996', 'Fall 2004', 'Spring 2003', 'Winter 2014',\n",
       "       'Fall 2007', 'Winter 2007', 'Fall 2003', 'Spring 1990',\n",
       "       'Spring 1997', 'Spring 1986', 'Fall 2009', 'Winter 2006',\n",
       "       'Fall 2010', 'Summer 2015', 'Spring 1989', 'Summer 2002',\n",
       "       'Spring 1978', 'Summer 1998', 'Spring 1988', 'Fall 2001',\n",
       "       'Spring 1996', 'Spring 2005', 'Spring 2002', 'Summer 2003',\n",
       "       'Spring 1985', 'Winter 1986', 'Fall 1984', 'Fall 1978',\n",
       "       'Summer 2005', 'Spring 1987', 'Spring 1994', 'Summer 2012',\n",
       "       'Fall 1996', 'Fall 1982', 'Winter 1993', 'Fall 1977',\n",
       "       'Summer 1991', 'Winter 1998', 'Winter 1997', 'Spring 1979',\n",
       "       'Winter 2002', 'Fall 1983', 'Spring 2001', 'Summer 1996',\n",
       "       'Fall 1989', 'Winter 2003', 'Winter 1979', 'Spring 1992',\n",
       "       'Summer 2001', 'Spring 1999', 'Fall 1986', 'Spring 1982',\n",
       "       'Spring 1991', 'Fall 1981', 'Spring 1995', 'Spring 1993',\n",
       "       'Summer 2010', 'Spring 1983', 'Winter 1990', 'Spring 2000',\n",
       "       'Winter 1985', 'Fall 1971', 'Summer 2004', 'Winter 1999',\n",
       "       'Fall 1998', 'Winter 1991', 'Fall 1974', 'Fall 1994', 'Fall 1990',\n",
       "       'Winter 1978', 'Fall 1975', 'Fall 1976', 'Fall 1991',\n",
       "       'Winter 1994', 'Winter 2000', 'Winter 2001', 'Fall 1985',\n",
       "       'Summer 1980', 'Summer 1984', 'Fall 1968', 'Fall 1987',\n",
       "       'Summer 1977', 'Winter 1992', 'Winter 1976', 'Winter 1988',\n",
       "       'Winter 2005', 'Winter 1974'], dtype=object)"
      ]
     },
     "execution_count": 72,
     "metadata": {},
     "output_type": "execute_result"
    }
   ],
   "source": [
    "df['premiered'].unique()"
   ]
  },
  {
   "cell_type": "code",
   "execution_count": 73,
   "metadata": {},
   "outputs": [
    {
     "data": {
      "text/plain": [
       "1066"
      ]
     },
     "execution_count": 73,
     "metadata": {},
     "output_type": "execute_result"
    }
   ],
   "source": [
    "df['premiered'].isnull().sum()"
   ]
  },
  {
   "cell_type": "code",
   "execution_count": 74,
   "metadata": {},
   "outputs": [
    {
     "data": {
      "text/html": [
       "<div>\n",
       "<style scoped>\n",
       "    .dataframe tbody tr th:only-of-type {\n",
       "        vertical-align: middle;\n",
       "    }\n",
       "\n",
       "    .dataframe tbody tr th {\n",
       "        vertical-align: top;\n",
       "    }\n",
       "\n",
       "    .dataframe thead th {\n",
       "        text-align: right;\n",
       "    }\n",
       "</style>\n",
       "<table border=\"1\" class=\"dataframe\">\n",
       "  <thead>\n",
       "    <tr style=\"text-align: right;\">\n",
       "      <th></th>\n",
       "      <th>name_english</th>\n",
       "      <th>name</th>\n",
       "      <th>score</th>\n",
       "      <th>ranked</th>\n",
       "      <th>popularity</th>\n",
       "      <th>members</th>\n",
       "      <th>synopsis</th>\n",
       "      <th>synonyms</th>\n",
       "      <th>type_of</th>\n",
       "      <th>total_episodes</th>\n",
       "      <th>premiered</th>\n",
       "      <th>studios</th>\n",
       "      <th>genres</th>\n",
       "      <th>demographic</th>\n",
       "      <th>duration_per_ep</th>\n",
       "      <th>rating</th>\n",
       "      <th>scored_by</th>\n",
       "      <th>favorites</th>\n",
       "      <th>aired</th>\n",
       "      <th>source</th>\n",
       "      <th>watching</th>\n",
       "      <th>completed</th>\n",
       "      <th>on_hold</th>\n",
       "      <th>dropped</th>\n",
       "      <th>plan_to_watch</th>\n",
       "      <th>total</th>\n",
       "      <th>scored_10_by</th>\n",
       "      <th>scored_9_by</th>\n",
       "      <th>scored_8_by</th>\n",
       "      <th>scored_7_by</th>\n",
       "      <th>scored_6_by</th>\n",
       "      <th>scored_5_by</th>\n",
       "      <th>scored_4_by</th>\n",
       "      <th>scored_3_by</th>\n",
       "      <th>scored_2_by</th>\n",
       "      <th>scored_1_by</th>\n",
       "    </tr>\n",
       "  </thead>\n",
       "  <tbody>\n",
       "    <tr>\n",
       "      <th>5</th>\n",
       "      <td>Gintama: The Very Final</td>\n",
       "      <td>Gintama: The Final</td>\n",
       "      <td>9.04</td>\n",
       "      <td>6</td>\n",
       "      <td>1537</td>\n",
       "      <td>148923</td>\n",
       "      <td>Two years have passed following the Tendoshuu'...</td>\n",
       "      <td>銀魂 THE FINAL</td>\n",
       "      <td>Movie</td>\n",
       "      <td>1.0</td>\n",
       "      <td>None</td>\n",
       "      <td>Bandai Namco Pictures</td>\n",
       "      <td>[Action, Comedy, Drama, Sci-Fi]</td>\n",
       "      <td>Shounen</td>\n",
       "      <td>1 hr. 44 min.</td>\n",
       "      <td>PG-13 - Teens 13 or older</td>\n",
       "      <td>71362</td>\n",
       "      <td>4273</td>\n",
       "      <td>Jan 8, 2021</td>\n",
       "      <td>Manga</td>\n",
       "      <td>6,797</td>\n",
       "      <td>81,366</td>\n",
       "      <td>1,581</td>\n",
       "      <td>1,415</td>\n",
       "      <td>57,764</td>\n",
       "      <td>148,923</td>\n",
       "      <td>40991</td>\n",
       "      <td>14060</td>\n",
       "      <td>7357</td>\n",
       "      <td>3169</td>\n",
       "      <td>1104</td>\n",
       "      <td>556</td>\n",
       "      <td>244</td>\n",
       "      <td>188</td>\n",
       "      <td>320.0</td>\n",
       "      <td>3373.0</td>\n",
       "    </tr>\n",
       "  </tbody>\n",
       "</table>\n",
       "</div>"
      ],
      "text/plain": [
       "              name_english                name  score  ranked  popularity  \\\n",
       "5  Gintama: The Very Final  Gintama: The Final   9.04       6        1537   \n",
       "\n",
       "   members                                           synopsis      synonyms  \\\n",
       "5   148923  Two years have passed following the Tendoshuu'...  銀魂 THE FINAL   \n",
       "\n",
       "  type_of  total_episodes premiered                studios  \\\n",
       "5   Movie             1.0      None  Bandai Namco Pictures   \n",
       "\n",
       "                            genres demographic duration_per_ep  \\\n",
       "5  [Action, Comedy, Drama, Sci-Fi]     Shounen   1 hr. 44 min.   \n",
       "\n",
       "                      rating  scored_by  favorites        aired source  \\\n",
       "5  PG-13 - Teens 13 or older      71362       4273  Jan 8, 2021  Manga   \n",
       "\n",
       "  watching completed on_hold dropped plan_to_watch    total  scored_10_by  \\\n",
       "5    6,797    81,366   1,581   1,415        57,764  148,923         40991   \n",
       "\n",
       "   scored_9_by  scored_8_by  scored_7_by  scored_6_by  scored_5_by  \\\n",
       "5        14060         7357         3169         1104          556   \n",
       "\n",
       "   scored_4_by  scored_3_by  scored_2_by  scored_1_by  \n",
       "5          244          188        320.0       3373.0  "
      ]
     },
     "execution_count": 74,
     "metadata": {},
     "output_type": "execute_result"
    }
   ],
   "source": [
    "df[df['premiered'].isnull()].head(1)"
   ]
  },
  {
   "cell_type": "code",
   "execution_count": 75,
   "metadata": {},
   "outputs": [
    {
     "data": {
      "text/plain": [
       "NoneType"
      ]
     },
     "execution_count": 75,
     "metadata": {},
     "output_type": "execute_result"
    }
   ],
   "source": [
    "type(df['premiered'][5])"
   ]
  },
  {
   "cell_type": "code",
   "execution_count": 76,
   "metadata": {},
   "outputs": [],
   "source": [
    "df['premiered'] = df['premiered'].fillna('dont know')"
   ]
  },
  {
   "cell_type": "code",
   "execution_count": 77,
   "metadata": {},
   "outputs": [
    {
     "data": {
      "text/plain": [
       "0"
      ]
     },
     "execution_count": 77,
     "metadata": {},
     "output_type": "execute_result"
    }
   ],
   "source": [
    "df['premiered'].isnull().sum()"
   ]
  },
  {
   "cell_type": "markdown",
   "metadata": {},
   "source": [
    "# studios:-"
   ]
  },
  {
   "cell_type": "code",
   "execution_count": 78,
   "metadata": {},
   "outputs": [
    {
     "name": "stdout",
     "output_type": "stream",
     "text": [
      "<class 'pandas.core.series.Series'>\n",
      "RangeIndex: 2249 entries, 0 to 2248\n",
      "Series name: studios\n",
      "Non-Null Count  Dtype \n",
      "--------------  ----- \n",
      "2249 non-null   object\n",
      "dtypes: object(1)\n",
      "memory usage: 17.7+ KB\n"
     ]
    }
   ],
   "source": [
    "df['studios'].info()"
   ]
  },
  {
   "cell_type": "code",
   "execution_count": 79,
   "metadata": {},
   "outputs": [
    {
     "data": {
      "text/plain": [
       "array(['Madhouse', 'Bones', 'White Fox', 'Bandai Namco Pictures',\n",
       "       'Wit Studio', 'Sunrise', 'Pierrot', 'K-Factory', 'A-1 Pictures',\n",
       "       'TMS Entertainment', 'Kyoto Animation', 'OLM', 'Shaft',\n",
       "       'Shin-Ei Animation', 'MAPPA', 'CoMix Wave Films', 'CloverWorks',\n",
       "       'Toei Animation', 'Production I.G', 'Studio Ghibli', 'ufotable',\n",
       "       'Artland', 'Tokyo Movie Shinsha', 'Studio Deen', 'LAN Studio',\n",
       "       'Doga Kobo', 'Red Dog Culture House', 'Studio Bind',\n",
       "       'Kinema Citrus', \"Brain's Base\", 'Gainax', 'Shuka',\n",
       "       'Tatsunoko Production', 'Trigger', 'Khara', 'David Production',\n",
       "       'Studio Chizu', 'Studio VOLN', 'J.C.Staff', 'C-Station',\n",
       "       'Studio M2', 'Manglobe', '8bit', 'Lerche', 'HAL Film Maker',\n",
       "       'B.CMAY PICTURES', 'Geno Studio', 'Zero-G', 'Platinum Vision',\n",
       "       'Nippon Animation', 'SynergySP', 'P.A. Works', 'Orange', 'Nexus',\n",
       "       'SILVER LINK.', 'Nut', 'Nippon Ramayana Film Co.', 'Topcraft',\n",
       "       'feel.', 'Haoliners Animation League', 'Gallop', 'TROYCA', 'Xebec',\n",
       "       'Sparkly Key Animation Studio', 'Gonzo', 'Mushi Production',\n",
       "       'Sharefun Studio', 'Tezuka Productions', 'SANZIGEN', 'Ajia-do',\n",
       "       'A.C.G.T.', 'Actas', 'Passione', 'Telescreen',\n",
       "       'Samsara Animation Studio', 'Studio Hibari', 'Imagin',\n",
       "       'Studio 4°C', 'Science SARU', 'LIDENFILMS', 'Satelight',\n",
       "       'Yumeta Company', 'Hololive Production', 'Shirogumi', 'Pastel',\n",
       "       'CLAP', 'Telecom Animation Film', 'TYO Animations', 'Seven Arcs',\n",
       "       'Colored Pencil Animation', 'Motion Magic', 'C2C', 'Studio Kai',\n",
       "       'Triangle Staff', 'Shenman Entertainment', 'Drive',\n",
       "       'Kitty Film Mitaka Studio', 'E&H Production',\n",
       "       'Bibury Animation Studios', 'APPP', 'HMCH', 'E&G Films',\n",
       "       'domerica', 'Oh! Production', 'Group TAC', 'Studio Rikka',\n",
       "       'Bee Train', 'Studio Gokumi', 'Studio Comet', 'Radix', 'M.S.C',\n",
       "       'add some', 'Encourage Films', 'ABJ COMPANY', 'Production IMS',\n",
       "       'Square Enix Visual Works', 'Hoods Entertainment', 'Flat Studio',\n",
       "       'Lapin Track', 'Studio Kafka', 'Tokyo Kids', 'CygamesPictures',\n",
       "       'Trans Arts', 'BUG FILMS', 'Pierrot Plus', 'GoHands', 'Lay-duce',\n",
       "       'Fenz', 'NAZ', 'AIC ASTA', 'Project No.9', 'Fanworks',\n",
       "       'AtelierPontdarc', 'Anpro', 'BUILD DREAM', 'Phoenix Entertainment',\n",
       "       'production doA', 'Geek Toys', 'Daume', 'Arms',\n",
       "       'DC Impression Vision', 'Djinn Power', 'AIC Spirits', 'PINE JAM',\n",
       "       'Asahi Production', 'Nomad', 'Polygon Pictures', 'Okuruto Noboru',\n",
       "       'Studio Blanc.', 'Zexcs', 'dwarf', 'AIC Classic',\n",
       "       'Larx Entertainment', 'Bee Media', 'Bridge', 'Magic Bus',\n",
       "       'Foch Films', 'Studio 3Hz', 'Palm Studio', 'Original Force', 'AIC',\n",
       "       'I.Gzwei', 'Studio Moriken', 'studio MOTHER', 'Yostar Pictures',\n",
       "       'Liber', 'Big Firebird Culture', 'Paper Plane Animation Studio',\n",
       "       'Felix Film', 'The Answer Studio', 'Connect', 'Ezόla',\n",
       "       'Studio Massket', 'Yaoyorozu', 'asread.', 'October Media',\n",
       "       'Studio Colorido', 'Passion Paint Animation',\n",
       "       'Seven Arcs Pictures', 'Signal.MD', 'Fuji TV', 'Studio PuYUKAI',\n",
       "       'Studio Signpost', 'Kamikaze Douga', 'Typhoon Graphics',\n",
       "       'CMC Media', 'HuaMei Animation', 'Grouper Productions',\n",
       "       'Graphinica', 'Ruo Hong Culture', 'Liyu Culture', 'Diomedéa',\n",
       "       'Eiken', 'Ashi Productions', 'L²Studio', 'Bakken Record', 'B&T',\n",
       "       'DandeLion Animation Studio', 'Sunrise Beyond', 'TNK', 'CG Year',\n",
       "       'Studio Mir', 'Millepensee', 'Oriental Creative Color',\n",
       "       'Studio Daisy', 'Light Chaser Animation Studios', 'ENGI', 'Gaina',\n",
       "       'JCF', 'Sunflowers', 'Ordet', 'Cloud Art'], dtype=object)"
      ]
     },
     "execution_count": 79,
     "metadata": {},
     "output_type": "execute_result"
    }
   ],
   "source": [
    "df['studios'].unique()"
   ]
  },
  {
   "cell_type": "markdown",
   "metadata": {},
   "source": [
    "# genres, demogrsphic:-"
   ]
  },
  {
   "cell_type": "code",
   "execution_count": 80,
   "metadata": {},
   "outputs": [],
   "source": [
    "import nltk\n",
    "from nltk.corpus import stopwords\n",
    "from nltk.tokenize import word_tokenize\n",
    "from nltk import pos_tag"
   ]
  },
  {
   "cell_type": "markdown",
   "metadata": {},
   "source": [
    "## rules_dict:-"
   ]
  },
  {
   "cell_type": "code",
   "execution_count": 81,
   "metadata": {},
   "outputs": [],
   "source": [
    "# Define rules to map keywords to genres\n",
    "genre_rules = {\n",
    "    'action': ['action', 'battle', 'fight', 'combat', 'hero', 'adventure', 'explosive', 'dungeon','hunters', 'skirmish'],\n",
    "    'adventure': ['adventure', 'journey', 'quest', 'explore', 'travel', 'discovery', 'epic'],\n",
    "    'comedy': ['comedy', 'humor', 'funny', 'laugh', 'comical', 'satire', 'light-hearted', 'parody'],\n",
    "    'drama': ['drama', 'emotion', 'relationship', 'heartfelt', 'intense', 'dramatic', 'tearjerker', 'heart break'],\n",
    "    'fantasy': ['fantasy', 'magic', 'mythical', 'magical', 'enchantment', 'fantastical', 'otherworldly', 'elves'],\n",
    "    'science fiction': ['science fiction', 'futuristic', 'space', 'alien', 'technology', 'cyberpunk', 'dystopian'],\n",
    "    'romance': ['romance', 'love', 'relationship', 'romantic', 'passion', 'heartwarming', 'love triangle'],\n",
    "    'horror': ['horror', 'fear', 'terror', 'creepy', 'supernatural', 'haunting', 'nightmare'],\n",
    "    'mystery': ['mystery', 'detective', 'investigation', 'suspense', 'whodunit', 'mysterious', 'puzzle'],\n",
    "    'thriller': ['thriller', 'suspenseful', 'intense', 'adrenaline', 'danger', 'action-packed'],\n",
    "    'slice of life': ['slice of life', 'everyday', 'ordinary', 'real-life', 'routine', 'relatable', 'mundane'],\n",
    "    'supernatural': ['supernatural', 'paranormal', 'occult', 'spiritual', 'mystical', 'otherworldly'],\n",
    "    'mecha': ['mecha', 'giant robot', 'pilot', 'mechanical', 'robotic', 'mecha battles', 'robots'],\n",
    "    'shounen': ['shounen', 'young boy', 'teenage protagonist', 'fighting', 'friendship', 'action-packed'],\n",
    "    'shoujo': ['shoujo', 'young girl', 'teenage protagonist', 'romantic', 'friendship', 'heartwarming'],\n",
    "    'seinen': ['seinen', 'adult', 'mature themes', 'dark', 'psychological', 'gritty'],\n",
    "    'josei': ['josei', 'adult woman', 'mature themes', 'romantic', 'slice of life', 'emotional'],\n",
    "    'psychological': ['psychological', 'mind', 'psyche', 'mental', 'mind games', 'trauma'],\n",
    "    'sports': ['sports', 'athletic', 'competition', 'team', 'individual', 'sportsmanship'],\n",
    "    'historical': ['historical', 'period', 'era', 'retro', 'vintage', 'historic event'],\n",
    "    'music': ['music', 'musical', 'band', 'concert', 'performing arts', 'melody'],\n",
    "    'school': ['school', 'high school', 'student', 'classmate', 'teacher', 'teenage'],\n",
    "    'ecchi': ['ecchi', 'sexual humor', 'fan service', 'suggestive', 'provocative', 'sexy'],\n",
    "    'harem': ['harem', 'multiple love interests', 'romantic rivalry', 'love triangle', 'romantic comedy'],\n",
    "    'magical girl': ['magical girl', 'transformation', 'magical powers', 'cute', 'friendship', 'magical creature'],\n",
    "    'isekai': ['isekai', 'other world', 'transported', 'reincarnation', 'fantasy world', 'parallel universe', 'reincarnated'],\n",
    "    'cyberpunk': ['cyberpunk', 'high tech', 'low life', 'cyberspace', 'neon lights', 'dystopian'],\n",
    "    'post-apocalyptic': ['post-apocalyptic', 'apocalypse', 'wasteland', 'survival', 'dystopia', 'rebuilding'],\n",
    "    'martial arts': ['martial arts', 'combat', 'martial artist', 'dojo', 'tournament', 'training']\n",
    "}\n",
    "# Define rules to map genres to demographic categories\n",
    "genre_to_demographic = {\n",
    "    'shounen': ['action', 'adventure', 'comedy', 'fantasy', 'science fiction', 'horror', 'mystery', 'thriller', 'slice of life', 'supernatural', 'mecha', 'sports', 'historical', 'music', 'school', 'ecchi', 'harem', 'isekai', 'post-apocalyptic', 'martial arts'],\n",
    "    'shoujo': ['adventure', 'comedy', 'drama', 'fantasy', 'romance', 'slice of life', 'supernatural', 'music', 'school', 'magical girl'],\n",
    "    'seinen': ['action', 'adventure', 'comedy', 'drama', 'fantasy', 'science fiction', 'romance', 'horror', 'mystery', 'thriller', 'slice of life', 'supernatural', 'psychological', 'sports', 'historical', 'music', 'school', 'ecchi', 'harem', 'isekai', 'cyberpunk', 'post-apocalyptic', 'martial arts'],\n",
    "    'josei': ['comedy', 'drama', 'romance', 'slice of life', 'school']\n",
    "}\n",
    "# Define rules to map genres to demographic categories\n",
    "demographic_rules = {\n",
    "    'action': ['shounen', 'shoujo', 'seinen'],\n",
    "    'adventure': ['shounen', 'shoujo', 'seinen'],\n",
    "    'comedy': ['shounen', 'shoujo', 'seinen', 'josei'],\n",
    "    'drama': ['shoujo', 'seinen', 'josei'],\n",
    "    'fantasy': ['shounen', 'shoujo', 'seinen'],\n",
    "    'science fiction': ['shounen', 'seinen'],\n",
    "    'romance': ['shoujo', 'josei'],\n",
    "    'horror': ['shounen', 'seinen'],\n",
    "    'mystery': ['shounen', 'seinen'],\n",
    "    'thriller': ['shounen', 'seinen'],\n",
    "    'slice of life': ['shoujo', 'seinen', 'josei'],\n",
    "    'supernatural': ['shounen', 'shoujo', 'seinen'],\n",
    "    'mecha': ['shounen'],\n",
    "    'psychological': ['seinen'],\n",
    "    'sports': ['shounen', 'shoujo', 'seinen'],\n",
    "    'historical': ['shounen', 'seinen'],\n",
    "    'music': ['shounen', 'shoujo', 'seinen'],\n",
    "    'school': ['shounen', 'shoujo', 'seinen', 'josei'],\n",
    "    'ecchi': ['shounen', 'seinen'],\n",
    "    'harem': ['shounen', 'seinen'],\n",
    "    'magical girl': ['shoujo'],\n",
    "    'isekai': ['shounen', 'seinen'],\n",
    "    'cyberpunk': ['seinen'],\n",
    "    'post-apocalyptic': ['shounen', 'seinen'],\n",
    "    'martial arts': ['shounen', 'seinen']\n",
    "}"
   ]
  },
  {
   "cell_type": "markdown",
   "metadata": {},
   "source": [
    "## .."
   ]
  },
  {
   "cell_type": "code",
   "execution_count": 82,
   "metadata": {},
   "outputs": [
    {
     "name": "stdout",
     "output_type": "stream",
     "text": [
      "['thriller', 'school']\n"
     ]
    }
   ],
   "source": [
    "synopsis = \"Two years have passed following the Tendoshuu's invasion of the O-Edo Central Terminal. Since then, the Yorozuya have gone their separate ways. Foreseeing Utsuro's return, Gintoki Sakata begins surveying Earth's ley lines for traces of the other man's Altana. After an encounter with the remnants of the Tendoshuu\\u2014who continue to press on in search of immortality\\u2014Gintoki returns to Edo. Later, the regrouped Shinsengumi and Yorozuya begin an attack on the occupied Central Terminal. With the Altana harvested by the wreckage of the Tendoshuu's ship in danger of detonating, the Yorozuya and their allies fight their enemies while the safety of Edo\\u2014and the rest of the world\\u2014hangs in the balance. Fulfilling the wishes of their teacher, Shouyou Yoshida's former students unite and relive their pasts one final time in an attempt to save their futures.\"\n",
    "\n",
    "tokens = word_tokenize(synopsis)\n",
    "stop_words = set(stopwords.words('english'))\n",
    "filtered_tokens = [word for word in tokens if word.lower() not in stop_words]\n",
    "tagged_tokens = pos_tag(filtered_tokens)\n",
    "keywords = [word for word, tag in tagged_tokens if tag.startswith('NN') or tag.startswith('JJ')]\n",
    "\n",
    "\n",
    "\n",
    "matched_genres = []\n",
    "\n",
    "for keyword in keywords:\n",
    "    for genre, rules in genre_rules.items():\n",
    "        if any(rule in keyword.lower() for rule in rules):\n",
    "            matched_genres.append(genre)\n",
    "\n",
    "\n",
    "print(matched_genres)"
   ]
  },
  {
   "cell_type": "code",
   "execution_count": 83,
   "metadata": {},
   "outputs": [
    {
     "data": {
      "text/plain": [
       "0                   [Adventure, Drama, Fantasy]\n",
       "1           [Action, Adventure, Drama, Fantasy]\n",
       "2                     [Drama, Sci-Fi, Suspense]\n",
       "3                      [Action, Comedy, Sci-Fi]\n",
       "4                     [Action, Drama, Suspense]\n",
       "                         ...                   \n",
       "2244                                         []\n",
       "2245    [Action, Horror, Mystery, Supernatural]\n",
       "2246                           [Action, Sci-Fi]\n",
       "2247                                         []\n",
       "2248                           [Action, Sci-Fi]\n",
       "Name: genres, Length: 2249, dtype: object"
      ]
     },
     "execution_count": 83,
     "metadata": {},
     "output_type": "execute_result"
    }
   ],
   "source": [
    "df['genres']"
   ]
  },
  {
   "cell_type": "code",
   "execution_count": 84,
   "metadata": {},
   "outputs": [],
   "source": [
    "df['genres'] = df['genres'].apply(lambda x: np.nan if len(x) == 0 else x)"
   ]
  },
  {
   "cell_type": "code",
   "execution_count": 85,
   "metadata": {},
   "outputs": [
    {
     "data": {
      "text/plain": [
       "533"
      ]
     },
     "execution_count": 85,
     "metadata": {},
     "output_type": "execute_result"
    }
   ],
   "source": [
    "df['genres'].isnull().sum()"
   ]
  },
  {
   "cell_type": "code",
   "execution_count": 86,
   "metadata": {},
   "outputs": [
    {
     "data": {
      "text/plain": [
       "1163"
      ]
     },
     "execution_count": 86,
     "metadata": {},
     "output_type": "execute_result"
    }
   ],
   "source": [
    "df['demographic'].isnull().sum()"
   ]
  },
  {
   "cell_type": "code",
   "execution_count": 87,
   "metadata": {},
   "outputs": [
    {
     "data": {
      "text/plain": [
       "252"
      ]
     },
     "execution_count": 87,
     "metadata": {},
     "output_type": "execute_result"
    }
   ],
   "source": [
    "both_isnull = df['genres'].isna() & df['demographic'].isna()\n",
    "both_isnull.sum()"
   ]
  },
  {
   "cell_type": "markdown",
   "metadata": {},
   "source": [
    "# duration_per_ep:-"
   ]
  },
  {
   "cell_type": "code",
   "execution_count": 88,
   "metadata": {},
   "outputs": [
    {
     "name": "stdout",
     "output_type": "stream",
     "text": [
      "<class 'pandas.core.series.Series'>\n",
      "RangeIndex: 2249 entries, 0 to 2248\n",
      "Series name: duration_per_ep\n",
      "Non-Null Count  Dtype \n",
      "--------------  ----- \n",
      "2249 non-null   object\n",
      "dtypes: object(1)\n",
      "memory usage: 17.7+ KB\n"
     ]
    }
   ],
   "source": [
    "df['duration_per_ep'].info()"
   ]
  },
  {
   "cell_type": "code",
   "execution_count": 89,
   "metadata": {},
   "outputs": [
    {
     "data": {
      "text/plain": [
       "array(['24 min. per ep.', '23 min. per ep.', '1 hr. 44 min.',\n",
       "       '26 min. per ep.', '2 hr. 10 min.', '22 min. per ep.',\n",
       "       '25 min. per ep.', '1 hr. 12 min. per ep.', '1 hr. 50 min.',\n",
       "       '2 hr. 20 min.', '1 hr. 46 min.', '2 hr. 4 min.', '1 hr. 36 min.',\n",
       "       '1 hr. 23 min.', '24 min.', '29 min. per ep.', '30 min. per ep.',\n",
       "       '2 hr. 2 min.', '1 hr. 59 min.', '2 hr. 13 min.', '1 hr. 45 min.',\n",
       "       '2 hr. 41 min.', '1 hr. 56 min.', '47 min.', '1 hr. 30 min.',\n",
       "       '2 hr. 35 min.', '2 hr. 5 min.', '1 hr. 4 min.', '1 hr. 57 min.',\n",
       "       '1 hr. 26 min.', '1 hr. 48 min.', '2 hr.', '1 hr. 21 min.',\n",
       "       '45 min.', '1 hr. 54 min.', '1 hr. 1 min. per ep.',\n",
       "       '1 hr. 35 min.', '1 hr. 28 min.', '1 hr. 13 min.',\n",
       "       '28 min. per ep.', '1 hr. 36 min. per ep.', '27 min. per ep.',\n",
       "       '5 min. per ep.', '1 hr. 31 min.', '1 hr. 38 min.',\n",
       "       '1 hr. 55 min.', '2 hr. 1 min.', '1 hr. 49 min.', '2 hr. 15 min.',\n",
       "       '10 min.', '49 min. per ep.', '34 min.', '1 hr. 11 min. per ep.',\n",
       "       '21 min.', '22 min.', '51 min.', '50 min. per ep.',\n",
       "       '21 min. per ep.', '1 hr. 52 min.', '16 min. per ep.',\n",
       "       '1 hr. 47 min.', '1 hr. 32 min.', '1 hr. 42 min.', '1 hr.',\n",
       "       '11 min.', '54 min.', '1 hr. 22 min.', '1 hr. 43 min.',\n",
       "       '1 hr. 40 min.', '1 hr. 1 min.', '1 hr. 33 min.', '1 hr. 11 min.',\n",
       "       '1 hr. 15 min.', '1 hr. 25 min. per ep.', '38 min. per ep.',\n",
       "       '2 hr. 48 min.', '2 hr. 11 min.', '1 hr. 51 min.', '55 min.',\n",
       "       '2 hr. 17 min.', '1 hr. 41 min.', '1 hr. 12 min.',\n",
       "       '34 min. per ep.', '20 min. per ep.', '1 hr. 34 min.', '1 min.',\n",
       "       '25 min.', '48 min.', '12 min.', '1 hr. 29 min.', '1 hr. 39 min.',\n",
       "       '49 min.', '59 min.', '1 hr. 5 min.', '57 min.', '2 hr. 29 min.',\n",
       "       '2 hr. 6 min.', '14 min. per ep.', '1 hr. 2 min. per ep.',\n",
       "       '23 min.', '32 min. per ep.', '32 min.', '14 min.',\n",
       "       '2 hr. 40 min.', '58 min. per ep.', '43 min. per ep.',\n",
       "       '1 hr. 10 min.', '15 min. per ep.', '1 hr. 53 min.', '28 min.',\n",
       "       '33 min. per ep.', '2 min. per ep.', '30 min.', '18 min. per ep.',\n",
       "       '11 min. per ep.', '1 hr. 37 min.', '2 min.', '42 min. per ep.',\n",
       "       '1 hr. 17 min.', '1 hr. 9 min.', '18 min.', '19 min. per ep.',\n",
       "       '27 min.', '29 min.', '39 min.', '46 min.', '53 min.', '58 min.',\n",
       "       '1 hr. 3 min.', '2 hr. 16 min.', '50 min.', '4 min. per ep.',\n",
       "       '1 hr. 6 min.', '13 min. per ep.', '3 min. per ep.', '26 min.',\n",
       "       '42 min.', '51 min. per ep.', '41 min.', '1 hr. 2 min.',\n",
       "       '46 min. per ep.', '1 hr. 58 min.', '1 hr. 30 min. per ep.',\n",
       "       '1 hr. 18 min.', '52 min.', '15 min.', '1 hr. 27 min.',\n",
       "       '2 hr. 7 min.', '1 hr. 20 min.', '45 min. per ep.',\n",
       "       '37 min. per ep.', '1 hr. 7 min.', '37 min.', '1 hr. 16 min.',\n",
       "       '1 hr. 52 min. per ep.', '39 min. per ep.', '12 min. per ep.',\n",
       "       '31 min.', '7 min. per ep.', '54 min. per ep.',\n",
       "       '1 hr. 20 min. per ep.', '2 hr. 12 min.', '1 hr. 25 min.',\n",
       "       '40 min.', '20 min.', '8 min. per ep.', '1 min. per ep.', '3 min.',\n",
       "       '2 hr. 3 min.', '6 min. per ep.', '8 min.', '16 min.',\n",
       "       '17 min. per ep.', '1 hr. 24 min.', '2 hr. 8 min.',\n",
       "       '1 hr. 39 min. per ep.', '13 min.', '2 hr. 21 min.',\n",
       "       '1 hr. 19 min.', '1 hr. 5 min. per ep.', '56 min.',\n",
       "       '53 min. per ep.', '4 min.', '9 min.', '35 min. per ep.',\n",
       "       '31 min. per ep.', '5 min.', '2 hr. 24 min.', '10 min. per ep.',\n",
       "       '1 hr. 38 min. per ep.'], dtype=object)"
      ]
     },
     "execution_count": 89,
     "metadata": {},
     "output_type": "execute_result"
    }
   ],
   "source": [
    "df['duration_per_ep'].unique()"
   ]
  },
  {
   "cell_type": "code",
   "execution_count": 90,
   "metadata": {},
   "outputs": [],
   "source": [
    "import re"
   ]
  },
  {
   "cell_type": "code",
   "execution_count": 91,
   "metadata": {},
   "outputs": [],
   "source": [
    "text = '2 hr. 2 min.'\n",
    "text_1 = '24 min. per ep.'\n",
    "text_2 = '1 hr. 51 min.'\n",
    "text_3 = '49 min.'\n",
    "text_4 = '4 min.'"
   ]
  },
  {
   "cell_type": "code",
   "execution_count": 92,
   "metadata": {},
   "outputs": [
    {
     "name": "stdout",
     "output_type": "stream",
     "text": [
      "[('2', '2', '')]\n",
      "[('', '', '24')]\n",
      "[('1', '51', '')]\n",
      "[('', '', '49')]\n",
      "[('', '', '4')]\n"
     ]
    }
   ],
   "source": [
    "pattern = re.compile(\"(\\d{1}) hr. (\\d{,2}) min.|(\\d{,2}) min.\")\n",
    "print(re.findall(pattern, text))\n",
    "print(re.findall(pattern, text_1))\n",
    "print(re.findall(pattern, text_2))\n",
    "print(re.findall(pattern, text_3))\n",
    "print(re.findall(pattern, text_4))"
   ]
  },
  {
   "cell_type": "code",
   "execution_count": 93,
   "metadata": {},
   "outputs": [],
   "source": [
    "df_test = pd.DataFrame(df['duration_per_ep'])\n",
    "\n",
    "# Define the extract_duration function\n",
    "def extract_duration(text):\n",
    "\n",
    "    pattern = \"(\\d{1}) hr. (\\d{,2}) min.|(\\d{,2}) min.\"\n",
    "    match = re.match(pattern, text)\n",
    "    \n",
    "    if match == None:\n",
    "        pattern = \"(\\d{1}) hr.\"\n",
    "        match = re.match(pattern, text)\n",
    "        return 60 * int(match.group(1)) if match.group(1) else 0\n",
    "    \n",
    "    hours = int(match.group(1)) if match.group(1) else 0\n",
    "    minutes = int(match.group(2)) if match.group(2) else 0\n",
    "    minutes_1 = int(match.group(3)) if match.group(3) else 0\n",
    "    total_minutes = hours * 60 + minutes + minutes_1\n",
    "    return total_minutes"
   ]
  },
  {
   "cell_type": "code",
   "execution_count": 94,
   "metadata": {},
   "outputs": [
    {
     "data": {
      "text/plain": [
       "140"
      ]
     },
     "execution_count": 94,
     "metadata": {},
     "output_type": "execute_result"
    }
   ],
   "source": [
    "extract_duration('2 hr. 20 min.')"
   ]
  },
  {
   "cell_type": "code",
   "execution_count": 95,
   "metadata": {},
   "outputs": [],
   "source": [
    "df_test['duration_per_ep'] = df_test['duration_per_ep'].apply(extract_duration)\n",
    "df['duration_per_ep'] = df['duration_per_ep'].apply(extract_duration)"
   ]
  },
  {
   "cell_type": "code",
   "execution_count": 96,
   "metadata": {},
   "outputs": [
    {
     "data": {
      "text/plain": [
       "111"
      ]
     },
     "execution_count": 96,
     "metadata": {},
     "output_type": "execute_result"
    }
   ],
   "source": [
    "extract_duration('1 hr. 51 min.')"
   ]
  },
  {
   "cell_type": "code",
   "execution_count": 97,
   "metadata": {},
   "outputs": [
    {
     "data": {
      "text/plain": [
       "678     24\n",
       "2218     4\n",
       "1588    24\n",
       "Name: duration_per_ep, dtype: int64"
      ]
     },
     "execution_count": 97,
     "metadata": {},
     "output_type": "execute_result"
    }
   ],
   "source": [
    "df['duration_per_ep'].sample(3)"
   ]
  },
  {
   "cell_type": "code",
   "execution_count": 98,
   "metadata": {},
   "outputs": [
    {
     "data": {
      "text/html": [
       "<div>\n",
       "<style scoped>\n",
       "    .dataframe tbody tr th:only-of-type {\n",
       "        vertical-align: middle;\n",
       "    }\n",
       "\n",
       "    .dataframe tbody tr th {\n",
       "        vertical-align: top;\n",
       "    }\n",
       "\n",
       "    .dataframe thead th {\n",
       "        text-align: right;\n",
       "    }\n",
       "</style>\n",
       "<table border=\"1\" class=\"dataframe\">\n",
       "  <thead>\n",
       "    <tr style=\"text-align: right;\">\n",
       "      <th></th>\n",
       "      <th>name_english</th>\n",
       "      <th>name</th>\n",
       "      <th>score</th>\n",
       "      <th>ranked</th>\n",
       "      <th>popularity</th>\n",
       "      <th>members</th>\n",
       "      <th>synopsis</th>\n",
       "      <th>synonyms</th>\n",
       "      <th>type_of</th>\n",
       "      <th>total_episodes</th>\n",
       "      <th>premiered</th>\n",
       "      <th>studios</th>\n",
       "      <th>genres</th>\n",
       "      <th>demographic</th>\n",
       "      <th>duration_per_ep</th>\n",
       "      <th>rating</th>\n",
       "      <th>scored_by</th>\n",
       "      <th>favorites</th>\n",
       "      <th>aired</th>\n",
       "      <th>source</th>\n",
       "      <th>watching</th>\n",
       "      <th>completed</th>\n",
       "      <th>on_hold</th>\n",
       "      <th>dropped</th>\n",
       "      <th>plan_to_watch</th>\n",
       "      <th>total</th>\n",
       "      <th>scored_10_by</th>\n",
       "      <th>scored_9_by</th>\n",
       "      <th>scored_8_by</th>\n",
       "      <th>scored_7_by</th>\n",
       "      <th>scored_6_by</th>\n",
       "      <th>scored_5_by</th>\n",
       "      <th>scored_4_by</th>\n",
       "      <th>scored_3_by</th>\n",
       "      <th>scored_2_by</th>\n",
       "      <th>scored_1_by</th>\n",
       "    </tr>\n",
       "  </thead>\n",
       "  <tbody>\n",
       "  </tbody>\n",
       "</table>\n",
       "</div>"
      ],
      "text/plain": [
       "Empty DataFrame\n",
       "Columns: [name_english, name, score, ranked, popularity, members, synopsis, synonyms, type_of, total_episodes, premiered, studios, genres, demographic, duration_per_ep, rating, scored_by, favorites, aired, source, watching, completed, on_hold, dropped, plan_to_watch, total, scored_10_by, scored_9_by, scored_8_by, scored_7_by, scored_6_by, scored_5_by, scored_4_by, scored_3_by, scored_2_by, scored_1_by]\n",
       "Index: []"
      ]
     },
     "execution_count": 98,
     "metadata": {},
     "output_type": "execute_result"
    }
   ],
   "source": [
    "df[df['duration_per_ep'] == '']"
   ]
  },
  {
   "cell_type": "markdown",
   "metadata": {},
   "source": [
    "# rating:-"
   ]
  },
  {
   "cell_type": "code",
   "execution_count": 99,
   "metadata": {},
   "outputs": [
    {
     "name": "stdout",
     "output_type": "stream",
     "text": [
      "<class 'pandas.core.series.Series'>\n",
      "RangeIndex: 2249 entries, 0 to 2248\n",
      "Series name: rating\n",
      "Non-Null Count  Dtype \n",
      "--------------  ----- \n",
      "2249 non-null   object\n",
      "dtypes: object(1)\n",
      "memory usage: 17.7+ KB\n"
     ]
    }
   ],
   "source": [
    "df['rating'].info()"
   ]
  },
  {
   "cell_type": "code",
   "execution_count": 100,
   "metadata": {},
   "outputs": [
    {
     "data": {
      "text/plain": [
       "array(['PG-13 - Teens 13 or older', 'R - 17+ (violence & profanity)',\n",
       "       'R+ - Mild Nudity', 'PG - Children', 'G - All Ages'], dtype=object)"
      ]
     },
     "execution_count": 100,
     "metadata": {},
     "output_type": "execute_result"
    }
   ],
   "source": [
    "df['rating'].unique()"
   ]
  },
  {
   "cell_type": "markdown",
   "metadata": {},
   "source": [
    "# scored_by:-"
   ]
  },
  {
   "cell_type": "code",
   "execution_count": 101,
   "metadata": {},
   "outputs": [
    {
     "name": "stdout",
     "output_type": "stream",
     "text": [
      "<class 'pandas.core.series.Series'>\n",
      "RangeIndex: 2249 entries, 0 to 2248\n",
      "Series name: scored_by\n",
      "Non-Null Count  Dtype\n",
      "--------------  -----\n",
      "2249 non-null   int64\n",
      "dtypes: int64(1)\n",
      "memory usage: 17.7 KB\n"
     ]
    }
   ],
   "source": [
    "df['scored_by'].info()"
   ]
  },
  {
   "cell_type": "markdown",
   "metadata": {},
   "source": [
    "# favorites:-"
   ]
  },
  {
   "cell_type": "code",
   "execution_count": 102,
   "metadata": {},
   "outputs": [
    {
     "name": "stdout",
     "output_type": "stream",
     "text": [
      "<class 'pandas.core.series.Series'>\n",
      "RangeIndex: 2249 entries, 0 to 2248\n",
      "Series name: favorites\n",
      "Non-Null Count  Dtype\n",
      "--------------  -----\n",
      "2249 non-null   int64\n",
      "dtypes: int64(1)\n",
      "memory usage: 17.7 KB\n"
     ]
    }
   ],
   "source": [
    "df['favorites'].info()"
   ]
  },
  {
   "cell_type": "markdown",
   "metadata": {},
   "source": [
    "# aired:-"
   ]
  },
  {
   "cell_type": "code",
   "execution_count": 103,
   "metadata": {},
   "outputs": [
    {
     "name": "stdout",
     "output_type": "stream",
     "text": [
      "<class 'pandas.core.series.Series'>\n",
      "RangeIndex: 2249 entries, 0 to 2248\n",
      "Series name: aired\n",
      "Non-Null Count  Dtype \n",
      "--------------  ----- \n",
      "2249 non-null   object\n",
      "dtypes: object(1)\n",
      "memory usage: 17.7+ KB\n"
     ]
    }
   ],
   "source": [
    "df['aired'].info()"
   ]
  },
  {
   "cell_type": "code",
   "execution_count": 104,
   "metadata": {},
   "outputs": [
    {
     "data": {
      "text/html": [
       "<div>\n",
       "<style scoped>\n",
       "    .dataframe tbody tr th:only-of-type {\n",
       "        vertical-align: middle;\n",
       "    }\n",
       "\n",
       "    .dataframe tbody tr th {\n",
       "        vertical-align: top;\n",
       "    }\n",
       "\n",
       "    .dataframe thead th {\n",
       "        text-align: right;\n",
       "    }\n",
       "</style>\n",
       "<table border=\"1\" class=\"dataframe\">\n",
       "  <thead>\n",
       "    <tr style=\"text-align: right;\">\n",
       "      <th></th>\n",
       "      <th>name_english</th>\n",
       "      <th>name</th>\n",
       "      <th>score</th>\n",
       "      <th>ranked</th>\n",
       "      <th>popularity</th>\n",
       "      <th>members</th>\n",
       "      <th>synopsis</th>\n",
       "      <th>synonyms</th>\n",
       "      <th>type_of</th>\n",
       "      <th>total_episodes</th>\n",
       "      <th>premiered</th>\n",
       "      <th>studios</th>\n",
       "      <th>genres</th>\n",
       "      <th>demographic</th>\n",
       "      <th>duration_per_ep</th>\n",
       "      <th>rating</th>\n",
       "      <th>scored_by</th>\n",
       "      <th>favorites</th>\n",
       "      <th>aired</th>\n",
       "      <th>source</th>\n",
       "      <th>watching</th>\n",
       "      <th>completed</th>\n",
       "      <th>on_hold</th>\n",
       "      <th>dropped</th>\n",
       "      <th>plan_to_watch</th>\n",
       "      <th>total</th>\n",
       "      <th>scored_10_by</th>\n",
       "      <th>scored_9_by</th>\n",
       "      <th>scored_8_by</th>\n",
       "      <th>scored_7_by</th>\n",
       "      <th>scored_6_by</th>\n",
       "      <th>scored_5_by</th>\n",
       "      <th>scored_4_by</th>\n",
       "      <th>scored_3_by</th>\n",
       "      <th>scored_2_by</th>\n",
       "      <th>scored_1_by</th>\n",
       "    </tr>\n",
       "  </thead>\n",
       "  <tbody>\n",
       "  </tbody>\n",
       "</table>\n",
       "</div>"
      ],
      "text/plain": [
       "Empty DataFrame\n",
       "Columns: [name_english, name, score, ranked, popularity, members, synopsis, synonyms, type_of, total_episodes, premiered, studios, genres, demographic, duration_per_ep, rating, scored_by, favorites, aired, source, watching, completed, on_hold, dropped, plan_to_watch, total, scored_10_by, scored_9_by, scored_8_by, scored_7_by, scored_6_by, scored_5_by, scored_4_by, scored_3_by, scored_2_by, scored_1_by]\n",
       "Index: []"
      ]
     },
     "execution_count": 104,
     "metadata": {},
     "output_type": "execute_result"
    }
   ],
   "source": [
    "df[df['aired']=='']"
   ]
  },
  {
   "cell_type": "markdown",
   "metadata": {},
   "source": [
    "# source:-"
   ]
  },
  {
   "cell_type": "code",
   "execution_count": 105,
   "metadata": {},
   "outputs": [
    {
     "name": "stdout",
     "output_type": "stream",
     "text": [
      "<class 'pandas.core.series.Series'>\n",
      "RangeIndex: 2249 entries, 0 to 2248\n",
      "Series name: source\n",
      "Non-Null Count  Dtype \n",
      "--------------  ----- \n",
      "2249 non-null   object\n",
      "dtypes: object(1)\n",
      "memory usage: 17.7+ KB\n"
     ]
    }
   ],
   "source": [
    "df['source'].info()"
   ]
  },
  {
   "cell_type": "code",
   "execution_count": 106,
   "metadata": {},
   "outputs": [
    {
     "data": {
      "text/plain": [
       "array(['Manga', 'Visual novel', 'Novel', 'Light novel', 'Original',\n",
       "       '4-koma manga', 'Web manga', 'Web novel', 'Game', 'Other',\n",
       "       'Mixed media', 'Book', 'Unknown', 'Music', 'Picture book',\n",
       "       'Card game'], dtype=object)"
      ]
     },
     "execution_count": 106,
     "metadata": {},
     "output_type": "execute_result"
    }
   ],
   "source": [
    "df['source'].unique()"
   ]
  },
  {
   "cell_type": "markdown",
   "metadata": {},
   "source": [
    "# watching:-"
   ]
  },
  {
   "cell_type": "code",
   "execution_count": 107,
   "metadata": {},
   "outputs": [
    {
     "name": "stdout",
     "output_type": "stream",
     "text": [
      "<class 'pandas.core.series.Series'>\n",
      "RangeIndex: 2249 entries, 0 to 2248\n",
      "Series name: watching\n",
      "Non-Null Count  Dtype \n",
      "--------------  ----- \n",
      "2249 non-null   object\n",
      "dtypes: object(1)\n",
      "memory usage: 17.7+ KB\n"
     ]
    }
   ],
   "source": [
    "df['watching'].info()"
   ]
  },
  {
   "cell_type": "code",
   "execution_count": 108,
   "metadata": {},
   "outputs": [
    {
     "data": {
      "text/html": [
       "<div>\n",
       "<style scoped>\n",
       "    .dataframe tbody tr th:only-of-type {\n",
       "        vertical-align: middle;\n",
       "    }\n",
       "\n",
       "    .dataframe tbody tr th {\n",
       "        vertical-align: top;\n",
       "    }\n",
       "\n",
       "    .dataframe thead th {\n",
       "        text-align: right;\n",
       "    }\n",
       "</style>\n",
       "<table border=\"1\" class=\"dataframe\">\n",
       "  <thead>\n",
       "    <tr style=\"text-align: right;\">\n",
       "      <th></th>\n",
       "      <th>name_english</th>\n",
       "      <th>name</th>\n",
       "      <th>score</th>\n",
       "      <th>ranked</th>\n",
       "      <th>popularity</th>\n",
       "      <th>members</th>\n",
       "      <th>synopsis</th>\n",
       "      <th>synonyms</th>\n",
       "      <th>type_of</th>\n",
       "      <th>total_episodes</th>\n",
       "      <th>premiered</th>\n",
       "      <th>studios</th>\n",
       "      <th>genres</th>\n",
       "      <th>demographic</th>\n",
       "      <th>duration_per_ep</th>\n",
       "      <th>rating</th>\n",
       "      <th>scored_by</th>\n",
       "      <th>favorites</th>\n",
       "      <th>aired</th>\n",
       "      <th>source</th>\n",
       "      <th>watching</th>\n",
       "      <th>completed</th>\n",
       "      <th>on_hold</th>\n",
       "      <th>dropped</th>\n",
       "      <th>plan_to_watch</th>\n",
       "      <th>total</th>\n",
       "      <th>scored_10_by</th>\n",
       "      <th>scored_9_by</th>\n",
       "      <th>scored_8_by</th>\n",
       "      <th>scored_7_by</th>\n",
       "      <th>scored_6_by</th>\n",
       "      <th>scored_5_by</th>\n",
       "      <th>scored_4_by</th>\n",
       "      <th>scored_3_by</th>\n",
       "      <th>scored_2_by</th>\n",
       "      <th>scored_1_by</th>\n",
       "    </tr>\n",
       "  </thead>\n",
       "  <tbody>\n",
       "  </tbody>\n",
       "</table>\n",
       "</div>"
      ],
      "text/plain": [
       "Empty DataFrame\n",
       "Columns: [name_english, name, score, ranked, popularity, members, synopsis, synonyms, type_of, total_episodes, premiered, studios, genres, demographic, duration_per_ep, rating, scored_by, favorites, aired, source, watching, completed, on_hold, dropped, plan_to_watch, total, scored_10_by, scored_9_by, scored_8_by, scored_7_by, scored_6_by, scored_5_by, scored_4_by, scored_3_by, scored_2_by, scored_1_by]\n",
       "Index: []"
      ]
     },
     "execution_count": 108,
     "metadata": {},
     "output_type": "execute_result"
    }
   ],
   "source": [
    "df[df['watching']=='']"
   ]
  },
  {
   "cell_type": "code",
   "execution_count": 109,
   "metadata": {},
   "outputs": [],
   "source": [
    "def process_int(x):\n",
    "    x = x.replace(',','')\n",
    "    x = int(x)\n",
    "    return x"
   ]
  },
  {
   "cell_type": "code",
   "execution_count": 110,
   "metadata": {},
   "outputs": [],
   "source": [
    "df['watching'] = df['watching'].apply(process_int)"
   ]
  },
  {
   "cell_type": "markdown",
   "metadata": {},
   "source": [
    "# completed:-"
   ]
  },
  {
   "cell_type": "code",
   "execution_count": 111,
   "metadata": {},
   "outputs": [
    {
     "name": "stdout",
     "output_type": "stream",
     "text": [
      "<class 'pandas.core.series.Series'>\n",
      "RangeIndex: 2249 entries, 0 to 2248\n",
      "Series name: completed\n",
      "Non-Null Count  Dtype \n",
      "--------------  ----- \n",
      "2249 non-null   object\n",
      "dtypes: object(1)\n",
      "memory usage: 17.7+ KB\n"
     ]
    }
   ],
   "source": [
    "df['completed'].info()"
   ]
  },
  {
   "cell_type": "code",
   "execution_count": 112,
   "metadata": {},
   "outputs": [],
   "source": [
    "df['completed'] = df['completed'].apply(process_int)"
   ]
  },
  {
   "cell_type": "code",
   "execution_count": 113,
   "metadata": {},
   "outputs": [
    {
     "name": "stdout",
     "output_type": "stream",
     "text": [
      "<class 'pandas.core.series.Series'>\n",
      "RangeIndex: 2249 entries, 0 to 2248\n",
      "Series name: completed\n",
      "Non-Null Count  Dtype\n",
      "--------------  -----\n",
      "2249 non-null   int64\n",
      "dtypes: int64(1)\n",
      "memory usage: 17.7 KB\n"
     ]
    }
   ],
   "source": [
    "df['completed'].info()"
   ]
  },
  {
   "cell_type": "markdown",
   "metadata": {},
   "source": [
    "# on_hold:-"
   ]
  },
  {
   "cell_type": "code",
   "execution_count": 114,
   "metadata": {},
   "outputs": [
    {
     "name": "stdout",
     "output_type": "stream",
     "text": [
      "<class 'pandas.core.series.Series'>\n",
      "RangeIndex: 2249 entries, 0 to 2248\n",
      "Series name: on_hold\n",
      "Non-Null Count  Dtype \n",
      "--------------  ----- \n",
      "2249 non-null   object\n",
      "dtypes: object(1)\n",
      "memory usage: 17.7+ KB\n"
     ]
    }
   ],
   "source": [
    "df['on_hold'].info()"
   ]
  },
  {
   "cell_type": "code",
   "execution_count": 115,
   "metadata": {},
   "outputs": [],
   "source": [
    "df['on_hold'] = df['on_hold'].apply(process_int)"
   ]
  },
  {
   "cell_type": "code",
   "execution_count": 116,
   "metadata": {},
   "outputs": [
    {
     "name": "stdout",
     "output_type": "stream",
     "text": [
      "<class 'pandas.core.series.Series'>\n",
      "RangeIndex: 2249 entries, 0 to 2248\n",
      "Series name: on_hold\n",
      "Non-Null Count  Dtype\n",
      "--------------  -----\n",
      "2249 non-null   int64\n",
      "dtypes: int64(1)\n",
      "memory usage: 17.7 KB\n"
     ]
    }
   ],
   "source": [
    "df['on_hold'].info()"
   ]
  },
  {
   "cell_type": "markdown",
   "metadata": {},
   "source": [
    "# dropped:-"
   ]
  },
  {
   "cell_type": "code",
   "execution_count": 117,
   "metadata": {},
   "outputs": [
    {
     "name": "stdout",
     "output_type": "stream",
     "text": [
      "<class 'pandas.core.series.Series'>\n",
      "RangeIndex: 2249 entries, 0 to 2248\n",
      "Series name: dropped\n",
      "Non-Null Count  Dtype \n",
      "--------------  ----- \n",
      "2249 non-null   object\n",
      "dtypes: object(1)\n",
      "memory usage: 17.7+ KB\n"
     ]
    }
   ],
   "source": [
    "df['dropped'].info()"
   ]
  },
  {
   "cell_type": "code",
   "execution_count": 118,
   "metadata": {},
   "outputs": [],
   "source": [
    "df['dropped'] = df['dropped'].apply(process_int)"
   ]
  },
  {
   "cell_type": "code",
   "execution_count": 119,
   "metadata": {},
   "outputs": [
    {
     "name": "stdout",
     "output_type": "stream",
     "text": [
      "<class 'pandas.core.series.Series'>\n",
      "RangeIndex: 2249 entries, 0 to 2248\n",
      "Series name: dropped\n",
      "Non-Null Count  Dtype\n",
      "--------------  -----\n",
      "2249 non-null   int64\n",
      "dtypes: int64(1)\n",
      "memory usage: 17.7 KB\n"
     ]
    }
   ],
   "source": [
    "df['dropped'].info()"
   ]
  },
  {
   "cell_type": "markdown",
   "metadata": {},
   "source": [
    "# plan_to_watch:-"
   ]
  },
  {
   "cell_type": "code",
   "execution_count": 120,
   "metadata": {},
   "outputs": [
    {
     "name": "stdout",
     "output_type": "stream",
     "text": [
      "<class 'pandas.core.series.Series'>\n",
      "RangeIndex: 2249 entries, 0 to 2248\n",
      "Series name: plan_to_watch\n",
      "Non-Null Count  Dtype \n",
      "--------------  ----- \n",
      "2249 non-null   object\n",
      "dtypes: object(1)\n",
      "memory usage: 17.7+ KB\n"
     ]
    }
   ],
   "source": [
    "df['plan_to_watch'].info()"
   ]
  },
  {
   "cell_type": "code",
   "execution_count": 121,
   "metadata": {},
   "outputs": [],
   "source": [
    "df['plan_to_watch'] = df['plan_to_watch'].apply(process_int)"
   ]
  },
  {
   "cell_type": "code",
   "execution_count": 122,
   "metadata": {},
   "outputs": [
    {
     "name": "stdout",
     "output_type": "stream",
     "text": [
      "<class 'pandas.core.series.Series'>\n",
      "RangeIndex: 2249 entries, 0 to 2248\n",
      "Series name: plan_to_watch\n",
      "Non-Null Count  Dtype\n",
      "--------------  -----\n",
      "2249 non-null   int64\n",
      "dtypes: int64(1)\n",
      "memory usage: 17.7 KB\n"
     ]
    }
   ],
   "source": [
    "df['plan_to_watch'].info()"
   ]
  },
  {
   "cell_type": "markdown",
   "metadata": {},
   "source": [
    "# total:-"
   ]
  },
  {
   "cell_type": "code",
   "execution_count": 123,
   "metadata": {},
   "outputs": [
    {
     "name": "stdout",
     "output_type": "stream",
     "text": [
      "<class 'pandas.core.series.Series'>\n",
      "RangeIndex: 2249 entries, 0 to 2248\n",
      "Series name: total\n",
      "Non-Null Count  Dtype \n",
      "--------------  ----- \n",
      "2249 non-null   object\n",
      "dtypes: object(1)\n",
      "memory usage: 17.7+ KB\n"
     ]
    }
   ],
   "source": [
    "df['total'].info()"
   ]
  },
  {
   "cell_type": "code",
   "execution_count": 124,
   "metadata": {},
   "outputs": [],
   "source": [
    "df['total'] = df['total'].apply(process_int)"
   ]
  },
  {
   "cell_type": "code",
   "execution_count": 125,
   "metadata": {},
   "outputs": [
    {
     "name": "stdout",
     "output_type": "stream",
     "text": [
      "<class 'pandas.core.series.Series'>\n",
      "RangeIndex: 2249 entries, 0 to 2248\n",
      "Series name: total\n",
      "Non-Null Count  Dtype\n",
      "--------------  -----\n",
      "2249 non-null   int64\n",
      "dtypes: int64(1)\n",
      "memory usage: 17.7 KB\n"
     ]
    }
   ],
   "source": [
    "df['total'].info()"
   ]
  },
  {
   "cell_type": "markdown",
   "metadata": {},
   "source": [
    "# scored_10_by - scored_1_by:-"
   ]
  },
  {
   "cell_type": "code",
   "execution_count": 126,
   "metadata": {},
   "outputs": [],
   "source": [
    "for i in range(1,11):\n",
    "    col = f\"scored_{i}_by\"\n",
    "    df[col] = df[col].fillna(0)"
   ]
  },
  {
   "cell_type": "code",
   "execution_count": 127,
   "metadata": {},
   "outputs": [
    {
     "name": "stdout",
     "output_type": "stream",
     "text": [
      "<class 'pandas.core.frame.DataFrame'>\n",
      "RangeIndex: 2249 entries, 0 to 2248\n",
      "Data columns (total 36 columns):\n",
      " #   Column           Non-Null Count  Dtype  \n",
      "---  ------           --------------  -----  \n",
      " 0   name_english     2249 non-null   object \n",
      " 1   name             2249 non-null   object \n",
      " 2   score            2249 non-null   float64\n",
      " 3   ranked           2249 non-null   int64  \n",
      " 4   popularity       2249 non-null   int64  \n",
      " 5   members          2249 non-null   int64  \n",
      " 6   synopsis         2249 non-null   object \n",
      " 7   synonyms         2249 non-null   object \n",
      " 8   type_of          2249 non-null   object \n",
      " 9   total_episodes   2238 non-null   float64\n",
      " 10  premiered        2249 non-null   object \n",
      " 11  studios          2249 non-null   object \n",
      " 12  genres           1716 non-null   object \n",
      " 13  demographic      1086 non-null   object \n",
      " 14  duration_per_ep  2249 non-null   int64  \n",
      " 15  rating           2249 non-null   object \n",
      " 16  scored_by        2249 non-null   int64  \n",
      " 17  favorites        2249 non-null   int64  \n",
      " 18  aired            2249 non-null   object \n",
      " 19  source           2249 non-null   object \n",
      " 20  watching         2249 non-null   int64  \n",
      " 21  completed        2249 non-null   int64  \n",
      " 22  on_hold          2249 non-null   int64  \n",
      " 23  dropped          2249 non-null   int64  \n",
      " 24  plan_to_watch    2249 non-null   int64  \n",
      " 25  total            2249 non-null   int64  \n",
      " 26  scored_10_by     2249 non-null   int64  \n",
      " 27  scored_9_by      2249 non-null   int64  \n",
      " 28  scored_8_by      2249 non-null   int64  \n",
      " 29  scored_7_by      2249 non-null   int64  \n",
      " 30  scored_6_by      2249 non-null   int64  \n",
      " 31  scored_5_by      2249 non-null   int64  \n",
      " 32  scored_4_by      2249 non-null   int64  \n",
      " 33  scored_3_by      2249 non-null   int64  \n",
      " 34  scored_2_by      2249 non-null   float64\n",
      " 35  scored_1_by      2249 non-null   float64\n",
      "dtypes: float64(4), int64(20), object(12)\n",
      "memory usage: 632.7+ KB\n"
     ]
    }
   ],
   "source": [
    "df.info()"
   ]
  },
  {
   "cell_type": "code",
   "execution_count": 128,
   "metadata": {},
   "outputs": [],
   "source": [
    "df['scored_1_by'] = df['scored_1_by'].astype(int)\n",
    "df['scored_2_by'] = df['scored_2_by'].astype(int)"
   ]
  },
  {
   "cell_type": "code",
   "execution_count": 129,
   "metadata": {},
   "outputs": [],
   "source": [
    "df['total_episodes'] = df['total_episodes'].fillna(0)\n",
    "df['total_episodes'] = df['total_episodes'].astype(int)"
   ]
  },
  {
   "cell_type": "code",
   "execution_count": 133,
   "metadata": {},
   "outputs": [],
   "source": [
    "df.to_csv('test_data_pre_processed.csv', index=False)"
   ]
  },
  {
   "cell_type": "code",
   "execution_count": 131,
   "metadata": {},
   "outputs": [
    {
     "name": "stdout",
     "output_type": "stream",
     "text": [
      "<class 'pandas.core.series.Series'>\n",
      "RangeIndex: 2249 entries, 0 to 2248\n",
      "Series name: total_episodes\n",
      "Non-Null Count  Dtype\n",
      "--------------  -----\n",
      "2249 non-null   int32\n",
      "dtypes: int32(1)\n",
      "memory usage: 8.9 KB\n"
     ]
    }
   ],
   "source": [
    "df['total_episodes'].info()"
   ]
  },
  {
   "cell_type": "code",
   "execution_count": 132,
   "metadata": {},
   "outputs": [
    {
     "name": "stdout",
     "output_type": "stream",
     "text": [
      "<class 'pandas.core.frame.DataFrame'>\n",
      "RangeIndex: 2249 entries, 0 to 2248\n",
      "Data columns (total 36 columns):\n",
      " #   Column           Non-Null Count  Dtype  \n",
      "---  ------           --------------  -----  \n",
      " 0   name_english     2249 non-null   object \n",
      " 1   name             2249 non-null   object \n",
      " 2   score            2249 non-null   float64\n",
      " 3   ranked           2249 non-null   int64  \n",
      " 4   popularity       2249 non-null   int64  \n",
      " 5   members          2249 non-null   int64  \n",
      " 6   synopsis         2249 non-null   object \n",
      " 7   synonyms         2249 non-null   object \n",
      " 8   type_of          2249 non-null   object \n",
      " 9   total_episodes   2249 non-null   int32  \n",
      " 10  premiered        2249 non-null   object \n",
      " 11  studios          2249 non-null   object \n",
      " 12  genres           1716 non-null   object \n",
      " 13  demographic      1086 non-null   object \n",
      " 14  duration_per_ep  2249 non-null   int64  \n",
      " 15  rating           2249 non-null   object \n",
      " 16  scored_by        2249 non-null   int64  \n",
      " 17  favorites        2249 non-null   int64  \n",
      " 18  aired            2249 non-null   object \n",
      " 19  source           2249 non-null   object \n",
      " 20  watching         2249 non-null   int64  \n",
      " 21  completed        2249 non-null   int64  \n",
      " 22  on_hold          2249 non-null   int64  \n",
      " 23  dropped          2249 non-null   int64  \n",
      " 24  plan_to_watch    2249 non-null   int64  \n",
      " 25  total            2249 non-null   int64  \n",
      " 26  scored_10_by     2249 non-null   int64  \n",
      " 27  scored_9_by      2249 non-null   int64  \n",
      " 28  scored_8_by      2249 non-null   int64  \n",
      " 29  scored_7_by      2249 non-null   int64  \n",
      " 30  scored_6_by      2249 non-null   int64  \n",
      " 31  scored_5_by      2249 non-null   int64  \n",
      " 32  scored_4_by      2249 non-null   int64  \n",
      " 33  scored_3_by      2249 non-null   int64  \n",
      " 34  scored_2_by      2249 non-null   int32  \n",
      " 35  scored_1_by      2249 non-null   int32  \n",
      "dtypes: float64(1), int32(3), int64(20), object(12)\n",
      "memory usage: 606.3+ KB\n"
     ]
    }
   ],
   "source": [
    "df.info()"
   ]
  },
  {
   "cell_type": "code",
   "execution_count": null,
   "metadata": {},
   "outputs": [],
   "source": []
  }
 ],
 "metadata": {
  "kernelspec": {
   "display_name": "base",
   "language": "python",
   "name": "python3"
  },
  "language_info": {
   "codemirror_mode": {
    "name": "ipython",
    "version": 3
   },
   "file_extension": ".py",
   "mimetype": "text/x-python",
   "name": "python",
   "nbconvert_exporter": "python",
   "pygments_lexer": "ipython3",
   "version": "3.11.5"
  }
 },
 "nbformat": 4,
 "nbformat_minor": 2
}
