{
 "cells": [
  {
   "cell_type": "code",
   "execution_count": 145,
   "metadata": {},
   "outputs": [],
   "source": [
    "import pandas as pd\n",
    "import numpy as np\n",
    "import matplotlib.pyplot as plt\n",
    "from IPython.display import display"
   ]
  },
  {
   "cell_type": "code",
   "execution_count": 146,
   "metadata": {},
   "outputs": [],
   "source": [
    "pd.set_option('display.max_columns', None)\n",
    "pd.set_option('display.max_rows', None)\n",
    "display.max_characters = None"
   ]
  },
  {
   "cell_type": "code",
   "execution_count": 147,
   "metadata": {},
   "outputs": [],
   "source": [
    "df = pd.read_json(r\"C:\\Users\\22213\\OneDrive\\Desktop\\recani\\recani\\data and model\\raw_ranked_data.json\")"
   ]
  },
  {
   "cell_type": "code",
   "execution_count": 148,
   "metadata": {},
   "outputs": [
    {
     "name": "stdout",
     "output_type": "stream",
     "text": [
      "<class 'pandas.core.frame.DataFrame'>\n",
      "RangeIndex: 20923 entries, 0 to 20922\n",
      "Data columns (total 36 columns):\n",
      " #   Column           Non-Null Count  Dtype  \n",
      "---  ------           --------------  -----  \n",
      " 0   name_english     9670 non-null   object \n",
      " 1   name             20923 non-null  object \n",
      " 2   score            20923 non-null  object \n",
      " 3   ranked           20923 non-null  int64  \n",
      " 4   popularity       20923 non-null  int64  \n",
      " 5   members          20923 non-null  int64  \n",
      " 6   synopsis         20923 non-null  object \n",
      " 7   synonyms         20923 non-null  object \n",
      " 8   type_of          20922 non-null  object \n",
      " 9   total_episodes   20923 non-null  object \n",
      " 10  premiered        5833 non-null   object \n",
      " 11  studios          20923 non-null  object \n",
      " 12  genres           20923 non-null  object \n",
      " 13  demographic      8901 non-null   object \n",
      " 14  duration_per_ep  20923 non-null  object \n",
      " 15  rating           20923 non-null  object \n",
      " 16  scored_by        13607 non-null  float64\n",
      " 17  favorites        20923 non-null  int64  \n",
      " 18  aired            20923 non-null  object \n",
      " 19  source           20923 non-null  object \n",
      " 20  watching         20921 non-null  object \n",
      " 21  completed        20921 non-null  object \n",
      " 22  on_hold          20921 non-null  object \n",
      " 23  dropped          20921 non-null  object \n",
      " 24  plan_to_watch    20921 non-null  object \n",
      " 25  total            20921 non-null  object \n",
      " 26  scored_10_by     20918 non-null  float64\n",
      " 27  scored_9_by      20915 non-null  float64\n",
      " 28  scored_8_by      20910 non-null  float64\n",
      " 29  scored_7_by      20882 non-null  float64\n",
      " 30  scored_6_by      19631 non-null  float64\n",
      " 31  scored_5_by      18437 non-null  float64\n",
      " 32  scored_4_by      17657 non-null  float64\n",
      " 33  scored_3_by      16901 non-null  float64\n",
      " 34  scored_2_by      15903 non-null  float64\n",
      " 35  scored_1_by      14318 non-null  float64\n",
      "dtypes: float64(11), int64(4), object(21)\n",
      "memory usage: 5.7+ MB\n"
     ]
    }
   ],
   "source": [
    "df.info()"
   ]
  },
  {
   "cell_type": "code",
   "execution_count": 149,
   "metadata": {},
   "outputs": [
    {
     "data": {
      "text/plain": [
       "name_english       11253\n",
       "name                   0\n",
       "score                  0\n",
       "ranked                 0\n",
       "popularity             0\n",
       "members                0\n",
       "synopsis               0\n",
       "synonyms               0\n",
       "type_of                1\n",
       "total_episodes         0\n",
       "premiered          15090\n",
       "studios                0\n",
       "genres                 0\n",
       "demographic        12022\n",
       "duration_per_ep        0\n",
       "rating                 0\n",
       "scored_by           7316\n",
       "favorites              0\n",
       "aired                  0\n",
       "source                 0\n",
       "watching               2\n",
       "completed              2\n",
       "on_hold                2\n",
       "dropped                2\n",
       "plan_to_watch          2\n",
       "total                  2\n",
       "scored_10_by           5\n",
       "scored_9_by            8\n",
       "scored_8_by           13\n",
       "scored_7_by           41\n",
       "scored_6_by         1292\n",
       "scored_5_by         2486\n",
       "scored_4_by         3266\n",
       "scored_3_by         4022\n",
       "scored_2_by         5020\n",
       "scored_1_by         6605\n",
       "dtype: int64"
      ]
     },
     "execution_count": 149,
     "metadata": {},
     "output_type": "execute_result"
    }
   ],
   "source": [
    "df.isnull().sum()"
   ]
  },
  {
   "cell_type": "markdown",
   "metadata": {},
   "source": [
    "# name_english, name:-"
   ]
  },
  {
   "cell_type": "code",
   "execution_count": 150,
   "metadata": {},
   "outputs": [
    {
     "name": "stdout",
     "output_type": "stream",
     "text": [
      "<class 'pandas.core.series.Series'>\n",
      "RangeIndex: 20923 entries, 0 to 20922\n",
      "Series name: name_english\n",
      "Non-Null Count  Dtype \n",
      "--------------  ----- \n",
      "9670 non-null   object\n",
      "dtypes: object(1)\n",
      "memory usage: 163.6+ KB\n"
     ]
    }
   ],
   "source": [
    "df['name_english'].info()"
   ]
  },
  {
   "cell_type": "code",
   "execution_count": 151,
   "metadata": {},
   "outputs": [
    {
     "data": {
      "text/plain": [
       "11253"
      ]
     },
     "execution_count": 151,
     "metadata": {},
     "output_type": "execute_result"
    }
   ],
   "source": [
    "df['name_english'].isnull().sum()"
   ]
  },
  {
   "cell_type": "code",
   "execution_count": 152,
   "metadata": {},
   "outputs": [
    {
     "data": {
      "text/plain": [
       "2080                                                  None\n",
       "5452                                    ChroNoiR Episode.0\n",
       "10549                                                 None\n",
       "14578                                         Echo Chamber\n",
       "14469                                                 None\n",
       "20217                      The Adventures of QiQi and KeKe\n",
       "18837                                                 None\n",
       "5169     UzaMaid! My Maid Is Still Seriously Way Too An...\n",
       "5312                        Mr. Dough and the Egg Princess\n",
       "14217                                                 None\n",
       "Name: name_english, dtype: object"
      ]
     },
     "execution_count": 152,
     "metadata": {},
     "output_type": "execute_result"
    }
   ],
   "source": [
    "df['name_english'].sample(10)"
   ]
  },
  {
   "cell_type": "code",
   "execution_count": 153,
   "metadata": {},
   "outputs": [
    {
     "data": {
      "text/plain": [
       "NoneType"
      ]
     },
     "execution_count": 153,
     "metadata": {},
     "output_type": "execute_result"
    }
   ],
   "source": [
    "type(df['name_english'][462])"
   ]
  },
  {
   "cell_type": "code",
   "execution_count": 154,
   "metadata": {},
   "outputs": [],
   "source": [
    "df['name_english'] = df['name_english'].fillna(df['name'])"
   ]
  },
  {
   "cell_type": "code",
   "execution_count": 155,
   "metadata": {},
   "outputs": [
    {
     "data": {
      "text/plain": [
       "0"
      ]
     },
     "execution_count": 155,
     "metadata": {},
     "output_type": "execute_result"
    }
   ],
   "source": [
    "df['name_english'].isnull().sum()"
   ]
  },
  {
   "cell_type": "code",
   "execution_count": 156,
   "metadata": {},
   "outputs": [
    {
     "name": "stdout",
     "output_type": "stream",
     "text": [
      "<class 'pandas.core.series.Series'>\n",
      "RangeIndex: 20923 entries, 0 to 20922\n",
      "Series name: name\n",
      "Non-Null Count  Dtype \n",
      "--------------  ----- \n",
      "20923 non-null  object\n",
      "dtypes: object(1)\n",
      "memory usage: 163.6+ KB\n"
     ]
    }
   ],
   "source": [
    "df['name'].info()"
   ]
  },
  {
   "cell_type": "markdown",
   "metadata": {},
   "source": [
    "# score:-"
   ]
  },
  {
   "cell_type": "code",
   "execution_count": 157,
   "metadata": {},
   "outputs": [
    {
     "name": "stdout",
     "output_type": "stream",
     "text": [
      "<class 'pandas.core.series.Series'>\n",
      "RangeIndex: 20923 entries, 0 to 20922\n",
      "Series name: score\n",
      "Non-Null Count  Dtype \n",
      "--------------  ----- \n",
      "20923 non-null  object\n",
      "dtypes: object(1)\n",
      "memory usage: 163.6+ KB\n"
     ]
    }
   ],
   "source": [
    "df['score'].info()"
   ]
  },
  {
   "cell_type": "code",
   "execution_count": 158,
   "metadata": {},
   "outputs": [
    {
     "data": {
      "text/plain": [
       "0"
      ]
     },
     "execution_count": 158,
     "metadata": {},
     "output_type": "execute_result"
    }
   ],
   "source": [
    "df['score'].isnull().sum()"
   ]
  },
  {
   "cell_type": "code",
   "execution_count": 159,
   "metadata": {},
   "outputs": [
    {
     "data": {
      "text/plain": [
       "array(['8.73', '8.74', '8.75', '8.76', '8.77', '8.78', '8.79', '8.81',\n",
       "       '8.82', '8.84', '8.87', '8.88', '8.90', '8.91', '8.92', '8.93',\n",
       "       '8.94', '8.98', '9.01', '9.02', '9.03', '9.04', '9.05', '9.06',\n",
       "       '9.07', '9.09', '9.39', '8.56', '8.45', '8.31', '8.32', '8.33',\n",
       "       '8.34', '8.35', '8.36', '8.37', '8.38', '8.39', '8.40', '8.41',\n",
       "       '8.42', '8.43', '8.44', '8.57', '8.58', '8.59', '8.60', '8.61',\n",
       "       '8.62', '8.63', '8.64', '8.65', '8.66', '8.67', '8.68', '8.69',\n",
       "       '8.70', '8.71', '8.46', '8.72', '8.47', '8.48', '8.49', '8.50',\n",
       "       '8.51', '8.52', '8.53', '8.54', '8.55', '8.26', '8.21', '8.22',\n",
       "       '8.23', '8.24', '8.25', '8.27', '8.28', '8.29', '8.30', '8.18',\n",
       "       '8.13', '8.14', '8.15', '8.16', '8.17', '8.19', '8.20', '8.06',\n",
       "       '8.07', '8.08', '8.09', '8.10', '8.11', '8.12', '8.02', '7.98',\n",
       "       '7.99', '8.00', '8.01', '8.03', '8.04', '8.05', '7.94', '7.91',\n",
       "       '7.92', '7.93', '7.95', '7.96', '7.97', '7.89', '7.90', '7.86',\n",
       "       '7.87', '7.88', '7.81', '7.77', '7.79', '7.80', '7.78', '7.82',\n",
       "       '7.84', '7.83', '7.85', '7.75', '7.71', '7.72', '7.73', '7.76',\n",
       "       '7.74', '7.69', '7.67', '7.68', '7.70', '7.64', '7.63', '7.65',\n",
       "       '7.66', '7.61', '7.59', '7.58', '7.60', '7.62', '7.57', '7.55',\n",
       "       '7.54', '7.56', '7.53', '7.51', '7.52', '7.50', '7.49', '7.47',\n",
       "       '7.48', '7.46', '7.45', '7.43', '7.44', '7.42', '7.41', '7.40',\n",
       "       '7.39', '7.38', '7.37', '7.35', '7.34', '7.36', '7.33', '7.32',\n",
       "       '7.31', '7.30', '7.29', '7.28', '7.27', '7.26', '7.25', '7.24',\n",
       "       '7.23', '7.22', '7.21', '7.20', '7.19', '7.18', '7.17', '7.16',\n",
       "       '7.15', '7.14', '7.13', '7.12', '7.11', '7.10', '7.09', '7.08',\n",
       "       '7.07', '7.06', '7.05', '7.04', '7.03', '7.02', '7.01', '7.00',\n",
       "       '6.98', '6.97', '6.99', '6.96', '6.95', '6.94', '6.92', '6.93',\n",
       "       '6.91', '6.90', '6.89', '6.88', '6.85', '6.87', '6.86', '6.84',\n",
       "       '6.83', '6.82', '6.81', '6.80', '6.79', '6.78', '6.77', '6.76',\n",
       "       '6.75', '6.74', '6.73', '6.72', '6.71', '6.70', '6.69', '6.68',\n",
       "       '6.67', '6.66', '6.65', '6.64', '6.63', '6.62', '6.61', '6.60',\n",
       "       '6.59', '6.58', '6.57', '6.56', '6.55', '6.54', '6.53', '6.52',\n",
       "       '6.51', '6.50', '6.49', '6.48', '6.47', '6.46', '6.45', '6.44',\n",
       "       '6.43', '6.42', '6.41', '6.40', '6.39', '6.38', '6.37', '6.36',\n",
       "       '6.35', '6.34', '6.33', '6.32', '6.31', '6.30', '6.29', '6.28',\n",
       "       '6.27', '6.26', '6.25', '6.24', '6.23', '6.21', '6.20', '6.22',\n",
       "       '6.19', '6.18', '6.17', '6.16', '6.15', '6.14', '6.13', '6.12',\n",
       "       '6.11', '6.09', '6.10', '6.08', '6.07', '6.06', '6.05', '6.04',\n",
       "       '6.03', '6.02', '6.01', '6.00', '5.98', '5.97', '5.99', '5.96',\n",
       "       '5.95', '5.94', '5.93', '5.91', '5.90', '5.92', '5.89', '5.88',\n",
       "       '5.87', '5.86', '5.85', '5.83', '5.84', '5.82', '5.80', '5.79',\n",
       "       '5.81', '5.78', '5.76', '5.77', '5.75', '5.74', '5.72', '5.71',\n",
       "       '5.73', '5.70', '5.69', '5.68', '5.67', '5.66', '5.65', '5.63',\n",
       "       '5.62', '5.64', '5.61', '5.59', '5.60', '5.58', '5.56', '5.57',\n",
       "       '5.55', '5.53', '5.54', '5.51', '5.49', '5.50', '5.52', '5.48',\n",
       "       '5.46', '5.47', '5.45', '5.43', '5.44', '5.41', '5.39', '5.40',\n",
       "       '5.42', '5.38', '5.36', '5.37', '5.34', '5.32', '5.33', '5.35',\n",
       "       '5.29', '5.27', '5.28', '5.30', '5.31', '5.25', '5.23', '5.24',\n",
       "       '5.26', '5.20', '5.18', '5.19', '5.21', '5.22', '5.14', '5.11',\n",
       "       '5.12', '5.13', '5.15', '5.16', '5.17', '5.07', '5.03', '5.04',\n",
       "       '5.05', '5.06', '5.08', '5.09', '5.10', '5.00', '4.95', '4.96',\n",
       "       '4.97', '4.98', '4.99', '5.01', '5.02', '4.90', '4.85', '4.86',\n",
       "       '4.87', '4.88', '4.89', '4.91', '4.92', '4.93', '4.94', '4.80',\n",
       "       '4.76', '4.77', '4.78', '4.79', '4.81', '4.83', '4.84', '4.71',\n",
       "       '4.63', '4.64', '4.65', '4.66', '4.67', '4.68', '4.69', '4.70',\n",
       "       '4.72', '4.73', '4.74', '4.75', '4.57', '4.58', '4.59', '4.60',\n",
       "       '4.61', '4.62', '4.46', '4.30', '4.31', '4.32', '4.33', '4.35',\n",
       "       '4.36', '4.37', '4.38', '4.39', '4.40', '4.41', '4.42', '4.44',\n",
       "       '4.45', '4.47', '4.48', '4.49', '4.50', '4.51', '4.52', '4.53',\n",
       "       '4.54', '4.55', '4.56', '4.04', '3.53', '3.55', '3.56', '3.57',\n",
       "       '3.58', '3.59', '3.60', '3.62', '3.64', '3.65', '3.68', '3.69',\n",
       "       '3.71', '3.72', '3.74', '3.76', '3.77', '3.78', '3.79', '3.80',\n",
       "       '3.81', '3.83', '3.84', '3.86', '3.88', '3.89', '3.90', '3.91',\n",
       "       '3.92', '3.95', '3.96', '3.97', '4.05', '4.06', '4.07', '4.08',\n",
       "       '4.09', '4.10', '4.12', '4.13', '4.14', '4.15', '4.16', '4.17',\n",
       "       '4.18', '4.19', '4.20', '4.21', '4.22', '4.23', '4.24', '4.27',\n",
       "       '4.29', 'N/A', '1.86', '2.00', '2.22', '2.34', '2.39', '2.55',\n",
       "       '2.62', '2.65', '2.75', '2.76', '2.89', '2.93', '2.98', '2.99',\n",
       "       '3.03', '3.04', '3.06', '3.07', '3.11', '3.14', '3.15', '3.18',\n",
       "       '3.20', '3.24', '3.25', '3.28', '3.29', '3.30', '3.34', '3.35',\n",
       "       '3.36', '3.37', '3.39', '3.47', '3.48'], dtype=object)"
      ]
     },
     "execution_count": 159,
     "metadata": {},
     "output_type": "execute_result"
    }
   ],
   "source": [
    "df['score'].unique()"
   ]
  },
  {
   "cell_type": "code",
   "execution_count": 160,
   "metadata": {},
   "outputs": [
    {
     "data": {
      "text/plain": [
       "'8.75'"
      ]
     },
     "execution_count": 160,
     "metadata": {},
     "output_type": "execute_result"
    }
   ],
   "source": [
    "df['score'][3]"
   ]
  },
  {
   "cell_type": "code",
   "execution_count": 161,
   "metadata": {},
   "outputs": [],
   "source": [
    "df['score'] = df['score'].apply(lambda x : float(x) if x != 'N/A' else 0.00)"
   ]
  },
  {
   "cell_type": "markdown",
   "metadata": {},
   "source": [
    "# ranked:-"
   ]
  },
  {
   "cell_type": "code",
   "execution_count": 162,
   "metadata": {},
   "outputs": [
    {
     "name": "stdout",
     "output_type": "stream",
     "text": [
      "<class 'pandas.core.series.Series'>\n",
      "RangeIndex: 20923 entries, 0 to 20922\n",
      "Series name: ranked\n",
      "Non-Null Count  Dtype\n",
      "--------------  -----\n",
      "20923 non-null  int64\n",
      "dtypes: int64(1)\n",
      "memory usage: 163.6 KB\n"
     ]
    }
   ],
   "source": [
    "df['ranked'].info()"
   ]
  },
  {
   "cell_type": "markdown",
   "metadata": {},
   "source": [
    "# popularity:-"
   ]
  },
  {
   "cell_type": "code",
   "execution_count": 163,
   "metadata": {},
   "outputs": [
    {
     "name": "stdout",
     "output_type": "stream",
     "text": [
      "<class 'pandas.core.series.Series'>\n",
      "RangeIndex: 20923 entries, 0 to 20922\n",
      "Series name: popularity\n",
      "Non-Null Count  Dtype\n",
      "--------------  -----\n",
      "20923 non-null  int64\n",
      "dtypes: int64(1)\n",
      "memory usage: 163.6 KB\n"
     ]
    }
   ],
   "source": [
    "df['popularity'].info()"
   ]
  },
  {
   "cell_type": "markdown",
   "metadata": {},
   "source": [
    "# members:-"
   ]
  },
  {
   "cell_type": "code",
   "execution_count": 164,
   "metadata": {},
   "outputs": [
    {
     "name": "stdout",
     "output_type": "stream",
     "text": [
      "<class 'pandas.core.series.Series'>\n",
      "RangeIndex: 20923 entries, 0 to 20922\n",
      "Series name: members\n",
      "Non-Null Count  Dtype\n",
      "--------------  -----\n",
      "20923 non-null  int64\n",
      "dtypes: int64(1)\n",
      "memory usage: 163.6 KB\n"
     ]
    }
   ],
   "source": [
    "df['members'].info()"
   ]
  },
  {
   "cell_type": "markdown",
   "metadata": {},
   "source": [
    "# synopsis:-"
   ]
  },
  {
   "cell_type": "code",
   "execution_count": 165,
   "metadata": {},
   "outputs": [
    {
     "name": "stdout",
     "output_type": "stream",
     "text": [
      "<class 'pandas.core.series.Series'>\n",
      "RangeIndex: 20923 entries, 0 to 20922\n",
      "Series name: synopsis\n",
      "Non-Null Count  Dtype \n",
      "--------------  ----- \n",
      "20923 non-null  object\n",
      "dtypes: object(1)\n",
      "memory usage: 163.6+ KB\n"
     ]
    }
   ],
   "source": [
    "df['synopsis'].info()"
   ]
  },
  {
   "cell_type": "code",
   "execution_count": 166,
   "metadata": {},
   "outputs": [],
   "source": [
    "import re\n",
    "pattern = '[\\[\\(][^\\[\\(]*[\\]\\)]$'\n",
    "\n",
    "def process_synopsis(x):\n",
    "\n",
    "    # Check if x is an empty string or contains only double quotes\n",
    "    if x == '':\n",
    "        return x\n",
    "\n",
    "    # If x ends with ']' or ')', remove the content after the last occurrence of a bracket\n",
    "    elif x[-1] in [']', ')']:\n",
    "        x = re.sub(pattern, '', x)\n",
    "\n",
    "    else:\n",
    "        # Check if x is the specific string\n",
    "        if x == \"No synopsis information has been added to this title. Help improve our database by adding a synopsis .\":\n",
    "            x = \"\"  # Set x to an empty string\n",
    "\n",
    "        # Check if the length of x is less than or equal to 50 characters\n",
    "        elif len(x) <= 50:\n",
    "            x = \"\"  # Set x to an empty string\n",
    "\n",
    "    return x"
   ]
  },
  {
   "cell_type": "code",
   "execution_count": 167,
   "metadata": {},
   "outputs": [
    {
     "data": {
      "text/plain": [
       "'Turning plan in[ motion.] to eli[minate the ot]her. Reiner Braun uses his own powers in( a s ve)ry soul. '"
      ]
     },
     "execution_count": 167,
     "metadata": {},
     "output_type": "execute_result"
    }
   ],
   "source": [
    "process_synopsis(\"Turning plan in[ motion.] to eli[minate the ot]her. Reiner Braun uses his own powers in( a s ve)ry soul. [Written by MAL Rewrite]\")"
   ]
  },
  {
   "cell_type": "code",
   "execution_count": 168,
   "metadata": {},
   "outputs": [],
   "source": [
    "df['synopsis'] = df['synopsis'].apply(process_synopsis)"
   ]
  },
  {
   "cell_type": "code",
   "execution_count": 169,
   "metadata": {},
   "outputs": [
    {
     "data": {
      "text/plain": [
       "6183"
      ]
     },
     "execution_count": 169,
     "metadata": {},
     "output_type": "execute_result"
    }
   ],
   "source": [
    "df['synopsis'].value_counts().get('')"
   ]
  },
  {
   "cell_type": "code",
   "execution_count": 170,
   "metadata": {},
   "outputs": [
    {
     "data": {
      "text/plain": [
       "Index([7], dtype='int64')"
      ]
     },
     "execution_count": 170,
     "metadata": {},
     "output_type": "execute_result"
    }
   ],
   "source": [
    "df[df['name_english'] == 'Attack on Titan: Final Season Part 2'].index"
   ]
  },
  {
   "cell_type": "code",
   "execution_count": 171,
   "metadata": {},
   "outputs": [],
   "source": [
    "df.drop(df[df['synopsis'] == ''].index, inplace=True)"
   ]
  },
  {
   "cell_type": "code",
   "execution_count": 172,
   "metadata": {},
   "outputs": [],
   "source": [
    "df.reset_index(drop=True, inplace=True)"
   ]
  },
  {
   "cell_type": "code",
   "execution_count": 173,
   "metadata": {},
   "outputs": [
    {
     "name": "stdout",
     "output_type": "stream",
     "text": [
      "<class 'pandas.core.series.Series'>\n",
      "RangeIndex: 14740 entries, 0 to 14739\n",
      "Series name: synopsis\n",
      "Non-Null Count  Dtype \n",
      "--------------  ----- \n",
      "14740 non-null  object\n",
      "dtypes: object(1)\n",
      "memory usage: 115.3+ KB\n"
     ]
    }
   ],
   "source": [
    "df['synopsis'].info()"
   ]
  },
  {
   "cell_type": "markdown",
   "metadata": {},
   "source": [
    "# synonmys:-"
   ]
  },
  {
   "cell_type": "code",
   "execution_count": 174,
   "metadata": {},
   "outputs": [
    {
     "name": "stdout",
     "output_type": "stream",
     "text": [
      "<class 'pandas.core.series.Series'>\n",
      "RangeIndex: 14740 entries, 0 to 14739\n",
      "Series name: synonyms\n",
      "Non-Null Count  Dtype \n",
      "--------------  ----- \n",
      "14740 non-null  object\n",
      "dtypes: object(1)\n",
      "memory usage: 115.3+ KB\n"
     ]
    }
   ],
   "source": [
    "df['synonyms'].info()"
   ]
  },
  {
   "cell_type": "code",
   "execution_count": 175,
   "metadata": {},
   "outputs": [
    {
     "data": {
      "text/plain": [
       "22"
      ]
     },
     "execution_count": 175,
     "metadata": {},
     "output_type": "execute_result"
    }
   ],
   "source": [
    "(df['synonyms'] == '').sum()"
   ]
  },
  {
   "cell_type": "code",
   "execution_count": 176,
   "metadata": {},
   "outputs": [],
   "source": [
    "df['synonyms'] = df['synonyms'].replace('', np.nan)\n",
    "df['synonyms'] = df['synonyms'].fillna(df['name'])"
   ]
  },
  {
   "cell_type": "code",
   "execution_count": 177,
   "metadata": {},
   "outputs": [
    {
     "data": {
      "text/html": [
       "<div>\n",
       "<style scoped>\n",
       "    .dataframe tbody tr th:only-of-type {\n",
       "        vertical-align: middle;\n",
       "    }\n",
       "\n",
       "    .dataframe tbody tr th {\n",
       "        vertical-align: top;\n",
       "    }\n",
       "\n",
       "    .dataframe thead th {\n",
       "        text-align: right;\n",
       "    }\n",
       "</style>\n",
       "<table border=\"1\" class=\"dataframe\">\n",
       "  <thead>\n",
       "    <tr style=\"text-align: right;\">\n",
       "      <th></th>\n",
       "      <th>name_english</th>\n",
       "      <th>name</th>\n",
       "      <th>score</th>\n",
       "      <th>ranked</th>\n",
       "      <th>popularity</th>\n",
       "      <th>members</th>\n",
       "      <th>synopsis</th>\n",
       "      <th>synonyms</th>\n",
       "      <th>type_of</th>\n",
       "      <th>total_episodes</th>\n",
       "      <th>premiered</th>\n",
       "      <th>studios</th>\n",
       "      <th>genres</th>\n",
       "      <th>demographic</th>\n",
       "      <th>duration_per_ep</th>\n",
       "      <th>rating</th>\n",
       "      <th>scored_by</th>\n",
       "      <th>favorites</th>\n",
       "      <th>aired</th>\n",
       "      <th>source</th>\n",
       "      <th>watching</th>\n",
       "      <th>completed</th>\n",
       "      <th>on_hold</th>\n",
       "      <th>dropped</th>\n",
       "      <th>plan_to_watch</th>\n",
       "      <th>total</th>\n",
       "      <th>scored_10_by</th>\n",
       "      <th>scored_9_by</th>\n",
       "      <th>scored_8_by</th>\n",
       "      <th>scored_7_by</th>\n",
       "      <th>scored_6_by</th>\n",
       "      <th>scored_5_by</th>\n",
       "      <th>scored_4_by</th>\n",
       "      <th>scored_3_by</th>\n",
       "      <th>scored_2_by</th>\n",
       "      <th>scored_1_by</th>\n",
       "    </tr>\n",
       "  </thead>\n",
       "  <tbody>\n",
       "  </tbody>\n",
       "</table>\n",
       "</div>"
      ],
      "text/plain": [
       "Empty DataFrame\n",
       "Columns: [name_english, name, score, ranked, popularity, members, synopsis, synonyms, type_of, total_episodes, premiered, studios, genres, demographic, duration_per_ep, rating, scored_by, favorites, aired, source, watching, completed, on_hold, dropped, plan_to_watch, total, scored_10_by, scored_9_by, scored_8_by, scored_7_by, scored_6_by, scored_5_by, scored_4_by, scored_3_by, scored_2_by, scored_1_by]\n",
       "Index: []"
      ]
     },
     "execution_count": 177,
     "metadata": {},
     "output_type": "execute_result"
    }
   ],
   "source": [
    "df[df['synonyms'] == '']"
   ]
  },
  {
   "cell_type": "markdown",
   "metadata": {},
   "source": [
    "# type_of:-"
   ]
  },
  {
   "cell_type": "code",
   "execution_count": 178,
   "metadata": {},
   "outputs": [
    {
     "name": "stdout",
     "output_type": "stream",
     "text": [
      "<class 'pandas.core.series.Series'>\n",
      "RangeIndex: 14740 entries, 0 to 14739\n",
      "Series name: type_of\n",
      "Non-Null Count  Dtype \n",
      "--------------  ----- \n",
      "14739 non-null  object\n",
      "dtypes: object(1)\n",
      "memory usage: 115.3+ KB\n"
     ]
    }
   ],
   "source": [
    "df['type_of'].info()"
   ]
  },
  {
   "cell_type": "code",
   "execution_count": 179,
   "metadata": {},
   "outputs": [
    {
     "data": {
      "text/plain": [
       "array(['TV', 'Movie', 'TV Special', 'OVA', 'Special', 'ONA', None],\n",
       "      dtype=object)"
      ]
     },
     "execution_count": 179,
     "metadata": {},
     "output_type": "execute_result"
    }
   ],
   "source": [
    "df['type_of'].unique()"
   ]
  },
  {
   "cell_type": "code",
   "execution_count": 180,
   "metadata": {},
   "outputs": [
    {
     "data": {
      "text/html": [
       "<div>\n",
       "<style scoped>\n",
       "    .dataframe tbody tr th:only-of-type {\n",
       "        vertical-align: middle;\n",
       "    }\n",
       "\n",
       "    .dataframe tbody tr th {\n",
       "        vertical-align: top;\n",
       "    }\n",
       "\n",
       "    .dataframe thead th {\n",
       "        text-align: right;\n",
       "    }\n",
       "</style>\n",
       "<table border=\"1\" class=\"dataframe\">\n",
       "  <thead>\n",
       "    <tr style=\"text-align: right;\">\n",
       "      <th></th>\n",
       "      <th>name_english</th>\n",
       "      <th>name</th>\n",
       "      <th>score</th>\n",
       "      <th>ranked</th>\n",
       "      <th>popularity</th>\n",
       "      <th>members</th>\n",
       "      <th>synopsis</th>\n",
       "      <th>synonyms</th>\n",
       "      <th>type_of</th>\n",
       "      <th>total_episodes</th>\n",
       "      <th>premiered</th>\n",
       "      <th>studios</th>\n",
       "      <th>genres</th>\n",
       "      <th>demographic</th>\n",
       "      <th>duration_per_ep</th>\n",
       "      <th>rating</th>\n",
       "      <th>scored_by</th>\n",
       "      <th>favorites</th>\n",
       "      <th>aired</th>\n",
       "      <th>source</th>\n",
       "      <th>watching</th>\n",
       "      <th>completed</th>\n",
       "      <th>on_hold</th>\n",
       "      <th>dropped</th>\n",
       "      <th>plan_to_watch</th>\n",
       "      <th>total</th>\n",
       "      <th>scored_10_by</th>\n",
       "      <th>scored_9_by</th>\n",
       "      <th>scored_8_by</th>\n",
       "      <th>scored_7_by</th>\n",
       "      <th>scored_6_by</th>\n",
       "      <th>scored_5_by</th>\n",
       "      <th>scored_4_by</th>\n",
       "      <th>scored_3_by</th>\n",
       "      <th>scored_2_by</th>\n",
       "      <th>scored_1_by</th>\n",
       "    </tr>\n",
       "  </thead>\n",
       "  <tbody>\n",
       "    <tr>\n",
       "      <th>8465</th>\n",
       "      <td>World Famous Fairy Tale Series</td>\n",
       "      <td>Sekai Meisaku Douwa</td>\n",
       "      <td>6.12</td>\n",
       "      <td>8994</td>\n",
       "      <td>14112</td>\n",
       "      <td>820</td>\n",
       "      <td>Another of Toei's World Famous Fairy Tale seri...</td>\n",
       "      <td>世界名作童話</td>\n",
       "      <td>None</td>\n",
       "      <td>20</td>\n",
       "      <td>None</td>\n",
       "      <td>add some</td>\n",
       "      <td>[]</td>\n",
       "      <td>None</td>\n",
       "      <td>10 min. per ep.</td>\n",
       "      <td>G - All Ages</td>\n",
       "      <td>181.0</td>\n",
       "      <td>2</td>\n",
       "      <td>Oct 1975 to Feb 1983</td>\n",
       "      <td>Unknown</td>\n",
       "      <td>54</td>\n",
       "      <td>279</td>\n",
       "      <td>28</td>\n",
       "      <td>104</td>\n",
       "      <td>355</td>\n",
       "      <td>820</td>\n",
       "      <td>19.0</td>\n",
       "      <td>13.0</td>\n",
       "      <td>16.0</td>\n",
       "      <td>21.0</td>\n",
       "      <td>37.0</td>\n",
       "      <td>34.0</td>\n",
       "      <td>16.0</td>\n",
       "      <td>8.0</td>\n",
       "      <td>8.0</td>\n",
       "      <td>9.0</td>\n",
       "    </tr>\n",
       "  </tbody>\n",
       "</table>\n",
       "</div>"
      ],
      "text/plain": [
       "                        name_english                 name  score  ranked  \\\n",
       "8465  World Famous Fairy Tale Series  Sekai Meisaku Douwa   6.12    8994   \n",
       "\n",
       "      popularity  members                                           synopsis  \\\n",
       "8465       14112      820  Another of Toei's World Famous Fairy Tale seri...   \n",
       "\n",
       "     synonyms type_of total_episodes premiered   studios genres demographic  \\\n",
       "8465   世界名作童話    None             20      None  add some     []        None   \n",
       "\n",
       "      duration_per_ep        rating  scored_by  favorites  \\\n",
       "8465  10 min. per ep.  G - All Ages      181.0          2   \n",
       "\n",
       "                     aired   source watching completed on_hold dropped  \\\n",
       "8465  Oct 1975 to Feb 1983  Unknown       54       279      28     104   \n",
       "\n",
       "     plan_to_watch total  scored_10_by  scored_9_by  scored_8_by  scored_7_by  \\\n",
       "8465           355   820          19.0         13.0         16.0         21.0   \n",
       "\n",
       "      scored_6_by  scored_5_by  scored_4_by  scored_3_by  scored_2_by  \\\n",
       "8465         37.0         34.0         16.0          8.0          8.0   \n",
       "\n",
       "      scored_1_by  \n",
       "8465          9.0  "
      ]
     },
     "execution_count": 180,
     "metadata": {},
     "output_type": "execute_result"
    }
   ],
   "source": [
    "df[df['type_of'].isna()]"
   ]
  },
  {
   "cell_type": "code",
   "execution_count": 181,
   "metadata": {},
   "outputs": [
    {
     "data": {
      "text/plain": [
       "type_of\n",
       "TV            5226\n",
       "Movie         3176\n",
       "OVA           2406\n",
       "ONA           2090\n",
       "Special       1346\n",
       "TV Special     495\n",
       "Name: count, dtype: int64"
      ]
     },
     "execution_count": 181,
     "metadata": {},
     "output_type": "execute_result"
    }
   ],
   "source": [
    "df['type_of'].value_counts()"
   ]
  },
  {
   "cell_type": "code",
   "execution_count": 182,
   "metadata": {},
   "outputs": [],
   "source": [
    "df['type_of'] = df['type_of'].fillna('Special')"
   ]
  },
  {
   "cell_type": "code",
   "execution_count": 183,
   "metadata": {},
   "outputs": [
    {
     "data": {
      "text/html": [
       "<div>\n",
       "<style scoped>\n",
       "    .dataframe tbody tr th:only-of-type {\n",
       "        vertical-align: middle;\n",
       "    }\n",
       "\n",
       "    .dataframe tbody tr th {\n",
       "        vertical-align: top;\n",
       "    }\n",
       "\n",
       "    .dataframe thead th {\n",
       "        text-align: right;\n",
       "    }\n",
       "</style>\n",
       "<table border=\"1\" class=\"dataframe\">\n",
       "  <thead>\n",
       "    <tr style=\"text-align: right;\">\n",
       "      <th></th>\n",
       "      <th>name_english</th>\n",
       "      <th>name</th>\n",
       "      <th>score</th>\n",
       "      <th>ranked</th>\n",
       "      <th>popularity</th>\n",
       "      <th>members</th>\n",
       "      <th>synopsis</th>\n",
       "      <th>synonyms</th>\n",
       "      <th>type_of</th>\n",
       "      <th>total_episodes</th>\n",
       "      <th>premiered</th>\n",
       "      <th>studios</th>\n",
       "      <th>genres</th>\n",
       "      <th>demographic</th>\n",
       "      <th>duration_per_ep</th>\n",
       "      <th>rating</th>\n",
       "      <th>scored_by</th>\n",
       "      <th>favorites</th>\n",
       "      <th>aired</th>\n",
       "      <th>source</th>\n",
       "      <th>watching</th>\n",
       "      <th>completed</th>\n",
       "      <th>on_hold</th>\n",
       "      <th>dropped</th>\n",
       "      <th>plan_to_watch</th>\n",
       "      <th>total</th>\n",
       "      <th>scored_10_by</th>\n",
       "      <th>scored_9_by</th>\n",
       "      <th>scored_8_by</th>\n",
       "      <th>scored_7_by</th>\n",
       "      <th>scored_6_by</th>\n",
       "      <th>scored_5_by</th>\n",
       "      <th>scored_4_by</th>\n",
       "      <th>scored_3_by</th>\n",
       "      <th>scored_2_by</th>\n",
       "      <th>scored_1_by</th>\n",
       "    </tr>\n",
       "  </thead>\n",
       "  <tbody>\n",
       "  </tbody>\n",
       "</table>\n",
       "</div>"
      ],
      "text/plain": [
       "Empty DataFrame\n",
       "Columns: [name_english, name, score, ranked, popularity, members, synopsis, synonyms, type_of, total_episodes, premiered, studios, genres, demographic, duration_per_ep, rating, scored_by, favorites, aired, source, watching, completed, on_hold, dropped, plan_to_watch, total, scored_10_by, scored_9_by, scored_8_by, scored_7_by, scored_6_by, scored_5_by, scored_4_by, scored_3_by, scored_2_by, scored_1_by]\n",
       "Index: []"
      ]
     },
     "execution_count": 183,
     "metadata": {},
     "output_type": "execute_result"
    }
   ],
   "source": [
    "df[df['type_of'].isna()]"
   ]
  },
  {
   "cell_type": "code",
   "execution_count": 184,
   "metadata": {},
   "outputs": [
    {
     "data": {
      "text/plain": [
       "'Special'"
      ]
     },
     "execution_count": 184,
     "metadata": {},
     "output_type": "execute_result"
    }
   ],
   "source": [
    "df['type_of'].iloc[8465]"
   ]
  },
  {
   "cell_type": "markdown",
   "metadata": {},
   "source": [
    "# total_episodes:-"
   ]
  },
  {
   "cell_type": "code",
   "execution_count": 185,
   "metadata": {},
   "outputs": [
    {
     "name": "stdout",
     "output_type": "stream",
     "text": [
      "<class 'pandas.core.series.Series'>\n",
      "RangeIndex: 14740 entries, 0 to 14739\n",
      "Series name: total_episodes\n",
      "Non-Null Count  Dtype \n",
      "--------------  ----- \n",
      "14740 non-null  object\n",
      "dtypes: object(1)\n",
      "memory usage: 115.3+ KB\n"
     ]
    }
   ],
   "source": [
    "df['total_episodes'].info()"
   ]
  },
  {
   "cell_type": "code",
   "execution_count": 186,
   "metadata": {},
   "outputs": [
    {
     "data": {
      "text/plain": [
       "5408     52\n",
       "11067     1\n",
       "3609     26\n",
       "12251     1\n",
       "6217      1\n",
       "Name: total_episodes, dtype: object"
      ]
     },
     "execution_count": 186,
     "metadata": {},
     "output_type": "execute_result"
    }
   ],
   "source": [
    "df['total_episodes'].sample(5)"
   ]
  },
  {
   "cell_type": "code",
   "execution_count": 187,
   "metadata": {},
   "outputs": [
    {
     "data": {
      "text/plain": [
       "array(['47', '10', '26', '24', '11', '12', '75', '1', '16', '13', '23',\n",
       "       '7', '74', '14', '2', '25', '22', '201', '110', '51', '148', '64',\n",
       "       '28', '79', '50', '39', '33', '40', '17', '15', '6', '20', '8',\n",
       "       '4', '62', '120', '37', '27', '43', '112', 'Unknown', '99', '101',\n",
       "       '52', '78', '500', '3', '94', '170', '38', '291', '70', '96', '77',\n",
       "       '102', '63', '203', '220', '49', '103', '21', '5', '45', '69',\n",
       "       '18', '366', '34', '109', '9', '153', '36', '145', '373', '113',\n",
       "       '35', '155', '54', '76', '1787', '60', '178', '167', '127', '114',\n",
       "       '161', '100', '195', '30', '19', '97', '46', '61', '104', '31',\n",
       "       '358', '42', '48', '142', '73', '182', '150', '136', '175', '115',\n",
       "       '53', '87', '86', '124', '140', '147', '29', '224', '131', '154',\n",
       "       '44', '58', '137', '276', '93', '67', '496', '105', '128', '330',\n",
       "       '41', '172', '72', '92', '91', '191', '160', '243', '180', '65',\n",
       "       '56', '193', '66', '59', '156', '192', '55', '380', '95', '108',\n",
       "       '296', '694', '68', '32', '164', '146', '258', '331', '130', '83',\n",
       "       '139', '119', '117', '151', '526', '1471', '163', '214', '88',\n",
       "       '80', '143', '89', '84', '98', '530', '200', '305', '260', '726',\n",
       "       '263', '312', '122', '3057', '199', '293', '300', '237', '1428',\n",
       "       '1274', '215', '1006', '773', '475', '1565', '744', '1818', '227',\n",
       "       '162', '398', '132', '125', '126', '230', '245', '283', '71',\n",
       "       '240', '234', '425', '208', '365', '225', '82', '90', '85', '431',\n",
       "       '302'], dtype=object)"
      ]
     },
     "execution_count": 187,
     "metadata": {},
     "output_type": "execute_result"
    }
   ],
   "source": [
    "df['total_episodes'].unique()"
   ]
  },
  {
   "cell_type": "code",
   "execution_count": 188,
   "metadata": {},
   "outputs": [
    {
     "data": {
      "text/plain": [
       "'26'"
      ]
     },
     "execution_count": 188,
     "metadata": {},
     "output_type": "execute_result"
    }
   ],
   "source": [
    "df['total_episodes'][201]"
   ]
  },
  {
   "cell_type": "code",
   "execution_count": 189,
   "metadata": {},
   "outputs": [],
   "source": [
    "df['total_episodes'] = df['total_episodes'].apply(lambda x: int(x) if x != 'Unknown' else np.nan)"
   ]
  },
  {
   "cell_type": "code",
   "execution_count": 190,
   "metadata": {},
   "outputs": [
    {
     "data": {
      "text/plain": [
       "26.0"
      ]
     },
     "execution_count": 190,
     "metadata": {},
     "output_type": "execute_result"
    }
   ],
   "source": [
    "df['total_episodes'][201]"
   ]
  },
  {
   "cell_type": "code",
   "execution_count": 191,
   "metadata": {},
   "outputs": [
    {
     "data": {
      "text/plain": [
       "127"
      ]
     },
     "execution_count": 191,
     "metadata": {},
     "output_type": "execute_result"
    }
   ],
   "source": [
    "df['total_episodes'].isna().sum()"
   ]
  },
  {
   "cell_type": "markdown",
   "metadata": {},
   "source": [
    "# premiered:-"
   ]
  },
  {
   "cell_type": "code",
   "execution_count": 192,
   "metadata": {},
   "outputs": [
    {
     "name": "stdout",
     "output_type": "stream",
     "text": [
      "<class 'pandas.core.series.Series'>\n",
      "RangeIndex: 14740 entries, 0 to 14739\n",
      "Series name: premiered\n",
      "Non-Null Count  Dtype \n",
      "--------------  ----- \n",
      "5104 non-null   object\n",
      "dtypes: object(1)\n",
      "memory usage: 115.3+ KB\n"
     ]
    }
   ],
   "source": [
    "df['premiered'].info()"
   ]
  },
  {
   "cell_type": "code",
   "execution_count": 193,
   "metadata": {},
   "outputs": [
    {
     "data": {
      "text/plain": [
       "array(['Fall 1980', 'Fall 2014', 'Spring 2022', 'Summer 2019',\n",
       "       'Spring 1998', 'Summer 2013', 'Winter 2022', 'Fall 2000', None,\n",
       "       'Fall 2016', 'Winter 2021', 'Winter 2019', 'Fall 2022',\n",
       "       'Winter 2018', 'Winter 2023', 'Spring 2020', 'Summer 2023',\n",
       "       'Spring 2004', 'Summer 2018', 'Spring 2008', 'Winter 2024',\n",
       "       'Fall 2017', 'Fall 2023', 'Fall 2008', 'Spring 2006',\n",
       "       'Winter 2017', 'Spring 2021', 'Fall 2012', 'Spring 2011',\n",
       "       'Fall 2011', 'Spring 2019', 'Spring 2015', 'Spring 2009',\n",
       "       'Winter 2016', 'Spring 1970', 'Summer 2009', 'Summer 2006',\n",
       "       'Summer 2008', 'Winter 2009', 'Winter 2010', 'Spring 2010',\n",
       "       'Winter 1995', 'Summer 2020', 'Fall 1979', 'Summer 2021',\n",
       "       'Summer 2011', 'Fall 1995', 'Winter 2020', 'Summer 2007',\n",
       "       'Summer 2014', 'Winter 2011', 'Fall 2021', 'Fall 2018',\n",
       "       'Winter 2013', 'Fall 1999', 'Summer 2016', 'Fall 2002',\n",
       "       'Fall 2019', 'Winter 2015', 'Spring 2014', 'Fall 2020',\n",
       "       'Fall 1997', 'Fall 2013', 'Spring 2017', 'Fall 2006', 'Fall 2015',\n",
       "       'Spring 2007', 'Winter 2012', 'Summer 2022', 'Summer 2017',\n",
       "       'Fall 2005', 'Spring 2023', 'Summer 1999', 'Fall 1992',\n",
       "       'Winter 2008', 'Spring 2012', 'Spring 2016', 'Winter 2004',\n",
       "       'Spring 2018', 'Spring 2013', 'Fall 1993', 'Winter 2007',\n",
       "       'Spring 1990', 'Fall 2003', 'Spring 2024', 'Fall 2007',\n",
       "       'Winter 2014', 'Spring 2003', 'Fall 2004', 'Winter 1996',\n",
       "       'Summer 2002', 'Spring 1989', 'Summer 2015', 'Fall 2010',\n",
       "       'Winter 2006', 'Fall 2009', 'Spring 1986', 'Spring 1997',\n",
       "       'Spring 1996', 'Fall 2001', 'Spring 1988', 'Summer 1998',\n",
       "       'Spring 1978', 'Spring 2002', 'Spring 2005', 'Spring 1985',\n",
       "       'Summer 2003', 'Spring 1987', 'Summer 2005', 'Fall 1978',\n",
       "       'Fall 1984', 'Winter 1986', 'Fall 1982', 'Fall 1996',\n",
       "       'Spring 1994', 'Summer 2012', 'Winter 1993', 'Spring 1992',\n",
       "       'Winter 1979', 'Winter 2003', 'Summer 1996', 'Fall 1989',\n",
       "       'Fall 1977', 'Spring 1979', 'Spring 1999', 'Summer 2001',\n",
       "       'Spring 2001', 'Fall 1983', 'Winter 1997', 'Winter 2002',\n",
       "       'Winter 1998', 'Summer 1991', 'Summer 2010', 'Spring 1991',\n",
       "       'Spring 1982', 'Fall 1986', 'Spring 1993', 'Spring 1995',\n",
       "       'Fall 1981', 'Winter 1985', 'Spring 2000', 'Winter 1990',\n",
       "       'Spring 1983', 'Winter 1999', 'Summer 2004', 'Fall 1971',\n",
       "       'Winter 1991', 'Fall 1998', 'Fall 1990', 'Fall 1994', 'Fall 1974',\n",
       "       'Winter 2001', 'Winter 2000', 'Winter 1994', 'Fall 1991',\n",
       "       'Fall 1976', 'Fall 1975', 'Winter 1978', 'Fall 1985',\n",
       "       'Summer 1984', 'Summer 1980', 'Fall 1968', 'Summer 1977',\n",
       "       'Fall 1987', 'Winter 1992', 'Winter 1976', 'Winter 1988',\n",
       "       'Winter 2005', 'Summer 1983', 'Summer 1995', 'Winter 1974',\n",
       "       'Spring 1973', 'Winter 1987', 'Spring 1975', 'Winter 1975',\n",
       "       'Spring 1981', 'Fall 1969', 'Spring 1984', 'Summer 1997',\n",
       "       'Winter 1981', 'Spring 1968', 'Fall 1988', 'Winter 1973',\n",
       "       'Summer 1992', 'Winter 1980', 'Summer 1985', 'Summer 1978',\n",
       "       'Spring 1969', 'Summer 2000', 'Winter 1983', 'Summer 1988',\n",
       "       'Fall 1973', 'Spring 1980', 'Winter 1963', 'Winter 1968',\n",
       "       'Winter 1982', 'Winter 1984', 'Summer 1990', 'Winter 1967',\n",
       "       'Winter 1970', 'Summer 1965', 'Summer 1982', 'Spring 1974',\n",
       "       'Fall 1972', 'Spring 1976', 'Winter 1969', 'Winter 1989',\n",
       "       'Winter 1977', 'Winter 1972', 'Summer 1994', 'Spring 1967',\n",
       "       'Fall 1966', 'Summer 1981', 'Fall 1965', 'Fall 1963', 'Fall 1970',\n",
       "       'Spring 1966', 'Summer 1972', 'Spring 1972', 'Summer 1964',\n",
       "       'Winter 1966', 'Summer 1987', 'Spring 1971', 'Summer 1986',\n",
       "       'Spring 1977', 'Summer 1979', 'Winter 1971', 'Summer 1975',\n",
       "       'Summer 1976', 'Fall 1967', 'Winter 1965', 'Spring 1961',\n",
       "       'Summer 1974', 'Summer 1962', 'Spring 1965', 'Winter 1964',\n",
       "       'Summer 1966', 'Summer 1989', 'Summer 1970', 'Summer 1967'],\n",
       "      dtype=object)"
      ]
     },
     "execution_count": 193,
     "metadata": {},
     "output_type": "execute_result"
    }
   ],
   "source": [
    "df['premiered'].unique()"
   ]
  },
  {
   "cell_type": "code",
   "execution_count": 194,
   "metadata": {},
   "outputs": [
    {
     "data": {
      "text/plain": [
       "9636"
      ]
     },
     "execution_count": 194,
     "metadata": {},
     "output_type": "execute_result"
    }
   ],
   "source": [
    "df['premiered'].isnull().sum()"
   ]
  },
  {
   "cell_type": "code",
   "execution_count": 195,
   "metadata": {},
   "outputs": [
    {
     "data": {
      "text/html": [
       "<div>\n",
       "<style scoped>\n",
       "    .dataframe tbody tr th:only-of-type {\n",
       "        vertical-align: middle;\n",
       "    }\n",
       "\n",
       "    .dataframe tbody tr th {\n",
       "        vertical-align: top;\n",
       "    }\n",
       "\n",
       "    .dataframe thead th {\n",
       "        text-align: right;\n",
       "    }\n",
       "</style>\n",
       "<table border=\"1\" class=\"dataframe\">\n",
       "  <thead>\n",
       "    <tr style=\"text-align: right;\">\n",
       "      <th></th>\n",
       "      <th>name_english</th>\n",
       "      <th>name</th>\n",
       "      <th>score</th>\n",
       "      <th>ranked</th>\n",
       "      <th>popularity</th>\n",
       "      <th>members</th>\n",
       "      <th>synopsis</th>\n",
       "      <th>synonyms</th>\n",
       "      <th>type_of</th>\n",
       "      <th>total_episodes</th>\n",
       "      <th>premiered</th>\n",
       "      <th>studios</th>\n",
       "      <th>genres</th>\n",
       "      <th>demographic</th>\n",
       "      <th>duration_per_ep</th>\n",
       "      <th>rating</th>\n",
       "      <th>scored_by</th>\n",
       "      <th>favorites</th>\n",
       "      <th>aired</th>\n",
       "      <th>source</th>\n",
       "      <th>watching</th>\n",
       "      <th>completed</th>\n",
       "      <th>on_hold</th>\n",
       "      <th>dropped</th>\n",
       "      <th>plan_to_watch</th>\n",
       "      <th>total</th>\n",
       "      <th>scored_10_by</th>\n",
       "      <th>scored_9_by</th>\n",
       "      <th>scored_8_by</th>\n",
       "      <th>scored_7_by</th>\n",
       "      <th>scored_6_by</th>\n",
       "      <th>scored_5_by</th>\n",
       "      <th>scored_4_by</th>\n",
       "      <th>scored_3_by</th>\n",
       "      <th>scored_2_by</th>\n",
       "      <th>scored_1_by</th>\n",
       "    </tr>\n",
       "  </thead>\n",
       "  <tbody>\n",
       "    <tr>\n",
       "      <th>9</th>\n",
       "      <td>Spirited Away</td>\n",
       "      <td>Sen to Chihiro no Kamikakushi</td>\n",
       "      <td>8.77</td>\n",
       "      <td>41</td>\n",
       "      <td>44</td>\n",
       "      <td>1846252</td>\n",
       "      <td>Stubborn, spoiled, and naïve, 10-year-old Chih...</td>\n",
       "      <td>Sen and Chihiro's Spiriting Away</td>\n",
       "      <td>Movie</td>\n",
       "      <td>1.0</td>\n",
       "      <td>None</td>\n",
       "      <td>Studio Ghibli</td>\n",
       "      <td>[Adventure, Award Winning, Supernatural]</td>\n",
       "      <td>None</td>\n",
       "      <td>2 hr. 4 min.</td>\n",
       "      <td>PG - Children</td>\n",
       "      <td>1293513.0</td>\n",
       "      <td>32718</td>\n",
       "      <td>Jul 20, 2001</td>\n",
       "      <td>Original</td>\n",
       "      <td>25,379</td>\n",
       "      <td>1,668,802</td>\n",
       "      <td>4,733</td>\n",
       "      <td>2,178</td>\n",
       "      <td>145,160</td>\n",
       "      <td>1,846,252</td>\n",
       "      <td>460247.0</td>\n",
       "      <td>373648.0</td>\n",
       "      <td>281944.0</td>\n",
       "      <td>121362.0</td>\n",
       "      <td>35662.0</td>\n",
       "      <td>12395.0</td>\n",
       "      <td>4023.0</td>\n",
       "      <td>1516.0</td>\n",
       "      <td>905.0</td>\n",
       "      <td>1811.0</td>\n",
       "    </tr>\n",
       "  </tbody>\n",
       "</table>\n",
       "</div>"
      ],
      "text/plain": [
       "    name_english                           name  score  ranked  popularity  \\\n",
       "9  Spirited Away  Sen to Chihiro no Kamikakushi   8.77      41          44   \n",
       "\n",
       "   members                                           synopsis  \\\n",
       "9  1846252  Stubborn, spoiled, and naïve, 10-year-old Chih...   \n",
       "\n",
       "                           synonyms type_of  total_episodes premiered  \\\n",
       "9  Sen and Chihiro's Spiriting Away   Movie             1.0      None   \n",
       "\n",
       "         studios                                    genres demographic  \\\n",
       "9  Studio Ghibli  [Adventure, Award Winning, Supernatural]        None   \n",
       "\n",
       "  duration_per_ep         rating  scored_by  favorites         aired  \\\n",
       "9    2 hr. 4 min.  PG - Children  1293513.0      32718  Jul 20, 2001   \n",
       "\n",
       "     source watching  completed on_hold dropped plan_to_watch      total  \\\n",
       "9  Original   25,379  1,668,802   4,733   2,178       145,160  1,846,252   \n",
       "\n",
       "   scored_10_by  scored_9_by  scored_8_by  scored_7_by  scored_6_by  \\\n",
       "9      460247.0     373648.0     281944.0     121362.0      35662.0   \n",
       "\n",
       "   scored_5_by  scored_4_by  scored_3_by  scored_2_by  scored_1_by  \n",
       "9      12395.0       4023.0       1516.0        905.0       1811.0  "
      ]
     },
     "execution_count": 195,
     "metadata": {},
     "output_type": "execute_result"
    }
   ],
   "source": [
    "df[df['premiered'].isnull()].head(1)"
   ]
  },
  {
   "cell_type": "markdown",
   "metadata": {},
   "source": [
    "# studios:-"
   ]
  },
  {
   "cell_type": "code",
   "execution_count": 196,
   "metadata": {},
   "outputs": [
    {
     "name": "stdout",
     "output_type": "stream",
     "text": [
      "<class 'pandas.core.series.Series'>\n",
      "RangeIndex: 14740 entries, 0 to 14739\n",
      "Series name: studios\n",
      "Non-Null Count  Dtype \n",
      "--------------  ----- \n",
      "14740 non-null  object\n",
      "dtypes: object(1)\n",
      "memory usage: 115.3+ KB\n"
     ]
    }
   ],
   "source": [
    "df['studios'].info()"
   ]
  },
  {
   "cell_type": "code",
   "execution_count": 197,
   "metadata": {},
   "outputs": [
    {
     "data": {
      "text/plain": [
       "studios\n",
       "add some                                             3573\n",
       "Toei Animation                                        769\n",
       "Sunrise                                               500\n",
       "J.C.Staff                                             387\n",
       "Madhouse                                              343\n",
       "Production I.G                                        303\n",
       "TMS Entertainment                                     301\n",
       "Studio Deen                                           275\n",
       "Pierrot                                               267\n",
       "OLM                                                   246\n",
       "Nippon Animation                                      215\n",
       "A-1 Pictures                                          202\n",
       "Shin-Ei Animation                                     189\n",
       "Tatsunoko Production                                  161\n",
       "AIC                                                   157\n",
       "Bones                                                 147\n",
       "DLE                                                   129\n",
       "Gonzo                                                 128\n",
       "Xebec                                                 124\n",
       "SILVER LINK.                                          117\n",
       "Kyoto Animation                                       115\n",
       "Shaft                                                 106\n",
       "Satelight                                             100\n",
       "Brain's Base                                           99\n",
       "Doga Kobo                                              89\n",
       "Group TAC                                              82\n",
       "Tokyo Movie Shinsha                                    76\n",
       "ufotable                                               72\n",
       "Tezuka Productions                                     70\n",
       "MAPPA                                                  66\n",
       "Gainax                                                 66\n",
       "Ashi Productions                                       64\n",
       "LIDENFILMS                                             64\n",
       "feel.                                                  64\n",
       "Gallop                                                 63\n",
       "Zexcs                                                  58\n",
       "Wit Studio                                             57\n",
       "Lerche                                                 57\n",
       "Ajia-do                                                56\n",
       "AQUA ARIS                                              54\n",
       "Magic Bus                                              54\n",
       "Studio Hibari                                          52\n",
       "Diomedéa                                               52\n",
       "P.A. Works                                             51\n",
       "Studio 4°C                                             50\n",
       "Kachidoki Studio                                       49\n",
       "Kinema Citrus                                          48\n",
       "Actas                                                  48\n",
       "8bit                                                   47\n",
       "Eiken                                                  46\n",
       "SynergySP                                              46\n",
       "Arms                                                   45\n",
       "Mushi Production                                       45\n",
       "Bandai Namco Pictures                                  45\n",
       "TNK                                                    44\n",
       "Studio Comet                                           44\n",
       "Shanghai Animation Film Studio                         43\n",
       "David Production                                       42\n",
       "Studio Ghibli                                          42\n",
       "Studio Gokumi                                          42\n",
       "Asahi Production                                       41\n",
       "Haoliners Animation League                             40\n",
       "CloverWorks                                            40\n",
       "Telecom Animation Film                                 39\n",
       "Artland                                                39\n",
       "Studio PuYUKAI                                         38\n",
       "SANZIGEN                                               38\n",
       "Polygon Pictures                                       38\n",
       "Yumeta Company                                         38\n",
       "Fanworks                                               37\n",
       "Project No.9                                           35\n",
       "GoHands                                                33\n",
       "White Fox                                              33\n",
       "Gathering                                              33\n",
       "HAL Film Maker                                         32\n",
       "Nomad                                                  32\n",
       "Bee Train                                              31\n",
       "Radix                                                  31\n",
       "Manglobe                                               31\n",
       "Ruo Hong Culture                                       30\n",
       "Triangle Staff                                         30\n",
       "Seven Arcs                                             29\n",
       "Daume                                                  29\n",
       "Studio Fantasia                                        29\n",
       "animate Film                                           28\n",
       "A.C.G.T.                                               28\n",
       "Seven                                                  28\n",
       "AIC ASTA                                               27\n",
       "asread.                                                27\n",
       "Trigger                                                27\n",
       "Hoods Entertainment                                    26\n",
       "Knack Productions                                      26\n",
       "Foch Films                                             26\n",
       "EMT Squared                                            26\n",
       "Suoyi Technology                                       25\n",
       "Production IMS                                         24\n",
       "Zero-G                                                 24\n",
       "TYO Animations                                         23\n",
       "CoMix Wave Films                                       22\n",
       "Passione                                               22\n",
       "Sparkly Key Animation Studio                           21\n",
       "Seven Arcs Pictures                                    21\n",
       "Signal.MD                                              20\n",
       "APPP                                                   20\n",
       "Tokyo Kids                                             20\n",
       "Creators in Pack                                       20\n",
       "Yamamura Animation, Inc.                               19\n",
       "C2C                                                    19\n",
       "AIC Spirits                                            18\n",
       "Bridge                                                 18\n",
       "Shuka                                                  18\n",
       "RG Animation Studios                                   18\n",
       "dwarf                                                  18\n",
       "Production Reed                                        17\n",
       "B.CMAY PICTURES                                        17\n",
       "Trans Arts                                             17\n",
       "AIC PLUS+                                              17\n",
       "Orange                                                 17\n",
       "Yokohama Animation Lab                                 17\n",
       "Shogakukan Music & Digital Entertainment               17\n",
       "ILCA                                                   16\n",
       "Studio Colorido                                        16\n",
       "NAZ                                                    16\n",
       "Science SARU                                           15\n",
       "TROYCA                                                 15\n",
       "Millepensee                                            15\n",
       "W-Toon Studio                                          15\n",
       "C-Station                                              15\n",
       "Shirogumi                                              15\n",
       "Chaos Project                                          15\n",
       "E&G Films                                              15\n",
       "Lay-duce                                               15\n",
       "WAO World                                              15\n",
       "Kitty Film Mitaka Studio                               14\n",
       "Studio 3Hz                                             14\n",
       "ENGI                                                   14\n",
       "Kamikaze Douga                                         14\n",
       "Pierrot Plus                                           14\n",
       "Mirai Film                                             13\n",
       "Geek Toys                                              13\n",
       "Kuri Jikken Manga Koubou                               13\n",
       "Maho Film                                              13\n",
       "PINE JAM                                               12\n",
       "Pastel                                                 12\n",
       "Studio Kai                                             12\n",
       "Picture Magic                                          12\n",
       "Connect                                                11\n",
       "Encourage Films                                        11\n",
       "Pie in the sky                                         11\n",
       "Tsuchida Productions                                   11\n",
       "Gaina                                                  11\n",
       "Platinum Vision                                        11\n",
       "Motion Magic                                           10\n",
       "Robot Communications                                   10\n",
       "Bibury Animation Studios                               10\n",
       "Vega Entertainment                                     10\n",
       "CygamesPictures                                        10\n",
       "Khara                                                  10\n",
       "2:10 AM Animation                                      10\n",
       "M.S.C                                                  10\n",
       "Rocen                                                  10\n",
       "Oddjob                                                 10\n",
       "Marza Animation Planet                                 10\n",
       "Anima                                                  10\n",
       "Wawayu Animation                                       10\n",
       "CG Year                                                10\n",
       "Ordet                                                  10\n",
       "Light Chaser Animation Studios                          9\n",
       "Graphinica                                              9\n",
       "Trinet Entertainment                                    9\n",
       "Studio Rikka                                            9\n",
       "Ascension                                               9\n",
       "The Answer Studio                                       9\n",
       "OLM Digital                                             9\n",
       "Alpha Animation                                         9\n",
       "Studio Junio                                            9\n",
       "Visual 80                                               9\n",
       "Seven Stone Entertainment                               9\n",
       "Nexus                                                   9\n",
       "SAMG Entertainment                                      9\n",
       "Tomoyasu Murata Company                                 8\n",
       "Digital Frontier                                        8\n",
       "Plum                                                    8\n",
       "Usagi Ou                                                8\n",
       "Yostar Pictures                                         8\n",
       "AIC Build                                               8\n",
       "KSS                                                     8\n",
       "VCRWORKS                                                8\n",
       "Typhoon Graphics                                        8\n",
       "Telescreen                                              8\n",
       "Studio A-CAT                                            8\n",
       "Palm Studio                                             8\n",
       "Kate Arrow                                              8\n",
       "Tecarat                                                 8\n",
       "Flat Studio                                             8\n",
       "Next Media Animation                                    7\n",
       "Imagin                                                  7\n",
       "Okuruto Noboru                                          7\n",
       "Studio Dadashow                                         7\n",
       "Kanaban Graphics                                        7\n",
       "Puzzle Animation Studio Limited                         7\n",
       "LAN Studio                                              7\n",
       "Liberty Animation Studio                                7\n",
       "Nut                                                     7\n",
       "Echoes                                                  7\n",
       "Oh! Production                                          7\n",
       "Barnum Studio                                           7\n",
       "Silver                                                  7\n",
       "L²Studio                                                7\n",
       "Asura Film                                              7\n",
       "DandeLion Animation Studio                              7\n",
       "Geno Studio                                             7\n",
       "Kaname Productions                                      7\n",
       "Daewon Media                                            7\n",
       "Yaoyorozu                                               7\n",
       "Shengying Animation                                     6\n",
       "Anpro                                                   6\n",
       "LandQ studios                                           6\n",
       "Hotline                                                 6\n",
       "Craftar Studios                                         6\n",
       "Sunrise Beyond                                          6\n",
       "Milky Cartoon                                           6\n",
       "Blade                                                   6\n",
       "Big Firebird Culture                                    6\n",
       "Drive                                                   6\n",
       "HMCH                                                    6\n",
       "Studio Animal                                           6\n",
       "Studio Bind                                             6\n",
       "Takun Manga Box                                         6\n",
       "Gakken Eigakyoku                                        6\n",
       "Colored Pencil Animation                                6\n",
       "AIC Classic                                             6\n",
       "Shochiku Animation Institute                            6\n",
       "Aubec                                                   6\n",
       "I was a Ballerina                                       6\n",
       "Zero-G Room                                             6\n",
       "Animation 21                                            6\n",
       "Studio Blanc.                                           6\n",
       "Studio Moriken                                          6\n",
       "Artmic                                                  6\n",
       "Topcraft                                                6\n",
       "Xing Yi Kai Chen                                        5\n",
       "Saigo no Shudan                                         5\n",
       "Studio Signal                                           5\n",
       "Bouncy                                                  5\n",
       "G-angle                                                 5\n",
       "Comma Studio                                            5\n",
       "Ishikawa Pro                                            5\n",
       "TUBA                                                    5\n",
       "Studio Meditation With a Pencil                         5\n",
       "Charaction                                              5\n",
       "BYMENT                                                  5\n",
       "Sanrio                                                  5\n",
       "Tomovies                                                5\n",
       "Nice Boat Animation                                     5\n",
       "Studio Kikan                                            5\n",
       "Digital Media Lab                                       5\n",
       "Opera House                                             5\n",
       "Venet                                                   5\n",
       "Super Normal Studio                                     5\n",
       "Fenz                                                    5\n",
       "Shimogumi                                               5\n",
       "Studio VOLN                                             5\n",
       "Phoenix Entertainment                                   5\n",
       "Mili Pictures                                           5\n",
       "LIDENFILMS Kyoto Studio                                 5\n",
       "CLAP                                                    5\n",
       "Felix Film                                              5\n",
       "Hololive Production                                     5\n",
       "Studio Placebo                                          5\n",
       "Thundray                                                5\n",
       "Bakken Record                                           5\n",
       "DR Movie                                                4\n",
       "BUILD DREAM                                             4\n",
       "Gravity Well                                            4\n",
       "Tear Studio                                             4\n",
       "Sharefun Studio                                         4\n",
       "Dynamo Pictures                                         4\n",
       "XEBEC M2                                                4\n",
       "Studio Sign                                             4\n",
       "Egg                                                     4\n",
       "Sola Digital Arts                                       4\n",
       "Kenji Studio                                            4\n",
       "Azeta Pictures                                          4\n",
       "EKACHI EPILKA                                           4\n",
       "Dongwoo A&E                                             4\n",
       "Bee Media                                               4\n",
       "D & D Pictures                                          4\n",
       "Oriental Creative Color                                 4\n",
       "PRA                                                     4\n",
       "Original Force                                          4\n",
       "Image Kei                                               4\n",
       "Quad                                                    4\n",
       "Grouper Productions                                     4\n",
       "Meruhensha                                              4\n",
       "Acca effe                                               4\n",
       "LX Animation Studio                                     4\n",
       "Red Dog Culture House                                   4\n",
       "Agent 21                                                4\n",
       "Pollyanna Graphics                                      4\n",
       "Children's Playground Entertainment                     4\n",
       "Sublimation                                             4\n",
       "Chosen                                                  4\n",
       "Studio Chizu                                            4\n",
       "Decovocal                                               4\n",
       "ACC Production                                          4\n",
       "Studio Ponoc                                            4\n",
       "Filmlink International                                  4\n",
       "DAX Production                                          4\n",
       "SIDO LIMITED                                            4\n",
       "Steve N' Steven                                         4\n",
       "Anon Pictures                                           4\n",
       "Kyotoma                                                 4\n",
       "Animation Staff Room                                    4\n",
       "Studio Kingyoiro                                        4\n",
       "PP Project                                              4\n",
       "production doA                                          4\n",
       "Planet                                                  4\n",
       "Lesprit                                                 4\n",
       "Square Enix Visual Works                                4\n",
       "KOO-KI                                                  4\n",
       "Kokusai Eigasha                                         4\n",
       "Studio Matrix                                           4\n",
       "Vasoon Animation                                        4\n",
       "SEK Studios                                             4\n",
       "Arvo Animation                                          4\n",
       "Studio Binzo                                            4\n",
       "Studio Crocodile                                        4\n",
       "Rikuentai                                               3\n",
       "Passion Paint Animation                                 3\n",
       "Idea Factory                                            3\n",
       "IMAGICA Lab.                                            3\n",
       "K-Factory                                               3\n",
       "Team YokkyuFuman                                        3\n",
       "Taikong Works                                           3\n",
       "Lapin Track                                             3\n",
       "MMDGP                                                   3\n",
       "Making Animation                                        3\n",
       "domerica                                                3\n",
       "Shenman Entertainment                                   3\n",
       "Live2D Creative Studio                                  3\n",
       "Ezόla                                                   3\n",
       "DC Impression Vision                                    3\n",
       "I.Toon                                                  3\n",
       "AtelierPontdarc                                         3\n",
       "drop                                                    3\n",
       "Jumonji                                                 3\n",
       "Takahashi Studio                                        3\n",
       "Angle                                                   3\n",
       "Steamworks                                              3\n",
       "Spooky graphic                                          3\n",
       "Studio Kafka                                            3\n",
       "October Media                                           3\n",
       "Mook Animation                                          3\n",
       "Studio Egg                                              3\n",
       "Studio M2                                               3\n",
       "Anime R                                                 3\n",
       "Shykeumo Animation Studio                               3\n",
       "Shanghai Hippo Animation                                3\n",
       "Qualia Animation                                        3\n",
       "Jinnis Animation Studios                                3\n",
       "Gekkou                                                  3\n",
       "Studio Flad                                             3\n",
       "Jumondo                                                 3\n",
       "Xuni Ying Ye                                            3\n",
       "Hand to Mouse.                                          3\n",
       "Creators Dot Com                                        3\n",
       "ACiD FiLM                                               3\n",
       "HS Pictures Studio                                      3\n",
       "Oxybot                                                  3\n",
       "TOHO animation STUDIO                                   3\n",
       "PPM                                                     3\n",
       "I.Gzwei                                                 3\n",
       "KJJ Animation                                           3\n",
       "TthunDer Animation                                      3\n",
       "Studio Elle                                             3\n",
       "Gyorai Eizo Inc.                                        3\n",
       "Scooter Films                                           3\n",
       "Revoroot                                                3\n",
       "Odolttogi                                               3\n",
       "Studio Zero                                             3\n",
       "Marvy Jack                                              3\n",
       "Kung Fu Frog Animation                                  3\n",
       "AIC Frontier                                            3\n",
       "Office AO                                               3\n",
       "Production +h.                                          3\n",
       "Fantawild Animation                                     3\n",
       "Staple Entertainment                                    3\n",
       "Larx Entertainment                                      3\n",
       "Colored Pencil Animation Japan                          3\n",
       "Qiyuan Yinghua                                          3\n",
       "KAGAYA Studio                                           3\n",
       "A-Real                                                  3\n",
       "LICO                                                    3\n",
       "East Fish Studio                                        3\n",
       "Xiaoming Taiji                                          3\n",
       "Painting Dream                                          3\n",
       "Tsuburaya Productions                                   2\n",
       "Sovat Theater                                           2\n",
       "Slow Studio                                             2\n",
       "Studio! Cucuri                                          2\n",
       "AION Studio                                             2\n",
       "Studio Tumble                                           2\n",
       "Au Praxinoscope                                         2\n",
       "Neft Film                                               2\n",
       "Studio 88                                               2\n",
       "Gambit                                                  2\n",
       "Cyclone Graphics                                        2\n",
       "happyproject                                            2\n",
       "Uguisu Kobo                                             2\n",
       "Animaruya                                               2\n",
       "Studio Kelmadick                                        2\n",
       "Happy Elements                                          2\n",
       "AXsiZ                                                   2\n",
       "Dazzling Star                                           2\n",
       "Noovo                                                   2\n",
       "Dyna Method                                             2\n",
       "Joker Films                                             2\n",
       "Garyuu Studio                                           2\n",
       "GARDEN LODGE                                            2\n",
       "ORENDA                                                  2\n",
       "Studio Unicorn                                          2\n",
       "Calf Studio                                             2\n",
       "Studio Nanahoshi                                        2\n",
       "Dancing CG Studio                                       2\n",
       "Sakura Create                                           2\n",
       "Animation Planet                                        2\n",
       "6pucks                                                  2\n",
       "Toyo Links Corporation                                  2\n",
       "Congrong Film                                           2\n",
       "Misogo Animation Studio                                 2\n",
       "Ripple Film                                             2\n",
       "Rising Force                                            2\n",
       "Iyasakadou Film                                         2\n",
       "I-move                                                  2\n",
       "Studio UGOKI                                            2\n",
       "pH Studio                                               2\n",
       "Saetta                                                  2\n",
       "Directions                                              2\n",
       "LIDENFILMS Osaka Studio                                 2\n",
       "Le-joy Animation Studio                                 2\n",
       "New Deer                                                2\n",
       "Hong Ying Animation                                     2\n",
       "Wong Ping Animation Lab                                 2\n",
       "Soeishinsha                                             2\n",
       "Anima&Co.                                               2\n",
       "Buemon                                                  2\n",
       "Panda Factory                                           2\n",
       "Studio Yona                                             2\n",
       "Fukushima Gaina                                         2\n",
       "Akatsuki                                                2\n",
       "Toho Interactive Animation                              2\n",
       "Volca                                                   2\n",
       "UWAN Pictures                                           2\n",
       "D.A.S.T Corporation                                     2\n",
       "Sotsu                                                   2\n",
       "Media Factory                                           2\n",
       "Keyring                                                 2\n",
       "T.P.O                                                   2\n",
       "Space Neko Company                                      2\n",
       "Minami Machi Bugyousho                                  2\n",
       "Cloud Art                                               2\n",
       "lxtl                                                    2\n",
       "HOTZIPANG                                               2\n",
       "ARECT                                                   2\n",
       "Maro Studio                                             2\n",
       "Shinkuukan                                              2\n",
       "ABJ COMPANY                                             2\n",
       "Samsara Animation Studio                                2\n",
       "JCF                                                     2\n",
       "Tomason                                                 2\n",
       "TriF Studio                                             2\n",
       "Qzil.la                                                 2\n",
       "YHKT Entertainment                                      2\n",
       "Kazami Gakuen Koushiki Douga-bu                         2\n",
       "B&T                                                     2\n",
       "Team OneOne                                             2\n",
       "ASK Animation Studio                                    2\n",
       "Djinn Power                                             2\n",
       "Tsumugi Akita Animation Lab                             2\n",
       "HuaMei Animation                                        2\n",
       "Studio Live                                             2\n",
       "Studio Signpost                                         2\n",
       "Studio Ppuri                                            2\n",
       "10Gauge                                                 2\n",
       "studio MOTHER                                           2\n",
       "Enishiya                                                2\n",
       "Studio Kyuuma                                           2\n",
       "Studio Bogey                                            2\n",
       "Public & Basic                                          2\n",
       "Remic                                                   2\n",
       "Wonder Cat Animation                                    2\n",
       "CyberConnect2                                           2\n",
       "Planet Cartoon                                          2\n",
       "Academy Productions                                     2\n",
       "Changchun Unity of Knowledge and Action Animation       2\n",
       "Yamiken                                                 2\n",
       "Imagineer                                               2\n",
       "Tonko House                                             2\n",
       "High Energy Studio                                      2\n",
       "Quyue Technology                                        2\n",
       "Tokyo Movie                                             2\n",
       "Point Pictures                                          2\n",
       "Japan Vistec                                            2\n",
       "Studio Daisy                                            2\n",
       "Studio Flag                                             2\n",
       "Tonari Animation                                        2\n",
       "Pb Animation Co. Ltd.                                   2\n",
       "Garden Culture                                          2\n",
       "Wolf Smoke Studio                                       2\n",
       "Dai-Ichi Douga                                          2\n",
       "Village Studio                                          2\n",
       "Lingsanwu Animation                                     2\n",
       "Mippei Eigeki Kiryuukan                                 1\n",
       "Studio Gazelle                                          1\n",
       "Production Wave                                         1\n",
       "Kigumi                                                  1\n",
       "Dynamic Planning                                        1\n",
       "Mad Box                                                 1\n",
       "GRIZZLY                                                 1\n",
       "Anime Tokyo                                             1\n",
       "Nakamura Production                                     1\n",
       "Romanov Films                                           1\n",
       "Chongzhuo Animation                                     1\n",
       "Arcturus                                                1\n",
       "Zuiyo                                                   1\n",
       "MontBlanc Pictures                                      1\n",
       "Monster's Egg                                           1\n",
       "Mook DLE                                                1\n",
       "Studio Khronos                                          1\n",
       "TYMOTE                                                  1\n",
       "81 Produce                                              1\n",
       "Sofix                                                   1\n",
       "Gakken                                                  1\n",
       "Big Bang                                                1\n",
       "Deck                                                    1\n",
       "Picona                                                  1\n",
       "Lide                                                    1\n",
       "Sunflowers                                              1\n",
       "OZ                                                      1\n",
       "Wolfsbane                                               1\n",
       "TOHO animation                                          1\n",
       "DOGA Productions                                        1\n",
       "Asmik Ace                                               1\n",
       "Flint Sugar                                             1\n",
       "monofilmo                                               1\n",
       "Soft Garage                                             1\n",
       "Sunwoo Entertainment                                    1\n",
       "MAT                                                     1\n",
       "An DerCen                                               1\n",
       "Brio Animation                                          1\n",
       "Team TillDawn                                           1\n",
       "l-a-unch・BOX                                            1\n",
       "Beijing Enlight Pictures                                1\n",
       "Tengu Kobo                                              1\n",
       "Tokyo Media Connections                                 1\n",
       "Visual Flight                                           1\n",
       "Square Pictures                                         1\n",
       "RAMS                                                    1\n",
       "Genco                                                   1\n",
       "Delpic                                                  1\n",
       "Creative House Pocket                                   1\n",
       "Takara Tomy A.R.T.S                                     1\n",
       "Will Palette                                            1\n",
       "Studio Pivote                                           1\n",
       "TypeZero                                                1\n",
       "Nippon Ramayana Film Co.                                1\n",
       "Guton Animation Studio                                  1\n",
       "E&H Production                                          1\n",
       "FIREBUG                                                 1\n",
       "Miyu Productions                                        1\n",
       "ANYZAC                                                  1\n",
       "Wang Film Productions                                   1\n",
       "TrioPen Studio                                          1\n",
       "flag Co.                                                1\n",
       "Ten Tails Animation                                     1\n",
       "Karaku                                                  1\n",
       "SPEED                                                   1\n",
       "J.C.F.                                                  1\n",
       "CUCURI                                                  1\n",
       "N&G Production                                          1\n",
       "1IN                                                     1\n",
       "Creative Power Entertaining                             1\n",
       "Studio A. Craft                                         1\n",
       "TANOsim                                                 1\n",
       "Four Some                                               1\n",
       "Magia Doraglier                                         1\n",
       "trenova                                                 1\n",
       "Xanthus Media                                           1\n",
       "Yudubai Animation                                       1\n",
       "Olive Studio                                            1\n",
       "Ekakiya                                                 1\n",
       "FUNNY MOVIE                                             1\n",
       "JJJOY Animation Studios                                 1\n",
       "Brians Film                                             1\n",
       "studio hb                                               1\n",
       "Bigcat Studio                                           1\n",
       "Studio Mir                                              1\n",
       "Taomee                                                  1\n",
       "qmotri                                                  1\n",
       "The Village of Marchen                                  1\n",
       "Youku                                                   1\n",
       "Myung Films                                             1\n",
       "Automatic Flowers Studio                                1\n",
       "Wulifang                                                1\n",
       "Ice Butter                                              1\n",
       "Fever Creations                                         1\n",
       "CGCG Studio                                             1\n",
       "HoriPro                                                 1\n",
       "NHK Art                                                 1\n",
       "Shogakukan-Shueisha Productions                         1\n",
       "HeART-BIT                                               1\n",
       "Fuji TV                                                 1\n",
       "Earth Design Works                                      1\n",
       "soket                                                   1\n",
       "Paper Plane Animation Studio                            1\n",
       "Studio Massket                                          1\n",
       "33 Collective                                           1\n",
       "Sega Interactive                                        1\n",
       "Liber                                                   1\n",
       "Studio HUIT                                             1\n",
       "Shadow Steps                                            1\n",
       "CMAY Animation                                          1\n",
       "BUG FILMS                                               1\n",
       "Pops Inc.                                               1\n",
       "Kamio Japan                                             1\n",
       "uzupiyo Animation & Digital Works                       1\n",
       "Sanctuary                                               1\n",
       "Drawing and Manual                                      1\n",
       "Suspenders                                              1\n",
       "Studio Polon                                            1\n",
       "Studio Korumi                                           1\n",
       "Network Kouenji Studio                                  1\n",
       "Transcendence Picture                                   1\n",
       "TCJ                                                     1\n",
       "Studio Gram                                             1\n",
       "View Works                                              1\n",
       "Gainax Kyoto                                            1\n",
       "Arcs Create                                             1\n",
       "Hai An Xian Donghua Gongzuo Shi                         1\n",
       "Trash Studio                                            1\n",
       "Emon                                                    1\n",
       "Piso Studio                                             1\n",
       "Urban Product                                           1\n",
       "Tong Ming Xuan                                          1\n",
       "Studio G-1Neo                                           1\n",
       "Cloud Culture                                           1\n",
       "Dangun Pictures                                         1\n",
       "Twilight Studio                                         1\n",
       "Boyan Pictures                                          1\n",
       "Beat Frog                                               1\n",
       "Qianqi Animation                                        1\n",
       "Studio W.Baba                                           1\n",
       "Animation Lab Japan                                     1\n",
       "Ekura Animal                                            1\n",
       "Tamura Shigeru Studio                                   1\n",
       "PHANTOM                                                 1\n",
       "Heewon Entertainment                                    1\n",
       "ARCUS                                                   1\n",
       "Office DCI                                              1\n",
       "Dawn Animation                                          1\n",
       "Indeprox                                                1\n",
       "Studio Sota                                             1\n",
       "HuaDream                                                1\n",
       "A-Line                                                  1\n",
       "Studio Himalaya                                         1\n",
       "NHK                                                     1\n",
       "Qubic Pictures                                          1\n",
       "Studio Shelter                                          1\n",
       "Studio Nuck                                             1\n",
       "Avaco Creative Studios                                  1\n",
       "Cloud Hearts                                            1\n",
       "7doc                                                    1\n",
       "Keica                                                   1\n",
       "Albacrow                                                1\n",
       "OB Planning                                             1\n",
       "Coastline Animation Studio                              1\n",
       "Gear Studio                                             1\n",
       "Horannabi                                               1\n",
       "MMT Technology                                          1\n",
       "Plus Heads                                              1\n",
       "Shengguang Knight Culture                               1\n",
       "Tang Kirin Culture                                      1\n",
       "Ishimori Entertainment                                  1\n",
       "Toei Video                                              1\n",
       "Paper Animation                                         1\n",
       "Arch                                                    1\n",
       "Studio Coa                                              1\n",
       "Kent House                                              1\n",
       "Nihon Ad Systems                                        1\n",
       "Tele-Cartoon Japan                                      1\n",
       "Front Line                                              1\n",
       "Tama Production                                         1\n",
       "Green Monster Team                                      1\n",
       "G&G Entertainment                                       1\n",
       "LMD                                                     1\n",
       "Studio Core                                             1\n",
       "SBS TV Production                                       1\n",
       "Yamato Works                                            1\n",
       "Joicy Studio                                            1\n",
       "Fifth Avenue                                            1\n",
       "MASTER LIGHTS                                           1\n",
       "Itasca Studio                                           1\n",
       "Sanrio Digital                                          1\n",
       "evg                                                     1\n",
       "Studio World                                            1\n",
       "Studio Fusion                                           1\n",
       "Liyu Culture                                            1\n",
       "Ripromo                                                 1\n",
       "MI                                                      1\n",
       "Heart & Soul Animation                                  1\n",
       "Ijigen Tokyo                                            1\n",
       "Delight Animation                                       1\n",
       "Makaria                                                 1\n",
       "Wako Productions                                        1\n",
       "Tsukimidou                                              1\n",
       "Gosay Studio                                            1\n",
       "Stingray                                                1\n",
       "Rabbit Machine                                          1\n",
       "Blue bread                                              1\n",
       "Adonero                                                 1\n",
       "Nekonigashi Inc.                                        1\n",
       "PrimeTime                                               1\n",
       "YURUPPE Inc.                                            1\n",
       "Marui Group                                             1\n",
       "Spell Bound                                             1\n",
       "Studio CANDY BOX                                        1\n",
       "Fugaku                                                  1\n",
       "Circus Production                                       1\n",
       "STUDIO6'oN                                              1\n",
       "Qingxiang Culture                                       1\n",
       "Frontier Works                                          1\n",
       "Project Team Sarah                                      1\n",
       "Studio Take Off                                         1\n",
       "AIC Takarazuka                                          1\n",
       "Imagica                                                 1\n",
       "Picograph                                               1\n",
       "Studio Izena                                            1\n",
       "Kaeruotoko Shokai                                       1\n",
       "NHK Enterprises                                         1\n",
       "Saber Works                                             1\n",
       "SJYNEXCUS                                               1\n",
       "Studio Z5                                               1\n",
       "Jichitai Anime                                          1\n",
       "Lilix                                                   1\n",
       "Aurora Animation                                        1\n",
       "Life Work                                               1\n",
       "Sparky Animation                                        1\n",
       "Studio Bingo                                            1\n",
       "Rockwell Eyes                                           1\n",
       "BeSTACK                                                 1\n",
       "Medo                                                    1\n",
       "Panmedia                                                1\n",
       "Studio Palette                                          1\n",
       "Future Planet                                           1\n",
       "Studio Ranmaru                                          1\n",
       "Studio OX                                               1\n",
       "Anime Beans                                             1\n",
       "Strawberry Meets Pictures                               1\n",
       "Imagica Digitalscape                                    1\n",
       "5 Inc.                                                  1\n",
       "Ginga Ya                                                1\n",
       "Yi Chen Animation                                       1\n",
       "Movic                                                   1\n",
       "Namu Animation                                          1\n",
       "helo.inc                                                1\n",
       "Unend                                                   1\n",
       "Durufix                                                 1\n",
       "Name: count, dtype: int64"
      ]
     },
     "execution_count": 197,
     "metadata": {},
     "output_type": "execute_result"
    }
   ],
   "source": [
    "df['studios'].value_counts()"
   ]
  },
  {
   "cell_type": "code",
   "execution_count": 198,
   "metadata": {},
   "outputs": [],
   "source": [
    "df['studios'] = df['studios'].apply(lambda x: '' if x == 'add some' else x)"
   ]
  },
  {
   "cell_type": "code",
   "execution_count": 199,
   "metadata": {},
   "outputs": [
    {
     "data": {
      "text/plain": [
       "3573"
      ]
     },
     "execution_count": 199,
     "metadata": {},
     "output_type": "execute_result"
    }
   ],
   "source": [
    "(df['studios']=='').sum()"
   ]
  },
  {
   "cell_type": "markdown",
   "metadata": {},
   "source": [
    "# genres, demogrsphic:-"
   ]
  },
  {
   "cell_type": "code",
   "execution_count": 200,
   "metadata": {},
   "outputs": [],
   "source": [
    "import nltk\n",
    "from nltk.corpus import stopwords\n",
    "from nltk.tokenize import word_tokenize\n",
    "from nltk import pos_tag"
   ]
  },
  {
   "cell_type": "code",
   "execution_count": 201,
   "metadata": {},
   "outputs": [
    {
     "name": "stdout",
     "output_type": "stream",
     "text": [
      "<class 'pandas.core.series.Series'>\n",
      "RangeIndex: 14740 entries, 0 to 14739\n",
      "Series name: genres\n",
      "Non-Null Count  Dtype \n",
      "--------------  ----- \n",
      "14740 non-null  object\n",
      "dtypes: object(1)\n",
      "memory usage: 115.3+ KB\n"
     ]
    }
   ],
   "source": [
    "df['genres'].info()"
   ]
  },
  {
   "cell_type": "code",
   "execution_count": 202,
   "metadata": {},
   "outputs": [
    {
     "data": {
      "text/plain": [
       "6346                       []\n",
       "8481     [Adventure, Fantasy]\n",
       "14721                      []\n",
       "14278                      []\n",
       "9299                       []\n",
       "Name: genres, dtype: object"
      ]
     },
     "execution_count": 202,
     "metadata": {},
     "output_type": "execute_result"
    }
   ],
   "source": [
    "df['genres'].sample(5)"
   ]
  },
  {
   "cell_type": "code",
   "execution_count": 203,
   "metadata": {},
   "outputs": [],
   "source": [
    "df['genres'] = df['genres'].apply(lambda x: [] if len(x) == 0 else x)"
   ]
  },
  {
   "cell_type": "code",
   "execution_count": 204,
   "metadata": {},
   "outputs": [
    {
     "data": {
      "text/plain": [
       "0"
      ]
     },
     "execution_count": 204,
     "metadata": {},
     "output_type": "execute_result"
    }
   ],
   "source": [
    "df['genres'].isnull().sum()"
   ]
  },
  {
   "cell_type": "code",
   "execution_count": 205,
   "metadata": {},
   "outputs": [
    {
     "data": {
      "text/plain": [
       "5819"
      ]
     },
     "execution_count": 205,
     "metadata": {},
     "output_type": "execute_result"
    }
   ],
   "source": [
    "df['genres'].apply(lambda x: len(x)==0).sum()"
   ]
  },
  {
   "cell_type": "code",
   "execution_count": 206,
   "metadata": {},
   "outputs": [
    {
     "name": "stdout",
     "output_type": "stream",
     "text": [
      "<class 'pandas.core.series.Series'>\n",
      "RangeIndex: 14740 entries, 0 to 14739\n",
      "Series name: demographic\n",
      "Non-Null Count  Dtype \n",
      "--------------  ----- \n",
      "5115 non-null   object\n",
      "dtypes: object(1)\n",
      "memory usage: 115.3+ KB\n"
     ]
    }
   ],
   "source": [
    "df['demographic'].info()"
   ]
  },
  {
   "cell_type": "code",
   "execution_count": 207,
   "metadata": {},
   "outputs": [
    {
     "data": {
      "text/plain": [
       "9625"
      ]
     },
     "execution_count": 207,
     "metadata": {},
     "output_type": "execute_result"
    }
   ],
   "source": [
    "df['demographic'].isnull().sum()"
   ]
  },
  {
   "cell_type": "code",
   "execution_count": 208,
   "metadata": {},
   "outputs": [
    {
     "data": {
      "text/plain": [
       "11653       None\n",
       "1164        None\n",
       "6451        None\n",
       "6026     Shounen\n",
       "9502        None\n",
       "Name: demographic, dtype: object"
      ]
     },
     "execution_count": 208,
     "metadata": {},
     "output_type": "execute_result"
    }
   ],
   "source": [
    "df['demographic'].sample(5)"
   ]
  },
  {
   "cell_type": "markdown",
   "metadata": {},
   "source": [
    "## rules_dict:-"
   ]
  },
  {
   "cell_type": "code",
   "execution_count": 209,
   "metadata": {},
   "outputs": [],
   "source": [
    "# Define rules to map keywords to genres\n",
    "genre_rules = {\n",
    "    'Action': ['action', 'battle', 'fight', 'combat', 'hero', 'adventure', 'explosive', 'dungeon', 'hunters', 'skirmish', 'war', 'weapon', 'fighting spirit', 'clash', 'bravery', 'martial arts', 'superpowers', 'melee', 'showdown'],\n",
    "    'Adventure': ['adventure', 'journey', 'quest', 'explore', 'travel', 'discovery', 'epic', 'treasure', 'expedition', 'explorer', 'voyage', 'odyssey', 'thrilling', 'exciting', 'exploration', 'questing', 'quest for adventure', 'wanderlust'],\n",
    "    'Comedy': ['comedy', 'humor', 'funny', 'laugh', 'comical', 'satire', 'light-hearted', 'parody', 'wit', 'joke', 'hilarious', 'laughter', 'entertaining', 'comic relief', 'whimsical', 'absurd'],\n",
    "    'Drama': ['drama', 'emotion', 'relationship', 'heartfelt', 'dramatic', 'tearjerker', 'heart break', 'emotional', 'tension', 'touching', 'tragic', 'struggle', 'gripping'],\n",
    "    'Fantasy': ['fantasy', 'magic', 'mythical', 'magical', 'enchantment', 'fantastical', 'otherworldly', 'elves', 'sorcery', 'wizardry', 'enchanted', 'legend', 'fairy tale', 'mystical beings', 'epic fantasy', 'fantasy world', 'magic spells'],\n",
    "    'Science Fiction': ['science fiction', 'futuristic', 'space', 'alien', 'cyberpunk', 'dystopian', 'robots', 'future', 'extraterrestrial', 'spacecraft', 'sci-fi', 'interstellar', 'advanced', 'cyborgs', 'virtual reality', 'time travel'],\n",
    "    'Romance': ['romance', 'love', 'relationship', 'romantic', 'passion', 'heartwarming', 'love triangle', 'affection', 'chemistry', 'flirting', 'bittersweet', 'embrace', 'yearning', 'infatuation', 'soulmate', 'romantic tension', 'unrequited love'],\n",
    "    'Horror': ['horror', 'fear', 'terror', 'creepy', 'supernatural', 'haunting', 'nightmare', 'horrible', 'chilling', 'spooky', 'ghost', 'terrifying', 'macabre', 'eerie', 'psychological horror', 'gore', 'suspense', 'massacre'],\n",
    "    'Mystery': ['mystery', 'detective', 'investigation', 'suspense', 'mysterious', 'puzzle', 'cryptic', 'enigma', 'clue', 'secret', 'conspiracy', 'riddle', 'detective work', 'solve the mystery'],\n",
    "    'Thriller': ['thriller', 'suspenseful', 'intense', 'adrenaline', 'danger', 'action-packed', 'nail-biting', 'suspense', 'excitement', 'climax', 'tension', 'edge-of-your-seat', 'gripping', 'heart-pounding', 'conspiracy thriller', 'cat-and-mouse'],\n",
    "    'Slice of Life': ['slice of life', 'real-life', 'routine', 'mundane', 'daily life', 'slice-of-life', 'everyday life', 'laid-back', 'unremarkable', 'slice-of-life moments', 'simple pleasures', 'domestic'],\n",
    "    'Supernatural': ['supernatural', 'paranormal', 'occult', 'spiritual', 'mystical', 'otherworldly', 'magic', 'mysterious', 'witch', 'demon', 'sorcerer', 'haunted', 'spirit', 'specter', 'dark magic', 'occult ritual', 'ghostly'],\n",
    "    'Mecha': ['mecha', 'giant robot', 'pilot', 'mechanical', 'robotic', 'mecha battles', 'robots', 'mech', 'robot suit', 'mechanized', 'mechanism', 'mech pilot', 'robotic warfare', 'mechanical engineering', 'mecha anime', 'robotic uprising'],\n",
    "    'Shounen': ['shounen', 'young boy', 'teenage protagonist', 'fighting', 'friendship', 'action-packed', 'battle', 'heroic', 'training', 'chivalry', 'aspiring', 'determined', 'ambitious', 'shounen anime', 'young heroes', 'power-ups', 'epic battles', 'rivalry'],\n",
    "    'Shoujo': ['shoujo', 'young girl', 'teenage protagonist', 'romantic', 'friendship', 'heartwarming', 'romance', 'love', 'emotional', 'drama', 'cute', 'sensitive', 'dreamy', 'affectionate', 'shoujo anime', 'magical girl transformation', 'pure-hearted'],\n",
    "    'Seinen': ['seinen', 'adult', 'mature themes', 'dark', 'psychological', 'gritty', 'violent', 'brutal', 'hard-hitting', 'realistic', 'complex', 'suspenseful', 'grim', 'seinen anime', 'mature audience', 'adult themes', 'grimdark', 'existential'],\n",
    "    'Josei': ['josei', 'adult woman', 'mature themes', 'romantic', 'slice of life', 'emotional', 'deep', 'introspective', 'thought-provoking', 'sensual', 'nuanced', 'reflective', 'josei anime', 'mature audience', 'romantic drama', 'life struggles', 'mature romance'],\n",
    "    'Psychological': ['psychological', 'mind', 'psyche', 'mental', 'mind games', 'trauma', 'inner demons', 'psychological warfare', 'twisted', 'manipulation', 'mental illness', 'psychological thriller', 'psychological drama', 'paranoia', 'psychological horror', 'identity crisis'],\n",
    "    'Sports': ['sports', 'athletic', 'competition', 'team', 'individual', 'sportsmanship', 'athlete', 'sporting event', 'team spirit', 'training', 'coach', 'victory', 'dedication', 'struggle', 'sports anime', 'athleticism', 'champion', 'sports drama'],\n",
    "    'Historical': ['historical', 'period', 'era', 'retro', 'vintage', 'historic event', 'past', 'time period', 'historical figure', 'antique', 'classic', 'heritage', 'nostalgic', 'history', 'historical setting', 'period drama', 'historical accuracy', 'historical fiction'],\n",
    "    'Music': ['music', 'musical', 'band', 'concert', 'performing arts', 'melody', 'singing', 'rhythm', 'instrument', 'song', 'performance', 'harmony', 'musician', 'ensemble', 'music-themed anime', 'rock band', 'pop idol', 'musical journey'],\n",
    "    'School': ['school', 'high school', 'student', 'classmate', 'teacher', 'teenage', 'academy', 'school life', 'student life', 'classroom', 'school uniform', 'education', 'school setting', 'school club', 'student council', 'academic'],\n",
    "    'Ecchi': ['ecchi', 'sexual humor', 'fan service', 'provocative', 'sexy', 'lewd', 'perverted', 'erotic', 'adult content', 'teasing', 'stimulating', 'risqué', 'ecchi scenes', 'sexy girls', 'romantic tension', 'ecchi comedy', 'adult humor'],\n",
    "    'Harem': ['harem', 'multiple love interests', 'romantic rivalry', 'love triangle', 'romantic comedy', 'reverse harem', 'love polygon', 'flirtation', 'harem anime', 'amorous', 'passionate', 'harem fantasy', 'romantic harem', 'harem protagonist', 'harem comedy', 'harem romance'],\n",
    "    'Isekai': ['isekai', 'other world', 'transported', 'reincarnation', 'fantasy world', 'parallel universe', 'reincarnated', 'isekai anime', 'alternate world', 'isekai fantasy', 'isekai adventure', 'isekai protagonist', 'isekai reincarnation', 'isekai genre', 'isekai journey', 'isekai magic', 'trapped in another world', 'reincarnation'],\n",
    "    'Cyberpunk': ['cyberpunk', 'high tech', 'low life', 'cyberspace', 'neon lights', 'dystopian', 'cybernetic', 'cyber', 'cyberpunk anime', 'cyberpunk world', 'cybernetic implants', 'cybernetic enhancement', 'cyberpunk society', 'cyberpunk dystopia', 'cyberpunk aesthetic', 'cybernetic society'],\n",
    "    'Post-Apocalyptic': ['post-apocalyptic', 'apocalypse', 'wasteland', 'survival', 'dystopia', 'rebuilding', 'post-apocalyptic world', 'end of the world', 'nuclear fallout', 'survivor', 'apocalyptic landscape', 'apocalyptic fiction', 'post-apocalyptic society', 'post-apocalyptic anime', 'ruins'],\n",
    "    'Martial Arts': ['martial arts', 'combat', 'martial artist', 'dojo', 'tournament', 'training', 'fighting tournament', 'martial arts master', 'martial arts school', 'battle', 'martial arts tournament', 'kung fu', 'karate', 'fighting spirit', 'martial arts training', 'combat skills', 'martial arts action']\n",
    "}"
   ]
  },
  {
   "cell_type": "code",
   "execution_count": 210,
   "metadata": {},
   "outputs": [],
   "source": [
    "def get_genres_from_synopsis(synopsis, current_genre):\n",
    "    tokens = word_tokenize(synopsis)\n",
    "    stop_words = set(stopwords.words('english'))\n",
    "    filtered_tokens = [word for word in tokens if word.lower() not in stop_words]\n",
    "    tagged_tokens = pos_tag(filtered_tokens)\n",
    "    keywords = [word for word, tag in tagged_tokens if tag.startswith('NN') or tag.startswith('JJ')]\n",
    "\n",
    "\n",
    "\n",
    "    matched_genres = set()\n",
    "\n",
    "    for keyword in keywords:\n",
    "        for genre, rules in genre_rules.items():\n",
    "            if any(rule in keyword.lower() for rule in rules):\n",
    "                matched_genres.add(genre)\n",
    "    \n",
    "    current_genre = set(current_genre)\n",
    "\n",
    "    return list(matched_genres.union(current_genre))\n"
   ]
  },
  {
   "cell_type": "code",
   "execution_count": 211,
   "metadata": {},
   "outputs": [],
   "source": [
    "df['genres'] = df.apply(lambda x: get_genres_from_synopsis(synopsis= x.synopsis, current_genre= x.genres), axis=1)"
   ]
  },
  {
   "cell_type": "code",
   "execution_count": 212,
   "metadata": {},
   "outputs": [
    {
     "data": {
      "text/plain": [
       "1915"
      ]
     },
     "execution_count": 212,
     "metadata": {},
     "output_type": "execute_result"
    }
   ],
   "source": [
    "df['genres'].apply(lambda x: len(x) == 0).sum()"
   ]
  },
  {
   "cell_type": "code",
   "execution_count": 213,
   "metadata": {},
   "outputs": [
    {
     "name": "stdout",
     "output_type": "stream",
     "text": [
      "<class 'pandas.core.series.Series'>\n",
      "RangeIndex: 14740 entries, 0 to 14739\n",
      "Series name: genres\n",
      "Non-Null Count  Dtype \n",
      "--------------  ----- \n",
      "14740 non-null  object\n",
      "dtypes: object(1)\n",
      "memory usage: 115.3+ KB\n"
     ]
    }
   ],
   "source": [
    "df['genres'].info()"
   ]
  },
  {
   "cell_type": "code",
   "execution_count": 214,
   "metadata": {},
   "outputs": [
    {
     "data": {
      "text/plain": [
       "9625"
      ]
     },
     "execution_count": 214,
     "metadata": {},
     "output_type": "execute_result"
    }
   ],
   "source": [
    "df['demographic'].isnull().sum()"
   ]
  },
  {
   "cell_type": "code",
   "execution_count": 215,
   "metadata": {},
   "outputs": [
    {
     "data": {
      "text/plain": [
       "(1305, 36)"
      ]
     },
     "execution_count": 215,
     "metadata": {},
     "output_type": "execute_result"
    }
   ],
   "source": [
    "df[(df['demographic'].isnull()) & (df['genres'].apply(lambda x: len(x) == 0))].shape"
   ]
  },
  {
   "cell_type": "code",
   "execution_count": 216,
   "metadata": {},
   "outputs": [],
   "source": [
    "# this seems fair enough as one of these two is sufficient to give the\n",
    "# idea about the show"
   ]
  },
  {
   "cell_type": "markdown",
   "metadata": {},
   "source": [
    "# duration_per_ep:-"
   ]
  },
  {
   "cell_type": "code",
   "execution_count": 217,
   "metadata": {},
   "outputs": [
    {
     "name": "stdout",
     "output_type": "stream",
     "text": [
      "<class 'pandas.core.series.Series'>\n",
      "RangeIndex: 14740 entries, 0 to 14739\n",
      "Series name: duration_per_ep\n",
      "Non-Null Count  Dtype \n",
      "--------------  ----- \n",
      "14740 non-null  object\n",
      "dtypes: object(1)\n",
      "memory usage: 115.3+ KB\n"
     ]
    }
   ],
   "source": [
    "df['duration_per_ep'].info()"
   ]
  },
  {
   "cell_type": "code",
   "execution_count": 218,
   "metadata": {},
   "outputs": [
    {
     "data": {
      "text/plain": [
       "array(['24 min. per ep.', '23 min. per ep.', '25 min. per ep.',\n",
       "       '26 min. per ep.', '2 hr. 4 min.', '1 hr. 23 min.',\n",
       "       '1 hr. 36 min.', '1 hr. 46 min.', '2 hr. 20 min.',\n",
       "       '22 min. per ep.', '1 hr. 50 min.', '1 hr. 12 min. per ep.',\n",
       "       '2 hr. 10 min.', '1 hr. 44 min.', '50 min. per ep.',\n",
       "       '2 hr. 1 min.', '22 min.', '1 hr. 49 min.', '21 min.',\n",
       "       '1 hr. 11 min. per ep.', '34 min.', '49 min. per ep.', '10 min.',\n",
       "       '1 hr. 57 min.', '2 hr. 15 min.', '1 hr. 4 min.', '1 hr. 59 min.',\n",
       "       '1 hr. 45 min.', '1 hr. 55 min.', '1 hr. 38 min.', '1 hr. 54 min.',\n",
       "       '30 min. per ep.', '1 hr. 31 min.', '1 hr. 28 min.',\n",
       "       '5 min. per ep.', '27 min. per ep.', '2 hr.', '29 min. per ep.',\n",
       "       '47 min.', '1 hr. 30 min.', '1 hr. 36 min. per ep.',\n",
       "       '28 min. per ep.', '2 hr. 5 min.', '2 hr. 35 min.',\n",
       "       '1 hr. 56 min.', '2 hr. 41 min.', '2 hr. 13 min.', '2 hr. 2 min.',\n",
       "       '24 min.', '1 hr. 13 min.', '1 hr. 35 min.',\n",
       "       '1 hr. 1 min. per ep.', '45 min.', '1 hr. 21 min.',\n",
       "       '1 hr. 48 min.', '1 hr. 26 min.', '1 hr. 22 min.', '1 hr. 51 min.',\n",
       "       '1 hr. 43 min.', '2 hr. 11 min.', '2 hr. 48 min.', '1 hr. 15 min.',\n",
       "       '1 hr. 11 min.', '1 hr. 33 min.', '1 hr. 1 min.', '1 hr. 40 min.',\n",
       "       '11 min.', '1 hr.', '1 hr. 42 min.', '1 hr. 32 min.',\n",
       "       '1 hr. 52 min.', '1 hr. 47 min.', '16 min. per ep.',\n",
       "       '1 hr. 34 min.', '49 min.', '51 min.', '1 hr. 39 min.',\n",
       "       '1 hr. 29 min.', '12 min.', '48 min.', '25 min.', '1 min.',\n",
       "       '54 min.', '20 min. per ep.', '34 min. per ep.', '1 hr. 12 min.',\n",
       "       '1 hr. 41 min.', '2 hr. 17 min.', '55 min.', '43 min. per ep.',\n",
       "       '58 min. per ep.', '2 hr. 40 min.', '14 min.', '32 min.',\n",
       "       '32 min. per ep.', '23 min.', '1 hr. 2 min. per ep.',\n",
       "       '14 min. per ep.', '2 hr. 6 min.', '2 hr. 29 min.', '1 hr. 5 min.',\n",
       "       '59 min.', '1 hr. 53 min.', '15 min. per ep.', '18 min. per ep.',\n",
       "       '30 min.', '2 min. per ep.', '33 min. per ep.', '28 min.',\n",
       "       '1 hr. 10 min.', '18 min.', '1 hr. 9 min.', '1 hr. 17 min.',\n",
       "       '42 min. per ep.', '2 min.', '1 hr. 37 min.', '11 min. per ep.',\n",
       "       '39 min.', '21 min. per ep.', '29 min.', '27 min.', '46 min.',\n",
       "       '13 min. per ep.', '41 min.', '51 min. per ep.', '42 min.',\n",
       "       '26 min.', '57 min.', '1 hr. 30 min. per ep.', '46 min. per ep.',\n",
       "       '1 hr. 2 min.', '3 min. per ep.', '1 hr. 6 min.', '4 min. per ep.',\n",
       "       '19 min. per ep.', '50 min.', '2 hr. 16 min.', '1 hr. 3 min.',\n",
       "       '58 min.', '53 min.', '39 min. per ep.', '1 hr. 52 min. per ep.',\n",
       "       '1 hr. 16 min.', '37 min.', '1 hr. 7 min.', '37 min. per ep.',\n",
       "       '2 hr. 7 min.', '1 hr. 27 min.', '15 min.', '45 min. per ep.',\n",
       "       '1 hr. 20 min.', '7 min. per ep.', '1 hr. 18 min.', '31 min.',\n",
       "       '12 min. per ep.', '8 min. per ep.', '20 min.', '40 min.',\n",
       "       '1 hr. 25 min.', '2 hr. 12 min.', '54 min. per ep.', '52 min.',\n",
       "       '16 min.', '8 min.', '6 min. per ep.', '2 hr. 3 min.',\n",
       "       '1 min. per ep.', '1 hr. 39 min. per ep.', '1 hr. 58 min.',\n",
       "       '2 hr. 8 min.', '1 hr. 24 min.', '17 min. per ep.', '3 min.',\n",
       "       '13 min.', '2 hr. 21 min.', '9 min.', '4 min.', '53 min. per ep.',\n",
       "       '56 min.', '1 hr. 5 min. per ep.', '1 hr. 19 min.',\n",
       "       '31 min. per ep.', '35 min. per ep.', '5 min.',\n",
       "       '1 hr. 38 min. per ep.', '10 min. per ep.', '1 hr. 8 min.',\n",
       "       '1 hr. per ep.', '44 min.', '6 min.', '41 min. per ep.', '33 min.',\n",
       "       '43 min.', '30 sec. per ep.', '35 min.', '1 hr. 35 min. per ep.',\n",
       "       '47 min. per ep.', '2 hr. 14 min.', '1 hr. 14 min.', '36 min.',\n",
       "       '48 min. per ep.', '19 min.', '9 min. per ep.', '2 hr. 32 min.',\n",
       "       '54 sec. per ep.', '40 sec. per ep.', '7 min.', '2 hr. 33 min.',\n",
       "       '38 min.', '17 min.', '40 min. per ep.', '20 sec. per ep.',\n",
       "       '38 min. per ep.', '2 hr. 43 min.', '20 sec.', '36 min. per ep.',\n",
       "       '1 hr. 17 min. per ep.', '44 min. per ep.', '1 hr. 7 min. per ep.',\n",
       "       '55 min. per ep.', '56 sec. per ep.', '2 hr. 31 min.',\n",
       "       '57 sec. per ep.', '2 hr. 28 min.', '50 sec. per ep.',\n",
       "       '1 hr. 15 min. per ep.', '2 hr. 30 min.', '56 min. per ep.',\n",
       "       '39 sec. per ep.', 'Unknown', '52 min. per ep.', '2 hr. 27 min.',\n",
       "       '34 sec. per ep.', '59 sec.', '35 sec. per ep.', '26 sec. per ep.',\n",
       "       '30 sec.', '2 hr. 9 min.', '1 hr. 14 min. per ep.', '45 sec.',\n",
       "       '16 sec.', '31 sec.', '57 min. per ep.', '1 hr. 16 min. per ep.',\n",
       "       '53 sec. per ep.', '44 sec. per ep.', '45 sec. per ep.',\n",
       "       '55 sec. per ep.', '25 sec. per ep.', '32 sec.', '32 sec. per ep.',\n",
       "       '35 sec.', '46 sec.', '1 hr. 27 min. per ep.', '38 sec. per ep.',\n",
       "       '55 sec.', '33 sec. per ep.', '18 sec.', '46 sec. per ep.',\n",
       "       '41 sec. per ep.', '49 sec. per ep.', '37 sec.', '50 sec.',\n",
       "       '19 sec. per ep.', '15 sec.', '16 sec. per ep.', '48 sec. per ep.',\n",
       "       '51 sec. per ep.', '23 sec.', '15 sec. per ep.', '52 sec.',\n",
       "       '6 sec. per ep.', '22 sec. per ep.', '3 sec.', '10 sec.',\n",
       "       '27 sec.', '24 sec. per ep.', '57 sec.', '28 sec. per ep.',\n",
       "       '42 sec.', '33 sec.', '54 sec.', '40 sec.', '2 hr. 19 min.',\n",
       "       '14 sec. per ep.', '44 sec.', '47 sec.', '38 sec.', '12 sec.',\n",
       "       '29 sec. per ep.', '39 sec.', '58 sec.', '23 sec. per ep.',\n",
       "       '22 sec.', '49 sec.', '13 sec.', '43 sec.', '48 sec.', '29 sec.',\n",
       "       '36 sec.', '21 sec. per ep.', '7 sec.', '2 hr. 47 min.',\n",
       "       '52 sec. per ep.', '51 sec.', '43 sec. per ep.', '24 sec.',\n",
       "       '2 hr. per ep.', '36 sec. per ep.', '7 sec. per ep.',\n",
       "       '42 sec. per ep.', '41 sec.', '31 sec. per ep.', '53 sec.',\n",
       "       '56 sec.'], dtype=object)"
      ]
     },
     "execution_count": 218,
     "metadata": {},
     "output_type": "execute_result"
    }
   ],
   "source": [
    "df['duration_per_ep'].unique()"
   ]
  },
  {
   "cell_type": "code",
   "execution_count": 219,
   "metadata": {},
   "outputs": [
    {
     "data": {
      "text/plain": [
       "(62, 36)"
      ]
     },
     "execution_count": 219,
     "metadata": {},
     "output_type": "execute_result"
    }
   ],
   "source": [
    "df[df['duration_per_ep'] == 'Unknown'].shape"
   ]
  },
  {
   "cell_type": "markdown",
   "metadata": {},
   "source": [
    "# rating:-"
   ]
  },
  {
   "cell_type": "code",
   "execution_count": 220,
   "metadata": {},
   "outputs": [
    {
     "name": "stdout",
     "output_type": "stream",
     "text": [
      "<class 'pandas.core.series.Series'>\n",
      "RangeIndex: 14740 entries, 0 to 14739\n",
      "Series name: rating\n",
      "Non-Null Count  Dtype \n",
      "--------------  ----- \n",
      "14740 non-null  object\n",
      "dtypes: object(1)\n",
      "memory usage: 115.3+ KB\n"
     ]
    }
   ],
   "source": [
    "df['rating'].info()"
   ]
  },
  {
   "cell_type": "code",
   "execution_count": 221,
   "metadata": {},
   "outputs": [
    {
     "data": {
      "text/plain": [
       "array(['PG-13 - Teens 13 or older', 'R - 17+ (violence & profanity)',\n",
       "       'PG - Children', 'R+ - Mild Nudity', 'G - All Ages', 'None',\n",
       "       'Rx - Hentai'], dtype=object)"
      ]
     },
     "execution_count": 221,
     "metadata": {},
     "output_type": "execute_result"
    }
   ],
   "source": [
    "df['rating'].unique()"
   ]
  },
  {
   "cell_type": "code",
   "execution_count": 222,
   "metadata": {},
   "outputs": [
    {
     "data": {
      "text/plain": [
       "rating\n",
       "PG-13 - Teens 13 or older         6847\n",
       "G - All Ages                      4148\n",
       "PG - Children                     1287\n",
       "R - 17+ (violence & profanity)    1276\n",
       "R+ - Mild Nudity                   973\n",
       "None                               208\n",
       "Rx - Hentai                          1\n",
       "Name: count, dtype: int64"
      ]
     },
     "execution_count": 222,
     "metadata": {},
     "output_type": "execute_result"
    }
   ],
   "source": [
    "df['rating'].value_counts()"
   ]
  },
  {
   "cell_type": "markdown",
   "metadata": {},
   "source": [
    "# scored_by:-"
   ]
  },
  {
   "cell_type": "code",
   "execution_count": 223,
   "metadata": {},
   "outputs": [
    {
     "name": "stdout",
     "output_type": "stream",
     "text": [
      "<class 'pandas.core.series.Series'>\n",
      "RangeIndex: 14740 entries, 0 to 14739\n",
      "Series name: scored_by\n",
      "Non-Null Count  Dtype  \n",
      "--------------  -----  \n",
      "12046 non-null  float64\n",
      "dtypes: float64(1)\n",
      "memory usage: 115.3 KB\n"
     ]
    }
   ],
   "source": [
    "df['scored_by'].info()"
   ]
  },
  {
   "cell_type": "markdown",
   "metadata": {},
   "source": [
    "# favorites:-"
   ]
  },
  {
   "cell_type": "code",
   "execution_count": 224,
   "metadata": {},
   "outputs": [
    {
     "name": "stdout",
     "output_type": "stream",
     "text": [
      "<class 'pandas.core.series.Series'>\n",
      "RangeIndex: 14740 entries, 0 to 14739\n",
      "Series name: favorites\n",
      "Non-Null Count  Dtype\n",
      "--------------  -----\n",
      "14740 non-null  int64\n",
      "dtypes: int64(1)\n",
      "memory usage: 115.3 KB\n"
     ]
    }
   ],
   "source": [
    "df['favorites'].info()"
   ]
  },
  {
   "cell_type": "markdown",
   "metadata": {},
   "source": [
    "# aired:-"
   ]
  },
  {
   "cell_type": "code",
   "execution_count": 225,
   "metadata": {},
   "outputs": [
    {
     "name": "stdout",
     "output_type": "stream",
     "text": [
      "<class 'pandas.core.series.Series'>\n",
      "RangeIndex: 14740 entries, 0 to 14739\n",
      "Series name: aired\n",
      "Non-Null Count  Dtype \n",
      "--------------  ----- \n",
      "14740 non-null  object\n",
      "dtypes: object(1)\n",
      "memory usage: 115.3+ KB\n"
     ]
    }
   ],
   "source": [
    "df['aired'].info()"
   ]
  },
  {
   "cell_type": "code",
   "execution_count": 226,
   "metadata": {},
   "outputs": [
    {
     "data": {
      "text/plain": [
       "array(['Oct 13, 1980 to Aug 31, 1981', 'Oct 19, 2014 to Dec 21, 2014',\n",
       "       'Apr 10, 2022 to Oct 2, 2022', ..., 'Jan 15, 2009 to Dec 31, 2010',\n",
       "       'Nov 7, 2023 to Jan 16, 2024', 'Nov 3, 2023 to Jan 26, 2024'],\n",
       "      dtype=object)"
      ]
     },
     "execution_count": 226,
     "metadata": {},
     "output_type": "execute_result"
    }
   ],
   "source": [
    "df['aired'].unique()"
   ]
  },
  {
   "cell_type": "code",
   "execution_count": 227,
   "metadata": {},
   "outputs": [
    {
     "data": {
      "text/html": [
       "<div>\n",
       "<style scoped>\n",
       "    .dataframe tbody tr th:only-of-type {\n",
       "        vertical-align: middle;\n",
       "    }\n",
       "\n",
       "    .dataframe tbody tr th {\n",
       "        vertical-align: top;\n",
       "    }\n",
       "\n",
       "    .dataframe thead th {\n",
       "        text-align: right;\n",
       "    }\n",
       "</style>\n",
       "<table border=\"1\" class=\"dataframe\">\n",
       "  <thead>\n",
       "    <tr style=\"text-align: right;\">\n",
       "      <th></th>\n",
       "      <th>name_english</th>\n",
       "      <th>name</th>\n",
       "      <th>score</th>\n",
       "      <th>ranked</th>\n",
       "      <th>popularity</th>\n",
       "      <th>members</th>\n",
       "      <th>synopsis</th>\n",
       "      <th>synonyms</th>\n",
       "      <th>type_of</th>\n",
       "      <th>total_episodes</th>\n",
       "      <th>premiered</th>\n",
       "      <th>studios</th>\n",
       "      <th>genres</th>\n",
       "      <th>demographic</th>\n",
       "      <th>duration_per_ep</th>\n",
       "      <th>rating</th>\n",
       "      <th>scored_by</th>\n",
       "      <th>favorites</th>\n",
       "      <th>aired</th>\n",
       "      <th>source</th>\n",
       "      <th>watching</th>\n",
       "      <th>completed</th>\n",
       "      <th>on_hold</th>\n",
       "      <th>dropped</th>\n",
       "      <th>plan_to_watch</th>\n",
       "      <th>total</th>\n",
       "      <th>scored_10_by</th>\n",
       "      <th>scored_9_by</th>\n",
       "      <th>scored_8_by</th>\n",
       "      <th>scored_7_by</th>\n",
       "      <th>scored_6_by</th>\n",
       "      <th>scored_5_by</th>\n",
       "      <th>scored_4_by</th>\n",
       "      <th>scored_3_by</th>\n",
       "      <th>scored_2_by</th>\n",
       "      <th>scored_1_by</th>\n",
       "    </tr>\n",
       "  </thead>\n",
       "  <tbody>\n",
       "  </tbody>\n",
       "</table>\n",
       "</div>"
      ],
      "text/plain": [
       "Empty DataFrame\n",
       "Columns: [name_english, name, score, ranked, popularity, members, synopsis, synonyms, type_of, total_episodes, premiered, studios, genres, demographic, duration_per_ep, rating, scored_by, favorites, aired, source, watching, completed, on_hold, dropped, plan_to_watch, total, scored_10_by, scored_9_by, scored_8_by, scored_7_by, scored_6_by, scored_5_by, scored_4_by, scored_3_by, scored_2_by, scored_1_by]\n",
       "Index: []"
      ]
     },
     "execution_count": 227,
     "metadata": {},
     "output_type": "execute_result"
    }
   ],
   "source": [
    "df[df['aired']=='']"
   ]
  },
  {
   "cell_type": "markdown",
   "metadata": {},
   "source": [
    "# source:-"
   ]
  },
  {
   "cell_type": "code",
   "execution_count": 228,
   "metadata": {},
   "outputs": [
    {
     "name": "stdout",
     "output_type": "stream",
     "text": [
      "<class 'pandas.core.series.Series'>\n",
      "RangeIndex: 14740 entries, 0 to 14739\n",
      "Series name: source\n",
      "Non-Null Count  Dtype \n",
      "--------------  ----- \n",
      "14740 non-null  object\n",
      "dtypes: object(1)\n",
      "memory usage: 115.3+ KB\n"
     ]
    }
   ],
   "source": [
    "df['source'].info()"
   ]
  },
  {
   "cell_type": "code",
   "execution_count": 229,
   "metadata": {},
   "outputs": [
    {
     "data": {
      "text/plain": [
       "array(['Manga', 'Original', 'Light novel', 'Web manga', '4-koma manga',\n",
       "       'Visual novel', 'Novel', 'Web novel', 'Game', 'Other', 'Unknown',\n",
       "       'Book', 'Mixed media', 'Music', 'Picture book', 'Card game',\n",
       "       'Radio'], dtype=object)"
      ]
     },
     "execution_count": 229,
     "metadata": {},
     "output_type": "execute_result"
    }
   ],
   "source": [
    "df['source'].unique()"
   ]
  },
  {
   "cell_type": "code",
   "execution_count": 230,
   "metadata": {},
   "outputs": [
    {
     "data": {
      "text/plain": [
       "(1636, 36)"
      ]
     },
     "execution_count": 230,
     "metadata": {},
     "output_type": "execute_result"
    }
   ],
   "source": [
    "df[df['source'] == 'Unknown'].shape"
   ]
  },
  {
   "cell_type": "markdown",
   "metadata": {},
   "source": [
    "# watching:-"
   ]
  },
  {
   "cell_type": "code",
   "execution_count": 231,
   "metadata": {},
   "outputs": [
    {
     "name": "stdout",
     "output_type": "stream",
     "text": [
      "<class 'pandas.core.series.Series'>\n",
      "RangeIndex: 14740 entries, 0 to 14739\n",
      "Series name: watching\n",
      "Non-Null Count  Dtype \n",
      "--------------  ----- \n",
      "14738 non-null  object\n",
      "dtypes: object(1)\n",
      "memory usage: 115.3+ KB\n"
     ]
    }
   ],
   "source": [
    "df['watching'].info()"
   ]
  },
  {
   "cell_type": "code",
   "execution_count": 232,
   "metadata": {},
   "outputs": [
    {
     "data": {
      "text/plain": [
       "2"
      ]
     },
     "execution_count": 232,
     "metadata": {},
     "output_type": "execute_result"
    }
   ],
   "source": [
    "df['watching'].isnull().sum()"
   ]
  },
  {
   "cell_type": "code",
   "execution_count": 233,
   "metadata": {},
   "outputs": [],
   "source": [
    "df['watching'].fillna('0', inplace=True)"
   ]
  },
  {
   "cell_type": "code",
   "execution_count": 234,
   "metadata": {},
   "outputs": [],
   "source": [
    "def process_int(x):\n",
    "    if len(x) > 0:\n",
    "        x = x.replace(',','')\n",
    "        x = int(x)\n",
    "        return x\n",
    "    else:\n",
    "        return x"
   ]
  },
  {
   "cell_type": "code",
   "execution_count": 235,
   "metadata": {},
   "outputs": [],
   "source": [
    "df['watching'] = df['watching'].apply(process_int)"
   ]
  },
  {
   "cell_type": "code",
   "execution_count": 236,
   "metadata": {},
   "outputs": [
    {
     "name": "stdout",
     "output_type": "stream",
     "text": [
      "<class 'pandas.core.series.Series'>\n",
      "RangeIndex: 14740 entries, 0 to 14739\n",
      "Series name: watching\n",
      "Non-Null Count  Dtype\n",
      "--------------  -----\n",
      "14740 non-null  int64\n",
      "dtypes: int64(1)\n",
      "memory usage: 115.3 KB\n"
     ]
    }
   ],
   "source": [
    "df['watching'].info()"
   ]
  },
  {
   "cell_type": "markdown",
   "metadata": {},
   "source": [
    "# completed:-"
   ]
  },
  {
   "cell_type": "code",
   "execution_count": 237,
   "metadata": {},
   "outputs": [
    {
     "name": "stdout",
     "output_type": "stream",
     "text": [
      "<class 'pandas.core.series.Series'>\n",
      "RangeIndex: 14740 entries, 0 to 14739\n",
      "Series name: completed\n",
      "Non-Null Count  Dtype \n",
      "--------------  ----- \n",
      "14738 non-null  object\n",
      "dtypes: object(1)\n",
      "memory usage: 115.3+ KB\n"
     ]
    }
   ],
   "source": [
    "df['completed'].info()"
   ]
  },
  {
   "cell_type": "code",
   "execution_count": 238,
   "metadata": {},
   "outputs": [
    {
     "data": {
      "text/plain": [
       "2"
      ]
     },
     "execution_count": 238,
     "metadata": {},
     "output_type": "execute_result"
    }
   ],
   "source": [
    "df['completed'].isna().sum()"
   ]
  },
  {
   "cell_type": "code",
   "execution_count": 239,
   "metadata": {},
   "outputs": [],
   "source": [
    "df['completed'].fillna('0', inplace=True)"
   ]
  },
  {
   "cell_type": "code",
   "execution_count": 240,
   "metadata": {},
   "outputs": [],
   "source": [
    "df['completed'] = df['completed'].apply(process_int)"
   ]
  },
  {
   "cell_type": "code",
   "execution_count": 241,
   "metadata": {},
   "outputs": [
    {
     "name": "stdout",
     "output_type": "stream",
     "text": [
      "<class 'pandas.core.series.Series'>\n",
      "RangeIndex: 14740 entries, 0 to 14739\n",
      "Series name: completed\n",
      "Non-Null Count  Dtype\n",
      "--------------  -----\n",
      "14740 non-null  int64\n",
      "dtypes: int64(1)\n",
      "memory usage: 115.3 KB\n"
     ]
    }
   ],
   "source": [
    "df['completed'].info()"
   ]
  },
  {
   "cell_type": "markdown",
   "metadata": {},
   "source": [
    "# on_hold:-"
   ]
  },
  {
   "cell_type": "code",
   "execution_count": 242,
   "metadata": {},
   "outputs": [
    {
     "name": "stdout",
     "output_type": "stream",
     "text": [
      "<class 'pandas.core.series.Series'>\n",
      "RangeIndex: 14740 entries, 0 to 14739\n",
      "Series name: on_hold\n",
      "Non-Null Count  Dtype \n",
      "--------------  ----- \n",
      "14738 non-null  object\n",
      "dtypes: object(1)\n",
      "memory usage: 115.3+ KB\n"
     ]
    }
   ],
   "source": [
    "df['on_hold'].info()"
   ]
  },
  {
   "cell_type": "code",
   "execution_count": 243,
   "metadata": {},
   "outputs": [],
   "source": [
    "df['on_hold'].fillna('0', inplace=True)"
   ]
  },
  {
   "cell_type": "code",
   "execution_count": 244,
   "metadata": {},
   "outputs": [],
   "source": [
    "df['on_hold'] = df['on_hold'].apply(process_int)"
   ]
  },
  {
   "cell_type": "code",
   "execution_count": 245,
   "metadata": {},
   "outputs": [
    {
     "name": "stdout",
     "output_type": "stream",
     "text": [
      "<class 'pandas.core.series.Series'>\n",
      "RangeIndex: 14740 entries, 0 to 14739\n",
      "Series name: on_hold\n",
      "Non-Null Count  Dtype\n",
      "--------------  -----\n",
      "14740 non-null  int64\n",
      "dtypes: int64(1)\n",
      "memory usage: 115.3 KB\n"
     ]
    }
   ],
   "source": [
    "df['on_hold'].info()"
   ]
  },
  {
   "cell_type": "markdown",
   "metadata": {},
   "source": [
    "# dropped:-"
   ]
  },
  {
   "cell_type": "code",
   "execution_count": 246,
   "metadata": {},
   "outputs": [
    {
     "name": "stdout",
     "output_type": "stream",
     "text": [
      "<class 'pandas.core.series.Series'>\n",
      "RangeIndex: 14740 entries, 0 to 14739\n",
      "Series name: dropped\n",
      "Non-Null Count  Dtype \n",
      "--------------  ----- \n",
      "14738 non-null  object\n",
      "dtypes: object(1)\n",
      "memory usage: 115.3+ KB\n"
     ]
    }
   ],
   "source": [
    "df['dropped'].info()"
   ]
  },
  {
   "cell_type": "code",
   "execution_count": 247,
   "metadata": {},
   "outputs": [],
   "source": [
    "df['dropped'].fillna('0', inplace=True)"
   ]
  },
  {
   "cell_type": "code",
   "execution_count": 248,
   "metadata": {},
   "outputs": [],
   "source": [
    "df['dropped'] = df['dropped'].apply(process_int)"
   ]
  },
  {
   "cell_type": "code",
   "execution_count": 249,
   "metadata": {},
   "outputs": [
    {
     "name": "stdout",
     "output_type": "stream",
     "text": [
      "<class 'pandas.core.series.Series'>\n",
      "RangeIndex: 14740 entries, 0 to 14739\n",
      "Series name: dropped\n",
      "Non-Null Count  Dtype\n",
      "--------------  -----\n",
      "14740 non-null  int64\n",
      "dtypes: int64(1)\n",
      "memory usage: 115.3 KB\n"
     ]
    }
   ],
   "source": [
    "df['dropped'].info()"
   ]
  },
  {
   "cell_type": "markdown",
   "metadata": {},
   "source": [
    "# plan_to_watch:-"
   ]
  },
  {
   "cell_type": "code",
   "execution_count": 250,
   "metadata": {},
   "outputs": [
    {
     "name": "stdout",
     "output_type": "stream",
     "text": [
      "<class 'pandas.core.series.Series'>\n",
      "RangeIndex: 14740 entries, 0 to 14739\n",
      "Series name: plan_to_watch\n",
      "Non-Null Count  Dtype \n",
      "--------------  ----- \n",
      "14738 non-null  object\n",
      "dtypes: object(1)\n",
      "memory usage: 115.3+ KB\n"
     ]
    }
   ],
   "source": [
    "df['plan_to_watch'].info()"
   ]
  },
  {
   "cell_type": "code",
   "execution_count": 251,
   "metadata": {},
   "outputs": [
    {
     "data": {
      "text/plain": [
       "2"
      ]
     },
     "execution_count": 251,
     "metadata": {},
     "output_type": "execute_result"
    }
   ],
   "source": [
    "df['plan_to_watch'].isnull().sum()"
   ]
  },
  {
   "cell_type": "code",
   "execution_count": 252,
   "metadata": {},
   "outputs": [],
   "source": [
    "df['plan_to_watch'].fillna('0', inplace=True)"
   ]
  },
  {
   "cell_type": "code",
   "execution_count": 253,
   "metadata": {},
   "outputs": [],
   "source": [
    "df['plan_to_watch'] = df['plan_to_watch'].apply(process_int)"
   ]
  },
  {
   "cell_type": "code",
   "execution_count": 254,
   "metadata": {},
   "outputs": [
    {
     "name": "stdout",
     "output_type": "stream",
     "text": [
      "<class 'pandas.core.series.Series'>\n",
      "RangeIndex: 14740 entries, 0 to 14739\n",
      "Series name: plan_to_watch\n",
      "Non-Null Count  Dtype\n",
      "--------------  -----\n",
      "14740 non-null  int64\n",
      "dtypes: int64(1)\n",
      "memory usage: 115.3 KB\n"
     ]
    }
   ],
   "source": [
    "df['plan_to_watch'].info()"
   ]
  },
  {
   "cell_type": "markdown",
   "metadata": {},
   "source": [
    "# total:-"
   ]
  },
  {
   "cell_type": "code",
   "execution_count": 255,
   "metadata": {},
   "outputs": [
    {
     "name": "stdout",
     "output_type": "stream",
     "text": [
      "<class 'pandas.core.series.Series'>\n",
      "RangeIndex: 14740 entries, 0 to 14739\n",
      "Series name: total\n",
      "Non-Null Count  Dtype \n",
      "--------------  ----- \n",
      "14738 non-null  object\n",
      "dtypes: object(1)\n",
      "memory usage: 115.3+ KB\n"
     ]
    }
   ],
   "source": [
    "df['total'].info()"
   ]
  },
  {
   "cell_type": "code",
   "execution_count": 256,
   "metadata": {},
   "outputs": [],
   "source": [
    "df['total'].fillna('0', inplace=True)"
   ]
  },
  {
   "cell_type": "code",
   "execution_count": 257,
   "metadata": {},
   "outputs": [],
   "source": [
    "df['total'] = df['total'].apply(process_int)"
   ]
  },
  {
   "cell_type": "code",
   "execution_count": 258,
   "metadata": {},
   "outputs": [
    {
     "name": "stdout",
     "output_type": "stream",
     "text": [
      "<class 'pandas.core.series.Series'>\n",
      "RangeIndex: 14740 entries, 0 to 14739\n",
      "Series name: total\n",
      "Non-Null Count  Dtype\n",
      "--------------  -----\n",
      "14740 non-null  int64\n",
      "dtypes: int64(1)\n",
      "memory usage: 115.3 KB\n"
     ]
    }
   ],
   "source": [
    "df['total'].info()"
   ]
  },
  {
   "cell_type": "markdown",
   "metadata": {},
   "source": [
    "# scored_10_by - scored_1_by:-"
   ]
  },
  {
   "cell_type": "code",
   "execution_count": 259,
   "metadata": {},
   "outputs": [],
   "source": [
    "for i in range(1,11):\n",
    "    col = f\"scored_{i}_by\"\n",
    "    df[col] = df[col].fillna(0)"
   ]
  },
  {
   "cell_type": "code",
   "execution_count": 260,
   "metadata": {},
   "outputs": [
    {
     "name": "stdout",
     "output_type": "stream",
     "text": [
      "<class 'pandas.core.frame.DataFrame'>\n",
      "RangeIndex: 14740 entries, 0 to 14739\n",
      "Data columns (total 36 columns):\n",
      " #   Column           Non-Null Count  Dtype  \n",
      "---  ------           --------------  -----  \n",
      " 0   name_english     14740 non-null  object \n",
      " 1   name             14740 non-null  object \n",
      " 2   score            14740 non-null  float64\n",
      " 3   ranked           14740 non-null  int64  \n",
      " 4   popularity       14740 non-null  int64  \n",
      " 5   members          14740 non-null  int64  \n",
      " 6   synopsis         14740 non-null  object \n",
      " 7   synonyms         14740 non-null  object \n",
      " 8   type_of          14740 non-null  object \n",
      " 9   total_episodes   14613 non-null  float64\n",
      " 10  premiered        5104 non-null   object \n",
      " 11  studios          14740 non-null  object \n",
      " 12  genres           14740 non-null  object \n",
      " 13  demographic      5115 non-null   object \n",
      " 14  duration_per_ep  14740 non-null  object \n",
      " 15  rating           14740 non-null  object \n",
      " 16  scored_by        12046 non-null  float64\n",
      " 17  favorites        14740 non-null  int64  \n",
      " 18  aired            14740 non-null  object \n",
      " 19  source           14740 non-null  object \n",
      " 20  watching         14740 non-null  int64  \n",
      " 21  completed        14740 non-null  int64  \n",
      " 22  on_hold          14740 non-null  int64  \n",
      " 23  dropped          14740 non-null  int64  \n",
      " 24  plan_to_watch    14740 non-null  int64  \n",
      " 25  total            14740 non-null  int64  \n",
      " 26  scored_10_by     14740 non-null  float64\n",
      " 27  scored_9_by      14740 non-null  float64\n",
      " 28  scored_8_by      14740 non-null  float64\n",
      " 29  scored_7_by      14740 non-null  float64\n",
      " 30  scored_6_by      14740 non-null  float64\n",
      " 31  scored_5_by      14740 non-null  float64\n",
      " 32  scored_4_by      14740 non-null  float64\n",
      " 33  scored_3_by      14740 non-null  float64\n",
      " 34  scored_2_by      14740 non-null  float64\n",
      " 35  scored_1_by      14740 non-null  float64\n",
      "dtypes: float64(13), int64(10), object(13)\n",
      "memory usage: 4.0+ MB\n"
     ]
    }
   ],
   "source": [
    "df.info()"
   ]
  },
  {
   "cell_type": "code",
   "execution_count": 261,
   "metadata": {},
   "outputs": [],
   "source": [
    "df.to_csv(r'C:\\Users\\22213\\OneDrive\\Desktop\\recani\\recani\\data and model\\test_data_pre_processed.csv', index=False)"
   ]
  },
  {
   "cell_type": "code",
   "execution_count": null,
   "metadata": {},
   "outputs": [],
   "source": []
  }
 ],
 "metadata": {
  "kernelspec": {
   "display_name": "base",
   "language": "python",
   "name": "python3"
  },
  "language_info": {
   "codemirror_mode": {
    "name": "ipython",
    "version": 3
   },
   "file_extension": ".py",
   "mimetype": "text/x-python",
   "name": "python",
   "nbconvert_exporter": "python",
   "pygments_lexer": "ipython3",
   "version": "3.11.5"
  }
 },
 "nbformat": 4,
 "nbformat_minor": 2
}
