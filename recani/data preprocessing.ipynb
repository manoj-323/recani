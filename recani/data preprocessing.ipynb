{
 "cells": [
  {
   "cell_type": "code",
   "execution_count": 71,
   "metadata": {},
   "outputs": [],
   "source": [
    "import pandas as pd\n",
    "import numpy as np\n",
    "import matplotlib.pyplot as plt\n",
    "from IPython.display import display"
   ]
  },
  {
   "cell_type": "code",
   "execution_count": 4,
   "metadata": {},
   "outputs": [],
   "source": [
    "pd.set_option('display.max_colwidth', None)\n",
    "display.max_characters = None"
   ]
  },
  {
   "cell_type": "code",
   "execution_count": 5,
   "metadata": {},
   "outputs": [],
   "source": [
    "df_raw = pd.read_json(r\"C:\\Users\\22213\\OneDrive\\Desktop\\recani\\sorted_data.json\")"
   ]
  },
  {
   "cell_type": "code",
   "execution_count": 6,
   "metadata": {},
   "outputs": [],
   "source": [
    "pd.set_option('display.max_columns', None)\n",
    "pd.reset_option('display.max_colwidth')"
   ]
  },
  {
   "cell_type": "code",
   "execution_count": 7,
   "metadata": {},
   "outputs": [],
   "source": [
    "df = df_raw.drop(columns=['name_english', 'name', 'ranked', 'score', 'synonyms'], axis=1)"
   ]
  },
  {
   "cell_type": "code",
   "execution_count": 8,
   "metadata": {},
   "outputs": [
    {
     "name": "stdout",
     "output_type": "stream",
     "text": [
      "<class 'pandas.core.frame.DataFrame'>\n",
      "RangeIndex: 2249 entries, 0 to 2248\n",
      "Data columns (total 31 columns):\n",
      " #   Column           Non-Null Count  Dtype  \n",
      "---  ------           --------------  -----  \n",
      " 0   popularity       2249 non-null   int64  \n",
      " 1   members          2249 non-null   int64  \n",
      " 2   synopsis         2249 non-null   object \n",
      " 3   type_of          2249 non-null   object \n",
      " 4   total_episodes   2249 non-null   object \n",
      " 5   premiered        1183 non-null   object \n",
      " 6   studios          2249 non-null   object \n",
      " 7   genres           2249 non-null   object \n",
      " 8   demographic      1086 non-null   object \n",
      " 9   duration_per_ep  2249 non-null   object \n",
      " 10  rating           2249 non-null   object \n",
      " 11  scored_by        2249 non-null   int64  \n",
      " 12  favorites        2249 non-null   int64  \n",
      " 13  aired            2249 non-null   object \n",
      " 14  source           2249 non-null   object \n",
      " 15  watching         2249 non-null   object \n",
      " 16  completed        2249 non-null   object \n",
      " 17  on_hold          2249 non-null   object \n",
      " 18  dropped          2249 non-null   object \n",
      " 19  plan_to_watch    2249 non-null   object \n",
      " 20  total            2249 non-null   object \n",
      " 21  scored_10_by     2249 non-null   int64  \n",
      " 22  scored_9_by      2249 non-null   int64  \n",
      " 23  scored_8_by      2249 non-null   int64  \n",
      " 24  scored_7_by      2249 non-null   int64  \n",
      " 25  scored_6_by      2249 non-null   int64  \n",
      " 26  scored_5_by      2249 non-null   int64  \n",
      " 27  scored_4_by      2249 non-null   int64  \n",
      " 28  scored_3_by      2249 non-null   int64  \n",
      " 29  scored_2_by      2247 non-null   float64\n",
      " 30  scored_1_by      2243 non-null   float64\n",
      "dtypes: float64(2), int64(12), object(17)\n",
      "memory usage: 544.8+ KB\n"
     ]
    }
   ],
   "source": [
    "df.info()"
   ]
  },
  {
   "cell_type": "code",
   "execution_count": 9,
   "metadata": {},
   "outputs": [
    {
     "data": {
      "text/plain": [
       "popularity            0\n",
       "members               0\n",
       "synopsis              0\n",
       "type_of               0\n",
       "total_episodes        0\n",
       "premiered          1066\n",
       "studios               0\n",
       "genres                0\n",
       "demographic        1163\n",
       "duration_per_ep       0\n",
       "rating                0\n",
       "scored_by             0\n",
       "favorites             0\n",
       "aired                 0\n",
       "source                0\n",
       "watching              0\n",
       "completed             0\n",
       "on_hold               0\n",
       "dropped               0\n",
       "plan_to_watch         0\n",
       "total                 0\n",
       "scored_10_by          0\n",
       "scored_9_by           0\n",
       "scored_8_by           0\n",
       "scored_7_by           0\n",
       "scored_6_by           0\n",
       "scored_5_by           0\n",
       "scored_4_by           0\n",
       "scored_3_by           0\n",
       "scored_2_by           2\n",
       "scored_1_by           6\n",
       "dtype: int64"
      ]
     },
     "execution_count": 9,
     "metadata": {},
     "output_type": "execute_result"
    }
   ],
   "source": [
    "df.isnull().sum()"
   ]
  },
  {
   "cell_type": "code",
   "execution_count": 10,
   "metadata": {},
   "outputs": [],
   "source": [
    "def synopsis_preprocessing(s):\n",
    "    s = str(s)\n",
    "    s = s.split(' ')\n",
    "    s = ' '.join(s)\n",
    "    s = s.split('.')[0:-1]\n",
    "    s = ' '.join(s)\n",
    "    \n",
    "    return s + '.'"
   ]
  },
  {
   "cell_type": "code",
   "execution_count": 11,
   "metadata": {},
   "outputs": [],
   "source": [
    "df['synopsis'] = df['synopsis'].apply(synopsis_preprocessing)"
   ]
  },
  {
   "cell_type": "code",
   "execution_count": 12,
   "metadata": {},
   "outputs": [
    {
     "data": {
      "text/plain": [
       "type_of\n",
       "TV            1183\n",
       "Movie          502\n",
       "OVA            216\n",
       "ONA            165\n",
       "Special        130\n",
       "TV Special      53\n",
       "Name: count, dtype: int64"
      ]
     },
     "execution_count": 12,
     "metadata": {},
     "output_type": "execute_result"
    }
   ],
   "source": [
    "df['type_of'].value_counts()"
   ]
  },
  {
   "cell_type": "code",
   "execution_count": 23,
   "metadata": {},
   "outputs": [
    {
     "data": {
      "text/plain": [
       "str"
      ]
     },
     "execution_count": 23,
     "metadata": {},
     "output_type": "execute_result"
    }
   ],
   "source": [
    "type(df['type_of'][1])"
   ]
  },
  {
   "cell_type": "code",
   "execution_count": 25,
   "metadata": {},
   "outputs": [
    {
     "data": {
      "text/plain": [
       "1418     1\n",
       "647     24\n",
       "1515    16\n",
       "363      1\n",
       "1148    13\n",
       "1511     1\n",
       "1475    13\n",
       "1727     2\n",
       "1269    13\n",
       "1033    12\n",
       "Name: total_episodes, dtype: object"
      ]
     },
     "execution_count": 25,
     "metadata": {},
     "output_type": "execute_result"
    }
   ],
   "source": [
    "df['total_episodes'].sample(10)"
   ]
  },
  {
   "cell_type": "code",
   "execution_count": 29,
   "metadata": {},
   "outputs": [
    {
     "data": {
      "text/plain": [
       "'64'"
      ]
     },
     "execution_count": 29,
     "metadata": {},
     "output_type": "execute_result"
    }
   ],
   "source": [
    "df['total_episodes'][1]"
   ]
  },
  {
   "cell_type": "code",
   "execution_count": 33,
   "metadata": {},
   "outputs": [
    {
     "data": {
      "text/plain": [
       "array(['28', '64', '24', '51', '10', '1', '148', '13', '110', '12', '201',\n",
       "       '22', '25', '2', '14', '74', '7', '23', '26', '16', '75', '11',\n",
       "       '47', 'Unknown', '4', '43', '27', '37', '39', '101', '8', '99',\n",
       "       '112', '6', '120', '62', '15', '50', '20', '17', '40', '33', '79',\n",
       "       '94', '3', '500', '52', '78', '77', '96', '70', '291', '38', '170',\n",
       "       '237', '203', '104', '63', '102', '21', '45', '5', '103', '49',\n",
       "       '220', '153', '9', '109', '34', '366', '18', '54', '69', '145',\n",
       "       '36', '167', '178', '60', '1787', '35', '113', '373', '76', '155',\n",
       "       '161', '114', '46', '97', '19', '30', '195', '100', '127', '42',\n",
       "       '358', '61', '31', '142', '48', '182', '73', '87', '53', '115',\n",
       "       '175', '136', '150', '86', '140', '124', '29', '147', '224', '44',\n",
       "       '154', '131', '58', '137'], dtype=object)"
      ]
     },
     "execution_count": 33,
     "metadata": {},
     "output_type": "execute_result"
    }
   ],
   "source": [
    "df['total_episodes'].unique()"
   ]
  },
  {
   "cell_type": "code",
   "execution_count": 49,
   "metadata": {},
   "outputs": [
    {
     "data": {
      "text/plain": [
       "0"
      ]
     },
     "execution_count": 49,
     "metadata": {},
     "output_type": "execute_result"
    }
   ],
   "source": [
    "df['total_episodes'][393]"
   ]
  },
  {
   "cell_type": "code",
   "execution_count": 48,
   "metadata": {},
   "outputs": [],
   "source": [
    "df['total_episodes'] = df['total_episodes'].apply(lambda x: int(x) if x != 'Unknown' else 0)"
   ]
  },
  {
   "cell_type": "code",
   "execution_count": 51,
   "metadata": {},
   "outputs": [
    {
     "data": {
      "text/plain": [
       "0"
      ]
     },
     "execution_count": 51,
     "metadata": {},
     "output_type": "execute_result"
    }
   ],
   "source": [
    "df['total_episodes'][393]"
   ]
  },
  {
   "cell_type": "code",
   "execution_count": 67,
   "metadata": {},
   "outputs": [
    {
     "data": {
      "text/plain": [
       "0                   [Adventure, Drama, Fantasy]\n",
       "1           [Action, Adventure, Drama, Fantasy]\n",
       "2                     [Drama, Sci-Fi, Suspense]\n",
       "3                      [Action, Comedy, Sci-Fi]\n",
       "4                     [Action, Drama, Suspense]\n",
       "                         ...                   \n",
       "2244                                         []\n",
       "2245    [Action, Horror, Mystery, Supernatural]\n",
       "2246                           [Action, Sci-Fi]\n",
       "2247                                         []\n",
       "2248                           [Action, Sci-Fi]\n",
       "Name: genres, Length: 2249, dtype: object"
      ]
     },
     "execution_count": 67,
     "metadata": {},
     "output_type": "execute_result"
    }
   ],
   "source": [
    "df['genres']"
   ]
  },
  {
   "cell_type": "code",
   "execution_count": 77,
   "metadata": {},
   "outputs": [],
   "source": [
    "df['genres'] = df['genres'].apply(lambda x: np.nan if len(x) == 0 else x)"
   ]
  },
  {
   "cell_type": "code",
   "execution_count": 80,
   "metadata": {},
   "outputs": [
    {
     "data": {
      "text/plain": [
       "533"
      ]
     },
     "execution_count": 80,
     "metadata": {},
     "output_type": "execute_result"
    }
   ],
   "source": [
    "df['genres'].isnull().sum()"
   ]
  },
  {
   "cell_type": "code",
   "execution_count": 93,
   "metadata": {},
   "outputs": [
    {
     "data": {
      "text/plain": [
       "1163"
      ]
     },
     "execution_count": 93,
     "metadata": {},
     "output_type": "execute_result"
    }
   ],
   "source": [
    "df['demographic'].isnull().sum()"
   ]
  },
  {
   "cell_type": "code",
   "execution_count": 91,
   "metadata": {},
   "outputs": [
    {
     "data": {
      "text/plain": [
       "252"
      ]
     },
     "execution_count": 91,
     "metadata": {},
     "output_type": "execute_result"
    }
   ],
   "source": [
    "both_isnull = df['genres'].isna() & df['demographic'].isna()\n",
    "both_isnull.sum()"
   ]
  },
  {
   "cell_type": "code",
   "execution_count": null,
   "metadata": {},
   "outputs": [],
   "source": []
  }
 ],
 "metadata": {
  "kernelspec": {
   "display_name": "base",
   "language": "python",
   "name": "python3"
  },
  "language_info": {
   "codemirror_mode": {
    "name": "ipython",
    "version": 3
   },
   "file_extension": ".py",
   "mimetype": "text/x-python",
   "name": "python",
   "nbconvert_exporter": "python",
   "pygments_lexer": "ipython3",
   "version": "3.11.5"
  }
 },
 "nbformat": 4,
 "nbformat_minor": 2
}
