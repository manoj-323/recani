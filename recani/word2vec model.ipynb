{
 "cells": [
  {
   "cell_type": "markdown",
   "metadata": {},
   "source": [
    "# multi armed bandit test model:-"
   ]
  },
  {
   "cell_type": "code",
   "execution_count": 1,
   "metadata": {},
   "outputs": [],
   "source": [
    "import pandas as pd \n",
    "import numpy as np"
   ]
  },
  {
   "cell_type": "code",
   "execution_count": 2,
   "metadata": {},
   "outputs": [],
   "source": [
    "df = pd.read_csv('test_data_pre_processed.csv')"
   ]
  },
  {
   "cell_type": "code",
   "execution_count": 3,
   "metadata": {},
   "outputs": [],
   "source": [
    "pd.set_option('display.max_columns', None)\n",
    "display.max_characters = None"
   ]
  },
  {
   "cell_type": "code",
   "execution_count": 4,
   "metadata": {},
   "outputs": [
    {
     "data": {
      "text/html": [
       "<div>\n",
       "<style scoped>\n",
       "    .dataframe tbody tr th:only-of-type {\n",
       "        vertical-align: middle;\n",
       "    }\n",
       "\n",
       "    .dataframe tbody tr th {\n",
       "        vertical-align: top;\n",
       "    }\n",
       "\n",
       "    .dataframe thead th {\n",
       "        text-align: right;\n",
       "    }\n",
       "</style>\n",
       "<table border=\"1\" class=\"dataframe\">\n",
       "  <thead>\n",
       "    <tr style=\"text-align: right;\">\n",
       "      <th></th>\n",
       "      <th>name_english</th>\n",
       "      <th>name</th>\n",
       "      <th>score</th>\n",
       "      <th>ranked</th>\n",
       "      <th>popularity</th>\n",
       "      <th>members</th>\n",
       "      <th>synopsis</th>\n",
       "      <th>synonyms</th>\n",
       "      <th>type_of</th>\n",
       "      <th>total_episodes</th>\n",
       "      <th>premiered</th>\n",
       "      <th>studios</th>\n",
       "      <th>genres</th>\n",
       "      <th>demographic</th>\n",
       "      <th>duration_per_ep</th>\n",
       "      <th>rating</th>\n",
       "      <th>scored_by</th>\n",
       "      <th>favorites</th>\n",
       "      <th>aired</th>\n",
       "      <th>source</th>\n",
       "      <th>watching</th>\n",
       "      <th>completed</th>\n",
       "      <th>on_hold</th>\n",
       "      <th>dropped</th>\n",
       "      <th>plan_to_watch</th>\n",
       "      <th>total</th>\n",
       "      <th>scored_10_by</th>\n",
       "      <th>scored_9_by</th>\n",
       "      <th>scored_8_by</th>\n",
       "      <th>scored_7_by</th>\n",
       "      <th>scored_6_by</th>\n",
       "      <th>scored_5_by</th>\n",
       "      <th>scored_4_by</th>\n",
       "      <th>scored_3_by</th>\n",
       "      <th>scored_2_by</th>\n",
       "      <th>scored_1_by</th>\n",
       "    </tr>\n",
       "  </thead>\n",
       "  <tbody>\n",
       "    <tr>\n",
       "      <th>0</th>\n",
       "      <td>Frieren: Beyond Journey's End</td>\n",
       "      <td>Sousou no Frieren</td>\n",
       "      <td>9.39</td>\n",
       "      <td>1</td>\n",
       "      <td>304</td>\n",
       "      <td>665374</td>\n",
       "      <td>During their decade-long quest to defeat the D...</td>\n",
       "      <td>Frieren at the Funeral</td>\n",
       "      <td>TV</td>\n",
       "      <td>28</td>\n",
       "      <td>Fall 2023</td>\n",
       "      <td>Madhouse</td>\n",
       "      <td>['Adventure', 'Drama', 'Fantasy']</td>\n",
       "      <td>Shounen</td>\n",
       "      <td>24</td>\n",
       "      <td>PG-13 - Teens 13 or older</td>\n",
       "      <td>327897</td>\n",
       "      <td>34885</td>\n",
       "      <td>Sep 29, 2023 to Mar 22, 2024</td>\n",
       "      <td>Manga</td>\n",
       "      <td>260976</td>\n",
       "      <td>231570</td>\n",
       "      <td>9258</td>\n",
       "      <td>6146</td>\n",
       "      <td>157424</td>\n",
       "      <td>665374</td>\n",
       "      <td>198138</td>\n",
       "      <td>78513</td>\n",
       "      <td>31030</td>\n",
       "      <td>9605</td>\n",
       "      <td>3152</td>\n",
       "      <td>1708</td>\n",
       "      <td>718</td>\n",
       "      <td>426</td>\n",
       "      <td>401</td>\n",
       "      <td>4071</td>\n",
       "    </tr>\n",
       "  </tbody>\n",
       "</table>\n",
       "</div>"
      ],
      "text/plain": [
       "                    name_english               name  score  ranked  \\\n",
       "0  Frieren: Beyond Journey's End  Sousou no Frieren   9.39       1   \n",
       "\n",
       "   popularity  members                                           synopsis  \\\n",
       "0         304   665374  During their decade-long quest to defeat the D...   \n",
       "\n",
       "                 synonyms type_of  total_episodes  premiered   studios  \\\n",
       "0  Frieren at the Funeral      TV              28  Fall 2023  Madhouse   \n",
       "\n",
       "                              genres demographic  duration_per_ep  \\\n",
       "0  ['Adventure', 'Drama', 'Fantasy']     Shounen               24   \n",
       "\n",
       "                      rating  scored_by  favorites  \\\n",
       "0  PG-13 - Teens 13 or older     327897      34885   \n",
       "\n",
       "                          aired source  watching  completed  on_hold  dropped  \\\n",
       "0  Sep 29, 2023 to Mar 22, 2024  Manga    260976     231570     9258     6146   \n",
       "\n",
       "   plan_to_watch   total  scored_10_by  scored_9_by  scored_8_by  scored_7_by  \\\n",
       "0         157424  665374        198138        78513        31030         9605   \n",
       "\n",
       "   scored_6_by  scored_5_by  scored_4_by  scored_3_by  scored_2_by  \\\n",
       "0         3152         1708          718          426          401   \n",
       "\n",
       "   scored_1_by  \n",
       "0         4071  "
      ]
     },
     "execution_count": 4,
     "metadata": {},
     "output_type": "execute_result"
    }
   ],
   "source": [
    "df.head(1)"
   ]
  },
  {
   "cell_type": "code",
   "execution_count": 5,
   "metadata": {},
   "outputs": [
    {
     "name": "stdout",
     "output_type": "stream",
     "text": [
      "<class 'pandas.core.frame.DataFrame'>\n",
      "RangeIndex: 2249 entries, 0 to 2248\n",
      "Data columns (total 36 columns):\n",
      " #   Column           Non-Null Count  Dtype  \n",
      "---  ------           --------------  -----  \n",
      " 0   name_english     2249 non-null   object \n",
      " 1   name             2249 non-null   object \n",
      " 2   score            2249 non-null   float64\n",
      " 3   ranked           2249 non-null   int64  \n",
      " 4   popularity       2249 non-null   int64  \n",
      " 5   members          2249 non-null   int64  \n",
      " 6   synopsis         2249 non-null   object \n",
      " 7   synonyms         2249 non-null   object \n",
      " 8   type_of          2249 non-null   object \n",
      " 9   total_episodes   2249 non-null   int64  \n",
      " 10  premiered        2249 non-null   object \n",
      " 11  studios          2249 non-null   object \n",
      " 12  genres           1716 non-null   object \n",
      " 13  demographic      1086 non-null   object \n",
      " 14  duration_per_ep  2249 non-null   int64  \n",
      " 15  rating           2249 non-null   object \n",
      " 16  scored_by        2249 non-null   int64  \n",
      " 17  favorites        2249 non-null   int64  \n",
      " 18  aired            2249 non-null   object \n",
      " 19  source           2249 non-null   object \n",
      " 20  watching         2249 non-null   int64  \n",
      " 21  completed        2249 non-null   int64  \n",
      " 22  on_hold          2249 non-null   int64  \n",
      " 23  dropped          2249 non-null   int64  \n",
      " 24  plan_to_watch    2249 non-null   int64  \n",
      " 25  total            2249 non-null   int64  \n",
      " 26  scored_10_by     2249 non-null   int64  \n",
      " 27  scored_9_by      2249 non-null   int64  \n",
      " 28  scored_8_by      2249 non-null   int64  \n",
      " 29  scored_7_by      2249 non-null   int64  \n",
      " 30  scored_6_by      2249 non-null   int64  \n",
      " 31  scored_5_by      2249 non-null   int64  \n",
      " 32  scored_4_by      2249 non-null   int64  \n",
      " 33  scored_3_by      2249 non-null   int64  \n",
      " 34  scored_2_by      2249 non-null   int64  \n",
      " 35  scored_1_by      2249 non-null   int64  \n",
      "dtypes: float64(1), int64(23), object(12)\n",
      "memory usage: 632.7+ KB\n"
     ]
    }
   ],
   "source": [
    "df.info()"
   ]
  },
  {
   "cell_type": "code",
   "execution_count": 6,
   "metadata": {},
   "outputs": [],
   "source": [
    "from sklearn.preprocessing import MinMaxScaler\n",
    "scaler = MinMaxScaler()"
   ]
  },
  {
   "cell_type": "code",
   "execution_count": 7,
   "metadata": {},
   "outputs": [],
   "source": [
    "columns_to_scale = ['score', 'popularity', 'members', 'duration_per_ep'\n",
    "                              , 'scored_by', 'favorites', 'watching', 'completed', 'on_hold'\n",
    "                              , 'dropped', 'plan_to_watch', 'total', 'scored_1_by', 'scored_2_by'\n",
    "                              ,'scored_3_by','scored_4_by','scored_5_by','scored_6_by','scored_7_by'\n",
    "                              ,'scored_8_by','scored_9_by','scored_10_by', 'total_episodes']"
   ]
  },
  {
   "cell_type": "code",
   "execution_count": 8,
   "metadata": {},
   "outputs": [],
   "source": [
    "scaled_columns = scaler.fit_transform(df[columns_to_scale])\n",
    "df[columns_to_scale] = scaled_columns"
   ]
  },
  {
   "cell_type": "code",
   "execution_count": 9,
   "metadata": {},
   "outputs": [
    {
     "data": {
      "text/html": [
       "<div>\n",
       "<style scoped>\n",
       "    .dataframe tbody tr th:only-of-type {\n",
       "        vertical-align: middle;\n",
       "    }\n",
       "\n",
       "    .dataframe tbody tr th {\n",
       "        vertical-align: top;\n",
       "    }\n",
       "\n",
       "    .dataframe thead th {\n",
       "        text-align: right;\n",
       "    }\n",
       "</style>\n",
       "<table border=\"1\" class=\"dataframe\">\n",
       "  <thead>\n",
       "    <tr style=\"text-align: right;\">\n",
       "      <th></th>\n",
       "      <th>name_english</th>\n",
       "      <th>name</th>\n",
       "      <th>score</th>\n",
       "      <th>ranked</th>\n",
       "      <th>popularity</th>\n",
       "      <th>members</th>\n",
       "      <th>synopsis</th>\n",
       "      <th>synonyms</th>\n",
       "      <th>type_of</th>\n",
       "      <th>total_episodes</th>\n",
       "      <th>premiered</th>\n",
       "      <th>studios</th>\n",
       "      <th>genres</th>\n",
       "      <th>demographic</th>\n",
       "      <th>duration_per_ep</th>\n",
       "      <th>rating</th>\n",
       "      <th>scored_by</th>\n",
       "      <th>favorites</th>\n",
       "      <th>aired</th>\n",
       "      <th>source</th>\n",
       "      <th>watching</th>\n",
       "      <th>completed</th>\n",
       "      <th>on_hold</th>\n",
       "      <th>dropped</th>\n",
       "      <th>plan_to_watch</th>\n",
       "      <th>total</th>\n",
       "      <th>scored_10_by</th>\n",
       "      <th>scored_9_by</th>\n",
       "      <th>scored_8_by</th>\n",
       "      <th>scored_7_by</th>\n",
       "      <th>scored_6_by</th>\n",
       "      <th>scored_5_by</th>\n",
       "      <th>scored_4_by</th>\n",
       "      <th>scored_3_by</th>\n",
       "      <th>scored_2_by</th>\n",
       "      <th>scored_1_by</th>\n",
       "    </tr>\n",
       "  </thead>\n",
       "  <tbody>\n",
       "    <tr>\n",
       "      <th>0</th>\n",
       "      <td>Frieren: Beyond Journey's End</td>\n",
       "      <td>Sousou no Frieren</td>\n",
       "      <td>1.0</td>\n",
       "      <td>1</td>\n",
       "      <td>0.021421</td>\n",
       "      <td>0.169224</td>\n",
       "      <td>During their decade-long quest to defeat the D...</td>\n",
       "      <td>Frieren at the Funeral</td>\n",
       "      <td>TV</td>\n",
       "      <td>0.015669</td>\n",
       "      <td>Fall 2023</td>\n",
       "      <td>Madhouse</td>\n",
       "      <td>['Adventure', 'Drama', 'Fantasy']</td>\n",
       "      <td>Shounen</td>\n",
       "      <td>0.137725</td>\n",
       "      <td>PG-13 - Teens 13 or older</td>\n",
       "      <td>0.117663</td>\n",
       "      <td>0.154921</td>\n",
       "      <td>Sep 29, 2023 to Mar 22, 2024</td>\n",
       "      <td>Manga</td>\n",
       "      <td>0.15735</td>\n",
       "      <td>0.067216</td>\n",
       "      <td>0.033298</td>\n",
       "      <td>0.028787</td>\n",
       "      <td>0.245724</td>\n",
       "      <td>0.169224</td>\n",
       "      <td>0.19453</td>\n",
       "      <td>0.096408</td>\n",
       "      <td>0.04338</td>\n",
       "      <td>0.020112</td>\n",
       "      <td>0.018679</td>\n",
       "      <td>0.02256</td>\n",
       "      <td>0.016262</td>\n",
       "      <td>0.022185</td>\n",
       "      <td>0.039492</td>\n",
       "      <td>0.08047</td>\n",
       "    </tr>\n",
       "  </tbody>\n",
       "</table>\n",
       "</div>"
      ],
      "text/plain": [
       "                    name_english               name  score  ranked  \\\n",
       "0  Frieren: Beyond Journey's End  Sousou no Frieren    1.0       1   \n",
       "\n",
       "   popularity   members                                           synopsis  \\\n",
       "0    0.021421  0.169224  During their decade-long quest to defeat the D...   \n",
       "\n",
       "                 synonyms type_of  total_episodes  premiered   studios  \\\n",
       "0  Frieren at the Funeral      TV        0.015669  Fall 2023  Madhouse   \n",
       "\n",
       "                              genres demographic  duration_per_ep  \\\n",
       "0  ['Adventure', 'Drama', 'Fantasy']     Shounen         0.137725   \n",
       "\n",
       "                      rating  scored_by  favorites  \\\n",
       "0  PG-13 - Teens 13 or older   0.117663   0.154921   \n",
       "\n",
       "                          aired source  watching  completed   on_hold  \\\n",
       "0  Sep 29, 2023 to Mar 22, 2024  Manga   0.15735   0.067216  0.033298   \n",
       "\n",
       "    dropped  plan_to_watch     total  scored_10_by  scored_9_by  scored_8_by  \\\n",
       "0  0.028787       0.245724  0.169224       0.19453     0.096408      0.04338   \n",
       "\n",
       "   scored_7_by  scored_6_by  scored_5_by  scored_4_by  scored_3_by  \\\n",
       "0     0.020112     0.018679      0.02256     0.016262     0.022185   \n",
       "\n",
       "   scored_2_by  scored_1_by  \n",
       "0     0.039492      0.08047  "
      ]
     },
     "execution_count": 9,
     "metadata": {},
     "output_type": "execute_result"
    }
   ],
   "source": [
    "df.head(1)"
   ]
  },
  {
   "cell_type": "code",
   "execution_count": 10,
   "metadata": {},
   "outputs": [],
   "source": [
    "from sklearn.preprocessing import LabelEncoder\n",
    "label_encoder = LabelEncoder()"
   ]
  },
  {
   "cell_type": "code",
   "execution_count": 11,
   "metadata": {},
   "outputs": [],
   "source": [
    "columns_to_encode = ['type_of', 'studios', 'rating', 'source']"
   ]
  },
  {
   "cell_type": "code",
   "execution_count": 12,
   "metadata": {},
   "outputs": [
    {
     "name": "stdout",
     "output_type": "stream",
     "text": [
      "Movie --> 0\n",
      "ONA --> 1\n",
      "OVA --> 2\n",
      "Special --> 3\n",
      "TV --> 4\n",
      "TV Special --> 5\n",
      "G - All Ages --> 0\n",
      "PG - Children --> 1\n",
      "PG-13 - Teens 13 or older --> 2\n",
      "R - 17+ (violence & profanity) --> 3\n",
      "R+ - Mild Nudity --> 4\n",
      "4-koma manga --> 0\n",
      "Book --> 1\n",
      "Card game --> 2\n",
      "Game --> 3\n",
      "Light novel --> 4\n",
      "Manga --> 5\n",
      "Mixed media --> 6\n",
      "Music --> 7\n",
      "Novel --> 8\n",
      "Original --> 9\n",
      "Other --> 10\n",
      "Picture book --> 11\n",
      "Unknown --> 12\n",
      "Visual novel --> 13\n",
      "Web manga --> 14\n",
      "Web novel --> 15\n"
     ]
    }
   ],
   "source": [
    "for column in columns_to_encode:\n",
    "    df[column] = label_encoder.fit_transform(df[column])\n",
    "    for original_value, encoded_value in zip(label_encoder.classes_,\n",
    "                                             label_encoder.transform(label_encoder.classes_)):\n",
    "        if column != 'studios':\n",
    "            print(f'{original_value} --> {encoded_value}')"
   ]
  },
  {
   "cell_type": "code",
   "execution_count": 13,
   "metadata": {},
   "outputs": [],
   "source": [
    "df['demographic'] = df['demographic'].apply(lambda x: [x])"
   ]
  },
  {
   "cell_type": "code",
   "execution_count": 14,
   "metadata": {},
   "outputs": [
    {
     "data": {
      "text/html": [
       "<div>\n",
       "<style scoped>\n",
       "    .dataframe tbody tr th:only-of-type {\n",
       "        vertical-align: middle;\n",
       "    }\n",
       "\n",
       "    .dataframe tbody tr th {\n",
       "        vertical-align: top;\n",
       "    }\n",
       "\n",
       "    .dataframe thead th {\n",
       "        text-align: right;\n",
       "    }\n",
       "</style>\n",
       "<table border=\"1\" class=\"dataframe\">\n",
       "  <thead>\n",
       "    <tr style=\"text-align: right;\">\n",
       "      <th></th>\n",
       "      <th>name_english</th>\n",
       "      <th>name</th>\n",
       "      <th>score</th>\n",
       "      <th>ranked</th>\n",
       "      <th>popularity</th>\n",
       "      <th>members</th>\n",
       "      <th>synopsis</th>\n",
       "      <th>synonyms</th>\n",
       "      <th>type_of</th>\n",
       "      <th>total_episodes</th>\n",
       "      <th>premiered</th>\n",
       "      <th>studios</th>\n",
       "      <th>genres</th>\n",
       "      <th>demographic</th>\n",
       "      <th>duration_per_ep</th>\n",
       "      <th>rating</th>\n",
       "      <th>scored_by</th>\n",
       "      <th>favorites</th>\n",
       "      <th>aired</th>\n",
       "      <th>source</th>\n",
       "      <th>watching</th>\n",
       "      <th>completed</th>\n",
       "      <th>on_hold</th>\n",
       "      <th>dropped</th>\n",
       "      <th>plan_to_watch</th>\n",
       "      <th>total</th>\n",
       "      <th>scored_10_by</th>\n",
       "      <th>scored_9_by</th>\n",
       "      <th>scored_8_by</th>\n",
       "      <th>scored_7_by</th>\n",
       "      <th>scored_6_by</th>\n",
       "      <th>scored_5_by</th>\n",
       "      <th>scored_4_by</th>\n",
       "      <th>scored_3_by</th>\n",
       "      <th>scored_2_by</th>\n",
       "      <th>scored_1_by</th>\n",
       "    </tr>\n",
       "  </thead>\n",
       "  <tbody>\n",
       "    <tr>\n",
       "      <th>0</th>\n",
       "      <td>Frieren: Beyond Journey's End</td>\n",
       "      <td>Sousou no Frieren</td>\n",
       "      <td>1.0</td>\n",
       "      <td>1</td>\n",
       "      <td>0.021421</td>\n",
       "      <td>0.169224</td>\n",
       "      <td>During their decade-long quest to defeat the D...</td>\n",
       "      <td>Frieren at the Funeral</td>\n",
       "      <td>4</td>\n",
       "      <td>0.015669</td>\n",
       "      <td>Fall 2023</td>\n",
       "      <td>99</td>\n",
       "      <td>['Adventure', 'Drama', 'Fantasy']</td>\n",
       "      <td>[Shounen]</td>\n",
       "      <td>0.137725</td>\n",
       "      <td>2</td>\n",
       "      <td>0.117663</td>\n",
       "      <td>0.154921</td>\n",
       "      <td>Sep 29, 2023 to Mar 22, 2024</td>\n",
       "      <td>5</td>\n",
       "      <td>0.15735</td>\n",
       "      <td>0.067216</td>\n",
       "      <td>0.033298</td>\n",
       "      <td>0.028787</td>\n",
       "      <td>0.245724</td>\n",
       "      <td>0.169224</td>\n",
       "      <td>0.19453</td>\n",
       "      <td>0.096408</td>\n",
       "      <td>0.04338</td>\n",
       "      <td>0.020112</td>\n",
       "      <td>0.018679</td>\n",
       "      <td>0.02256</td>\n",
       "      <td>0.016262</td>\n",
       "      <td>0.022185</td>\n",
       "      <td>0.039492</td>\n",
       "      <td>0.08047</td>\n",
       "    </tr>\n",
       "  </tbody>\n",
       "</table>\n",
       "</div>"
      ],
      "text/plain": [
       "                    name_english               name  score  ranked  \\\n",
       "0  Frieren: Beyond Journey's End  Sousou no Frieren    1.0       1   \n",
       "\n",
       "   popularity   members                                           synopsis  \\\n",
       "0    0.021421  0.169224  During their decade-long quest to defeat the D...   \n",
       "\n",
       "                 synonyms  type_of  total_episodes  premiered  studios  \\\n",
       "0  Frieren at the Funeral        4        0.015669  Fall 2023       99   \n",
       "\n",
       "                              genres demographic  duration_per_ep  rating  \\\n",
       "0  ['Adventure', 'Drama', 'Fantasy']   [Shounen]         0.137725       2   \n",
       "\n",
       "   scored_by  favorites                         aired  source  watching  \\\n",
       "0   0.117663   0.154921  Sep 29, 2023 to Mar 22, 2024       5   0.15735   \n",
       "\n",
       "   completed   on_hold   dropped  plan_to_watch     total  scored_10_by  \\\n",
       "0   0.067216  0.033298  0.028787       0.245724  0.169224       0.19453   \n",
       "\n",
       "   scored_9_by  scored_8_by  scored_7_by  scored_6_by  scored_5_by  \\\n",
       "0     0.096408      0.04338     0.020112     0.018679      0.02256   \n",
       "\n",
       "   scored_4_by  scored_3_by  scored_2_by  scored_1_by  \n",
       "0     0.016262     0.022185     0.039492      0.08047  "
      ]
     },
     "execution_count": 14,
     "metadata": {},
     "output_type": "execute_result"
    }
   ],
   "source": [
    "df.head(1)"
   ]
  },
  {
   "cell_type": "code",
   "execution_count": 15,
   "metadata": {},
   "outputs": [
    {
     "data": {
      "text/plain": [
       "\"['Action', 'Adventure', 'Drama', 'Fantasy']\""
      ]
     },
     "execution_count": 15,
     "metadata": {},
     "output_type": "execute_result"
    }
   ],
   "source": [
    "df['genres'][1]"
   ]
  },
  {
   "cell_type": "code",
   "execution_count": 16,
   "metadata": {},
   "outputs": [
    {
     "data": {
      "text/plain": [
       "float"
      ]
     },
     "execution_count": 16,
     "metadata": {},
     "output_type": "execute_result"
    }
   ],
   "source": [
    "type(df['genres'][18])"
   ]
  },
  {
   "cell_type": "code",
   "execution_count": 17,
   "metadata": {},
   "outputs": [],
   "source": [
    "import ast"
   ]
  },
  {
   "cell_type": "code",
   "execution_count": 18,
   "metadata": {},
   "outputs": [],
   "source": [
    "def convert_to_list_genres(x):\n",
    "    if type(x) != float:\n",
    "        return ', '.join(ast.literal_eval(x))\n",
    "    else:\n",
    "        return np.nan"
   ]
  },
  {
   "cell_type": "code",
   "execution_count": 19,
   "metadata": {},
   "outputs": [],
   "source": [
    "df['genres'] = df['genres'].apply(convert_to_list_genres)"
   ]
  },
  {
   "cell_type": "code",
   "execution_count": 20,
   "metadata": {},
   "outputs": [],
   "source": [
    "def convert_to_list_demographic(x):\n",
    "    if not any(pd.isna(a) for a in x):\n",
    "        return ', ' + ''.join(x)\n",
    "    else:\n",
    "        return ' '"
   ]
  },
  {
   "cell_type": "code",
   "execution_count": 21,
   "metadata": {},
   "outputs": [],
   "source": [
    "df['demographic'] = df['demographic'].apply(convert_to_list_demographic)"
   ]
  },
  {
   "cell_type": "code",
   "execution_count": 22,
   "metadata": {},
   "outputs": [],
   "source": [
    "df['genres'] = df['genres'].fillna('')\n",
    "df['demographic'] = df['demographic'].fillna('')"
   ]
  },
  {
   "cell_type": "code",
   "execution_count": 23,
   "metadata": {},
   "outputs": [],
   "source": [
    "df['input_string'] = df['synopsis'] + df['genres'] + df['demographic'] + '.'"
   ]
  },
  {
   "cell_type": "code",
   "execution_count": 24,
   "metadata": {},
   "outputs": [
    {
     "data": {
      "text/plain": [
       "str"
      ]
     },
     "execution_count": 24,
     "metadata": {},
     "output_type": "execute_result"
    }
   ],
   "source": [
    "type(df['input_string'][1])"
   ]
  },
  {
   "cell_type": "code",
   "execution_count": 25,
   "metadata": {},
   "outputs": [
    {
     "name": "stdout",
     "output_type": "stream",
     "text": [
      "Vector representation of the input text:\n",
      "[ 0.00039649 -0.08897507 -0.05507783 -0.0022598   0.02653845 -0.11690407\n",
      " -0.09370015  0.24769704  0.05279854  0.10204865  0.13963778 -0.03665578\n",
      " -0.16734226  0.21131837 -0.1489577   0.03570432  0.14925194  0.00805638\n",
      "  0.09716093  0.20798    -0.10672931  0.00105799  0.21750534  0.06010168\n",
      "  0.03139285 -0.00213563 -0.09631073 -0.02221072  0.01715595 -0.21049678\n",
      " -0.08925093 -0.03368755 -0.08514642 -0.12187527 -0.04018488  0.15390976\n",
      "  0.25958106 -0.01339234 -0.0193119  -0.17861581 -0.08507733  0.0401076\n",
      " -0.03677237 -0.11121926  0.12831908 -0.01295116 -0.01685846 -0.00881071\n",
      " -0.05909091  0.1799434  -0.13047722  0.06545381 -0.19079997 -0.04398747\n",
      " -0.01146095  0.08297081  0.02620373  0.0661348  -0.05353316 -0.09566001\n",
      " -0.03121903 -0.10304926  0.0142815  -0.0066358   0.08139457 -0.12814108\n",
      " -0.02506838 -0.10670366 -0.26744863 -0.24591534  0.12056129  0.1582024\n",
      "  0.01435232 -0.22272436 -0.04500875 -0.07593312 -0.01771766  0.01970077\n",
      " -0.26406854  0.16325949  0.08943857 -0.24079725 -0.16183257  0.30474097\n",
      " -0.05826707  0.08688808  0.00373688  0.14172201  0.17277184 -0.13000372\n",
      "  0.11866341 -0.12812996 -0.0248076   0.0242192   0.18596263 -0.00565915\n",
      "  0.04259019 -0.03642017 -0.08597871  0.20195492  0.00134387 -0.02598369\n",
      "  0.13737279  0.02246587 -0.14556554 -0.08289741  0.21903917  0.09900255\n",
      " -0.3957936  -0.18076852 -0.07157175 -0.04784524  0.06260858 -0.07035721\n",
      " -0.07191982  0.15734519  0.0994411   0.09511828  0.03988665 -0.18953647\n",
      "  0.03543629  0.11563079  0.21844353 -0.0377701   0.0430521   0.16644368\n",
      "  0.0485439  -0.0270099  -0.09341477  0.11359809  0.20735659  0.106893\n",
      " -0.0338659  -0.08876431  0.10101546  0.02692774 -0.22618476  0.04771944\n",
      " -0.11228447  0.05589975  0.16020043 -0.06369697  0.02425747  0.19842808\n",
      "  0.22675231  0.17868224 -0.08008344 -0.10708924  0.20055202 -0.15039082]\n"
     ]
    }
   ],
   "source": [
    "import re\n",
    "import nltk\n",
    "from nltk.corpus import stopwords\n",
    "from gensim.models import Word2Vec\n",
    "\n",
    "model = Word2Vec.load(r'C:\\Users\\22213\\OneDrive\\Desktop\\recani\\recani\\Word2Vec_local.bin')\n",
    "\n",
    "def preprocess_text(text):\n",
    "    # Convert text to lowercase\n",
    "    text = text.lower()\n",
    "    \n",
    "    # Remove numbers\n",
    "    text = re.sub(r'\\d+', '', text)\n",
    "    \n",
    "    # Remove punctuation\n",
    "    text = re.sub(r'[^\\w\\s]', '', text)\n",
    "    \n",
    "    # Tokenize the text into words\n",
    "    words = nltk.word_tokenize(text)\n",
    "    \n",
    "    # Remove stopwords\n",
    "    words = [word for word in words if word not in stopwords.words('english')]\n",
    "    \n",
    "    return words\n",
    "\n",
    "def get_text_vector(text, model):\n",
    "    # Preprocess the text\n",
    "    processed_text = preprocess_text(text)\n",
    "    \n",
    "    # Initialize an empty vector\n",
    "    text_vector = []\n",
    "    \n",
    "    # Iterate over each word in the processed text\n",
    "    for word in processed_text:\n",
    "        # Check if the word is in the vocabulary of the Word2Vec model\n",
    "        if word in model.wv.key_to_index:\n",
    "            # Get the word vector from the model and append it to the text vector\n",
    "            text_vector.append(model.wv[word])\n",
    "    \n",
    "    # Calculate the mean of all word vectors to get the text vector\n",
    "    if text_vector:\n",
    "        text_vector = sum(text_vector) / len(text_vector)\n",
    "    \n",
    "    return text_vector\n",
    "\n",
    "# Example usage:\n",
    "# Input text\n",
    "text = \"After a horrific alchemy experiment goes wrong in the Elric household, brothers Edward and Alphonse are left in a catastrophic new reality.\"\n",
    "\n",
    "# Get vector for input text\n",
    "text_vector = get_text_vector(text, model)\n",
    "\n",
    "# Print the vector\n",
    "print(\"Vector representation of the input text:\")\n",
    "print(text_vector)"
   ]
  },
  {
   "cell_type": "code",
   "execution_count": 26,
   "metadata": {},
   "outputs": [],
   "source": [
    "df['anime_vector'] = df['input_string'].apply(lambda x: get_text_vector(x, model))"
   ]
  },
  {
   "cell_type": "code",
   "execution_count": 27,
   "metadata": {},
   "outputs": [],
   "source": [
    "df = df[['anime_vector', 'synopsis', 'name_english']]"
   ]
  },
  {
   "cell_type": "code",
   "execution_count": 28,
   "metadata": {},
   "outputs": [
    {
     "name": "stdout",
     "output_type": "stream",
     "text": [
      "<class 'pandas.core.frame.DataFrame'>\n",
      "RangeIndex: 2249 entries, 0 to 2248\n",
      "Data columns (total 3 columns):\n",
      " #   Column        Non-Null Count  Dtype \n",
      "---  ------        --------------  ----- \n",
      " 0   anime_vector  2249 non-null   object\n",
      " 1   synopsis      2249 non-null   object\n",
      " 2   name_english  2249 non-null   object\n",
      "dtypes: object(3)\n",
      "memory usage: 52.8+ KB\n"
     ]
    }
   ],
   "source": [
    "df.info()"
   ]
  },
  {
   "cell_type": "code",
   "execution_count": 29,
   "metadata": {},
   "outputs": [],
   "source": [
    "from sklearn.metrics.pairwise import cosine_similarity"
   ]
  },
  {
   "cell_type": "code",
   "execution_count": 30,
   "metadata": {},
   "outputs": [],
   "source": [
    "vectors = np.array(df['anime_vector'].tolist())"
   ]
  },
  {
   "cell_type": "code",
   "execution_count": 31,
   "metadata": {},
   "outputs": [],
   "source": [
    "similarity_matrix = cosine_similarity(vectors, vectors)"
   ]
  },
  {
   "cell_type": "code",
   "execution_count": 32,
   "metadata": {},
   "outputs": [],
   "source": [
    "pd.set_option('display.max_columns', None)\n",
    "display.max_characters = None"
   ]
  },
  {
   "cell_type": "code",
   "execution_count": 33,
   "metadata": {},
   "outputs": [
    {
     "data": {
      "text/plain": [
       "array([[0.9999998 , 0.9987232 , 0.9988794 , ..., 0.99618435, 0.9957906 ,\n",
       "        0.9972232 ],\n",
       "       [0.9987232 , 1.0000001 , 0.9996892 , ..., 0.99669486, 0.9951665 ,\n",
       "        0.9983008 ],\n",
       "       [0.9988794 , 0.9996892 , 0.99999994, ..., 0.99757403, 0.9968106 ,\n",
       "        0.99896675],\n",
       "       ...,\n",
       "       [0.99618435, 0.99669486, 0.99757403, ..., 1.        , 0.9987388 ,\n",
       "        0.99886996],\n",
       "       [0.9957906 , 0.9951665 , 0.9968106 , ..., 0.9987388 , 1.        ,\n",
       "        0.9984904 ],\n",
       "       [0.9972232 , 0.9983008 , 0.99896675, ..., 0.99886996, 0.9984904 ,\n",
       "        0.9999998 ]], dtype=float32)"
      ]
     },
     "execution_count": 33,
     "metadata": {},
     "output_type": "execute_result"
    }
   ],
   "source": [
    "similarity_matrix"
   ]
  },
  {
   "cell_type": "code",
   "execution_count": 73,
   "metadata": {},
   "outputs": [],
   "source": [
    "def recommend(anime):\n",
    "    anime_index = df[df['name_english'] == anime].index[0]\n",
    "    distances = similarity_matrix[anime_index]\n",
    "    anime_list = sorted(list(enumerate(distances)), reverse=True, key = lambda x:x[1])[1:4]\n",
    "    for i in anime_list:\n",
    "        print(df.iloc[i[0]].name_english)"
   ]
  },
  {
   "cell_type": "code",
   "execution_count": 74,
   "metadata": {},
   "outputs": [
    {
     "data": {
      "text/plain": [
       "[(1011, 0.9998376), (2045, 0.9998018), (1066, 0.999794)]"
      ]
     },
     "execution_count": 74,
     "metadata": {},
     "output_type": "execute_result"
    }
   ],
   "source": [
    "recommend(\"One Piece\")"
   ]
  },
  {
   "cell_type": "code",
   "execution_count": 83,
   "metadata": {},
   "outputs": [
    {
     "ename": "AttributeError",
     "evalue": "'str' object has no attribute 'user_feedback'",
     "output_type": "error",
     "traceback": [
      "\u001b[1;31m---------------------------------------------------------------------------\u001b[0m",
      "\u001b[1;31mAttributeError\u001b[0m                            Traceback (most recent call last)",
      "Cell \u001b[1;32mIn[83], line 55\u001b[0m\n\u001b[0;32m     48\u001b[0m             anime_3 \u001b[38;5;241m=\u001b[39m \u001b[38;5;28minput\u001b[39m(\u001b[38;5;124m'\u001b[39m\u001b[38;5;124mRate anime 3:\u001b[39m\u001b[38;5;124m'\u001b[39m)\n\u001b[0;32m     53\u001b[0m \u001b[38;5;66;03m# Example usage:\u001b[39;00m\n\u001b[0;32m     54\u001b[0m \u001b[38;5;66;03m# Initialize the bandit algorithm with your dataframe\u001b[39;00m\n\u001b[1;32m---> 55\u001b[0m bandit \u001b[38;5;241m=\u001b[39m \u001b[43mBanditAlgorithm\u001b[49m\u001b[43m(\u001b[49m\u001b[43minitial_title\u001b[49m\u001b[38;5;241;43m=\u001b[39;49m\u001b[38;5;124;43m'\u001b[39;49m\u001b[38;5;124;43mOne Piece\u001b[39;49m\u001b[38;5;124;43m'\u001b[39;49m\u001b[43m)\u001b[49m\n\u001b[0;32m     56\u001b[0m bandit\u001b[38;5;241m.\u001b[39minteract()\n\u001b[0;32m     57\u001b[0m \u001b[38;5;66;03m# # First recommendation\u001b[39;00m\n\u001b[0;32m     58\u001b[0m \u001b[38;5;66;03m# first_recommendation = bandit.initialize()\u001b[39;00m\n\u001b[0;32m     59\u001b[0m \u001b[38;5;66;03m# print(\"First recommendation:\", first_recommendation)\u001b[39;00m\n\u001b[1;32m   (...)\u001b[0m\n\u001b[0;32m     70\u001b[0m \u001b[38;5;66;03m#     feedback = 1  # Example: User liked the recommendation\u001b[39;00m\n\u001b[0;32m     71\u001b[0m \u001b[38;5;66;03m#     bandit.update(recommendation, feedback)\u001b[39;00m\n",
      "Cell \u001b[1;32mIn[83], line 3\u001b[0m, in \u001b[0;36mBanditAlgorithm.__init__\u001b[1;34m(self, initial_title)\u001b[0m\n\u001b[0;32m      2\u001b[0m \u001b[38;5;28;01mdef\u001b[39;00m \u001b[38;5;21m__init__\u001b[39m(\u001b[38;5;28mself\u001b[39m, initial_title):\n\u001b[1;32m----> 3\u001b[0m     \u001b[38;5;28mself\u001b[39m\u001b[38;5;241m.\u001b[39mrecommendations \u001b[38;5;241m=\u001b[39m \u001b[43mrecommend\u001b[49m\u001b[43m(\u001b[49m\u001b[43minitial_title\u001b[49m\u001b[43m)\u001b[49m\n\u001b[0;32m      4\u001b[0m     \u001b[38;5;28mself\u001b[39m\u001b[38;5;241m.\u001b[39mnum_rounds \u001b[38;5;241m=\u001b[39m \u001b[38;5;241m0\u001b[39m\n\u001b[0;32m      5\u001b[0m     \u001b[38;5;28mself\u001b[39m\u001b[38;5;241m.\u001b[39muser_feedback \u001b[38;5;241m=\u001b[39m {}\n",
      "Cell \u001b[1;32mIn[82], line 23\u001b[0m, in \u001b[0;36mrecommend\u001b[1;34m(self)\u001b[0m\n\u001b[0;32m     21\u001b[0m exploration_constant \u001b[38;5;241m=\u001b[39m \u001b[38;5;241m2.0\u001b[39m  \u001b[38;5;66;03m# You can adjust this exploration constant\u001b[39;00m\n\u001b[0;32m     22\u001b[0m ucb_values \u001b[38;5;241m=\u001b[39m {}\n\u001b[1;32m---> 23\u001b[0m \u001b[38;5;28;01mfor\u001b[39;00m anime, feedback_info \u001b[38;5;129;01min\u001b[39;00m \u001b[38;5;28;43mself\u001b[39;49m\u001b[38;5;241;43m.\u001b[39;49m\u001b[43muser_feedback\u001b[49m\u001b[38;5;241m.\u001b[39mitems():\n\u001b[0;32m     24\u001b[0m     \u001b[38;5;28;01mif\u001b[39;00m feedback_info[\u001b[38;5;124m'\u001b[39m\u001b[38;5;124mnum_feedback\u001b[39m\u001b[38;5;124m'\u001b[39m] \u001b[38;5;241m==\u001b[39m \u001b[38;5;241m0\u001b[39m:\n\u001b[0;32m     25\u001b[0m         \u001b[38;5;66;03m# If no feedback received, explore by default\u001b[39;00m\n\u001b[0;32m     26\u001b[0m         ucb_values[anime] \u001b[38;5;241m=\u001b[39m \u001b[38;5;28mfloat\u001b[39m(\u001b[38;5;124m'\u001b[39m\u001b[38;5;124minf\u001b[39m\u001b[38;5;124m'\u001b[39m)\n",
      "\u001b[1;31mAttributeError\u001b[0m: 'str' object has no attribute 'user_feedback'"
     ]
    }
   ],
   "source": [
    "class BanditAlgorithm:\n",
    "    def __init__(self, initial_title):\n",
    "        self.recommendations = recommend(initial_title)\n",
    "        self.num_rounds = 0\n",
    "        self.user_feedback = {}\n",
    "\n",
    "    # def initialize(self):\n",
    "    #     # Recommend an initial anime title\n",
    "    #     initial_anime = df.sample(1).iloc[0]['name_english']\n",
    "    #     self.num_rounds += 1\n",
    "    #     return initial_anime\n",
    "\n",
    "    def update(self, anime, feedback):\n",
    "        # Update user feedback for the recommended anime\n",
    "        if anime in self.user_feedback:\n",
    "            self.user_feedback[anime]['sum_feedback'] += feedback\n",
    "            self.user_feedback[anime]['num_feedback'] += 1\n",
    "        else:\n",
    "            self.user_feedback[anime] = {'sum_feedback': feedback, 'num_feedback': 1}\n",
    "\n",
    "    def recommend(self):\n",
    "        # UCB1 exploration-exploitation strategy\n",
    "        exploration_constant = 2.0  # You can adjust this exploration constant\n",
    "        ucb_values = {}\n",
    "        for anime, feedback_info in self.user_feedback.items():\n",
    "            if feedback_info['num_feedback'] == 0:\n",
    "                # If no feedback received, explore by default\n",
    "                ucb_values[anime] = float('inf')\n",
    "            else:\n",
    "                average_feedback = feedback_info['sum_feedback'] / feedback_info['num_feedback']\n",
    "                exploration_term = np.sqrt((2 * np.log(self.num_rounds)) / feedback_info['num_feedback'])\n",
    "                ucb_values[anime] = average_feedback + exploration_constant * exploration_term\n",
    "        \n",
    "        # Select the anime with the highest UCB value\n",
    "        recommended_anime = max(ucb_values, key=ucb_values.get)\n",
    "        self.num_rounds += 1\n",
    "        return recommended_anime\n",
    "    \n",
    "    def interact(self):\n",
    "\n",
    "        i = 99\n",
    "        while i == 99:\n",
    "            for i in self.recommendations:\n",
    "                print(df.iloc[i[0]].name_english)\n",
    "\n",
    "            anime_1 = input('Rate anime 1:')\n",
    "            anime_2 = input('Rate anime 2:')\n",
    "            anime_3 = input('Rate anime 3:')\n",
    "\n",
    "\n",
    "\n",
    "\n",
    "# Example usage:\n",
    "# Initialize the bandit algorithm with your dataframe\n",
    "bandit = BanditAlgorithm(initial_title='One Piece')\n",
    "bandit.interact()\n",
    "# # First recommendation\n",
    "# first_recommendation = bandit.initialize()\n",
    "# print(\"First recommendation:\", first_recommendation)\n",
    "\n",
    "# # Get user feedback for the recommended anime (0 or 1)\n",
    "# feedback = 1  # Example: User liked the recommendation\n",
    "# bandit.update(first_recommendation, feedback)\n",
    "\n",
    "# # Get subsequent recommendations\n",
    "# for _ in range(10):  # Example: 10 rounds\n",
    "#     recommendation = bandit.recommend()\n",
    "#     print(\"Recommendation:\", recommendation)\n",
    "#     # Get user feedback and update the bandit algorithm accordingly\n",
    "#     feedback = 1  # Example: User liked the recommendation\n",
    "#     bandit.update(recommendation, feedback)"
   ]
  },
  {
   "cell_type": "code",
   "execution_count": 90,
   "metadata": {},
   "outputs": [],
   "source": [
    "# import pickle\n",
    "\n",
    "# with open('similarity_matrix.pkl', 'wb') as f:\n",
    "#     pickle.dump(similarity_matrix, f)"
   ]
  },
  {
   "cell_type": "code",
   "execution_count": 91,
   "metadata": {},
   "outputs": [],
   "source": [
    "# df.to_csv('word2vec_prac_dataset.csv', index=False)"
   ]
  },
  {
   "cell_type": "code",
   "execution_count": null,
   "metadata": {},
   "outputs": [],
   "source": []
  }
 ],
 "metadata": {
  "kernelspec": {
   "display_name": "base",
   "language": "python",
   "name": "python3"
  },
  "language_info": {
   "codemirror_mode": {
    "name": "ipython",
    "version": 3
   },
   "file_extension": ".py",
   "mimetype": "text/x-python",
   "name": "python",
   "nbconvert_exporter": "python",
   "pygments_lexer": "ipython3",
   "version": "3.11.5"
  }
 },
 "nbformat": 4,
 "nbformat_minor": 2
}
