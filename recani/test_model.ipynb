{
 "cells": [
  {
   "cell_type": "code",
   "execution_count": 30,
   "metadata": {},
   "outputs": [],
   "source": [
    "import pandas as pd\n",
    "import numpy as np\n",
    "import matplotlib.pyplot as plt"
   ]
  },
  {
   "cell_type": "code",
   "execution_count": 31,
   "metadata": {},
   "outputs": [],
   "source": [
    "df = pd.read_csv('test_data_pre_processed.csv')"
   ]
  },
  {
   "cell_type": "code",
   "execution_count": 62,
   "metadata": {},
   "outputs": [],
   "source": [
    "pd.set_option('display.max_columns', None)\n",
    "display.max_characters = None"
   ]
  },
  {
   "cell_type": "code",
   "execution_count": 33,
   "metadata": {},
   "outputs": [
    {
     "data": {
      "text/html": [
       "<div>\n",
       "<style scoped>\n",
       "    .dataframe tbody tr th:only-of-type {\n",
       "        vertical-align: middle;\n",
       "    }\n",
       "\n",
       "    .dataframe tbody tr th {\n",
       "        vertical-align: top;\n",
       "    }\n",
       "\n",
       "    .dataframe thead th {\n",
       "        text-align: right;\n",
       "    }\n",
       "</style>\n",
       "<table border=\"1\" class=\"dataframe\">\n",
       "  <thead>\n",
       "    <tr style=\"text-align: right;\">\n",
       "      <th></th>\n",
       "      <th>name_english</th>\n",
       "      <th>name</th>\n",
       "      <th>score</th>\n",
       "      <th>ranked</th>\n",
       "      <th>popularity</th>\n",
       "      <th>members</th>\n",
       "      <th>synopsis</th>\n",
       "      <th>synonyms</th>\n",
       "      <th>type_of</th>\n",
       "      <th>total_episodes</th>\n",
       "      <th>premiered</th>\n",
       "      <th>studios</th>\n",
       "      <th>genres</th>\n",
       "      <th>demographic</th>\n",
       "      <th>duration_per_ep</th>\n",
       "      <th>rating</th>\n",
       "      <th>scored_by</th>\n",
       "      <th>favorites</th>\n",
       "      <th>aired</th>\n",
       "      <th>source</th>\n",
       "      <th>watching</th>\n",
       "      <th>completed</th>\n",
       "      <th>on_hold</th>\n",
       "      <th>dropped</th>\n",
       "      <th>plan_to_watch</th>\n",
       "      <th>total</th>\n",
       "      <th>scored_10_by</th>\n",
       "      <th>scored_9_by</th>\n",
       "      <th>scored_8_by</th>\n",
       "      <th>scored_7_by</th>\n",
       "      <th>scored_6_by</th>\n",
       "      <th>scored_5_by</th>\n",
       "      <th>scored_4_by</th>\n",
       "      <th>scored_3_by</th>\n",
       "      <th>scored_2_by</th>\n",
       "      <th>scored_1_by</th>\n",
       "    </tr>\n",
       "  </thead>\n",
       "  <tbody>\n",
       "    <tr>\n",
       "      <th>0</th>\n",
       "      <td>Frieren: Beyond Journey's End</td>\n",
       "      <td>Sousou no Frieren</td>\n",
       "      <td>9.39</td>\n",
       "      <td>1</td>\n",
       "      <td>304</td>\n",
       "      <td>665374</td>\n",
       "      <td>During their decade-long quest to defeat the D...</td>\n",
       "      <td>Frieren at the Funeral</td>\n",
       "      <td>TV</td>\n",
       "      <td>28</td>\n",
       "      <td>Fall 2023</td>\n",
       "      <td>Madhouse</td>\n",
       "      <td>['Adventure', 'Drama', 'Fantasy']</td>\n",
       "      <td>Shounen</td>\n",
       "      <td>24</td>\n",
       "      <td>PG-13 - Teens 13 or older</td>\n",
       "      <td>327897</td>\n",
       "      <td>34885</td>\n",
       "      <td>Sep 29, 2023 to Mar 22, 2024</td>\n",
       "      <td>Manga</td>\n",
       "      <td>260976</td>\n",
       "      <td>231570</td>\n",
       "      <td>9258</td>\n",
       "      <td>6146</td>\n",
       "      <td>157424</td>\n",
       "      <td>665374</td>\n",
       "      <td>198138</td>\n",
       "      <td>78513</td>\n",
       "      <td>31030</td>\n",
       "      <td>9605</td>\n",
       "      <td>3152</td>\n",
       "      <td>1708</td>\n",
       "      <td>718</td>\n",
       "      <td>426</td>\n",
       "      <td>401</td>\n",
       "      <td>4071</td>\n",
       "    </tr>\n",
       "    <tr>\n",
       "      <th>1</th>\n",
       "      <td>Fullmetal Alchemist: Brotherhood</td>\n",
       "      <td>Fullmetal Alchemist: Brotherhood</td>\n",
       "      <td>9.09</td>\n",
       "      <td>2</td>\n",
       "      <td>3</td>\n",
       "      <td>3329888</td>\n",
       "      <td>After a horrific alchemy experiment goes wrong...</td>\n",
       "      <td>Hagane no Renkinjutsushi: Fullmetal Alchemist,...</td>\n",
       "      <td>TV</td>\n",
       "      <td>64</td>\n",
       "      <td>Spring 2009</td>\n",
       "      <td>Bones</td>\n",
       "      <td>['Action', 'Adventure', 'Drama', 'Fantasy']</td>\n",
       "      <td>Shounen</td>\n",
       "      <td>24</td>\n",
       "      <td>R - 17+ (violence &amp; profanity)</td>\n",
       "      <td>2111351</td>\n",
       "      <td>225168</td>\n",
       "      <td>Apr 5, 2009 to Jul 4, 2010</td>\n",
       "      <td>Manga</td>\n",
       "      <td>258017</td>\n",
       "      <td>2406628</td>\n",
       "      <td>112300</td>\n",
       "      <td>58838</td>\n",
       "      <td>494105</td>\n",
       "      <td>3329888</td>\n",
       "      <td>1018339</td>\n",
       "      <td>578855</td>\n",
       "      <td>297427</td>\n",
       "      <td>106822</td>\n",
       "      <td>31924</td>\n",
       "      <td>15527</td>\n",
       "      <td>5653</td>\n",
       "      <td>2758</td>\n",
       "      <td>3456</td>\n",
       "      <td>50590</td>\n",
       "    </tr>\n",
       "  </tbody>\n",
       "</table>\n",
       "</div>"
      ],
      "text/plain": [
       "                       name_english                              name  score  \\\n",
       "0     Frieren: Beyond Journey's End                 Sousou no Frieren   9.39   \n",
       "1  Fullmetal Alchemist: Brotherhood  Fullmetal Alchemist: Brotherhood   9.09   \n",
       "\n",
       "   ranked  popularity  members  \\\n",
       "0       1         304   665374   \n",
       "1       2           3  3329888   \n",
       "\n",
       "                                            synopsis  \\\n",
       "0  During their decade-long quest to defeat the D...   \n",
       "1  After a horrific alchemy experiment goes wrong...   \n",
       "\n",
       "                                            synonyms type_of  total_episodes  \\\n",
       "0                             Frieren at the Funeral      TV              28   \n",
       "1  Hagane no Renkinjutsushi: Fullmetal Alchemist,...      TV              64   \n",
       "\n",
       "     premiered   studios                                       genres  \\\n",
       "0    Fall 2023  Madhouse            ['Adventure', 'Drama', 'Fantasy']   \n",
       "1  Spring 2009     Bones  ['Action', 'Adventure', 'Drama', 'Fantasy']   \n",
       "\n",
       "  demographic  duration_per_ep                          rating  scored_by  \\\n",
       "0     Shounen               24       PG-13 - Teens 13 or older     327897   \n",
       "1     Shounen               24  R - 17+ (violence & profanity)    2111351   \n",
       "\n",
       "   favorites                         aired source  watching  completed  \\\n",
       "0      34885  Sep 29, 2023 to Mar 22, 2024  Manga    260976     231570   \n",
       "1     225168    Apr 5, 2009 to Jul 4, 2010  Manga    258017    2406628   \n",
       "\n",
       "   on_hold  dropped  plan_to_watch    total  scored_10_by  scored_9_by  \\\n",
       "0     9258     6146         157424   665374        198138        78513   \n",
       "1   112300    58838         494105  3329888       1018339       578855   \n",
       "\n",
       "   scored_8_by  scored_7_by  scored_6_by  scored_5_by  scored_4_by  \\\n",
       "0        31030         9605         3152         1708          718   \n",
       "1       297427       106822        31924        15527         5653   \n",
       "\n",
       "   scored_3_by  scored_2_by  scored_1_by  \n",
       "0          426          401         4071  \n",
       "1         2758         3456        50590  "
      ]
     },
     "execution_count": 33,
     "metadata": {},
     "output_type": "execute_result"
    }
   ],
   "source": [
    "df.head(2)"
   ]
  },
  {
   "cell_type": "code",
   "execution_count": 34,
   "metadata": {},
   "outputs": [
    {
     "name": "stdout",
     "output_type": "stream",
     "text": [
      "<class 'pandas.core.frame.DataFrame'>\n",
      "RangeIndex: 2249 entries, 0 to 2248\n",
      "Data columns (total 36 columns):\n",
      " #   Column           Non-Null Count  Dtype  \n",
      "---  ------           --------------  -----  \n",
      " 0   name_english     2249 non-null   object \n",
      " 1   name             2249 non-null   object \n",
      " 2   score            2249 non-null   float64\n",
      " 3   ranked           2249 non-null   int64  \n",
      " 4   popularity       2249 non-null   int64  \n",
      " 5   members          2249 non-null   int64  \n",
      " 6   synopsis         2249 non-null   object \n",
      " 7   synonyms         2249 non-null   object \n",
      " 8   type_of          2249 non-null   object \n",
      " 9   total_episodes   2249 non-null   int64  \n",
      " 10  premiered        2249 non-null   object \n",
      " 11  studios          2249 non-null   object \n",
      " 12  genres           1716 non-null   object \n",
      " 13  demographic      1086 non-null   object \n",
      " 14  duration_per_ep  2249 non-null   int64  \n",
      " 15  rating           2249 non-null   object \n",
      " 16  scored_by        2249 non-null   int64  \n",
      " 17  favorites        2249 non-null   int64  \n",
      " 18  aired            2249 non-null   object \n",
      " 19  source           2249 non-null   object \n",
      " 20  watching         2249 non-null   int64  \n",
      " 21  completed        2249 non-null   int64  \n",
      " 22  on_hold          2249 non-null   int64  \n",
      " 23  dropped          2249 non-null   int64  \n",
      " 24  plan_to_watch    2249 non-null   int64  \n",
      " 25  total            2249 non-null   int64  \n",
      " 26  scored_10_by     2249 non-null   int64  \n",
      " 27  scored_9_by      2249 non-null   int64  \n",
      " 28  scored_8_by      2249 non-null   int64  \n",
      " 29  scored_7_by      2249 non-null   int64  \n",
      " 30  scored_6_by      2249 non-null   int64  \n",
      " 31  scored_5_by      2249 non-null   int64  \n",
      " 32  scored_4_by      2249 non-null   int64  \n",
      " 33  scored_3_by      2249 non-null   int64  \n",
      " 34  scored_2_by      2249 non-null   int64  \n",
      " 35  scored_1_by      2249 non-null   int64  \n",
      "dtypes: float64(1), int64(23), object(12)\n",
      "memory usage: 632.7+ KB\n"
     ]
    }
   ],
   "source": [
    "df.info()"
   ]
  },
  {
   "cell_type": "code",
   "execution_count": 35,
   "metadata": {},
   "outputs": [],
   "source": [
    "df_textual = df.drop(columns=['score', 'ranked', 'popularity', 'members', 'duration_per_ep'\n",
    "                              , 'scored_by', 'favorites', 'watching', 'completed', 'on_hold'\n",
    "                              , 'dropped', 'plan_to_watch', 'total', 'scored_1_by', 'scored_2_by'\n",
    "                              ,'scored_3_by','scored_4_by','scored_5_by','scored_6_by','scored_7_by'\n",
    "                              ,'scored_8_by','scored_9_by','scored_10_by', 'total_episodes'])\n",
    "df_numerical = df[['name', 'score', 'ranked', 'popularity', 'members', 'duration_per_ep'\n",
    "                              , 'scored_by', 'favorites', 'watching', 'completed', 'on_hold'\n",
    "                              , 'dropped', 'plan_to_watch', 'total', 'scored_1_by', 'scored_2_by'\n",
    "                              ,'scored_3_by','scored_4_by','scored_5_by','scored_6_by','scored_7_by'\n",
    "                              ,'scored_8_by','scored_9_by','scored_10_by', 'total_episodes']]"
   ]
  },
  {
   "cell_type": "code",
   "execution_count": 36,
   "metadata": {},
   "outputs": [
    {
     "name": "stdout",
     "output_type": "stream",
     "text": [
      "<class 'pandas.core.frame.DataFrame'>\n",
      "RangeIndex: 2249 entries, 0 to 2248\n",
      "Data columns (total 12 columns):\n",
      " #   Column        Non-Null Count  Dtype \n",
      "---  ------        --------------  ----- \n",
      " 0   name_english  2249 non-null   object\n",
      " 1   name          2249 non-null   object\n",
      " 2   synopsis      2249 non-null   object\n",
      " 3   synonyms      2249 non-null   object\n",
      " 4   type_of       2249 non-null   object\n",
      " 5   premiered     2249 non-null   object\n",
      " 6   studios       2249 non-null   object\n",
      " 7   genres        1716 non-null   object\n",
      " 8   demographic   1086 non-null   object\n",
      " 9   rating        2249 non-null   object\n",
      " 10  aired         2249 non-null   object\n",
      " 11  source        2249 non-null   object\n",
      "dtypes: object(12)\n",
      "memory usage: 211.0+ KB\n"
     ]
    }
   ],
   "source": [
    "df_textual.info()"
   ]
  },
  {
   "cell_type": "code",
   "execution_count": 37,
   "metadata": {},
   "outputs": [],
   "source": [
    "df_textual['genres'].fillna('genrel', inplace=True)\n",
    "df_textual['demographic'].fillna('genrel', inplace=True)"
   ]
  },
  {
   "cell_type": "code",
   "execution_count": 38,
   "metadata": {},
   "outputs": [
    {
     "name": "stdout",
     "output_type": "stream",
     "text": [
      "<class 'pandas.core.frame.DataFrame'>\n",
      "RangeIndex: 2249 entries, 0 to 2248\n",
      "Data columns (total 25 columns):\n",
      " #   Column           Non-Null Count  Dtype  \n",
      "---  ------           --------------  -----  \n",
      " 0   name             2249 non-null   object \n",
      " 1   score            2249 non-null   float64\n",
      " 2   ranked           2249 non-null   int64  \n",
      " 3   popularity       2249 non-null   int64  \n",
      " 4   members          2249 non-null   int64  \n",
      " 5   duration_per_ep  2249 non-null   int64  \n",
      " 6   scored_by        2249 non-null   int64  \n",
      " 7   favorites        2249 non-null   int64  \n",
      " 8   watching         2249 non-null   int64  \n",
      " 9   completed        2249 non-null   int64  \n",
      " 10  on_hold          2249 non-null   int64  \n",
      " 11  dropped          2249 non-null   int64  \n",
      " 12  plan_to_watch    2249 non-null   int64  \n",
      " 13  total            2249 non-null   int64  \n",
      " 14  scored_1_by      2249 non-null   int64  \n",
      " 15  scored_2_by      2249 non-null   int64  \n",
      " 16  scored_3_by      2249 non-null   int64  \n",
      " 17  scored_4_by      2249 non-null   int64  \n",
      " 18  scored_5_by      2249 non-null   int64  \n",
      " 19  scored_6_by      2249 non-null   int64  \n",
      " 20  scored_7_by      2249 non-null   int64  \n",
      " 21  scored_8_by      2249 non-null   int64  \n",
      " 22  scored_9_by      2249 non-null   int64  \n",
      " 23  scored_10_by     2249 non-null   int64  \n",
      " 24  total_episodes   2249 non-null   int64  \n",
      "dtypes: float64(1), int64(23), object(1)\n",
      "memory usage: 439.4+ KB\n"
     ]
    }
   ],
   "source": [
    "df_numerical.info()"
   ]
  },
  {
   "cell_type": "code",
   "execution_count": 39,
   "metadata": {},
   "outputs": [
    {
     "data": {
      "text/html": [
       "<div>\n",
       "<style scoped>\n",
       "    .dataframe tbody tr th:only-of-type {\n",
       "        vertical-align: middle;\n",
       "    }\n",
       "\n",
       "    .dataframe tbody tr th {\n",
       "        vertical-align: top;\n",
       "    }\n",
       "\n",
       "    .dataframe thead th {\n",
       "        text-align: right;\n",
       "    }\n",
       "</style>\n",
       "<table border=\"1\" class=\"dataframe\">\n",
       "  <thead>\n",
       "    <tr style=\"text-align: right;\">\n",
       "      <th></th>\n",
       "      <th>name_english</th>\n",
       "      <th>name</th>\n",
       "      <th>synopsis</th>\n",
       "      <th>synonyms</th>\n",
       "      <th>type_of</th>\n",
       "      <th>premiered</th>\n",
       "      <th>studios</th>\n",
       "      <th>genres</th>\n",
       "      <th>demographic</th>\n",
       "      <th>rating</th>\n",
       "      <th>aired</th>\n",
       "      <th>source</th>\n",
       "    </tr>\n",
       "  </thead>\n",
       "  <tbody>\n",
       "    <tr>\n",
       "      <th>0</th>\n",
       "      <td>Frieren: Beyond Journey's End</td>\n",
       "      <td>Sousou no Frieren</td>\n",
       "      <td>During their decade-long quest to defeat the D...</td>\n",
       "      <td>Frieren at the Funeral</td>\n",
       "      <td>TV</td>\n",
       "      <td>Fall 2023</td>\n",
       "      <td>Madhouse</td>\n",
       "      <td>['Adventure', 'Drama', 'Fantasy']</td>\n",
       "      <td>Shounen</td>\n",
       "      <td>PG-13 - Teens 13 or older</td>\n",
       "      <td>Sep 29, 2023 to Mar 22, 2024</td>\n",
       "      <td>Manga</td>\n",
       "    </tr>\n",
       "  </tbody>\n",
       "</table>\n",
       "</div>"
      ],
      "text/plain": [
       "                    name_english               name  \\\n",
       "0  Frieren: Beyond Journey's End  Sousou no Frieren   \n",
       "\n",
       "                                            synopsis                synonyms  \\\n",
       "0  During their decade-long quest to defeat the D...  Frieren at the Funeral   \n",
       "\n",
       "  type_of  premiered   studios                             genres demographic  \\\n",
       "0      TV  Fall 2023  Madhouse  ['Adventure', 'Drama', 'Fantasy']     Shounen   \n",
       "\n",
       "                      rating                         aired source  \n",
       "0  PG-13 - Teens 13 or older  Sep 29, 2023 to Mar 22, 2024  Manga  "
      ]
     },
     "execution_count": 39,
     "metadata": {},
     "output_type": "execute_result"
    }
   ],
   "source": [
    "df_textual.head(1)"
   ]
  },
  {
   "cell_type": "code",
   "execution_count": 40,
   "metadata": {},
   "outputs": [],
   "source": [
    "df_textual['synopsis'] = df_textual['synopsis'].apply(lambda x: x.split(' '))\n",
    "\n",
    "df_textual['type_of'] = df_textual['type_of'].apply(lambda x: [x])\n",
    "\n",
    "df_textual['premiered'] = df_textual['premiered'].apply(lambda x: x.replace(' ', ''))\n",
    "df_textual['premiered'] = df_textual['premiered'].apply(lambda x: [x])\n",
    "\n",
    "df_textual['studios'] = df_textual['studios'].apply(lambda x: x.replace(' ', ''))\n",
    "df_textual['studios'] = df_textual['studios'].apply(lambda x: [x])\n",
    "\n",
    "df_textual['demographic'] = df_textual['demographic'].apply(lambda x: [x])\n",
    "\n",
    "df_textual['rating'] = df_textual['rating'].apply(lambda x: x.replace(' ', ''))\n",
    "df_textual['rating'] = df_textual['rating'].apply(lambda x: [x])\n",
    "\n",
    "df_textual['aired'] = df_textual['aired'].apply(lambda x: x.replace(' ', ''))\n",
    "df_textual['aired'] = df_textual['aired'].apply(lambda x: [x])\n",
    "\n",
    "df_textual['source'] = df_textual['source'].apply(lambda x: [x])"
   ]
  },
  {
   "cell_type": "code",
   "execution_count": 41,
   "metadata": {},
   "outputs": [],
   "source": [
    "df_textual['tags'] = df_textual['synopsis'] + df_textual['type_of'] + df_textual['premiered'] + df_textual['studios'] + df_textual['demographic'] + df_textual['rating'] + df_textual['aired'] + df_textual['source']"
   ]
  },
  {
   "cell_type": "code",
   "execution_count": 42,
   "metadata": {},
   "outputs": [
    {
     "data": {
      "text/html": [
       "<div>\n",
       "<style scoped>\n",
       "    .dataframe tbody tr th:only-of-type {\n",
       "        vertical-align: middle;\n",
       "    }\n",
       "\n",
       "    .dataframe tbody tr th {\n",
       "        vertical-align: top;\n",
       "    }\n",
       "\n",
       "    .dataframe thead th {\n",
       "        text-align: right;\n",
       "    }\n",
       "</style>\n",
       "<table border=\"1\" class=\"dataframe\">\n",
       "  <thead>\n",
       "    <tr style=\"text-align: right;\">\n",
       "      <th></th>\n",
       "      <th>name_english</th>\n",
       "      <th>name</th>\n",
       "      <th>synopsis</th>\n",
       "      <th>synonyms</th>\n",
       "      <th>type_of</th>\n",
       "      <th>premiered</th>\n",
       "      <th>studios</th>\n",
       "      <th>genres</th>\n",
       "      <th>demographic</th>\n",
       "      <th>rating</th>\n",
       "      <th>aired</th>\n",
       "      <th>source</th>\n",
       "      <th>tags</th>\n",
       "    </tr>\n",
       "  </thead>\n",
       "  <tbody>\n",
       "    <tr>\n",
       "      <th>0</th>\n",
       "      <td>Frieren: Beyond Journey's End</td>\n",
       "      <td>Sousou no Frieren</td>\n",
       "      <td>[During, their, decade-long, quest, to, defeat...</td>\n",
       "      <td>Frieren at the Funeral</td>\n",
       "      <td>[TV]</td>\n",
       "      <td>[Fall2023]</td>\n",
       "      <td>[Madhouse]</td>\n",
       "      <td>['Adventure', 'Drama', 'Fantasy']</td>\n",
       "      <td>[Shounen]</td>\n",
       "      <td>[PG-13-Teens13orolder]</td>\n",
       "      <td>[Sep29,2023toMar22,2024]</td>\n",
       "      <td>[Manga]</td>\n",
       "      <td>[During, their, decade-long, quest, to, defeat...</td>\n",
       "    </tr>\n",
       "    <tr>\n",
       "      <th>1</th>\n",
       "      <td>Fullmetal Alchemist: Brotherhood</td>\n",
       "      <td>Fullmetal Alchemist: Brotherhood</td>\n",
       "      <td>[After, a, horrific, alchemy, experiment, goes...</td>\n",
       "      <td>Hagane no Renkinjutsushi: Fullmetal Alchemist,...</td>\n",
       "      <td>[TV]</td>\n",
       "      <td>[Spring2009]</td>\n",
       "      <td>[Bones]</td>\n",
       "      <td>['Action', 'Adventure', 'Drama', 'Fantasy']</td>\n",
       "      <td>[Shounen]</td>\n",
       "      <td>[R-17+(violence&amp;profanity)]</td>\n",
       "      <td>[Apr5,2009toJul4,2010]</td>\n",
       "      <td>[Manga]</td>\n",
       "      <td>[After, a, horrific, alchemy, experiment, goes...</td>\n",
       "    </tr>\n",
       "  </tbody>\n",
       "</table>\n",
       "</div>"
      ],
      "text/plain": [
       "                       name_english                              name  \\\n",
       "0     Frieren: Beyond Journey's End                 Sousou no Frieren   \n",
       "1  Fullmetal Alchemist: Brotherhood  Fullmetal Alchemist: Brotherhood   \n",
       "\n",
       "                                            synopsis  \\\n",
       "0  [During, their, decade-long, quest, to, defeat...   \n",
       "1  [After, a, horrific, alchemy, experiment, goes...   \n",
       "\n",
       "                                            synonyms type_of     premiered  \\\n",
       "0                             Frieren at the Funeral    [TV]    [Fall2023]   \n",
       "1  Hagane no Renkinjutsushi: Fullmetal Alchemist,...    [TV]  [Spring2009]   \n",
       "\n",
       "      studios                                       genres demographic  \\\n",
       "0  [Madhouse]            ['Adventure', 'Drama', 'Fantasy']   [Shounen]   \n",
       "1     [Bones]  ['Action', 'Adventure', 'Drama', 'Fantasy']   [Shounen]   \n",
       "\n",
       "                        rating                     aired   source  \\\n",
       "0       [PG-13-Teens13orolder]  [Sep29,2023toMar22,2024]  [Manga]   \n",
       "1  [R-17+(violence&profanity)]    [Apr5,2009toJul4,2010]  [Manga]   \n",
       "\n",
       "                                                tags  \n",
       "0  [During, their, decade-long, quest, to, defeat...  \n",
       "1  [After, a, horrific, alchemy, experiment, goes...  "
      ]
     },
     "execution_count": 42,
     "metadata": {},
     "output_type": "execute_result"
    }
   ],
   "source": [
    "df_textual.head(2)"
   ]
  },
  {
   "cell_type": "code",
   "execution_count": 43,
   "metadata": {},
   "outputs": [],
   "source": [
    "new_df_textual = df_textual[['name_english', 'tags']]"
   ]
  },
  {
   "cell_type": "code",
   "execution_count": 45,
   "metadata": {},
   "outputs": [
    {
     "name": "stderr",
     "output_type": "stream",
     "text": [
      "C:\\Users\\22213\\AppData\\Local\\Temp\\ipykernel_18392\\2591287708.py:1: SettingWithCopyWarning: \n",
      "A value is trying to be set on a copy of a slice from a DataFrame.\n",
      "Try using .loc[row_indexer,col_indexer] = value instead\n",
      "\n",
      "See the caveats in the documentation: https://pandas.pydata.org/pandas-docs/stable/user_guide/indexing.html#returning-a-view-versus-a-copy\n",
      "  new_df_textual['tags'] = new_df_textual['tags'].apply(lambda x: ' '.join(x))\n"
     ]
    }
   ],
   "source": [
    "new_df_textual['tags'] = new_df_textual['tags'].apply(lambda x: ' '.join(x))"
   ]
  },
  {
   "cell_type": "code",
   "execution_count": 71,
   "metadata": {},
   "outputs": [],
   "source": [
    "import nltk"
   ]
  },
  {
   "cell_type": "code",
   "execution_count": 72,
   "metadata": {},
   "outputs": [],
   "source": [
    "from nltk.stem.porter import PorterStemmer\n",
    "ps = PorterStemmer()"
   ]
  },
  {
   "cell_type": "code",
   "execution_count": 73,
   "metadata": {},
   "outputs": [],
   "source": [
    "def stem(text):\n",
    "    y = []\n",
    "    for i in text.split():\n",
    "        y.append(ps.stem(i))\n",
    "    return \" \".join(y)"
   ]
  },
  {
   "cell_type": "code",
   "execution_count": 74,
   "metadata": {},
   "outputs": [
    {
     "name": "stderr",
     "output_type": "stream",
     "text": [
      "C:\\Users\\22213\\AppData\\Local\\Temp\\ipykernel_18392\\3626470454.py:1: SettingWithCopyWarning: \n",
      "A value is trying to be set on a copy of a slice from a DataFrame.\n",
      "Try using .loc[row_indexer,col_indexer] = value instead\n",
      "\n",
      "See the caveats in the documentation: https://pandas.pydata.org/pandas-docs/stable/user_guide/indexing.html#returning-a-view-versus-a-copy\n",
      "  new_df_textual['tags'] = new_df_textual['tags'].apply(stem)\n"
     ]
    }
   ],
   "source": [
    "new_df_textual['tags'] = new_df_textual['tags'].apply(stem)"
   ]
  },
  {
   "cell_type": "code",
   "execution_count": 75,
   "metadata": {},
   "outputs": [
    {
     "data": {
      "text/plain": [
       "\"after a horrif alchemi experi goe wrong in the elric household, brother edward and alphons are left in a catastroph new realiti ignor the alchem principl ban human transmutation, the boy attempt to bring their recent deceas mother back to life instead, they suffer brutal person loss: alphonse' bodi disintegr while edward lost a leg and then sacrif an arm to keep alphonse' soul in the physic realm by bind it to a hulk suit of armor the brother are rescu by their neighbor pinako rockbel and her granddaught winri known as a bio-mechan engin prodigy, winri creat prosthet limb for edward by util automail, a tough, versatil metal use in robot and combat armor after year of training, the elric brother set off on a quest to restor their bodi by locat the philosopher' stone—a power gem that allow an alchemist to defi the tradit law of equival exchang as edward becom an infam alchemist and gain the nicknam fullmetal, the boys' journey embroil them in a grow conspiraci that threaten the fate of the world. tv spring2009 bone shounen r-17+(violence&profanity) apr5,2009tojul4,2010 manga\""
      ]
     },
     "execution_count": 75,
     "metadata": {},
     "output_type": "execute_result"
    }
   ],
   "source": [
    "new_df_textual['tags'][1]"
   ]
  },
  {
   "cell_type": "code",
   "execution_count": 76,
   "metadata": {},
   "outputs": [
    {
     "name": "stderr",
     "output_type": "stream",
     "text": [
      "C:\\Users\\22213\\AppData\\Local\\Temp\\ipykernel_18392\\2301676182.py:1: SettingWithCopyWarning: \n",
      "A value is trying to be set on a copy of a slice from a DataFrame.\n",
      "Try using .loc[row_indexer,col_indexer] = value instead\n",
      "\n",
      "See the caveats in the documentation: https://pandas.pydata.org/pandas-docs/stable/user_guide/indexing.html#returning-a-view-versus-a-copy\n",
      "  new_df_textual['tags'] = new_df_textual['tags'].apply(lambda x: x.lower())\n"
     ]
    }
   ],
   "source": [
    "new_df_textual['tags'] = new_df_textual['tags'].apply(lambda x: x.lower())"
   ]
  },
  {
   "cell_type": "code",
   "execution_count": 81,
   "metadata": {},
   "outputs": [],
   "source": [
    "from sklearn.feature_extraction.text import CountVectorizer\n",
    "cv = CountVectorizer(max_features=5000, stop_words='english')"
   ]
  },
  {
   "cell_type": "code",
   "execution_count": 82,
   "metadata": {},
   "outputs": [],
   "source": [
    "vectors = cv.fit_transform(new_df_textual['tags']).toarray()"
   ]
  },
  {
   "cell_type": "code",
   "execution_count": 83,
   "metadata": {},
   "outputs": [
    {
     "data": {
      "text/plain": [
       "(2249, 5000)"
      ]
     },
     "execution_count": 83,
     "metadata": {},
     "output_type": "execute_result"
    }
   ],
   "source": [
    "vectors.shape"
   ]
  },
  {
   "cell_type": "code",
   "execution_count": 84,
   "metadata": {},
   "outputs": [
    {
     "data": {
      "text/plain": [
       "array(['000', '01', '10', ..., 'zodiac', 'zombi', 'zone'], dtype=object)"
      ]
     },
     "execution_count": 84,
     "metadata": {},
     "output_type": "execute_result"
    }
   ],
   "source": [
    "cv.get_feature_names_out()"
   ]
  },
  {
   "cell_type": "code",
   "execution_count": 85,
   "metadata": {},
   "outputs": [],
   "source": [
    "from sklearn.metrics.pairwise import cosine_similarity"
   ]
  },
  {
   "cell_type": "code",
   "execution_count": null,
   "metadata": {},
   "outputs": [],
   "source": []
  }
 ],
 "metadata": {
  "kernelspec": {
   "display_name": "base",
   "language": "python",
   "name": "python3"
  },
  "language_info": {
   "codemirror_mode": {
    "name": "ipython",
    "version": 3
   },
   "file_extension": ".py",
   "mimetype": "text/x-python",
   "name": "python",
   "nbconvert_exporter": "python",
   "pygments_lexer": "ipython3",
   "version": "3.11.5"
  }
 },
 "nbformat": 4,
 "nbformat_minor": 2
}
