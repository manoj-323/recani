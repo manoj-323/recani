{
 "cells": [
  {
   "cell_type": "code",
   "execution_count": 3,
   "metadata": {},
   "outputs": [],
   "source": [
    "import pandas as pd \n",
    "import numpy as np"
   ]
  },
  {
   "cell_type": "code",
   "execution_count": 4,
   "metadata": {},
   "outputs": [],
   "source": [
    "df = pd.read_csv(r'C:\\Users\\22213\\OneDrive\\Desktop\\recani\\recani\\data and model\\test_data_pre_processed.csv')"
   ]
  },
  {
   "cell_type": "code",
   "execution_count": 5,
   "metadata": {},
   "outputs": [],
   "source": [
    "pd.set_option('display.max_columns', None)\n",
    "display.max_characters = None"
   ]
  },
  {
   "cell_type": "code",
   "execution_count": 6,
   "metadata": {},
   "outputs": [
    {
     "data": {
      "text/html": [
       "<div>\n",
       "<style scoped>\n",
       "    .dataframe tbody tr th:only-of-type {\n",
       "        vertical-align: middle;\n",
       "    }\n",
       "\n",
       "    .dataframe tbody tr th {\n",
       "        vertical-align: top;\n",
       "    }\n",
       "\n",
       "    .dataframe thead th {\n",
       "        text-align: right;\n",
       "    }\n",
       "</style>\n",
       "<table border=\"1\" class=\"dataframe\">\n",
       "  <thead>\n",
       "    <tr style=\"text-align: right;\">\n",
       "      <th></th>\n",
       "      <th>name_english</th>\n",
       "      <th>name</th>\n",
       "      <th>score</th>\n",
       "      <th>ranked</th>\n",
       "      <th>popularity</th>\n",
       "      <th>members</th>\n",
       "      <th>synopsis</th>\n",
       "      <th>synonyms</th>\n",
       "      <th>type_of</th>\n",
       "      <th>total_episodes</th>\n",
       "      <th>premiered</th>\n",
       "      <th>studios</th>\n",
       "      <th>genres</th>\n",
       "      <th>demographic</th>\n",
       "      <th>duration_per_ep</th>\n",
       "      <th>rating</th>\n",
       "      <th>scored_by</th>\n",
       "      <th>favorites</th>\n",
       "      <th>aired</th>\n",
       "      <th>source</th>\n",
       "      <th>watching</th>\n",
       "      <th>completed</th>\n",
       "      <th>on_hold</th>\n",
       "      <th>dropped</th>\n",
       "      <th>plan_to_watch</th>\n",
       "      <th>total</th>\n",
       "      <th>scored_10_by</th>\n",
       "      <th>scored_9_by</th>\n",
       "      <th>scored_8_by</th>\n",
       "      <th>scored_7_by</th>\n",
       "      <th>scored_6_by</th>\n",
       "      <th>scored_5_by</th>\n",
       "      <th>scored_4_by</th>\n",
       "      <th>scored_3_by</th>\n",
       "      <th>scored_2_by</th>\n",
       "      <th>scored_1_by</th>\n",
       "    </tr>\n",
       "  </thead>\n",
       "  <tbody>\n",
       "    <tr>\n",
       "      <th>0</th>\n",
       "      <td>Tomorrow's Joe 2</td>\n",
       "      <td>Ashita no Joe 2</td>\n",
       "      <td>8.73</td>\n",
       "      <td>50</td>\n",
       "      <td>3041</td>\n",
       "      <td>51773</td>\n",
       "      <td>Yabuki Joe is left downhearted and hopeless af...</td>\n",
       "      <td>Rocky Joe 2</td>\n",
       "      <td>TV</td>\n",
       "      <td>47.0</td>\n",
       "      <td>Fall 1980</td>\n",
       "      <td>Tokyo Movie Shinsha</td>\n",
       "      <td>['Drama', 'Historical', 'Sports', 'Adventure']</td>\n",
       "      <td>Shounen</td>\n",
       "      <td>24 min. per ep.</td>\n",
       "      <td>PG-13 - Teens 13 or older</td>\n",
       "      <td>20201.0</td>\n",
       "      <td>2653</td>\n",
       "      <td>Oct 13, 1980 to Aug 31, 1981</td>\n",
       "      <td>Manga</td>\n",
       "      <td>2723</td>\n",
       "      <td>23933</td>\n",
       "      <td>1105</td>\n",
       "      <td>1205</td>\n",
       "      <td>22807</td>\n",
       "      <td>51773</td>\n",
       "      <td>7721.0</td>\n",
       "      <td>4711.0</td>\n",
       "      <td>3690.0</td>\n",
       "      <td>1797.0</td>\n",
       "      <td>653.0</td>\n",
       "      <td>297.0</td>\n",
       "      <td>120.0</td>\n",
       "      <td>137.0</td>\n",
       "      <td>182.0</td>\n",
       "      <td>893.0</td>\n",
       "    </tr>\n",
       "  </tbody>\n",
       "</table>\n",
       "</div>"
      ],
      "text/plain": [
       "       name_english             name  score  ranked  popularity  members  \\\n",
       "0  Tomorrow's Joe 2  Ashita no Joe 2   8.73      50        3041    51773   \n",
       "\n",
       "                                            synopsis     synonyms type_of  \\\n",
       "0  Yabuki Joe is left downhearted and hopeless af...  Rocky Joe 2      TV   \n",
       "\n",
       "   total_episodes  premiered              studios  \\\n",
       "0            47.0  Fall 1980  Tokyo Movie Shinsha   \n",
       "\n",
       "                                           genres demographic  \\\n",
       "0  ['Drama', 'Historical', 'Sports', 'Adventure']     Shounen   \n",
       "\n",
       "   duration_per_ep                     rating  scored_by  favorites  \\\n",
       "0  24 min. per ep.  PG-13 - Teens 13 or older    20201.0       2653   \n",
       "\n",
       "                          aired source  watching  completed  on_hold  dropped  \\\n",
       "0  Oct 13, 1980 to Aug 31, 1981  Manga      2723      23933     1105     1205   \n",
       "\n",
       "   plan_to_watch  total  scored_10_by  scored_9_by  scored_8_by  scored_7_by  \\\n",
       "0          22807  51773        7721.0       4711.0       3690.0       1797.0   \n",
       "\n",
       "   scored_6_by  scored_5_by  scored_4_by  scored_3_by  scored_2_by  \\\n",
       "0        653.0        297.0        120.0        137.0        182.0   \n",
       "\n",
       "   scored_1_by  \n",
       "0        893.0  "
      ]
     },
     "execution_count": 6,
     "metadata": {},
     "output_type": "execute_result"
    }
   ],
   "source": [
    "df.head(1)"
   ]
  },
  {
   "cell_type": "code",
   "execution_count": 7,
   "metadata": {},
   "outputs": [],
   "source": [
    "df['demographic'] = df['demographic'].apply(lambda x: [x])"
   ]
  },
  {
   "cell_type": "code",
   "execution_count": 8,
   "metadata": {},
   "outputs": [
    {
     "data": {
      "text/html": [
       "<div>\n",
       "<style scoped>\n",
       "    .dataframe tbody tr th:only-of-type {\n",
       "        vertical-align: middle;\n",
       "    }\n",
       "\n",
       "    .dataframe tbody tr th {\n",
       "        vertical-align: top;\n",
       "    }\n",
       "\n",
       "    .dataframe thead th {\n",
       "        text-align: right;\n",
       "    }\n",
       "</style>\n",
       "<table border=\"1\" class=\"dataframe\">\n",
       "  <thead>\n",
       "    <tr style=\"text-align: right;\">\n",
       "      <th></th>\n",
       "      <th>name_english</th>\n",
       "      <th>name</th>\n",
       "      <th>score</th>\n",
       "      <th>ranked</th>\n",
       "      <th>popularity</th>\n",
       "      <th>members</th>\n",
       "      <th>synopsis</th>\n",
       "      <th>synonyms</th>\n",
       "      <th>type_of</th>\n",
       "      <th>total_episodes</th>\n",
       "      <th>premiered</th>\n",
       "      <th>studios</th>\n",
       "      <th>genres</th>\n",
       "      <th>demographic</th>\n",
       "      <th>duration_per_ep</th>\n",
       "      <th>rating</th>\n",
       "      <th>scored_by</th>\n",
       "      <th>favorites</th>\n",
       "      <th>aired</th>\n",
       "      <th>source</th>\n",
       "      <th>watching</th>\n",
       "      <th>completed</th>\n",
       "      <th>on_hold</th>\n",
       "      <th>dropped</th>\n",
       "      <th>plan_to_watch</th>\n",
       "      <th>total</th>\n",
       "      <th>scored_10_by</th>\n",
       "      <th>scored_9_by</th>\n",
       "      <th>scored_8_by</th>\n",
       "      <th>scored_7_by</th>\n",
       "      <th>scored_6_by</th>\n",
       "      <th>scored_5_by</th>\n",
       "      <th>scored_4_by</th>\n",
       "      <th>scored_3_by</th>\n",
       "      <th>scored_2_by</th>\n",
       "      <th>scored_1_by</th>\n",
       "    </tr>\n",
       "  </thead>\n",
       "  <tbody>\n",
       "    <tr>\n",
       "      <th>0</th>\n",
       "      <td>Tomorrow's Joe 2</td>\n",
       "      <td>Ashita no Joe 2</td>\n",
       "      <td>8.73</td>\n",
       "      <td>50</td>\n",
       "      <td>3041</td>\n",
       "      <td>51773</td>\n",
       "      <td>Yabuki Joe is left downhearted and hopeless af...</td>\n",
       "      <td>Rocky Joe 2</td>\n",
       "      <td>TV</td>\n",
       "      <td>47.0</td>\n",
       "      <td>Fall 1980</td>\n",
       "      <td>Tokyo Movie Shinsha</td>\n",
       "      <td>['Drama', 'Historical', 'Sports', 'Adventure']</td>\n",
       "      <td>[Shounen]</td>\n",
       "      <td>24 min. per ep.</td>\n",
       "      <td>PG-13 - Teens 13 or older</td>\n",
       "      <td>20201.0</td>\n",
       "      <td>2653</td>\n",
       "      <td>Oct 13, 1980 to Aug 31, 1981</td>\n",
       "      <td>Manga</td>\n",
       "      <td>2723</td>\n",
       "      <td>23933</td>\n",
       "      <td>1105</td>\n",
       "      <td>1205</td>\n",
       "      <td>22807</td>\n",
       "      <td>51773</td>\n",
       "      <td>7721.0</td>\n",
       "      <td>4711.0</td>\n",
       "      <td>3690.0</td>\n",
       "      <td>1797.0</td>\n",
       "      <td>653.0</td>\n",
       "      <td>297.0</td>\n",
       "      <td>120.0</td>\n",
       "      <td>137.0</td>\n",
       "      <td>182.0</td>\n",
       "      <td>893.0</td>\n",
       "    </tr>\n",
       "  </tbody>\n",
       "</table>\n",
       "</div>"
      ],
      "text/plain": [
       "       name_english             name  score  ranked  popularity  members  \\\n",
       "0  Tomorrow's Joe 2  Ashita no Joe 2   8.73      50        3041    51773   \n",
       "\n",
       "                                            synopsis     synonyms type_of  \\\n",
       "0  Yabuki Joe is left downhearted and hopeless af...  Rocky Joe 2      TV   \n",
       "\n",
       "   total_episodes  premiered              studios  \\\n",
       "0            47.0  Fall 1980  Tokyo Movie Shinsha   \n",
       "\n",
       "                                           genres demographic  \\\n",
       "0  ['Drama', 'Historical', 'Sports', 'Adventure']   [Shounen]   \n",
       "\n",
       "   duration_per_ep                     rating  scored_by  favorites  \\\n",
       "0  24 min. per ep.  PG-13 - Teens 13 or older    20201.0       2653   \n",
       "\n",
       "                          aired source  watching  completed  on_hold  dropped  \\\n",
       "0  Oct 13, 1980 to Aug 31, 1981  Manga      2723      23933     1105     1205   \n",
       "\n",
       "   plan_to_watch  total  scored_10_by  scored_9_by  scored_8_by  scored_7_by  \\\n",
       "0          22807  51773        7721.0       4711.0       3690.0       1797.0   \n",
       "\n",
       "   scored_6_by  scored_5_by  scored_4_by  scored_3_by  scored_2_by  \\\n",
       "0        653.0        297.0        120.0        137.0        182.0   \n",
       "\n",
       "   scored_1_by  \n",
       "0        893.0  "
      ]
     },
     "execution_count": 8,
     "metadata": {},
     "output_type": "execute_result"
    }
   ],
   "source": [
    "df.head(1)"
   ]
  },
  {
   "cell_type": "code",
   "execution_count": 9,
   "metadata": {},
   "outputs": [
    {
     "data": {
      "text/plain": [
       "\"['Mystery', 'Supernatural', 'Action', 'Adventure', 'Slice of Life']\""
      ]
     },
     "execution_count": 9,
     "metadata": {},
     "output_type": "execute_result"
    }
   ],
   "source": [
    "df['genres'][1]"
   ]
  },
  {
   "cell_type": "code",
   "execution_count": 10,
   "metadata": {},
   "outputs": [
    {
     "data": {
      "text/plain": [
       "str"
      ]
     },
     "execution_count": 10,
     "metadata": {},
     "output_type": "execute_result"
    }
   ],
   "source": [
    "type(df['genres'][18])"
   ]
  },
  {
   "cell_type": "code",
   "execution_count": 11,
   "metadata": {},
   "outputs": [],
   "source": [
    "import ast"
   ]
  },
  {
   "cell_type": "code",
   "execution_count": 12,
   "metadata": {},
   "outputs": [],
   "source": [
    "def convert_to_list_genres(x):\n",
    "    if type(x) != float:\n",
    "        return ', '.join(ast.literal_eval(x))\n",
    "    else:\n",
    "        return np.nan"
   ]
  },
  {
   "cell_type": "code",
   "execution_count": 13,
   "metadata": {},
   "outputs": [],
   "source": [
    "df['genres'] = df['genres'].apply(convert_to_list_genres)"
   ]
  },
  {
   "cell_type": "code",
   "execution_count": 14,
   "metadata": {},
   "outputs": [],
   "source": [
    "def convert_to_list_demographic(x):\n",
    "    if not any(pd.isna(a) for a in x):\n",
    "        return ', ' + ''.join(x)\n",
    "    else:\n",
    "        return ' '"
   ]
  },
  {
   "cell_type": "code",
   "execution_count": 15,
   "metadata": {},
   "outputs": [],
   "source": [
    "df['demographic'] = df['demographic'].apply(convert_to_list_demographic)"
   ]
  },
  {
   "cell_type": "code",
   "execution_count": 16,
   "metadata": {},
   "outputs": [],
   "source": [
    "df['genres'] = df['genres'].fillna('')\n",
    "df['demographic'] = df['demographic'].fillna('')"
   ]
  },
  {
   "cell_type": "code",
   "execution_count": 17,
   "metadata": {},
   "outputs": [],
   "source": [
    "df['input_string'] = df['synopsis'] + df['genres'] + df['demographic'] + '.'"
   ]
  },
  {
   "cell_type": "code",
   "execution_count": 18,
   "metadata": {},
   "outputs": [
    {
     "data": {
      "text/plain": [
       "str"
      ]
     },
     "execution_count": 18,
     "metadata": {},
     "output_type": "execute_result"
    }
   ],
   "source": [
    "type(df['input_string'][1])"
   ]
  },
  {
   "cell_type": "code",
   "execution_count": 19,
   "metadata": {},
   "outputs": [],
   "source": [
    "import re\n",
    "import nltk\n",
    "from nltk.corpus import stopwords\n",
    "from gensim.models import Word2Vec\n",
    "\n",
    "model = Word2Vec.load(r'C:\\Users\\22213\\OneDrive\\Desktop\\recani\\recani\\data and model\\Word2Vec_local.bin')\n",
    "\n",
    "def preprocess_text(text):\n",
    "    # Convert text to lowercase\n",
    "    text = text.lower()\n",
    "    \n",
    "    # Remove numbers\n",
    "    text = re.sub(r'\\d+', '', text)\n",
    "    \n",
    "    # Remove punctuation\n",
    "    text = re.sub(r'[^\\w\\s]', '', text)\n",
    "    \n",
    "    # Tokenize the text into words\n",
    "    words = nltk.word_tokenize(text)\n",
    "    \n",
    "    # Remove stopwords\n",
    "    words = [word for word in words if word not in stopwords.words('english')]\n",
    "    \n",
    "    return words\n",
    "\n",
    "def get_text_vector(text, model):\n",
    "    # Preprocess the text\n",
    "    processed_text = preprocess_text(text)\n",
    "    \n",
    "    # Initialize an empty vector\n",
    "    text_vector = []\n",
    "    \n",
    "    # Iterate over each word in the processed text\n",
    "    for word in processed_text:\n",
    "        # Check if the word is in the vocabulary of the Word2Vec model\n",
    "        if word in model.wv.key_to_index:\n",
    "            # Get the word vector from the model and append it to the text vector\n",
    "            text_vector.append(model.wv[word])\n",
    "    \n",
    "    # Calculate the mean of all word vectors to get the text vector\n",
    "    if text_vector:\n",
    "        text_vector = sum(text_vector) / len(text_vector)\n",
    "    \n",
    "    return text_vector"
   ]
  },
  {
   "cell_type": "code",
   "execution_count": 20,
   "metadata": {},
   "outputs": [],
   "source": [
    "df['anime_vector'] = df['input_string'].apply(lambda x: get_text_vector(x, model))"
   ]
  },
  {
   "cell_type": "code",
   "execution_count": 21,
   "metadata": {},
   "outputs": [],
   "source": [
    "df = df[['anime_vector', 'name_english']]"
   ]
  },
  {
   "cell_type": "code",
   "execution_count": 22,
   "metadata": {},
   "outputs": [
    {
     "name": "stdout",
     "output_type": "stream",
     "text": [
      "<class 'pandas.core.frame.DataFrame'>\n",
      "RangeIndex: 14740 entries, 0 to 14739\n",
      "Data columns (total 2 columns):\n",
      " #   Column        Non-Null Count  Dtype \n",
      "---  ------        --------------  ----- \n",
      " 0   anime_vector  14740 non-null  object\n",
      " 1   name_english  14740 non-null  object\n",
      "dtypes: object(2)\n",
      "memory usage: 230.4+ KB\n"
     ]
    }
   ],
   "source": [
    "df.info()"
   ]
  },
  {
   "cell_type": "code",
   "execution_count": 23,
   "metadata": {},
   "outputs": [],
   "source": [
    "from sklearn.metrics.pairwise import cosine_similarity"
   ]
  },
  {
   "cell_type": "code",
   "execution_count": 24,
   "metadata": {},
   "outputs": [],
   "source": [
    "vectors = np.array(df['anime_vector'].tolist())"
   ]
  },
  {
   "cell_type": "code",
   "execution_count": 25,
   "metadata": {},
   "outputs": [],
   "source": [
    "similarity_matrix = cosine_similarity(vectors, vectors)"
   ]
  },
  {
   "cell_type": "code",
   "execution_count": 26,
   "metadata": {},
   "outputs": [
    {
     "data": {
      "text/plain": [
       "array([[1.        , 0.9530309 , 0.9332725 , ..., 0.7786238 , 0.93567604,\n",
       "        0.9628992 ],\n",
       "       [0.9530309 , 1.        , 0.93315005, ..., 0.79451954, 0.92924505,\n",
       "        0.96024066],\n",
       "       [0.9332725 , 0.93315005, 1.0000002 , ..., 0.70951647, 0.8545269 ,\n",
       "        0.92682874],\n",
       "       ...,\n",
       "       [0.7786238 , 0.79451954, 0.70951647, ..., 1.        , 0.8265307 ,\n",
       "        0.80110204],\n",
       "       [0.93567604, 0.92924505, 0.8545269 , ..., 0.8265307 , 1.0000001 ,\n",
       "        0.9295829 ],\n",
       "       [0.9628992 , 0.96024066, 0.92682874, ..., 0.80110204, 0.9295829 ,\n",
       "        0.99999994]], dtype=float32)"
      ]
     },
     "execution_count": 26,
     "metadata": {},
     "output_type": "execute_result"
    }
   ],
   "source": [
    "similarity_matrix"
   ]
  },
  {
   "cell_type": "code",
   "execution_count": 27,
   "metadata": {},
   "outputs": [],
   "source": [
    "def recommend(anime):\n",
    "    anime_index = df[df['name_english'] == anime].index[0]\n",
    "    distances = similarity_matrix[anime_index]\n",
    "    anime_list = sorted(list(enumerate(distances)), reverse=True, key = lambda x:x[1])[1:4]\n",
    "    for i in anime_list:\n",
    "        print(df.iloc[i[0]].name_english)"
   ]
  },
  {
   "cell_type": "code",
   "execution_count": 28,
   "metadata": {},
   "outputs": [
    {
     "name": "stdout",
     "output_type": "stream",
     "text": [
      "One Piece 3D2Y: Overcoming Ace's Death! Luffy's Pledge to His Friends\n",
      "Shin Koihime†Musou\n",
      "Berserk (2016)\n"
     ]
    }
   ],
   "source": [
    "recommend(\"One Piece\")"
   ]
  },
  {
   "cell_type": "code",
   "execution_count": 30,
   "metadata": {},
   "outputs": [],
   "source": [
    "import pickle\n",
    "\n",
    "with open(r'C:\\Users\\22213\\OneDrive\\Desktop\\recani\\recani\\data and model\\similarity_matrix.pkl', 'wb') as f:\n",
    "    pickle.dump(similarity_matrix, f)"
   ]
  },
  {
   "cell_type": "code",
   "execution_count": null,
   "metadata": {},
   "outputs": [],
   "source": []
  }
 ],
 "metadata": {
  "kernelspec": {
   "display_name": "base",
   "language": "python",
   "name": "python3"
  },
  "language_info": {
   "codemirror_mode": {
    "name": "ipython",
    "version": 3
   },
   "file_extension": ".py",
   "mimetype": "text/x-python",
   "name": "python",
   "nbconvert_exporter": "python",
   "pygments_lexer": "ipython3",
   "version": "3.11.5"
  }
 },
 "nbformat": 4,
 "nbformat_minor": 2
}
