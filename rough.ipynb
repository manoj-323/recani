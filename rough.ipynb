{
 "cells": [
  {
   "cell_type": "code",
   "execution_count": 15,
   "metadata": {},
   "outputs": [
    {
     "name": "stdout",
     "output_type": "stream",
     "text": [
      "Requirement already satisfied: nltk in c:\\users\\22213\\appdata\\roaming\\python\\python311\\site-packages (3.8.1)\n",
      "Requirement already satisfied: click in c:\\users\\22213\\appdata\\roaming\\python\\python311\\site-packages (from nltk) (8.1.7)\n",
      "Requirement already satisfied: joblib in c:\\users\\22213\\appdata\\roaming\\python\\python311\\site-packages (from nltk) (1.4.0)\n",
      "Requirement already satisfied: regex>=2021.8.3 in c:\\users\\22213\\appdata\\roaming\\python\\python311\\site-packages (from nltk) (2023.12.25)\n",
      "Requirement already satisfied: tqdm in c:\\users\\22213\\appdata\\roaming\\python\\python311\\site-packages (from nltk) (4.66.2)\n",
      "Requirement already satisfied: colorama in c:\\users\\22213\\appdata\\roaming\\python\\python311\\site-packages (from click->nltk) (0.4.6)\n"
     ]
    }
   ],
   "source": [
    "! pip install nltk"
   ]
  },
  {
   "cell_type": "code",
   "execution_count": 8,
   "metadata": {},
   "outputs": [
    {
     "name": "stderr",
     "output_type": "stream",
     "text": [
      "[nltk_data] Downloading package averaged_perceptron_tagger to\n",
      "[nltk_data]     C:\\Users\\22213\\AppData\\Roaming\\nltk_data...\n",
      "[nltk_data]   Unzipping taggers\\averaged_perceptron_tagger.zip.\n"
     ]
    },
    {
     "data": {
      "text/plain": [
       "True"
      ]
     },
     "execution_count": 8,
     "metadata": {},
     "output_type": "execute_result"
    }
   ],
   "source": [
    "nltk.download('averaged_perceptron_tagger')"
   ]
  },
  {
   "cell_type": "code",
   "execution_count": 9,
   "metadata": {},
   "outputs": [],
   "source": [
    "import nltk\n",
    "from nltk.corpus import stopwords\n",
    "from nltk.tokenize import word_tokenize\n",
    "from nltk import pos_tag"
   ]
  },
  {
   "cell_type": "code",
   "execution_count": 29,
   "metadata": {},
   "outputs": [],
   "source": [
    "# Define rules to map keywords to genres\n",
    "genre_rules = {\n",
    "    'action': ['action', 'battle', 'fight', 'combat', 'hero', 'adventure', 'explosive', 'hunters'],\n",
    "    'adventure': ['adventure', 'journey', 'quest', 'explore', 'travel', 'discovery', 'epic'],\n",
    "    'comedy': ['comedy', 'humor', 'funny', 'laugh', 'comical', 'satire', 'light-hearted', 'parody'],\n",
    "    'drama': ['drama', 'emotion', 'relationship', 'heartfelt', 'intense', 'dramatic', 'tearjerker'],\n",
    "    'fantasy': ['fantasy', 'magic', 'mythical', 'magical', 'enchantment', 'fantastical', 'otherworldly'],\n",
    "    'science fiction': ['science fiction', 'futuristic', 'space', 'alien', 'technology', 'cyberpunk', 'dystopian'],\n",
    "    'romance': ['romance', 'love', 'relationship', 'romantic', 'passion', 'heartwarming', 'love triangle'],\n",
    "    'horror': ['horror', 'fear', 'terror', 'creepy', 'supernatural', 'haunting', 'nightmare'],\n",
    "    'mystery': ['mystery', 'detective', 'investigation', 'suspense', 'whodunit', 'mysterious', 'puzzle'],\n",
    "    'thriller': ['thriller', 'suspenseful', 'intense', 'adrenaline', 'danger', 'action-packed'],\n",
    "    'slice of life': ['slice of life', 'everyday', 'ordinary', 'real-life', 'routine', 'relatable', 'mundane'],\n",
    "    'supernatural': ['supernatural', 'paranormal', 'occult', 'spiritual', 'mystical', 'otherworldly'],\n",
    "    'mecha': ['mecha', 'giant robot', 'pilot', 'mechanical', 'robotic', 'mecha battles'],\n",
    "    'shounen': ['shounen', 'young boy', 'teenage protagonist', 'fighting', 'friendship', 'action-packed'],\n",
    "    'shoujo': ['shoujo', 'young girl', 'teenage protagonist', 'romantic', 'friendship', 'heartwarming'],\n",
    "    'seinen': ['seinen', 'adult', 'mature themes', 'dark', 'psychological', 'gritty'],\n",
    "    'josei': ['josei', 'adult woman', 'mature themes', 'romantic', 'slice of life', 'emotional'],\n",
    "    'psychological': ['psychological', 'mind', 'psyche', 'mental', 'mind games', 'trauma'],\n",
    "    'sports': ['sports', 'athletic', 'competition', 'team', 'individual', 'sportsmanship'],\n",
    "    'historical': ['historical', 'period', 'era', 'retro', 'vintage', 'historic event'],\n",
    "    'music': ['music', 'musical', 'band', 'concert', 'performing arts', 'melody'],\n",
    "    'school': ['school', 'high school', 'student', 'classmate', 'teacher', 'teenage'],\n",
    "    'ecchi': ['ecchi', 'sexual humor', 'fan service', 'suggestive', 'provocative', 'sexy'],\n",
    "    'harem': ['harem', 'multiple love interests', 'romantic rivalry', 'love triangle', 'romantic comedy'],\n",
    "    'magical girl': ['magical girl', 'transformation', 'magical powers', 'cute', 'friendship', 'magical creature'],\n",
    "    'isekai': ['isekai', 'other world', 'transported', 'reincarnation', 'fantasy world', 'parallel universe'],\n",
    "    'cyberpunk': ['cyberpunk', 'high tech', 'low life', 'cyberspace', 'neon lights', 'dystopian'],\n",
    "    'post-apocalyptic': ['post-apocalyptic', 'apocalypse', 'wasteland', 'survival', 'dystopia', 'rebuilding'],\n",
    "    'martial arts': ['martial arts', 'combat', 'martial artist', 'dojo', 'tournament', 'training']\n",
    "}\n"
   ]
  },
  {
   "cell_type": "code",
   "execution_count": 31,
   "metadata": {},
   "outputs": [
    {
     "name": "stdout",
     "output_type": "stream",
     "text": [
      "['thriller', 'school']\n"
     ]
    }
   ],
   "source": [
    "synopsis = \"Two years have passed following the Tendoshuu's invasion of the O-Edo Central Terminal. Since then, the Yorozuya have gone their separate ways. Foreseeing Utsuro's return, Gintoki Sakata begins surveying Earth's ley lines for traces of the other man's Altana. After an encounter with the remnants of the Tendoshuu\\u2014who continue to press on in search of immortality\\u2014Gintoki returns to Edo. Later, the regrouped Shinsengumi and Yorozuya begin an attack on the occupied Central Terminal. With the Altana harvested by the wreckage of the Tendoshuu's ship in danger of detonating, the Yorozuya and their allies fight their enemies while the safety of Edo\\u2014and the rest of the world\\u2014hangs in the balance. Fulfilling the wishes of their teacher, Shouyou Yoshida's former students unite and relive their pasts one final time in an attempt to save their futures.\"\n",
    "\n",
    "tokens = word_tokenize(synopsis)\n",
    "stop_words = set(stopwords.words('english'))\n",
    "filtered_tokens = [word for word in tokens if word.lower() not in stop_words]\n",
    "tagged_tokens = pos_tag(filtered_tokens)\n",
    "keywords = [word for word, tag in tagged_tokens if tag.startswith('NN') or tag.startswith('JJ')]\n",
    "\n",
    "\n",
    "\n",
    "matched_genres = []\n",
    "\n",
    "for keyword in keywords:\n",
    "    for genre, rules in genre_rules.items():\n",
    "        if any(rule in keyword.lower() for rule in rules):\n",
    "            matched_genres.append(genre)\n",
    "\n",
    "\n",
    "print(matched_genres)"
   ]
  },
  {
   "cell_type": "code",
   "execution_count": null,
   "metadata": {},
   "outputs": [],
   "source": []
  }
 ],
 "metadata": {
  "kernelspec": {
   "display_name": "Python 3",
   "language": "python",
   "name": "python3"
  },
  "language_info": {
   "codemirror_mode": {
    "name": "ipython",
    "version": 3
   },
   "file_extension": ".py",
   "mimetype": "text/x-python",
   "name": "python",
   "nbconvert_exporter": "python",
   "pygments_lexer": "ipython3",
   "version": "3.11.5"
  }
 },
 "nbformat": 4,
 "nbformat_minor": 2
}
